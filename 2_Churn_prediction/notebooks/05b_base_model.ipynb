{
 "cells": [
  {
   "cell_type": "code",
   "execution_count": 1,
   "id": "eb48d3eb-101d-4078-9668-e4736785cba8",
   "metadata": {},
   "outputs": [],
   "source": [
    "DATA_PATH = \"../data/processed/02_cleaned.pkl\"\n",
    "\n",
    "MLFLOW_TRACKING_URI = \"../models/mlruns\"\n",
    "MLFLOW_EXPERIMENT_NAME = \"churn_rate_prediction\"\n",
    "\n",
    "LOG_PATH = \"../models/temp/\"\n",
    "LOG_DATA_PKL = \"data.pkl\"\n",
    "LOG_MODEL_PKL = \"model.pkl\"\n",
    "LOG_METRICS_PKL = \"metrics.pkl\""
   ]
  },
  {
   "cell_type": "code",
   "execution_count": 2,
   "id": "c9d670f3-e29d-42ef-a35b-f0d49662d576",
   "metadata": {},
   "outputs": [],
   "source": [
    "# Load packages\n",
    "import pandas as pd\n",
    "import numpy as np\n",
    "\n",
    "import matplotlib.pyplot as plt\n",
    "import seaborn as sns\n",
    "\n",
    "from pathlib import Path\n",
    "import os\n",
    "import pickle\n",
    "\n",
    "from imblearn.over_sampling import SMOTE\n",
    "\n",
    "from sklearn.preprocessing import MinMaxScaler\n",
    "from sklearn.model_selection import train_test_split\n",
    "from sklearn.pipeline import make_pipeline\n",
    "from sklearn.linear_model import LogisticRegression\n",
    "from sklearn.metrics import accuracy_score, precision_score, recall_score, f1_score\n",
    "from sklearn.metrics import roc_auc_score, roc_curve, precision_recall_curve, confusion_matrix\n",
    "\n",
    "import mlflow\n",
    "from mlflow.tracking import MlflowClient"
   ]
  },
  {
   "cell_type": "markdown",
   "id": "22a957d7-3d03-4532-83ba-7d55c62c28b3",
   "metadata": {},
   "source": [
    "___\n",
    "## Functions"
   ]
  },
  {
   "cell_type": "code",
   "execution_count": 3,
   "id": "68493bbb-acc4-4fd0-a099-62b5147e136d",
   "metadata": {},
   "outputs": [],
   "source": [
    "def calculate_quality(ground_truth, predictions, metric_function, model_name):\n",
    "    \"\"\"\n",
    "    Calculate the quality of the model according to different metric scores\n",
    "    Input:\n",
    "        ground_truth: from real observed data\n",
    "        predictions: the predicted values from the model\n",
    "        metric_function: the metric score funcrion used to measure performance\n",
    "    Output:\n",
    "        A dict of all scores for the given inputs\n",
    "    \"\"\"\n",
    "    quality_score = {}\n",
    "    quality_score[model_name] = round(metric_function(ground_truth, predictions), 3)\n",
    "    quality_score = pd.Series(quality_score.values(), index=quality_score.keys())\n",
    "    \n",
    "    return quality_score"
   ]
  },
  {
   "cell_type": "code",
   "execution_count": 46,
   "id": "2689097a-4a13-4d36-9003-7a27ce46d88b",
   "metadata": {},
   "outputs": [],
   "source": [
    "def get_threshold(X_train, y_train, model):\n",
    "    \"\"\"\n",
    "    Get the best threshold for the classification \n",
    "    Input: \n",
    "        X_train: train dataset\n",
    "        y_train: train target data\n",
    "        model: model used\n",
    "    Output:\n",
    "        the value of the best threshold\n",
    "    \"\"\"\n",
    "    predict_prob = model.predict_proba(X_train.values)[:,1]\n",
    "    \n",
    "    fpr, tpr, thresholds = roc_curve(y_train.values, predict_prob)\n",
    "    #gmean = np.sqrt(tpr * (1-fpr))\n",
    "    #optimal_idx = np.argmax(gmean)\n",
    "    optimal_idx = np.argmax(tpr - fpr)\n",
    "    \n",
    "    return round(thresholds[optimal_idx], 3)"
   ]
  },
  {
   "cell_type": "code",
   "execution_count": 64,
   "id": "3d8622a2-c4ad-426d-9ee0-e85c8663d5a3",
   "metadata": {},
   "outputs": [],
   "source": [
    "def get_threshold_precision_recall(X, y, model):\n",
    "    \"\"\"\n",
    "    A precision-recall curve focuses on the performance of a classifier on the positive (minority class) only.\n",
    "    Get the best threshold for the classification \n",
    "    Input: \n",
    "        X_train: train dataset\n",
    "        y_train: train target data\n",
    "        model: model used\n",
    "    Output:\n",
    "        the value of the best threshold\n",
    "    \"\"\"\n",
    "    predict_prob = model.predict_proba(X.values)[:,1]\n",
    "    \n",
    "    precision, recall, thresholds = precision_recall_curve(y.values, predict_prob)\n",
    "    #gmean = np.sqrt(tpr * (1-fpr))\n",
    "    f_scores = (2 * precision * recall) / (precision + recall)\n",
    "    optimal_idx = np.argmax(f_scores)\n",
    "    \n",
    "    return round(thresholds[optimal_idx], 3)"
   ]
  },
  {
   "cell_type": "code",
   "execution_count": 5,
   "id": "022cdb1b-5863-46e6-ac39-af5392b96c9f",
   "metadata": {},
   "outputs": [],
   "source": [
    "def evaluate_model(model, data_list, metrics_list, model_name, threshold=0.5):\n",
    "    \"\"\"\n",
    "    Get the scores of the model to better understand its performance\n",
    "    Input:\n",
    "        data_list: a list of all data that we evaluate model upon, train and test data.\n",
    "                typical input : [[X_train, y_train, 'train'], [X_test, y_test, 'test']]\n",
    "        scores_list: a list of all metrics used in the evaluation. \n",
    "                typical input : [accuracy_score, precision_score, recall_score, f1_score]\n",
    "        model_name: a string input used as the index for score dataframe.\n",
    "    Output:\n",
    "        scores: a dataframe of evaluation based on data.\n",
    "        general_error: the generalized error that would be used for logging in mlflow\n",
    "    \"\"\"\n",
    "    predicts = []\n",
    "    scores = []\n",
    "    for [X,y,stage] in data_list:\n",
    "\n",
    "        probas = model.predict_proba(X.values)[:,1]\n",
    "        predictions = pd.DataFrame(probas >= threshold ,\n",
    "                                  columns=y_test.columns)\n",
    "        predicts.append(predictions)\n",
    "\n",
    "        result = {score.__name__:calculate_quality(y, predictions, score, f\"{model_name}_{stage}\")\n",
    "                        for score in metrics_list}\n",
    "\n",
    "        result = pd.concat(result, axis=1)\n",
    "        scores.append(result)\n",
    "    scores = pd.concat(scores)\n",
    "    return scores, predicts"
   ]
  },
  {
   "cell_type": "markdown",
   "id": "a98934cd-1254-4b40-98e6-799936d5e4f4",
   "metadata": {},
   "source": [
    "___\n",
    "## Intialize"
   ]
  },
  {
   "cell_type": "code",
   "execution_count": 6,
   "id": "f4918ace-1749-42fb-b8d6-43149eb14e89",
   "metadata": {},
   "outputs": [],
   "source": [
    "Path(MLFLOW_TRACKING_URI).mkdir(parents=True, exist_ok=True)\n",
    "Path(LOG_PATH).mkdir(parents=True, exist_ok=True)"
   ]
  },
  {
   "cell_type": "markdown",
   "id": "00299131-f1a1-4515-8d5e-0352c8af7f94",
   "metadata": {},
   "source": [
    "___\n",
    "## Read data"
   ]
  },
  {
   "cell_type": "code",
   "execution_count": 7,
   "id": "86a22bde-80c7-4324-8115-1dfb104f85b6",
   "metadata": {},
   "outputs": [
    {
     "data": {
      "text/html": [
       "<div>\n",
       "<style scoped>\n",
       "    .dataframe tbody tr th:only-of-type {\n",
       "        vertical-align: middle;\n",
       "    }\n",
       "\n",
       "    .dataframe tbody tr th {\n",
       "        vertical-align: top;\n",
       "    }\n",
       "\n",
       "    .dataframe thead th {\n",
       "        text-align: right;\n",
       "    }\n",
       "</style>\n",
       "<table border=\"1\" class=\"dataframe\">\n",
       "  <thead>\n",
       "    <tr style=\"text-align: right;\">\n",
       "      <th></th>\n",
       "      <th>seniorcitizen</th>\n",
       "      <th>dependents</th>\n",
       "      <th>tenure</th>\n",
       "      <th>phoneservice</th>\n",
       "      <th>multiplelines</th>\n",
       "      <th>internetservice</th>\n",
       "      <th>onlinesecurity</th>\n",
       "      <th>onlinebackup</th>\n",
       "      <th>deviceprotection</th>\n",
       "      <th>techsupport</th>\n",
       "      <th>streamingtv</th>\n",
       "      <th>streamingmovies</th>\n",
       "      <th>contract</th>\n",
       "      <th>paperlessbilling</th>\n",
       "      <th>paymentmethod</th>\n",
       "      <th>monthlycharges</th>\n",
       "      <th>totalcharges</th>\n",
       "      <th>churn</th>\n",
       "    </tr>\n",
       "  </thead>\n",
       "  <tbody>\n",
       "    <tr>\n",
       "      <th>546</th>\n",
       "      <td>0</td>\n",
       "      <td>1.0</td>\n",
       "      <td>39</td>\n",
       "      <td>1.0</td>\n",
       "      <td>1.0</td>\n",
       "      <td>2.0</td>\n",
       "      <td>1.0</td>\n",
       "      <td>2.0</td>\n",
       "      <td>1.0</td>\n",
       "      <td>1.0</td>\n",
       "      <td>2.0</td>\n",
       "      <td>1.0</td>\n",
       "      <td>0.0</td>\n",
       "      <td>1.0</td>\n",
       "      <td>1.0</td>\n",
       "      <td>86.30</td>\n",
       "      <td>3266.00</td>\n",
       "      <td>1.0</td>\n",
       "    </tr>\n",
       "    <tr>\n",
       "      <th>1386</th>\n",
       "      <td>0</td>\n",
       "      <td>0.0</td>\n",
       "      <td>64</td>\n",
       "      <td>1.0</td>\n",
       "      <td>2.0</td>\n",
       "      <td>1.0</td>\n",
       "      <td>1.0</td>\n",
       "      <td>2.0</td>\n",
       "      <td>2.0</td>\n",
       "      <td>2.0</td>\n",
       "      <td>2.0</td>\n",
       "      <td>2.0</td>\n",
       "      <td>2.0</td>\n",
       "      <td>0.0</td>\n",
       "      <td>3.0</td>\n",
       "      <td>86.55</td>\n",
       "      <td>5632.55</td>\n",
       "      <td>0.0</td>\n",
       "    </tr>\n",
       "    <tr>\n",
       "      <th>5468</th>\n",
       "      <td>0</td>\n",
       "      <td>0.0</td>\n",
       "      <td>7</td>\n",
       "      <td>1.0</td>\n",
       "      <td>1.0</td>\n",
       "      <td>2.0</td>\n",
       "      <td>1.0</td>\n",
       "      <td>1.0</td>\n",
       "      <td>1.0</td>\n",
       "      <td>1.0</td>\n",
       "      <td>2.0</td>\n",
       "      <td>1.0</td>\n",
       "      <td>0.0</td>\n",
       "      <td>1.0</td>\n",
       "      <td>0.0</td>\n",
       "      <td>79.70</td>\n",
       "      <td>586.05</td>\n",
       "      <td>1.0</td>\n",
       "    </tr>\n",
       "    <tr>\n",
       "      <th>5951</th>\n",
       "      <td>0</td>\n",
       "      <td>0.0</td>\n",
       "      <td>37</td>\n",
       "      <td>1.0</td>\n",
       "      <td>2.0</td>\n",
       "      <td>2.0</td>\n",
       "      <td>1.0</td>\n",
       "      <td>1.0</td>\n",
       "      <td>1.0</td>\n",
       "      <td>2.0</td>\n",
       "      <td>2.0</td>\n",
       "      <td>2.0</td>\n",
       "      <td>0.0</td>\n",
       "      <td>0.0</td>\n",
       "      <td>3.0</td>\n",
       "      <td>100.30</td>\n",
       "      <td>3541.40</td>\n",
       "      <td>0.0</td>\n",
       "    </tr>\n",
       "    <tr>\n",
       "      <th>2377</th>\n",
       "      <td>0</td>\n",
       "      <td>1.0</td>\n",
       "      <td>47</td>\n",
       "      <td>1.0</td>\n",
       "      <td>1.0</td>\n",
       "      <td>1.0</td>\n",
       "      <td>2.0</td>\n",
       "      <td>2.0</td>\n",
       "      <td>1.0</td>\n",
       "      <td>1.0</td>\n",
       "      <td>1.0</td>\n",
       "      <td>1.0</td>\n",
       "      <td>0.0</td>\n",
       "      <td>1.0</td>\n",
       "      <td>0.0</td>\n",
       "      <td>55.30</td>\n",
       "      <td>2654.05</td>\n",
       "      <td>0.0</td>\n",
       "    </tr>\n",
       "  </tbody>\n",
       "</table>\n",
       "</div>"
      ],
      "text/plain": [
       "      seniorcitizen  dependents  tenure  phoneservice  multiplelines  \\\n",
       "546               0         1.0      39           1.0            1.0   \n",
       "1386              0         0.0      64           1.0            2.0   \n",
       "5468              0         0.0       7           1.0            1.0   \n",
       "5951              0         0.0      37           1.0            2.0   \n",
       "2377              0         1.0      47           1.0            1.0   \n",
       "\n",
       "      internetservice  onlinesecurity  onlinebackup  deviceprotection  \\\n",
       "546               2.0             1.0           2.0               1.0   \n",
       "1386              1.0             1.0           2.0               2.0   \n",
       "5468              2.0             1.0           1.0               1.0   \n",
       "5951              2.0             1.0           1.0               1.0   \n",
       "2377              1.0             2.0           2.0               1.0   \n",
       "\n",
       "      techsupport  streamingtv  streamingmovies  contract  paperlessbilling  \\\n",
       "546           1.0          2.0              1.0       0.0               1.0   \n",
       "1386          2.0          2.0              2.0       2.0               0.0   \n",
       "5468          1.0          2.0              1.0       0.0               1.0   \n",
       "5951          2.0          2.0              2.0       0.0               0.0   \n",
       "2377          1.0          1.0              1.0       0.0               1.0   \n",
       "\n",
       "      paymentmethod  monthlycharges  totalcharges  churn  \n",
       "546             1.0           86.30       3266.00    1.0  \n",
       "1386            3.0           86.55       5632.55    0.0  \n",
       "5468            0.0           79.70        586.05    1.0  \n",
       "5951            3.0          100.30       3541.40    0.0  \n",
       "2377            0.0           55.30       2654.05    0.0  "
      ]
     },
     "execution_count": 7,
     "metadata": {},
     "output_type": "execute_result"
    }
   ],
   "source": [
    "df = pd.read_pickle(DATA_PATH)\n",
    "df.sample(5)"
   ]
  },
  {
   "cell_type": "markdown",
   "id": "51a75a91-2c67-47c0-b970-b7a2d3f2d097",
   "metadata": {},
   "source": [
    "___\n",
    "## Split data for modeling"
   ]
  },
  {
   "cell_type": "code",
   "execution_count": 8,
   "id": "14aeb1cb-ac0e-4d9e-9c40-63acd0fa9335",
   "metadata": {},
   "outputs": [],
   "source": [
    "X_train, X_test, y_train, y_test = train_test_split(df.drop('churn', axis=1),\n",
    "                                                    df[['churn']],\n",
    "                                                    test_size=0.2,\n",
    "                                                    random_state=42)"
   ]
  },
  {
   "cell_type": "code",
   "execution_count": 9,
   "id": "e1de05a0-65bf-4fef-b451-cfc02850645c",
   "metadata": {},
   "outputs": [
    {
     "name": "stdout",
     "output_type": "stream",
     "text": [
      "X_train shape (5600, 17)\n",
      "X_test shape (1400, 17)\n"
     ]
    },
    {
     "data": {
      "text/html": [
       "<div>\n",
       "<style scoped>\n",
       "    .dataframe tbody tr th:only-of-type {\n",
       "        vertical-align: middle;\n",
       "    }\n",
       "\n",
       "    .dataframe tbody tr th {\n",
       "        vertical-align: top;\n",
       "    }\n",
       "\n",
       "    .dataframe thead th {\n",
       "        text-align: right;\n",
       "    }\n",
       "</style>\n",
       "<table border=\"1\" class=\"dataframe\">\n",
       "  <thead>\n",
       "    <tr style=\"text-align: right;\">\n",
       "      <th></th>\n",
       "      <th>seniorcitizen</th>\n",
       "      <th>dependents</th>\n",
       "      <th>tenure</th>\n",
       "      <th>phoneservice</th>\n",
       "      <th>multiplelines</th>\n",
       "      <th>internetservice</th>\n",
       "      <th>onlinesecurity</th>\n",
       "      <th>onlinebackup</th>\n",
       "      <th>deviceprotection</th>\n",
       "      <th>techsupport</th>\n",
       "      <th>streamingtv</th>\n",
       "      <th>streamingmovies</th>\n",
       "      <th>contract</th>\n",
       "      <th>paperlessbilling</th>\n",
       "      <th>paymentmethod</th>\n",
       "      <th>monthlycharges</th>\n",
       "      <th>totalcharges</th>\n",
       "    </tr>\n",
       "  </thead>\n",
       "  <tbody>\n",
       "    <tr>\n",
       "      <th>5519</th>\n",
       "      <td>0</td>\n",
       "      <td>0.0</td>\n",
       "      <td>1</td>\n",
       "      <td>1.0</td>\n",
       "      <td>1.0</td>\n",
       "      <td>1.0</td>\n",
       "      <td>2.0</td>\n",
       "      <td>1.0</td>\n",
       "      <td>2.0</td>\n",
       "      <td>1.0</td>\n",
       "      <td>1.0</td>\n",
       "      <td>1.0</td>\n",
       "      <td>0.0</td>\n",
       "      <td>0.0</td>\n",
       "      <td>1.0</td>\n",
       "      <td>55.70</td>\n",
       "      <td>55.70</td>\n",
       "    </tr>\n",
       "    <tr>\n",
       "      <th>3249</th>\n",
       "      <td>0</td>\n",
       "      <td>1.0</td>\n",
       "      <td>10</td>\n",
       "      <td>1.0</td>\n",
       "      <td>1.0</td>\n",
       "      <td>1.0</td>\n",
       "      <td>1.0</td>\n",
       "      <td>2.0</td>\n",
       "      <td>2.0</td>\n",
       "      <td>1.0</td>\n",
       "      <td>1.0</td>\n",
       "      <td>1.0</td>\n",
       "      <td>0.0</td>\n",
       "      <td>1.0</td>\n",
       "      <td>1.0</td>\n",
       "      <td>55.55</td>\n",
       "      <td>551.30</td>\n",
       "    </tr>\n",
       "    <tr>\n",
       "      <th>3588</th>\n",
       "      <td>0</td>\n",
       "      <td>0.0</td>\n",
       "      <td>9</td>\n",
       "      <td>1.0</td>\n",
       "      <td>2.0</td>\n",
       "      <td>1.0</td>\n",
       "      <td>1.0</td>\n",
       "      <td>2.0</td>\n",
       "      <td>2.0</td>\n",
       "      <td>1.0</td>\n",
       "      <td>1.0</td>\n",
       "      <td>2.0</td>\n",
       "      <td>0.0</td>\n",
       "      <td>1.0</td>\n",
       "      <td>3.0</td>\n",
       "      <td>69.05</td>\n",
       "      <td>653.95</td>\n",
       "    </tr>\n",
       "    <tr>\n",
       "      <th>1320</th>\n",
       "      <td>0</td>\n",
       "      <td>1.0</td>\n",
       "      <td>32</td>\n",
       "      <td>1.0</td>\n",
       "      <td>1.0</td>\n",
       "      <td>2.0</td>\n",
       "      <td>2.0</td>\n",
       "      <td>2.0</td>\n",
       "      <td>2.0</td>\n",
       "      <td>1.0</td>\n",
       "      <td>1.0</td>\n",
       "      <td>2.0</td>\n",
       "      <td>1.0</td>\n",
       "      <td>0.0</td>\n",
       "      <td>1.0</td>\n",
       "      <td>94.80</td>\n",
       "      <td>3131.55</td>\n",
       "    </tr>\n",
       "    <tr>\n",
       "      <th>1032</th>\n",
       "      <td>1</td>\n",
       "      <td>0.0</td>\n",
       "      <td>8</td>\n",
       "      <td>1.0</td>\n",
       "      <td>1.0</td>\n",
       "      <td>2.0</td>\n",
       "      <td>1.0</td>\n",
       "      <td>1.0</td>\n",
       "      <td>2.0</td>\n",
       "      <td>1.0</td>\n",
       "      <td>2.0</td>\n",
       "      <td>2.0</td>\n",
       "      <td>0.0</td>\n",
       "      <td>1.0</td>\n",
       "      <td>0.0</td>\n",
       "      <td>92.10</td>\n",
       "      <td>729.95</td>\n",
       "    </tr>\n",
       "  </tbody>\n",
       "</table>\n",
       "</div>"
      ],
      "text/plain": [
       "      seniorcitizen  dependents  tenure  phoneservice  multiplelines  \\\n",
       "5519              0         0.0       1           1.0            1.0   \n",
       "3249              0         1.0      10           1.0            1.0   \n",
       "3588              0         0.0       9           1.0            2.0   \n",
       "1320              0         1.0      32           1.0            1.0   \n",
       "1032              1         0.0       8           1.0            1.0   \n",
       "\n",
       "      internetservice  onlinesecurity  onlinebackup  deviceprotection  \\\n",
       "5519              1.0             2.0           1.0               2.0   \n",
       "3249              1.0             1.0           2.0               2.0   \n",
       "3588              1.0             1.0           2.0               2.0   \n",
       "1320              2.0             2.0           2.0               2.0   \n",
       "1032              2.0             1.0           1.0               2.0   \n",
       "\n",
       "      techsupport  streamingtv  streamingmovies  contract  paperlessbilling  \\\n",
       "5519          1.0          1.0              1.0       0.0               0.0   \n",
       "3249          1.0          1.0              1.0       0.0               1.0   \n",
       "3588          1.0          1.0              2.0       0.0               1.0   \n",
       "1320          1.0          1.0              2.0       1.0               0.0   \n",
       "1032          1.0          2.0              2.0       0.0               1.0   \n",
       "\n",
       "      paymentmethod  monthlycharges  totalcharges  \n",
       "5519            1.0           55.70         55.70  \n",
       "3249            1.0           55.55        551.30  \n",
       "3588            3.0           69.05        653.95  \n",
       "1320            1.0           94.80       3131.55  \n",
       "1032            0.0           92.10        729.95  "
      ]
     },
     "execution_count": 9,
     "metadata": {},
     "output_type": "execute_result"
    }
   ],
   "source": [
    "# quick check of splitted data:\n",
    "print(\"X_train shape\", X_train.shape)\n",
    "print(\"X_test shape\", X_test.shape)\n",
    "X_train.sample(5)"
   ]
  },
  {
   "cell_type": "markdown",
   "id": "022320b7-bbbe-429e-aaa9-b01666831952",
   "metadata": {},
   "source": [
    "___\n",
    "## Intializing MLFLOW"
   ]
  },
  {
   "cell_type": "code",
   "execution_count": 10,
   "id": "2e45bef9-7427-4803-8226-c9910a7fe461",
   "metadata": {},
   "outputs": [],
   "source": [
    "mlflow.set_tracking_uri(MLFLOW_TRACKING_URI)\n",
    "client = MlflowClient()"
   ]
  },
  {
   "cell_type": "code",
   "execution_count": 11,
   "id": "b13b52bb-e09b-46be-bfdf-777c644184d8",
   "metadata": {},
   "outputs": [],
   "source": [
    "try:\n",
    "    mlflow.create_experiment(MLFLOW_EXPERIMENT_NAME)\n",
    "except:\n",
    "    print(f'Experiment \"{MLFLOW_EXPERIMENT_NAME}\" exists at \"{mlflow.get_tracking_uri()}\"')"
   ]
  },
  {
   "cell_type": "code",
   "execution_count": 12,
   "id": "c7d05abd-a965-4a76-a82e-4c5a54affd67",
   "metadata": {},
   "outputs": [
    {
     "name": "stdout",
     "output_type": "stream",
     "text": [
      "<Experiment: artifact_location='../models/mlruns/0', experiment_id='0', lifecycle_stage='active', name='churn_rate_prediction', tags={}>\n"
     ]
    }
   ],
   "source": [
    "exp = client.get_experiment_by_name(MLFLOW_EXPERIMENT_NAME)\n",
    "print(exp)"
   ]
  },
  {
   "cell_type": "markdown",
   "id": "0ad36d04-b696-4bf7-930b-321dda31c0e5",
   "metadata": {},
   "source": [
    "___\n",
    "## Base model; Logistic Regression\n",
    "**1. without balancing**"
   ]
  },
  {
   "cell_type": "code",
   "execution_count": 13,
   "id": "ac976ae2-794f-4c46-b392-770db504cfbe",
   "metadata": {},
   "outputs": [
    {
     "data": {
      "text/plain": [
       "Pipeline(steps=[('minmaxscaler', MinMaxScaler()),\n",
       "                ('logisticregression', LogisticRegression())])"
      ]
     },
     "execution_count": 13,
     "metadata": {},
     "output_type": "execute_result"
    }
   ],
   "source": [
    "clf = make_pipeline(MinMaxScaler(),\n",
    "                    LogisticRegression())\n",
    "\n",
    "clf.fit(X_train.values, (y_train.values).reshape(-1,))"
   ]
  },
  {
   "cell_type": "markdown",
   "id": "1bbf894c-01b1-43c7-89ef-835b0ee234d1",
   "metadata": {},
   "source": [
    "### Evaluating model"
   ]
  },
  {
   "cell_type": "code",
   "execution_count": 36,
   "id": "a11b696a-c442-47d9-92ac-6bb98dad3b88",
   "metadata": {},
   "outputs": [],
   "source": [
    "# Prepare data and metrics that would be used to evaluate the model\n",
    "data_list = [[X_train, y_train, 'train'], [X_test, y_test, 'test']]\n",
    "metrics_list = [accuracy_score, precision_score, recall_score, f1_score]"
   ]
  },
  {
   "cell_type": "code",
   "execution_count": 37,
   "id": "46a825f0-d701-406d-9cf1-253f3339082e",
   "metadata": {},
   "outputs": [
    {
     "data": {
      "text/html": [
       "<div>\n",
       "<style scoped>\n",
       "    .dataframe tbody tr th:only-of-type {\n",
       "        vertical-align: middle;\n",
       "    }\n",
       "\n",
       "    .dataframe tbody tr th {\n",
       "        vertical-align: top;\n",
       "    }\n",
       "\n",
       "    .dataframe thead th {\n",
       "        text-align: right;\n",
       "    }\n",
       "</style>\n",
       "<table border=\"1\" class=\"dataframe\">\n",
       "  <thead>\n",
       "    <tr style=\"text-align: right;\">\n",
       "      <th></th>\n",
       "      <th>accuracy_score</th>\n",
       "      <th>precision_score</th>\n",
       "      <th>recall_score</th>\n",
       "      <th>f1_score</th>\n",
       "    </tr>\n",
       "  </thead>\n",
       "  <tbody>\n",
       "    <tr>\n",
       "      <th>LogisticRegression_train</th>\n",
       "      <td>0.807</td>\n",
       "      <td>0.657</td>\n",
       "      <td>0.547</td>\n",
       "      <td>0.597</td>\n",
       "    </tr>\n",
       "    <tr>\n",
       "      <th>LogisticRegression_test</th>\n",
       "      <td>0.797</td>\n",
       "      <td>0.671</td>\n",
       "      <td>0.495</td>\n",
       "      <td>0.570</td>\n",
       "    </tr>\n",
       "  </tbody>\n",
       "</table>\n",
       "</div>"
      ],
      "text/plain": [
       "                          accuracy_score  precision_score  recall_score  \\\n",
       "LogisticRegression_train           0.807            0.657         0.547   \n",
       "LogisticRegression_test            0.797            0.671         0.495   \n",
       "\n",
       "                          f1_score  \n",
       "LogisticRegression_train     0.597  \n",
       "LogisticRegression_test      0.570  "
      ]
     },
     "execution_count": 37,
     "metadata": {},
     "output_type": "execute_result"
    }
   ],
   "source": [
    "# Use evaluate_model function to run evaluations\n",
    "scores, predicts = evaluate_model(clf, data_list, metrics_list, \"LogisticRegression\")\n",
    "scores"
   ]
  },
  {
   "cell_type": "code",
   "execution_count": 38,
   "id": "2104cd4a-eafe-42e0-b8c8-a46fa5572d5d",
   "metadata": {},
   "outputs": [
    {
     "data": {
      "image/png": "[encoded data removed]",
      "text/plain": [
       "<Figure size 432x288 with 2 Axes>"
      ]
     },
     "metadata": {
      "needs_background": "light"
     },
     "output_type": "display_data"
    }
   ],
   "source": [
    "cm = confusion_matrix(y_test, predicts[1])\n",
    "s = sns.heatmap(cm, annot=True) \n",
    "s.set(xlabel=\"Predicted\", ylabel=\"True\")\n",
    "plt.show()"
   ]
  },
  {
   "cell_type": "code",
   "execution_count": 39,
   "id": "f2584d0d-0c2f-485b-bd3b-4cd6b266b59b",
   "metadata": {},
   "outputs": [
    {
     "data": {
      "text/plain": [
       "<AxesSubplot:>"
      ]
     },
     "execution_count": 39,
     "metadata": {},
     "output_type": "execute_result"
    },
    {
     "data": {
      "image/png": "[encoded data removed]",
      "text/plain": [
       "<Figure size 432x288 with 1 Axes>"
      ]
     },
     "metadata": {
      "needs_background": "light"
     },
     "output_type": "display_data"
    }
   ],
   "source": [
    "# To get the weights of all the variables\n",
    "weights = pd.Series(clf.named_steps['logisticregression'].coef_[0],\n",
    "                 index=X_train.columns.values)\n",
    "weights.sort_values(ascending = False).plot(kind='bar')"
   ]
  },
  {
   "cell_type": "markdown",
   "id": "ea846a31-8d7b-40b5-858d-81916d41b92b",
   "metadata": {},
   "source": [
    "**We can see there are equal weights on services columns; it would be better if we used dimensionality reduction on it**"
   ]
  },
  {
   "cell_type": "code",
   "execution_count": 56,
   "id": "b435bec8-bdcd-4094-8b0c-6b458481e81a",
   "metadata": {},
   "outputs": [
    {
     "data": {
      "text/plain": [
       "0.274"
      ]
     },
     "execution_count": 56,
     "metadata": {},
     "output_type": "execute_result"
    }
   ],
   "source": [
    "# Get the threshold using precision_recall_curve\n",
    "thrs = get_threshold_precision_recall(X_test, y_test, clf)\n",
    "thrs"
   ]
  },
  {
   "cell_type": "code",
   "execution_count": 55,
   "id": "44982d91-7b5e-4e46-8cd6-09700d87a378",
   "metadata": {},
   "outputs": [
    {
     "data": {
      "text/html": [
       "<div>\n",
       "<style scoped>\n",
       "    .dataframe tbody tr th:only-of-type {\n",
       "        vertical-align: middle;\n",
       "    }\n",
       "\n",
       "    .dataframe tbody tr th {\n",
       "        vertical-align: top;\n",
       "    }\n",
       "\n",
       "    .dataframe thead th {\n",
       "        text-align: right;\n",
       "    }\n",
       "</style>\n",
       "<table border=\"1\" class=\"dataframe\">\n",
       "  <thead>\n",
       "    <tr style=\"text-align: right;\">\n",
       "      <th></th>\n",
       "      <th>accuracy_score</th>\n",
       "      <th>precision_score</th>\n",
       "      <th>recall_score</th>\n",
       "      <th>f1_score</th>\n",
       "    </tr>\n",
       "  </thead>\n",
       "  <tbody>\n",
       "    <tr>\n",
       "      <th>LogisticRegression_train</th>\n",
       "      <td>0.772</td>\n",
       "      <td>0.759</td>\n",
       "      <td>0.796</td>\n",
       "      <td>0.777</td>\n",
       "    </tr>\n",
       "    <tr>\n",
       "      <th>LogisticRegression_test</th>\n",
       "      <td>0.767</td>\n",
       "      <td>0.551</td>\n",
       "      <td>0.774</td>\n",
       "      <td>0.643</td>\n",
       "    </tr>\n",
       "  </tbody>\n",
       "</table>\n",
       "</div>"
      ],
      "text/plain": [
       "                          accuracy_score  precision_score  recall_score  \\\n",
       "LogisticRegression_train           0.772            0.759         0.796   \n",
       "LogisticRegression_test            0.767            0.551         0.774   \n",
       "\n",
       "                          f1_score  \n",
       "LogisticRegression_train     0.777  \n",
       "LogisticRegression_test      0.643  "
      ]
     },
     "execution_count": 55,
     "metadata": {},
     "output_type": "execute_result"
    }
   ],
   "source": [
    "# Use evaluate_model function to run evaluations\n",
    "scores, predicts = evaluate_model(clf, data_list, metrics_list, \"LogisticRegression\", 0.274)\n",
    "scores"
   ]
  },
  {
   "cell_type": "code",
   "execution_count": 57,
   "id": "2a9acffe-a053-40f5-a17b-90ec46818539",
   "metadata": {
    "tags": []
   },
   "outputs": [
    {
     "data": {
      "text/plain": [
       "0.251"
      ]
     },
     "execution_count": 57,
     "metadata": {},
     "output_type": "execute_result"
    }
   ],
   "source": [
    "# Get the threshold using roc_curve\n",
    "thrs = get_threshold(X_test, y_test, clf)\n",
    "thrs"
   ]
  },
  {
   "cell_type": "code",
   "execution_count": 50,
   "id": "ada29dc8-a1f3-4cda-afbe-945580f3465a",
   "metadata": {},
   "outputs": [
    {
     "data": {
      "text/html": [
       "<div>\n",
       "<style scoped>\n",
       "    .dataframe tbody tr th:only-of-type {\n",
       "        vertical-align: middle;\n",
       "    }\n",
       "\n",
       "    .dataframe tbody tr th {\n",
       "        vertical-align: top;\n",
       "    }\n",
       "\n",
       "    .dataframe thead th {\n",
       "        text-align: right;\n",
       "    }\n",
       "</style>\n",
       "<table border=\"1\" class=\"dataframe\">\n",
       "  <thead>\n",
       "    <tr style=\"text-align: right;\">\n",
       "      <th></th>\n",
       "      <th>accuracy_score</th>\n",
       "      <th>precision_score</th>\n",
       "      <th>recall_score</th>\n",
       "      <th>f1_score</th>\n",
       "    </tr>\n",
       "  </thead>\n",
       "  <tbody>\n",
       "    <tr>\n",
       "      <th>LogisticRegression_train</th>\n",
       "      <td>0.772</td>\n",
       "      <td>0.749</td>\n",
       "      <td>0.82</td>\n",
       "      <td>0.783</td>\n",
       "    </tr>\n",
       "    <tr>\n",
       "      <th>LogisticRegression_test</th>\n",
       "      <td>0.755</td>\n",
       "      <td>0.532</td>\n",
       "      <td>0.80</td>\n",
       "      <td>0.639</td>\n",
       "    </tr>\n",
       "  </tbody>\n",
       "</table>\n",
       "</div>"
      ],
      "text/plain": [
       "                          accuracy_score  precision_score  recall_score  \\\n",
       "LogisticRegression_train           0.772            0.749          0.82   \n",
       "LogisticRegression_test            0.755            0.532          0.80   \n",
       "\n",
       "                          f1_score  \n",
       "LogisticRegression_train     0.783  \n",
       "LogisticRegression_test      0.639  "
      ]
     },
     "execution_count": 50,
     "metadata": {},
     "output_type": "execute_result"
    }
   ],
   "source": [
    "# Use evaluate_model function to run evaluations\n",
    "scores, predicts = evaluate_model(clf, data_list, metrics_list, \"LogisticRegression\", 0.251)\n",
    "scores"
   ]
  },
  {
   "cell_type": "code",
   "execution_count": 51,
   "id": "7d7307e8-c280-4d75-ab4c-864dfdbc1bc3",
   "metadata": {},
   "outputs": [
    {
     "data": {
      "image/png": "[encoded data removed]",
      "text/plain": [
       "<Figure size 432x288 with 2 Axes>"
      ]
     },
     "metadata": {
      "needs_background": "light"
     },
     "output_type": "display_data"
    }
   ],
   "source": [
    "cm = confusion_matrix(y_test, predicts[1])\n",
    "s = sns.heatmap(cm, annot=True) \n",
    "s.set(xlabel=\"Predicted\", ylabel=\"True\")\n",
    "plt.show()"
   ]
  },
  {
   "cell_type": "markdown",
   "id": "5613340f-e951-4558-aa50-d9d5cd4d107d",
   "metadata": {},
   "source": [
    "___\n",
    "## Now Trying to use resampling:"
   ]
  },
  {
   "cell_type": "code",
   "execution_count": 21,
   "id": "8c42734d-2bf5-4c34-9ff5-85bb42a145b6",
   "metadata": {},
   "outputs": [],
   "source": [
    "sm = SMOTE(random_state=42)\n",
    "X_train_balance, y_train_balance = sm.fit_resample(X_train, y_train)"
   ]
  },
  {
   "cell_type": "code",
   "execution_count": 22,
   "id": "6e85f77f-668f-4d96-b953-9c60621d1fc4",
   "metadata": {},
   "outputs": [
    {
     "data": {
      "text/plain": [
       "churn\n",
       "0.0      4134\n",
       "1.0      4134\n",
       "dtype: int64"
      ]
     },
     "execution_count": 22,
     "metadata": {},
     "output_type": "execute_result"
    }
   ],
   "source": [
    "y_train_balance.value_counts()"
   ]
  },
  {
   "cell_type": "markdown",
   "id": "5819811a-fa92-474c-a9f8-09903797896a",
   "metadata": {},
   "source": [
    "**1. with balancing**"
   ]
  },
  {
   "cell_type": "code",
   "execution_count": 23,
   "id": "5c4fc23a-da88-4896-b23f-f3fd61370b30",
   "metadata": {},
   "outputs": [
    {
     "data": {
      "text/plain": [
       "Pipeline(steps=[('minmaxscaler', MinMaxScaler()),\n",
       "                ('logisticregression', LogisticRegression())])"
      ]
     },
     "execution_count": 23,
     "metadata": {},
     "output_type": "execute_result"
    }
   ],
   "source": [
    "clf_balance = make_pipeline(MinMaxScaler(),\n",
    "                    LogisticRegression())\n",
    "\n",
    "clf_balance.fit(X_train_balance.values, (y_train_balance.values).reshape(-1,))"
   ]
  },
  {
   "cell_type": "markdown",
   "id": "ebd92c2e-ed6b-4d38-a9a0-577f612c526e",
   "metadata": {
    "tags": []
   },
   "source": [
    "### Evaluate the model:"
   ]
  },
  {
   "cell_type": "code",
   "execution_count": 43,
   "id": "e9e12c06-fbb1-4f8d-8fc8-4802e4c9d620",
   "metadata": {},
   "outputs": [],
   "source": [
    "# Prepare data and metrics that would be used to evaluate the model\n",
    "data_list = [[X_train_balance, y_train_balance, 'train'], [X_test, y_test, 'test']]\n",
    "metrics_list = [accuracy_score, precision_score, recall_score, f1_score]"
   ]
  },
  {
   "cell_type": "code",
   "execution_count": 44,
   "id": "d75c29b0-0a24-437b-9595-2f7d1e919145",
   "metadata": {},
   "outputs": [
    {
     "data": {
      "text/html": [
       "<div>\n",
       "<style scoped>\n",
       "    .dataframe tbody tr th:only-of-type {\n",
       "        vertical-align: middle;\n",
       "    }\n",
       "\n",
       "    .dataframe tbody tr th {\n",
       "        vertical-align: top;\n",
       "    }\n",
       "\n",
       "    .dataframe thead th {\n",
       "        text-align: right;\n",
       "    }\n",
       "</style>\n",
       "<table border=\"1\" class=\"dataframe\">\n",
       "  <thead>\n",
       "    <tr style=\"text-align: right;\">\n",
       "      <th></th>\n",
       "      <th>accuracy_score</th>\n",
       "      <th>precision_score</th>\n",
       "      <th>recall_score</th>\n",
       "      <th>f1_score</th>\n",
       "    </tr>\n",
       "  </thead>\n",
       "  <tbody>\n",
       "    <tr>\n",
       "      <th>LogisticRegression_train</th>\n",
       "      <td>0.777</td>\n",
       "      <td>0.756</td>\n",
       "      <td>0.818</td>\n",
       "      <td>0.786</td>\n",
       "    </tr>\n",
       "    <tr>\n",
       "      <th>LogisticRegression_test</th>\n",
       "      <td>0.755</td>\n",
       "      <td>0.534</td>\n",
       "      <td>0.766</td>\n",
       "      <td>0.629</td>\n",
       "    </tr>\n",
       "  </tbody>\n",
       "</table>\n",
       "</div>"
      ],
      "text/plain": [
       "                          accuracy_score  precision_score  recall_score  \\\n",
       "LogisticRegression_train           0.777            0.756         0.818   \n",
       "LogisticRegression_test            0.755            0.534         0.766   \n",
       "\n",
       "                          f1_score  \n",
       "LogisticRegression_train     0.786  \n",
       "LogisticRegression_test      0.629  "
      ]
     },
     "execution_count": 44,
     "metadata": {},
     "output_type": "execute_result"
    }
   ],
   "source": [
    "# Use evaluate_model function to run evaluations\n",
    "scores, predicts = evaluate_model(clf_balance, data_list, metrics_list, \"LogisticRegression\")\n",
    "scores"
   ]
  },
  {
   "cell_type": "code",
   "execution_count": 26,
   "id": "24f0687c-9e7a-45c3-8940-c0422a3b934c",
   "metadata": {},
   "outputs": [
    {
     "data": {
      "image/png": "[encoded data removed]",
      "text/plain": [
       "<Figure size 432x288 with 2 Axes>"
      ]
     },
     "metadata": {
      "needs_background": "light"
     },
     "output_type": "display_data"
    }
   ],
   "source": [
    "cm = confusion_matrix(y_test, predicts[1])\n",
    "s = sns.heatmap(cm, annot=True) \n",
    "s.set(xlabel=\"Predicted\", ylabel=\"True\")\n",
    "plt.show()"
   ]
  },
  {
   "cell_type": "code",
   "execution_count": 27,
   "id": "0c24261a-714d-4b73-86d1-1a3f5a54dd18",
   "metadata": {},
   "outputs": [
    {
     "data": {
      "text/plain": [
       "<AxesSubplot:>"
      ]
     },
     "execution_count": 27,
     "metadata": {},
     "output_type": "execute_result"
    },
    {
     "data": {
      "image/png": "[encoded data removed]",
      "text/plain": [
       "<Figure size 432x288 with 1 Axes>"
      ]
     },
     "metadata": {
      "needs_background": "light"
     },
     "output_type": "display_data"
    }
   ],
   "source": [
    "# To get the weights of all the variables\n",
    "weights = pd.Series(clf_balance.named_steps['logisticregression'].coef_[0],\n",
    "                 index=X_train_balance.columns.values)\n",
    "weights.sort_values(ascending = False).plot(kind='bar')"
   ]
  },
  {
   "cell_type": "code",
   "execution_count": 59,
   "id": "e1a1f16a-e978-45a2-841c-3546a85940ab",
   "metadata": {},
   "outputs": [
    {
     "data": {
      "text/plain": [
       "0.546"
      ]
     },
     "execution_count": 59,
     "metadata": {},
     "output_type": "execute_result"
    }
   ],
   "source": [
    "# Get the threshold using precision_recall_curve\n",
    "thrs = get_threshold_precision_recall(X_test, y_test, clf_balance)\n",
    "thrs"
   ]
  },
  {
   "cell_type": "code",
   "execution_count": 60,
   "id": "9821cbdc-ceee-4f59-ab76-fa9b96d87564",
   "metadata": {},
   "outputs": [
    {
     "data": {
      "text/html": [
       "<div>\n",
       "<style scoped>\n",
       "    .dataframe tbody tr th:only-of-type {\n",
       "        vertical-align: middle;\n",
       "    }\n",
       "\n",
       "    .dataframe tbody tr th {\n",
       "        vertical-align: top;\n",
       "    }\n",
       "\n",
       "    .dataframe thead th {\n",
       "        text-align: right;\n",
       "    }\n",
       "</style>\n",
       "<table border=\"1\" class=\"dataframe\">\n",
       "  <thead>\n",
       "    <tr style=\"text-align: right;\">\n",
       "      <th></th>\n",
       "      <th>accuracy_score</th>\n",
       "      <th>precision_score</th>\n",
       "      <th>recall_score</th>\n",
       "      <th>f1_score</th>\n",
       "    </tr>\n",
       "  </thead>\n",
       "  <tbody>\n",
       "    <tr>\n",
       "      <th>LogisticRegression_train</th>\n",
       "      <td>0.776</td>\n",
       "      <td>0.773</td>\n",
       "      <td>0.780</td>\n",
       "      <td>0.776</td>\n",
       "    </tr>\n",
       "    <tr>\n",
       "      <th>LogisticRegression_test</th>\n",
       "      <td>0.774</td>\n",
       "      <td>0.566</td>\n",
       "      <td>0.718</td>\n",
       "      <td>0.633</td>\n",
       "    </tr>\n",
       "  </tbody>\n",
       "</table>\n",
       "</div>"
      ],
      "text/plain": [
       "                          accuracy_score  precision_score  recall_score  \\\n",
       "LogisticRegression_train           0.776            0.773         0.780   \n",
       "LogisticRegression_test            0.774            0.566         0.718   \n",
       "\n",
       "                          f1_score  \n",
       "LogisticRegression_train     0.776  \n",
       "LogisticRegression_test      0.633  "
      ]
     },
     "execution_count": 60,
     "metadata": {},
     "output_type": "execute_result"
    }
   ],
   "source": [
    "# Use evaluate_model function to run evaluations\n",
    "scores, predicts = evaluate_model(clf_balance, data_list, metrics_list, \"LogisticRegression\", 0.546)\n",
    "scores"
   ]
  },
  {
   "cell_type": "code",
   "execution_count": 61,
   "id": "1a8d1227-56f7-41a2-9477-29123d32fd12",
   "metadata": {},
   "outputs": [
    {
     "data": {
      "text/plain": [
       "0.478"
      ]
     },
     "execution_count": 61,
     "metadata": {},
     "output_type": "execute_result"
    }
   ],
   "source": [
    "thrs = get_threshold(X_test, y_test, clf_balance)\n",
    "thrs"
   ]
  },
  {
   "cell_type": "code",
   "execution_count": 62,
   "id": "54b1a28c-0fb9-4cad-bcd8-87cc38e326e8",
   "metadata": {},
   "outputs": [
    {
     "data": {
      "text/html": [
       "<div>\n",
       "<style scoped>\n",
       "    .dataframe tbody tr th:only-of-type {\n",
       "        vertical-align: middle;\n",
       "    }\n",
       "\n",
       "    .dataframe tbody tr th {\n",
       "        vertical-align: top;\n",
       "    }\n",
       "\n",
       "    .dataframe thead th {\n",
       "        text-align: right;\n",
       "    }\n",
       "</style>\n",
       "<table border=\"1\" class=\"dataframe\">\n",
       "  <thead>\n",
       "    <tr style=\"text-align: right;\">\n",
       "      <th></th>\n",
       "      <th>accuracy_score</th>\n",
       "      <th>precision_score</th>\n",
       "      <th>recall_score</th>\n",
       "      <th>f1_score</th>\n",
       "    </tr>\n",
       "  </thead>\n",
       "  <tbody>\n",
       "    <tr>\n",
       "      <th>LogisticRegression_train</th>\n",
       "      <td>0.776</td>\n",
       "      <td>0.748</td>\n",
       "      <td>0.834</td>\n",
       "      <td>0.789</td>\n",
       "    </tr>\n",
       "    <tr>\n",
       "      <th>LogisticRegression_test</th>\n",
       "      <td>0.751</td>\n",
       "      <td>0.528</td>\n",
       "      <td>0.779</td>\n",
       "      <td>0.629</td>\n",
       "    </tr>\n",
       "  </tbody>\n",
       "</table>\n",
       "</div>"
      ],
      "text/plain": [
       "                          accuracy_score  precision_score  recall_score  \\\n",
       "LogisticRegression_train           0.776            0.748         0.834   \n",
       "LogisticRegression_test            0.751            0.528         0.779   \n",
       "\n",
       "                          f1_score  \n",
       "LogisticRegression_train     0.789  \n",
       "LogisticRegression_test      0.629  "
      ]
     },
     "execution_count": 62,
     "metadata": {},
     "output_type": "execute_result"
    }
   ],
   "source": [
    "# Use evaluate_model function to run evaluations\n",
    "scores, predicts = evaluate_model(clf_balance, data_list, metrics_list, \"LogisticRegression\", 0.478)\n",
    "scores"
   ]
  },
  {
   "cell_type": "code",
   "execution_count": 30,
   "id": "1d5c215f-bac0-450a-9cd3-64d551aa38f2",
   "metadata": {},
   "outputs": [
    {
     "data": {
      "image/png": "[encoded data removed]",
      "text/plain": [
       "<Figure size 432x288 with 2 Axes>"
      ]
     },
     "metadata": {
      "needs_background": "light"
     },
     "output_type": "display_data"
    }
   ],
   "source": [
    "cm = confusion_matrix(y_test, predicts[1])\n",
    "s = sns.heatmap(cm, annot=True) \n",
    "s.set(xlabel=\"Predicted\", ylabel=\"True\")\n",
    "plt.show()"
   ]
  },
  {
   "cell_type": "markdown",
   "id": "f4def4d1-23a6-4d11-b529-71ba890213fe",
   "metadata": {
    "tags": []
   },
   "source": [
    "## Balance doesn't help:\n",
    "**As we can see balancing the data doesn't help at all. Even it makes the model performs worse**"
   ]
  },
  {
   "cell_type": "markdown",
   "id": "eb4a4eaf-6a31-4b6d-bbd2-a8b0afdd6d63",
   "metadata": {},
   "source": [
    "### Log run"
   ]
  },
  {
   "cell_type": "code",
   "execution_count": 31,
   "id": "b194e86a-f924-4d9c-91c3-8f3683782c9a",
   "metadata": {},
   "outputs": [],
   "source": [
    "# Data details\n",
    "data_details = {\"data_path\": DATA_PATH,\n",
    "                \"training_indices\": X_train.index.tolist(),\n",
    "                \"test_indices\": X_test.index.tolist(),\n",
    "                \"feature_names\": X_train.columns.tolist(),\n",
    "                \"target_names\": y_train.columns.tolist()}\n",
    "\n",
    "with open(os.path.join(LOG_PATH, LOG_DATA_PKL), \"wb\") as output_file:\n",
    "    pickle.dump(data_details, output_file)"
   ]
  },
  {
   "cell_type": "code",
   "execution_count": 32,
   "id": "3f8dfd14-6d30-426b-b799-0c4da5dcb5cb",
   "metadata": {},
   "outputs": [],
   "source": [
    "# Model details\n",
    "model = {\"model_description\": \"Base Model, Logistic Regression\",\n",
    "         \"model_details\": str(clf),\n",
    "         \"model_object\": clf}\n",
    "\n",
    "with open(os.path.join(LOG_PATH, LOG_MODEL_PKL), \"wb\") as output_file:\n",
    "    pickle.dump(model, output_file)"
   ]
  },
  {
   "cell_type": "code",
   "execution_count": 33,
   "id": "56dc659b-d420-4931-83ab-63af91f45718",
   "metadata": {},
   "outputs": [],
   "source": [
    "# Performance details\n",
    "regression_metrics = {\"train_scores\": scores.iloc[0],\n",
    "                      \"test_scores\": scores.iloc[1]}\n",
    "\n",
    "with open(os.path.join(LOG_PATH, LOG_METRICS_PKL), \"wb\") as output_file:\n",
    "    pickle.dump(regression_metrics, output_file)"
   ]
  },
  {
   "cell_type": "markdown",
   "id": "532de0ec-bf30-4fa6-a070-413d62ea439f",
   "metadata": {},
   "source": [
    "### Logging"
   ]
  },
  {
   "cell_type": "code",
   "execution_count": 34,
   "id": "a727aa2f-d525-4a31-bd1b-74a455573139",
   "metadata": {},
   "outputs": [],
   "source": [
    "# Start a new run and track\n",
    "with mlflow.start_run(experiment_id=exp.experiment_id, run_name=model[\"model_description\"]):\n",
    "    # log pickle\n",
    "    mlflow.log_artifacts(LOG_PATH)\n",
    "    \n",
    "    # Track metrics\n",
    "    for metric, score in scores.iloc[1].items():\n",
    "        mlflow.log_metric(metric, score)"
   ]
  }
 ],
 "metadata": {
  "kernelspec": {
   "display_name": "Python 3 (ipykernel)",
   "language": "python",
   "name": "python3"
  },
  "language_info": {
   "codemirror_mode": {
    "name": "ipython",
    "version": 3
   },
   "file_extension": ".py",
   "mimetype": "text/x-python",
   "name": "python",
   "nbconvert_exporter": "python",
   "pygments_lexer": "ipython3",
   "version": "3.8.8"
  }
 },
 "nbformat": 4,
 "nbformat_minor": 5
}
