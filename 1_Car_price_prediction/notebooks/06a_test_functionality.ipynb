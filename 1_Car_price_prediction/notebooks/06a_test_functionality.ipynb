{
 "cells": [
  {
   "cell_type": "code",
   "execution_count": 1,
   "id": "c282cd6d-e845-444b-9523-3465f1f26190",
   "metadata": {},
   "outputs": [],
   "source": [
    "MLFLOW_TRACKING_URI = \"../models/mlruns\"\n",
    "MLFLOW_RUN_ID = \"871e33a94e9a42819d93d28209cfca7e\""
   ]
  },
  {
   "cell_type": "code",
   "execution_count": 2,
   "id": "4982dac1-cb6f-4ea5-80df-64cc155c4e90",
   "metadata": {},
   "outputs": [],
   "source": [
    "import sys\n",
    "\n",
    "sys.path.append(\"../scripts/\")\n",
    "\n",
    "from Car_Salary_Prediction import *"
   ]
  },
  {
   "cell_type": "markdown",
   "id": "590bf2c0-733f-464d-b745-02fd0faf334c",
   "metadata": {},
   "source": [
    "___\n",
    "## Test functionality"
   ]
  },
  {
   "cell_type": "code",
   "execution_count": 3,
   "id": "69674cef-fc72-4fff-9a7e-a4350b4ec0ea",
   "metadata": {},
   "outputs": [],
   "source": [
    "model = PricePrediction(MLFLOW_TRACKING_URI, MLFLOW_RUN_ID)"
   ]
  },
  {
   "cell_type": "code",
   "execution_count": 4,
   "id": "58e45e54-d064-410c-b14d-ceb6ff9f4c33",
   "metadata": {},
   "outputs": [],
   "source": [
    "sample = [\"mercedes-benz\", 2014, 201, 4, 'manual', 34, 20]"
   ]
  },
  {
   "cell_type": "code",
   "execution_count": 5,
   "id": "71bb5363-dff8-4591-9416-4208251253bb",
   "metadata": {},
   "outputs": [],
   "source": [
    "car_price = model.predict_car_price(sample)"
   ]
  },
  {
   "cell_type": "code",
   "execution_count": 6,
   "id": "e9616ac7-a351-481b-b218-9b20d50101fd",
   "metadata": {},
   "outputs": [
    {
     "data": {
      "text/plain": [
       "41100.345"
      ]
     },
     "execution_count": 6,
     "metadata": {},
     "output_type": "execute_result"
    }
   ],
   "source": [
    "car_price"
   ]
  }
 ],
 "metadata": {
  "kernelspec": {
   "display_name": "Python 3 (ipykernel)",
   "language": "python",
   "name": "python3"
  },
  "language_info": {
   "codemirror_mode": {
    "name": "ipython",
    "version": 3
   },
   "file_extension": ".py",
   "mimetype": "text/x-python",
   "name": "python",
   "nbconvert_exporter": "python",
   "pygments_lexer": "ipython3",
   "version": "3.8.8"
  }
 },
 "nbformat": 4,
 "nbformat_minor": 5
}
