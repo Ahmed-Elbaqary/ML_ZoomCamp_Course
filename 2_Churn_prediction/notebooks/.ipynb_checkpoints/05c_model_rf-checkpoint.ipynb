{
 "cells": [
  {
   "cell_type": "code",
   "execution_count": 1,
   "id": "8dfed142-2ee0-4eb8-ba8c-627f93d1e9e1",
   "metadata": {},
   "outputs": [],
   "source": [
    "DATA_PATH = \"../data/processed/02_cleaned.pkl\"\n",
    "\n",
    "MLFLOW_TRACKING_URI = \"../models/mlruns\"\n",
    "MLFLOW_EXPERIMENT_NAME = \"churn_rate_prediction\"\n",
    "\n",
    "LOG_PATH = \"../models/temp/\"\n",
    "LOG_DATA_PKL = \"data.pkl\"\n",
    "LOG_MODEL_PKL = \"model.pkl\"\n",
    "LOG_METRICS_PKL = \"metrics.pkl\""
   ]
  },
  {
   "cell_type": "code",
   "execution_count": 2,
   "id": "52f7e691-a7c7-4118-808a-55db212a9da0",
   "metadata": {},
   "outputs": [],
   "source": [
    "# Load packages\n",
    "import pandas as pd\n",
    "import numpy as np\n",
    "\n",
    "import matplotlib.pyplot as plt\n",
    "import seaborn as sns\n",
    "\n",
    "from pathlib import Path\n",
    "import os\n",
    "import pickle\n",
    "\n",
    "from imblearn.over_sampling import SMOTE\n",
    "\n",
    "from sklearn.preprocessing import MinMaxScaler\n",
    "from sklearn.model_selection import train_test_split\n",
    "from sklearn.pipeline import make_pipeline\n",
    "from sklearn.metrics import accuracy_score, precision_score, recall_score, f1_score\n",
    "from sklearn.metrics import roc_auc_score, roc_curve, precision_recall_curve, confusion_matrix\n",
    "\n",
    "from sklearn.svm import SVC\n",
    "from sklearn.ensemble import RandomForestClassifier\n",
    "from sklearn.ensemble import AdaBoostClassifier\n",
    "from xgboost import XGBClassifier \n",
    "\n",
    "\n",
    "import mlflow\n",
    "from mlflow.tracking import MlflowClient"
   ]
  },
  {
   "cell_type": "markdown",
   "id": "a25d79bc-08d9-4920-9d47-2ffaa2cd7231",
   "metadata": {},
   "source": [
    "___\n",
    "## Functions"
   ]
  },
  {
   "cell_type": "code",
   "execution_count": 3,
   "id": "c0c77d48-403b-41e8-8683-02140cdeea88",
   "metadata": {},
   "outputs": [],
   "source": [
    "def calculate_quality(ground_truth, predictions, metric_function, model_name):\n",
    "    \"\"\"\n",
    "    Calculate the quality of the model according to different metric scores\n",
    "    Input:\n",
    "        ground_truth: from real observed data\n",
    "        predictions: the predicted values from the model\n",
    "        metric_function: the metric score funcrion used to measure performance\n",
    "    Output:\n",
    "        A dict of all scores for the given inputs\n",
    "    \"\"\"\n",
    "    quality_score = {}\n",
    "    quality_score[model_name] = round(metric_function(ground_truth, predictions), 3)\n",
    "    quality_score = pd.Series(quality_score.values(), index=quality_score.keys())\n",
    "    \n",
    "    return quality_score"
   ]
  },
  {
   "cell_type": "code",
   "execution_count": 4,
   "id": "edb0467a-b4df-4cb8-bb28-2069afaa3973",
   "metadata": {},
   "outputs": [],
   "source": [
    "def get_threshold(X_train, y_train, model):\n",
    "    \"\"\"\n",
    "    Get the best threshold for the classification \n",
    "    Input: \n",
    "        X_train: train dataset\n",
    "        y_train: train target data\n",
    "        model: model used\n",
    "    Output:\n",
    "        the value of the best threshold\n",
    "    \"\"\"\n",
    "    predict_prob = model.predict_proba(X_train.values)[:,1]\n",
    "    \n",
    "    fpr, tpr, thresholds = roc_curve(y_train.values, predict_prob)\n",
    "    optimal_idx = np.argmax(tpr - fpr)\n",
    "    \n",
    "    return round(thresholds[optimal_idx], 3)"
   ]
  },
  {
   "cell_type": "code",
   "execution_count": 5,
   "id": "d4f4fae7-1dd7-4a17-921c-1e97b15e43d1",
   "metadata": {},
   "outputs": [],
   "source": [
    "def evaluate_model_probas(model, data_list, metrics_list, model_name, threshold=0.5):\n",
    "    \"\"\"\n",
    "    Get the scores of the model to better understand its performance\n",
    "    Input:\n",
    "        data_list: a list of all data that we evaluate model upon, train and test data.\n",
    "                typical input : [[X_train, y_train, 'train'], [X_test, y_test, 'test']]\n",
    "        scores_list: a list of all metrics used in the evaluation. \n",
    "                typical input : [accuracy_score, precision_score, recall_score, f1_score]\n",
    "        model_name: a string input used as the index for score dataframe.\n",
    "    Output:\n",
    "        scores: a dataframe of evaluation based on data.\n",
    "        general_error: the generalized error that would be used for logging in mlflow\n",
    "    \"\"\"\n",
    "    predicts = []\n",
    "    scores = []\n",
    "    for [X,y,stage] in data_list:\n",
    "\n",
    "        probas = model.predict_proba(X.values)[:,1]\n",
    "        predictions = pd.DataFrame(probas >= threshold ,\n",
    "                                  columns=y_test.columns)\n",
    "        predicts.append(predictions)\n",
    "\n",
    "        result = {score.__name__:calculate_quality(y, predictions, score, f\"{model_name}_{stage}\")\n",
    "                        for score in metrics_list}\n",
    "\n",
    "        result = pd.concat(result, axis=1)\n",
    "        scores.append(result)\n",
    "    scores = pd.concat(scores)\n",
    "    return scores, predicts"
   ]
  },
  {
   "cell_type": "code",
   "execution_count": 6,
   "id": "79e64341-4b9c-4f05-8879-fb2c5ffc5d19",
   "metadata": {},
   "outputs": [],
   "source": [
    "def evaluate_model(model, data_list, metrics_list, model_name):\n",
    "    \"\"\"\n",
    "    Get the scores of the model to better understand its performance\n",
    "    Input:\n",
    "        data_list: a list of all data that we evaluate model upon, train and test data.\n",
    "                typical input : [[X_train, y_train, 'train'], [X_test, y_test, 'test']]\n",
    "        scores_list: a list of all metrics used in the evaluation. \n",
    "                typical input : [accuracy_score, precision_score, recall_score, f1_score]\n",
    "        model_name: a string input used as the index for score dataframe.\n",
    "    Output:\n",
    "        scores: a dataframe of evaluation based on data.\n",
    "        general_error: the generalized error that would be used for logging in mlflow\n",
    "    \"\"\"\n",
    "    predicts = []\n",
    "    scores = []\n",
    "    for [X,y,stage] in data_list:\n",
    "\n",
    "        predictions = pd.DataFrame(model.predict(X.values) ,\n",
    "                                  columns=y_test.columns)\n",
    "        predicts.append(predictions)\n",
    "\n",
    "        result = {score.__name__:calculate_quality(y, predictions, score, f\"{model_name}_{stage}\")\n",
    "                        for score in metrics_list}\n",
    "\n",
    "        result = pd.concat(result, axis=1)\n",
    "        scores.append(result)\n",
    "    scores = pd.concat(scores)\n",
    "    return scores, predicts"
   ]
  },
  {
   "cell_type": "markdown",
   "id": "ef6bab8e-633c-464e-820f-5eeb59d217dc",
   "metadata": {},
   "source": [
    "___\n",
    "## Read data"
   ]
  },
  {
   "cell_type": "code",
   "execution_count": 7,
   "id": "769f3020-081c-48e1-ab69-f92123d96a0b",
   "metadata": {},
   "outputs": [
    {
     "data": {
      "text/html": [
       "<div>\n",
       "<style scoped>\n",
       "    .dataframe tbody tr th:only-of-type {\n",
       "        vertical-align: middle;\n",
       "    }\n",
       "\n",
       "    .dataframe tbody tr th {\n",
       "        vertical-align: top;\n",
       "    }\n",
       "\n",
       "    .dataframe thead th {\n",
       "        text-align: right;\n",
       "    }\n",
       "</style>\n",
       "<table border=\"1\" class=\"dataframe\">\n",
       "  <thead>\n",
       "    <tr style=\"text-align: right;\">\n",
       "      <th></th>\n",
       "      <th>seniorcitizen</th>\n",
       "      <th>dependents</th>\n",
       "      <th>tenure</th>\n",
       "      <th>phoneservice</th>\n",
       "      <th>multiplelines</th>\n",
       "      <th>internetservice</th>\n",
       "      <th>onlinesecurity</th>\n",
       "      <th>onlinebackup</th>\n",
       "      <th>deviceprotection</th>\n",
       "      <th>techsupport</th>\n",
       "      <th>streamingtv</th>\n",
       "      <th>streamingmovies</th>\n",
       "      <th>contract</th>\n",
       "      <th>paperlessbilling</th>\n",
       "      <th>paymentmethod</th>\n",
       "      <th>monthlycharges</th>\n",
       "      <th>totalcharges</th>\n",
       "      <th>churn</th>\n",
       "    </tr>\n",
       "  </thead>\n",
       "  <tbody>\n",
       "    <tr>\n",
       "      <th>774</th>\n",
       "      <td>0</td>\n",
       "      <td>0.0</td>\n",
       "      <td>33</td>\n",
       "      <td>1.0</td>\n",
       "      <td>1.0</td>\n",
       "      <td>2.0</td>\n",
       "      <td>1.0</td>\n",
       "      <td>1.0</td>\n",
       "      <td>2.0</td>\n",
       "      <td>1.0</td>\n",
       "      <td>2.0</td>\n",
       "      <td>2.0</td>\n",
       "      <td>1.0</td>\n",
       "      <td>1.0</td>\n",
       "      <td>0.0</td>\n",
       "      <td>95.80</td>\n",
       "      <td>3036.75</td>\n",
       "      <td>1.0</td>\n",
       "    </tr>\n",
       "    <tr>\n",
       "      <th>6481</th>\n",
       "      <td>0</td>\n",
       "      <td>1.0</td>\n",
       "      <td>5</td>\n",
       "      <td>1.0</td>\n",
       "      <td>1.0</td>\n",
       "      <td>2.0</td>\n",
       "      <td>1.0</td>\n",
       "      <td>1.0</td>\n",
       "      <td>1.0</td>\n",
       "      <td>1.0</td>\n",
       "      <td>1.0</td>\n",
       "      <td>1.0</td>\n",
       "      <td>0.0</td>\n",
       "      <td>0.0</td>\n",
       "      <td>3.0</td>\n",
       "      <td>69.95</td>\n",
       "      <td>320.40</td>\n",
       "      <td>0.0</td>\n",
       "    </tr>\n",
       "    <tr>\n",
       "      <th>3905</th>\n",
       "      <td>0</td>\n",
       "      <td>0.0</td>\n",
       "      <td>3</td>\n",
       "      <td>0.0</td>\n",
       "      <td>0.0</td>\n",
       "      <td>1.0</td>\n",
       "      <td>1.0</td>\n",
       "      <td>1.0</td>\n",
       "      <td>1.0</td>\n",
       "      <td>1.0</td>\n",
       "      <td>2.0</td>\n",
       "      <td>1.0</td>\n",
       "      <td>0.0</td>\n",
       "      <td>0.0</td>\n",
       "      <td>3.0</td>\n",
       "      <td>35.20</td>\n",
       "      <td>108.95</td>\n",
       "      <td>1.0</td>\n",
       "    </tr>\n",
       "    <tr>\n",
       "      <th>2935</th>\n",
       "      <td>0</td>\n",
       "      <td>0.0</td>\n",
       "      <td>71</td>\n",
       "      <td>1.0</td>\n",
       "      <td>1.0</td>\n",
       "      <td>1.0</td>\n",
       "      <td>2.0</td>\n",
       "      <td>2.0</td>\n",
       "      <td>2.0</td>\n",
       "      <td>2.0</td>\n",
       "      <td>2.0</td>\n",
       "      <td>2.0</td>\n",
       "      <td>2.0</td>\n",
       "      <td>1.0</td>\n",
       "      <td>2.0</td>\n",
       "      <td>86.10</td>\n",
       "      <td>6045.90</td>\n",
       "      <td>0.0</td>\n",
       "    </tr>\n",
       "    <tr>\n",
       "      <th>4254</th>\n",
       "      <td>0</td>\n",
       "      <td>0.0</td>\n",
       "      <td>29</td>\n",
       "      <td>1.0</td>\n",
       "      <td>2.0</td>\n",
       "      <td>2.0</td>\n",
       "      <td>2.0</td>\n",
       "      <td>2.0</td>\n",
       "      <td>1.0</td>\n",
       "      <td>1.0</td>\n",
       "      <td>1.0</td>\n",
       "      <td>1.0</td>\n",
       "      <td>0.0</td>\n",
       "      <td>1.0</td>\n",
       "      <td>0.0</td>\n",
       "      <td>84.45</td>\n",
       "      <td>2467.10</td>\n",
       "      <td>1.0</td>\n",
       "    </tr>\n",
       "  </tbody>\n",
       "</table>\n",
       "</div>"
      ],
      "text/plain": [
       "      seniorcitizen  dependents  tenure  phoneservice  multiplelines  \\\n",
       "774               0         0.0      33           1.0            1.0   \n",
       "6481              0         1.0       5           1.0            1.0   \n",
       "3905              0         0.0       3           0.0            0.0   \n",
       "2935              0         0.0      71           1.0            1.0   \n",
       "4254              0         0.0      29           1.0            2.0   \n",
       "\n",
       "      internetservice  onlinesecurity  onlinebackup  deviceprotection  \\\n",
       "774               2.0             1.0           1.0               2.0   \n",
       "6481              2.0             1.0           1.0               1.0   \n",
       "3905              1.0             1.0           1.0               1.0   \n",
       "2935              1.0             2.0           2.0               2.0   \n",
       "4254              2.0             2.0           2.0               1.0   \n",
       "\n",
       "      techsupport  streamingtv  streamingmovies  contract  paperlessbilling  \\\n",
       "774           1.0          2.0              2.0       1.0               1.0   \n",
       "6481          1.0          1.0              1.0       0.0               0.0   \n",
       "3905          1.0          2.0              1.0       0.0               0.0   \n",
       "2935          2.0          2.0              2.0       2.0               1.0   \n",
       "4254          1.0          1.0              1.0       0.0               1.0   \n",
       "\n",
       "      paymentmethod  monthlycharges  totalcharges  churn  \n",
       "774             0.0           95.80       3036.75    1.0  \n",
       "6481            3.0           69.95        320.40    0.0  \n",
       "3905            3.0           35.20        108.95    1.0  \n",
       "2935            2.0           86.10       6045.90    0.0  \n",
       "4254            0.0           84.45       2467.10    1.0  "
      ]
     },
     "execution_count": 7,
     "metadata": {},
     "output_type": "execute_result"
    }
   ],
   "source": [
    "df = pd.read_pickle(DATA_PATH)\n",
    "df.sample(5)"
   ]
  },
  {
   "cell_type": "markdown",
   "id": "2bdf31c3-d6a3-4e3c-9cb6-9205b8299d0e",
   "metadata": {},
   "source": [
    "___\n",
    "## Split data for modeling"
   ]
  },
  {
   "cell_type": "code",
   "execution_count": 8,
   "id": "eb8c7319-381b-4984-b40f-b17a15e56f10",
   "metadata": {},
   "outputs": [],
   "source": [
    "X_train, X_test, y_train, y_test = train_test_split(df.drop('churn', axis=1),\n",
    "                                                    df[['churn']],\n",
    "                                                    test_size=0.2,\n",
    "                                                    random_state=42)"
   ]
  },
  {
   "cell_type": "code",
   "execution_count": 9,
   "id": "5ff48360-0be6-46d1-8a3f-72bb8746b811",
   "metadata": {},
   "outputs": [
    {
     "name": "stdout",
     "output_type": "stream",
     "text": [
      "X_train shape (5600, 17)\n",
      "X_test shape (1400, 17)\n"
     ]
    },
    {
     "data": {
      "text/html": [
       "<div>\n",
       "<style scoped>\n",
       "    .dataframe tbody tr th:only-of-type {\n",
       "        vertical-align: middle;\n",
       "    }\n",
       "\n",
       "    .dataframe tbody tr th {\n",
       "        vertical-align: top;\n",
       "    }\n",
       "\n",
       "    .dataframe thead th {\n",
       "        text-align: right;\n",
       "    }\n",
       "</style>\n",
       "<table border=\"1\" class=\"dataframe\">\n",
       "  <thead>\n",
       "    <tr style=\"text-align: right;\">\n",
       "      <th></th>\n",
       "      <th>seniorcitizen</th>\n",
       "      <th>dependents</th>\n",
       "      <th>tenure</th>\n",
       "      <th>phoneservice</th>\n",
       "      <th>multiplelines</th>\n",
       "      <th>internetservice</th>\n",
       "      <th>onlinesecurity</th>\n",
       "      <th>onlinebackup</th>\n",
       "      <th>deviceprotection</th>\n",
       "      <th>techsupport</th>\n",
       "      <th>streamingtv</th>\n",
       "      <th>streamingmovies</th>\n",
       "      <th>contract</th>\n",
       "      <th>paperlessbilling</th>\n",
       "      <th>paymentmethod</th>\n",
       "      <th>monthlycharges</th>\n",
       "      <th>totalcharges</th>\n",
       "    </tr>\n",
       "  </thead>\n",
       "  <tbody>\n",
       "    <tr>\n",
       "      <th>3615</th>\n",
       "      <td>1</td>\n",
       "      <td>1.0</td>\n",
       "      <td>26</td>\n",
       "      <td>1.0</td>\n",
       "      <td>2.0</td>\n",
       "      <td>2.0</td>\n",
       "      <td>1.0</td>\n",
       "      <td>2.0</td>\n",
       "      <td>2.0</td>\n",
       "      <td>1.0</td>\n",
       "      <td>2.0</td>\n",
       "      <td>2.0</td>\n",
       "      <td>0.0</td>\n",
       "      <td>0.0</td>\n",
       "      <td>0.0</td>\n",
       "      <td>105.75</td>\n",
       "      <td>2710.25</td>\n",
       "    </tr>\n",
       "    <tr>\n",
       "      <th>5139</th>\n",
       "      <td>0</td>\n",
       "      <td>1.0</td>\n",
       "      <td>50</td>\n",
       "      <td>1.0</td>\n",
       "      <td>2.0</td>\n",
       "      <td>0.0</td>\n",
       "      <td>0.0</td>\n",
       "      <td>0.0</td>\n",
       "      <td>0.0</td>\n",
       "      <td>0.0</td>\n",
       "      <td>0.0</td>\n",
       "      <td>0.0</td>\n",
       "      <td>2.0</td>\n",
       "      <td>0.0</td>\n",
       "      <td>1.0</td>\n",
       "      <td>24.95</td>\n",
       "      <td>1261.45</td>\n",
       "    </tr>\n",
       "    <tr>\n",
       "      <th>2626</th>\n",
       "      <td>0</td>\n",
       "      <td>0.0</td>\n",
       "      <td>60</td>\n",
       "      <td>0.0</td>\n",
       "      <td>0.0</td>\n",
       "      <td>1.0</td>\n",
       "      <td>2.0</td>\n",
       "      <td>2.0</td>\n",
       "      <td>2.0</td>\n",
       "      <td>1.0</td>\n",
       "      <td>1.0</td>\n",
       "      <td>2.0</td>\n",
       "      <td>1.0</td>\n",
       "      <td>0.0</td>\n",
       "      <td>0.0</td>\n",
       "      <td>50.05</td>\n",
       "      <td>2911.50</td>\n",
       "    </tr>\n",
       "    <tr>\n",
       "      <th>5645</th>\n",
       "      <td>0</td>\n",
       "      <td>0.0</td>\n",
       "      <td>64</td>\n",
       "      <td>1.0</td>\n",
       "      <td>2.0</td>\n",
       "      <td>1.0</td>\n",
       "      <td>2.0</td>\n",
       "      <td>1.0</td>\n",
       "      <td>1.0</td>\n",
       "      <td>1.0</td>\n",
       "      <td>2.0</td>\n",
       "      <td>1.0</td>\n",
       "      <td>1.0</td>\n",
       "      <td>1.0</td>\n",
       "      <td>3.0</td>\n",
       "      <td>66.15</td>\n",
       "      <td>4392.50</td>\n",
       "    </tr>\n",
       "    <tr>\n",
       "      <th>1310</th>\n",
       "      <td>0</td>\n",
       "      <td>0.0</td>\n",
       "      <td>34</td>\n",
       "      <td>1.0</td>\n",
       "      <td>2.0</td>\n",
       "      <td>2.0</td>\n",
       "      <td>1.0</td>\n",
       "      <td>1.0</td>\n",
       "      <td>1.0</td>\n",
       "      <td>1.0</td>\n",
       "      <td>2.0</td>\n",
       "      <td>2.0</td>\n",
       "      <td>0.0</td>\n",
       "      <td>1.0</td>\n",
       "      <td>0.0</td>\n",
       "      <td>97.65</td>\n",
       "      <td>3207.55</td>\n",
       "    </tr>\n",
       "  </tbody>\n",
       "</table>\n",
       "</div>"
      ],
      "text/plain": [
       "      seniorcitizen  dependents  tenure  phoneservice  multiplelines  \\\n",
       "3615              1         1.0      26           1.0            2.0   \n",
       "5139              0         1.0      50           1.0            2.0   \n",
       "2626              0         0.0      60           0.0            0.0   \n",
       "5645              0         0.0      64           1.0            2.0   \n",
       "1310              0         0.0      34           1.0            2.0   \n",
       "\n",
       "      internetservice  onlinesecurity  onlinebackup  deviceprotection  \\\n",
       "3615              2.0             1.0           2.0               2.0   \n",
       "5139              0.0             0.0           0.0               0.0   \n",
       "2626              1.0             2.0           2.0               2.0   \n",
       "5645              1.0             2.0           1.0               1.0   \n",
       "1310              2.0             1.0           1.0               1.0   \n",
       "\n",
       "      techsupport  streamingtv  streamingmovies  contract  paperlessbilling  \\\n",
       "3615          1.0          2.0              2.0       0.0               0.0   \n",
       "5139          0.0          0.0              0.0       2.0               0.0   \n",
       "2626          1.0          1.0              2.0       1.0               0.0   \n",
       "5645          1.0          2.0              1.0       1.0               1.0   \n",
       "1310          1.0          2.0              2.0       0.0               1.0   \n",
       "\n",
       "      paymentmethod  monthlycharges  totalcharges  \n",
       "3615            0.0          105.75       2710.25  \n",
       "5139            1.0           24.95       1261.45  \n",
       "2626            0.0           50.05       2911.50  \n",
       "5645            3.0           66.15       4392.50  \n",
       "1310            0.0           97.65       3207.55  "
      ]
     },
     "execution_count": 9,
     "metadata": {},
     "output_type": "execute_result"
    }
   ],
   "source": [
    "# quick check of splitted data:\n",
    "print(\"X_train shape\", X_train.shape)\n",
    "print(\"X_test shape\", X_test.shape)\n",
    "X_train.sample(5)"
   ]
  },
  {
   "cell_type": "code",
   "execution_count": 10,
   "id": "3b203173-53e1-4d12-9491-6e534d3e7351",
   "metadata": {},
   "outputs": [
    {
     "name": "stdout",
     "output_type": "stream",
     "text": [
      "y_train classes churn\n",
      "0.0      4134\n",
      "1.0      1466\n",
      "dtype: int64 \n",
      "\n",
      "y_test classes churn\n",
      "0.0      1020\n",
      "1.0       380\n",
      "dtype: int64\n"
     ]
    }
   ],
   "source": [
    "# quick check of splitted data:\n",
    "print(\"y_train classes\", y_train.value_counts(), \"\\n\")\n",
    "print(\"y_test classes\", y_test.value_counts())"
   ]
  },
  {
   "cell_type": "markdown",
   "id": "9cf2b2fb-931d-41c5-a901-9d5dae3b5911",
   "metadata": {},
   "source": [
    "### Balancing data to test:"
   ]
  },
  {
   "cell_type": "code",
   "execution_count": 11,
   "id": "5d59c493-99fc-445b-b903-6f4e8393f0fc",
   "metadata": {},
   "outputs": [],
   "source": [
    "sm = SMOTE(random_state=42)\n",
    "X_train_balance, y_train_balance = sm.fit_resample(X_train, y_train)"
   ]
  },
  {
   "cell_type": "code",
   "execution_count": 12,
   "id": "44156788-8494-49e7-87ac-027bf083b402",
   "metadata": {},
   "outputs": [
    {
     "name": "stdout",
     "output_type": "stream",
     "text": [
      "y_train classes churn\n",
      "0.0      4134\n",
      "1.0      4134\n",
      "dtype: int64\n"
     ]
    }
   ],
   "source": [
    "# quick check of splitted data:\n",
    "print(\"y_train classes\", y_train_balance.value_counts())"
   ]
  },
  {
   "cell_type": "markdown",
   "id": "8478e488-54ad-4ff0-ad59-7c5ac85e35a8",
   "metadata": {},
   "source": [
    "___\n",
    "## Intializing MLFLOW"
   ]
  },
  {
   "cell_type": "code",
   "execution_count": 13,
   "id": "43568573-2813-4c27-a0b8-f060fbc421bf",
   "metadata": {},
   "outputs": [],
   "source": [
    "mlflow.set_tracking_uri(MLFLOW_TRACKING_URI)\n",
    "client = MlflowClient()"
   ]
  },
  {
   "cell_type": "code",
   "execution_count": 14,
   "id": "ac38cd8f-79ba-41c9-8be3-6398008a614a",
   "metadata": {},
   "outputs": [
    {
     "name": "stdout",
     "output_type": "stream",
     "text": [
      "Experiment \"churn_rate_prediction\" exists at \"../models/mlruns\"\n"
     ]
    }
   ],
   "source": [
    "try:\n",
    "    mlflow.create_experiment(MLFLOW_EXPERIMENT_NAME)\n",
    "except:\n",
    "    print(f'Experiment \"{MLFLOW_EXPERIMENT_NAME}\" exists at \"{mlflow.get_tracking_uri()}\"')"
   ]
  },
  {
   "cell_type": "code",
   "execution_count": 15,
   "id": "e4e68d04-4410-4632-ae74-ab53c680ad88",
   "metadata": {},
   "outputs": [
    {
     "name": "stdout",
     "output_type": "stream",
     "text": [
      "<Experiment: artifact_location='../models/mlruns/0', experiment_id='0', lifecycle_stage='active', name='churn_rate_prediction', tags={}>\n"
     ]
    }
   ],
   "source": [
    "exp = client.get_experiment_by_name(MLFLOW_EXPERIMENT_NAME)\n",
    "print(exp)"
   ]
  },
  {
   "cell_type": "markdown",
   "id": "80c6c62e-aa86-4b36-b5ac-719608c1db7d",
   "metadata": {},
   "source": [
    "___\n",
    "## 1. Support Vector Machines (SVC)"
   ]
  },
  {
   "cell_type": "code",
   "execution_count": 16,
   "id": "cd7e3472-e8c9-4739-a1d6-e179488e23a5",
   "metadata": {},
   "outputs": [
    {
     "data": {
      "text/plain": [
       "Pipeline(steps=[('minmaxscaler', MinMaxScaler()), ('svc', SVC())])"
      ]
     },
     "execution_count": 16,
     "metadata": {},
     "output_type": "execute_result"
    }
   ],
   "source": [
    "svc = make_pipeline(MinMaxScaler(),\n",
    "                    SVC())\n",
    "\n",
    "svc.fit(X_train.values, (y_train.values).reshape(-1,))"
   ]
  },
  {
   "cell_type": "markdown",
   "id": "5edd04f4-5743-44be-89e5-f1513193735a",
   "metadata": {
    "tags": []
   },
   "source": [
    "### Evaluate model:"
   ]
  },
  {
   "cell_type": "code",
   "execution_count": 17,
   "id": "bc3a5587-7eb5-4254-b962-5f076fffbdb7",
   "metadata": {},
   "outputs": [],
   "source": [
    "# Prepare data and metrics that would be used to evaluate the model\n",
    "data_list = [[X_train, y_train, 'train'], [X_test, y_test, 'test']]\n",
    "metrics_list = [accuracy_score, precision_score, recall_score, f1_score]"
   ]
  },
  {
   "cell_type": "code",
   "execution_count": 18,
   "id": "bdbd4e5b-d57c-4674-b82c-4a95ea05ebf4",
   "metadata": {},
   "outputs": [
    {
     "data": {
      "text/html": [
       "<div>\n",
       "<style scoped>\n",
       "    .dataframe tbody tr th:only-of-type {\n",
       "        vertical-align: middle;\n",
       "    }\n",
       "\n",
       "    .dataframe tbody tr th {\n",
       "        vertical-align: top;\n",
       "    }\n",
       "\n",
       "    .dataframe thead th {\n",
       "        text-align: right;\n",
       "    }\n",
       "</style>\n",
       "<table border=\"1\" class=\"dataframe\">\n",
       "  <thead>\n",
       "    <tr style=\"text-align: right;\">\n",
       "      <th></th>\n",
       "      <th>accuracy_score</th>\n",
       "      <th>precision_score</th>\n",
       "      <th>recall_score</th>\n",
       "      <th>f1_score</th>\n",
       "    </tr>\n",
       "  </thead>\n",
       "  <tbody>\n",
       "    <tr>\n",
       "      <th>SVC_train</th>\n",
       "      <td>0.815</td>\n",
       "      <td>0.700</td>\n",
       "      <td>0.512</td>\n",
       "      <td>0.592</td>\n",
       "    </tr>\n",
       "    <tr>\n",
       "      <th>SVC_test</th>\n",
       "      <td>0.798</td>\n",
       "      <td>0.693</td>\n",
       "      <td>0.458</td>\n",
       "      <td>0.552</td>\n",
       "    </tr>\n",
       "  </tbody>\n",
       "</table>\n",
       "</div>"
      ],
      "text/plain": [
       "           accuracy_score  precision_score  recall_score  f1_score\n",
       "SVC_train           0.815            0.700         0.512     0.592\n",
       "SVC_test            0.798            0.693         0.458     0.552"
      ]
     },
     "execution_count": 18,
     "metadata": {},
     "output_type": "execute_result"
    }
   ],
   "source": [
    "# Use evaluate_model function to run evaluations\n",
    "scores, predicts = evaluate_model(svc, data_list, metrics_list, \"SVC\")\n",
    "scores"
   ]
  },
  {
   "cell_type": "code",
   "execution_count": 19,
   "id": "d890a6f0-cf6d-4592-9186-77938cc9e9f6",
   "metadata": {},
   "outputs": [
    {
     "data": {
      "image/png": "[encoded data removed]",
      "text/plain": [
       "<Figure size 432x288 with 2 Axes>"
      ]
     },
     "metadata": {
      "needs_background": "light"
     },
     "output_type": "display_data"
    }
   ],
   "source": [
    "cm = confusion_matrix(y_test, predicts[1])\n",
    "s = sns.heatmap(cm, annot=True) \n",
    "s.set(xlabel=\"Predicted\", ylabel=\"True\")\n",
    "plt.show()"
   ]
  },
  {
   "cell_type": "markdown",
   "id": "c9dfb8f1-b6c3-4837-a3e7-a3344a8e534e",
   "metadata": {},
   "source": [
    "### Log run"
   ]
  },
  {
   "cell_type": "code",
   "execution_count": 20,
   "id": "140feed2-27ca-4372-a2d7-8f64c42fa4d0",
   "metadata": {},
   "outputs": [],
   "source": [
    "# Data details\n",
    "data_details = {\"data_path\": DATA_PATH,\n",
    "                \"training_indices\": X_train.index.tolist(),\n",
    "                \"test_indices\": X_test.index.tolist(),\n",
    "                \"feature_names\": X_train.columns.tolist(),\n",
    "                \"target_names\": y_train.columns.tolist()}\n",
    "\n",
    "with open(os.path.join(LOG_PATH, LOG_DATA_PKL), \"wb\") as output_file:\n",
    "    pickle.dump(data_details, output_file)"
   ]
  },
  {
   "cell_type": "code",
   "execution_count": 21,
   "id": "9fb06ad5-3f5e-4124-9a6c-11ba566066bb",
   "metadata": {},
   "outputs": [],
   "source": [
    "# Model details\n",
    "model = {\"model_description\": \"Support Vector Classifier SVC\",\n",
    "         \"model_details\": str(svc),\n",
    "         \"model_object\": svc}\n",
    "\n",
    "with open(os.path.join(LOG_PATH, LOG_MODEL_PKL), \"wb\") as output_file:\n",
    "    pickle.dump(model, output_file)"
   ]
  },
  {
   "cell_type": "code",
   "execution_count": 22,
   "id": "beec94f5-6a4d-41a1-a7e6-93974f5b754d",
   "metadata": {},
   "outputs": [],
   "source": [
    "# Performance details\n",
    "regression_metrics = {\"train_scores\": scores.iloc[0],\n",
    "                      \"test_scores\": scores.iloc[1]}\n",
    "\n",
    "with open(os.path.join(LOG_PATH, LOG_METRICS_PKL), \"wb\") as output_file:\n",
    "    pickle.dump(regression_metrics, output_file)"
   ]
  },
  {
   "cell_type": "markdown",
   "id": "9ce1237b-df05-4e3c-9024-977ccebe0b42",
   "metadata": {},
   "source": [
    "### Logging"
   ]
  },
  {
   "cell_type": "code",
   "execution_count": 23,
   "id": "2e471bc7-3724-4acf-9aae-0e9eb2341753",
   "metadata": {},
   "outputs": [],
   "source": [
    "# Start a new run and track\n",
    "with mlflow.start_run(experiment_id=exp.experiment_id, run_name=model[\"model_description\"]):\n",
    "    # log pickle\n",
    "    mlflow.log_artifacts(LOG_PATH)\n",
    "    \n",
    "    # Track metrics\n",
    "    for metric, score in scores.iloc[1].items():\n",
    "        mlflow.log_metric(metric, score)"
   ]
  },
  {
   "cell_type": "markdown",
   "id": "3232c659-0921-4936-836a-cb85e5203456",
   "metadata": {},
   "source": [
    "___\n",
    "## 2. Random Forest Classifier:"
   ]
  },
  {
   "cell_type": "code",
   "execution_count": 24,
   "id": "4a529d8f-67bf-467b-b5df-29af6076cec4",
   "metadata": {},
   "outputs": [
    {
     "data": {
      "text/plain": [
       "Pipeline(steps=[('minmaxscaler', MinMaxScaler()),\n",
       "                ('randomforestclassifier',\n",
       "                 RandomForestClassifier(max_leaf_nodes=30, n_estimators=1000,\n",
       "                                        n_jobs=1, oob_score=True,\n",
       "                                        random_state=42))])"
      ]
     },
     "execution_count": 24,
     "metadata": {},
     "output_type": "execute_result"
    }
   ],
   "source": [
    "rf = make_pipeline(MinMaxScaler(),\n",
    "                    RandomForestClassifier(n_estimators=1000,\n",
    "                                          oob_score=True,\n",
    "                                          n_jobs=1, random_state=42,\n",
    "                                          max_features='auto', max_leaf_nodes=30))\n",
    "\n",
    "rf.fit(X_train.values, (y_train.values).reshape(-1,))"
   ]
  },
  {
   "cell_type": "markdown",
   "id": "669c57b9-df47-46a3-93db-52661e9f94ff",
   "metadata": {
    "tags": []
   },
   "source": [
    "### Evaluate model:"
   ]
  },
  {
   "cell_type": "code",
   "execution_count": 25,
   "id": "47667b5c-c42b-495f-91a1-0237a8677b23",
   "metadata": {},
   "outputs": [
    {
     "data": {
      "text/html": [
       "<div>\n",
       "<style scoped>\n",
       "    .dataframe tbody tr th:only-of-type {\n",
       "        vertical-align: middle;\n",
       "    }\n",
       "\n",
       "    .dataframe tbody tr th {\n",
       "        vertical-align: top;\n",
       "    }\n",
       "\n",
       "    .dataframe thead th {\n",
       "        text-align: right;\n",
       "    }\n",
       "</style>\n",
       "<table border=\"1\" class=\"dataframe\">\n",
       "  <thead>\n",
       "    <tr style=\"text-align: right;\">\n",
       "      <th></th>\n",
       "      <th>accuracy_score</th>\n",
       "      <th>precision_score</th>\n",
       "      <th>recall_score</th>\n",
       "      <th>f1_score</th>\n",
       "    </tr>\n",
       "  </thead>\n",
       "  <tbody>\n",
       "    <tr>\n",
       "      <th>RandomForest_train</th>\n",
       "      <td>0.822</td>\n",
       "      <td>0.714</td>\n",
       "      <td>0.534</td>\n",
       "      <td>0.611</td>\n",
       "    </tr>\n",
       "    <tr>\n",
       "      <th>RandomForest_test</th>\n",
       "      <td>0.794</td>\n",
       "      <td>0.683</td>\n",
       "      <td>0.447</td>\n",
       "      <td>0.541</td>\n",
       "    </tr>\n",
       "  </tbody>\n",
       "</table>\n",
       "</div>"
      ],
      "text/plain": [
       "                    accuracy_score  precision_score  recall_score  f1_score\n",
       "RandomForest_train           0.822            0.714         0.534     0.611\n",
       "RandomForest_test            0.794            0.683         0.447     0.541"
      ]
     },
     "execution_count": 25,
     "metadata": {},
     "output_type": "execute_result"
    }
   ],
   "source": [
    "# Use evaluate_model function to run evaluations\n",
    "scores, predicts = evaluate_model_probas(rf, data_list, metrics_list, \"RandomForest\")\n",
    "scores"
   ]
  },
  {
   "cell_type": "code",
   "execution_count": 26,
   "id": "87681ce1-0d63-4dfd-9b66-70b6f3bbf5df",
   "metadata": {},
   "outputs": [
    {
     "data": {
      "image/png": "[encoded data removed]",
      "text/plain": [
       "<Figure size 432x288 with 2 Axes>"
      ]
     },
     "metadata": {
      "needs_background": "light"
     },
     "output_type": "display_data"
    }
   ],
   "source": [
    "cm = confusion_matrix(y_test, predicts[1])\n",
    "s = sns.heatmap(cm, annot=True) \n",
    "s.set(xlabel=\"Predicted\", ylabel=\"True\")\n",
    "plt.show()"
   ]
  },
  {
   "cell_type": "code",
   "execution_count": 27,
   "id": "d7ea3092-4f91-41a2-852c-5551cd54ac09",
   "metadata": {
    "tags": []
   },
   "outputs": [
    {
     "data": {
      "text/plain": [
       "0.279"
      ]
     },
     "execution_count": 27,
     "metadata": {},
     "output_type": "execute_result"
    }
   ],
   "source": [
    "thrs = get_threshold(X_train, y_train, rf)\n",
    "thrs"
   ]
  },
  {
   "cell_type": "code",
   "execution_count": 28,
   "id": "347c7880-22be-4051-95c9-adae0b699fcb",
   "metadata": {},
   "outputs": [
    {
     "data": {
      "text/html": [
       "<div>\n",
       "<style scoped>\n",
       "    .dataframe tbody tr th:only-of-type {\n",
       "        vertical-align: middle;\n",
       "    }\n",
       "\n",
       "    .dataframe tbody tr th {\n",
       "        vertical-align: top;\n",
       "    }\n",
       "\n",
       "    .dataframe thead th {\n",
       "        text-align: right;\n",
       "    }\n",
       "</style>\n",
       "<table border=\"1\" class=\"dataframe\">\n",
       "  <thead>\n",
       "    <tr style=\"text-align: right;\">\n",
       "      <th></th>\n",
       "      <th>accuracy_score</th>\n",
       "      <th>precision_score</th>\n",
       "      <th>recall_score</th>\n",
       "      <th>f1_score</th>\n",
       "    </tr>\n",
       "  </thead>\n",
       "  <tbody>\n",
       "    <tr>\n",
       "      <th>RandomForest_train</th>\n",
       "      <td>0.782</td>\n",
       "      <td>0.559</td>\n",
       "      <td>0.791</td>\n",
       "      <td>0.655</td>\n",
       "    </tr>\n",
       "    <tr>\n",
       "      <th>RandomForest_test</th>\n",
       "      <td>0.769</td>\n",
       "      <td>0.556</td>\n",
       "      <td>0.742</td>\n",
       "      <td>0.636</td>\n",
       "    </tr>\n",
       "  </tbody>\n",
       "</table>\n",
       "</div>"
      ],
      "text/plain": [
       "                    accuracy_score  precision_score  recall_score  f1_score\n",
       "RandomForest_train           0.782            0.559         0.791     0.655\n",
       "RandomForest_test            0.769            0.556         0.742     0.636"
      ]
     },
     "execution_count": 28,
     "metadata": {},
     "output_type": "execute_result"
    }
   ],
   "source": [
    "# Use evaluate_model function to run evaluations\n",
    "scores, predicts = evaluate_model_probas(rf, data_list, metrics_list, \"RandomForest\", 0.279)\n",
    "scores"
   ]
  },
  {
   "cell_type": "code",
   "execution_count": 29,
   "id": "b90888ae-0830-49b7-bd9f-f4fcc25157de",
   "metadata": {},
   "outputs": [
    {
     "data": {
      "image/png": "[encoded data removed]",
      "text/plain": [
       "<Figure size 432x288 with 2 Axes>"
      ]
     },
     "metadata": {
      "needs_background": "light"
     },
     "output_type": "display_data"
    }
   ],
   "source": [
    "cm = confusion_matrix(y_test, predicts[1])\n",
    "s = sns.heatmap(cm, annot=True) \n",
    "s.set(xlabel=\"Predicted\", ylabel=\"True\")\n",
    "plt.show()"
   ]
  },
  {
   "cell_type": "markdown",
   "id": "ee6c5b23-487d-4ef0-b2e7-5ad0b4a9b3bc",
   "metadata": {},
   "source": [
    "### Log run"
   ]
  },
  {
   "cell_type": "code",
   "execution_count": 30,
   "id": "bee17f38-289c-4a2c-bf14-0e65638a210d",
   "metadata": {},
   "outputs": [],
   "source": [
    "# Data details\n",
    "data_details = {\"data_path\": DATA_PATH,\n",
    "                \"training_indices\": X_train.index.tolist(),\n",
    "                \"test_indices\": X_test.index.tolist(),\n",
    "                \"feature_names\": X_train.columns.tolist(),\n",
    "                \"target_names\": y_train.columns.tolist()}\n",
    "\n",
    "with open(os.path.join(LOG_PATH, LOG_DATA_PKL), \"wb\") as output_file:\n",
    "    pickle.dump(data_details, output_file)"
   ]
  },
  {
   "cell_type": "code",
   "execution_count": 31,
   "id": "8fc2d7c5-a996-4d2e-9785-d07bdb939a81",
   "metadata": {},
   "outputs": [],
   "source": [
    "# Model details\n",
    "model = {\"model_description\": \"Random Forrest Classifier\",\n",
    "         \"model_details\": str(rf),\n",
    "         \"model_object\": rf}\n",
    "\n",
    "with open(os.path.join(LOG_PATH, LOG_MODEL_PKL), \"wb\") as output_file:\n",
    "    pickle.dump(model, output_file)"
   ]
  },
  {
   "cell_type": "code",
   "execution_count": 32,
   "id": "1013d702-5768-432f-9ab7-4e7508888f12",
   "metadata": {},
   "outputs": [],
   "source": [
    "# Performance details\n",
    "regression_metrics = {\"train_scores\": scores.iloc[0],\n",
    "                      \"test_scores\": scores.iloc[1]}\n",
    "\n",
    "with open(os.path.join(LOG_PATH, LOG_METRICS_PKL), \"wb\") as output_file:\n",
    "    pickle.dump(regression_metrics, output_file)"
   ]
  },
  {
   "cell_type": "markdown",
   "id": "62d378b9-4b1f-4e4d-89aa-ffeb58d63a1b",
   "metadata": {},
   "source": [
    "### Logging"
   ]
  },
  {
   "cell_type": "code",
   "execution_count": 33,
   "id": "28ee5530-ce35-4afb-83a5-6af0eae0ea57",
   "metadata": {},
   "outputs": [],
   "source": [
    "# Start a new run and track\n",
    "with mlflow.start_run(experiment_id=exp.experiment_id, run_name=model[\"model_description\"]):\n",
    "    # log pickle\n",
    "    mlflow.log_artifacts(LOG_PATH)\n",
    "    \n",
    "    # Track metrics\n",
    "    for metric, score in scores.iloc[1].items():\n",
    "        mlflow.log_metric(metric, score)"
   ]
  },
  {
   "cell_type": "markdown",
   "id": "4f2185d0-0ee3-4310-b913-848006ea1382",
   "metadata": {},
   "source": [
    "___\n",
    "## 3. AdaBoost Classifier"
   ]
  },
  {
   "cell_type": "code",
   "execution_count": 34,
   "id": "97fd50b5-fe76-4ab1-b674-a1f2fcb09d7f",
   "metadata": {},
   "outputs": [
    {
     "data": {
      "text/plain": [
       "Pipeline(steps=[('minmaxscaler', MinMaxScaler()),\n",
       "                ('adaboostclassifier', AdaBoostClassifier())])"
      ]
     },
     "execution_count": 34,
     "metadata": {},
     "output_type": "execute_result"
    }
   ],
   "source": [
    "adaboost = make_pipeline(MinMaxScaler(),\n",
    "                    AdaBoostClassifier())\n",
    "\n",
    "adaboost.fit(X_train.values, (y_train.values).reshape(-1,))"
   ]
  },
  {
   "cell_type": "markdown",
   "id": "b767d966-6ddc-4a52-ad71-49a01636e661",
   "metadata": {
    "tags": []
   },
   "source": [
    "### Evaluate model:"
   ]
  },
  {
   "cell_type": "code",
   "execution_count": 35,
   "id": "52c53523-af59-44ef-a984-11c3b299b822",
   "metadata": {},
   "outputs": [
    {
     "data": {
      "text/html": [
       "<div>\n",
       "<style scoped>\n",
       "    .dataframe tbody tr th:only-of-type {\n",
       "        vertical-align: middle;\n",
       "    }\n",
       "\n",
       "    .dataframe tbody tr th {\n",
       "        vertical-align: top;\n",
       "    }\n",
       "\n",
       "    .dataframe thead th {\n",
       "        text-align: right;\n",
       "    }\n",
       "</style>\n",
       "<table border=\"1\" class=\"dataframe\">\n",
       "  <thead>\n",
       "    <tr style=\"text-align: right;\">\n",
       "      <th></th>\n",
       "      <th>accuracy_score</th>\n",
       "      <th>precision_score</th>\n",
       "      <th>recall_score</th>\n",
       "      <th>f1_score</th>\n",
       "    </tr>\n",
       "  </thead>\n",
       "  <tbody>\n",
       "    <tr>\n",
       "      <th>AdaBoostClassifier_train</th>\n",
       "      <td>0.808</td>\n",
       "      <td>0.669</td>\n",
       "      <td>0.529</td>\n",
       "      <td>0.590</td>\n",
       "    </tr>\n",
       "    <tr>\n",
       "      <th>AdaBoostClassifier_test</th>\n",
       "      <td>0.799</td>\n",
       "      <td>0.687</td>\n",
       "      <td>0.474</td>\n",
       "      <td>0.561</td>\n",
       "    </tr>\n",
       "  </tbody>\n",
       "</table>\n",
       "</div>"
      ],
      "text/plain": [
       "                          accuracy_score  precision_score  recall_score  \\\n",
       "AdaBoostClassifier_train           0.808            0.669         0.529   \n",
       "AdaBoostClassifier_test            0.799            0.687         0.474   \n",
       "\n",
       "                          f1_score  \n",
       "AdaBoostClassifier_train     0.590  \n",
       "AdaBoostClassifier_test      0.561  "
      ]
     },
     "execution_count": 35,
     "metadata": {},
     "output_type": "execute_result"
    }
   ],
   "source": [
    "# Use evaluate_model function to run evaluations\n",
    "scores, predicts = evaluate_model_probas(adaboost, data_list, metrics_list, \"AdaBoostClassifier\")\n",
    "scores"
   ]
  },
  {
   "cell_type": "code",
   "execution_count": 36,
   "id": "ac9a4365-dfc4-4e90-8890-cb80eba0ea24",
   "metadata": {},
   "outputs": [
    {
     "data": {
      "image/png": "[encoded data removed]",
      "text/plain": [
       "<Figure size 432x288 with 2 Axes>"
      ]
     },
     "metadata": {
      "needs_background": "light"
     },
     "output_type": "display_data"
    }
   ],
   "source": [
    "cm = confusion_matrix(y_test, predicts[1])\n",
    "s = sns.heatmap(cm, annot=True) \n",
    "s.set(xlabel=\"Predicted\", ylabel=\"True\")\n",
    "plt.show()"
   ]
  },
  {
   "cell_type": "code",
   "execution_count": 37,
   "id": "611663b8-8075-45d0-a170-f4e963f65aaf",
   "metadata": {
    "tags": []
   },
   "outputs": [
    {
     "data": {
      "text/plain": [
       "0.495"
      ]
     },
     "execution_count": 37,
     "metadata": {},
     "output_type": "execute_result"
    }
   ],
   "source": [
    "thrs = get_threshold(X_train, y_train, adaboost)\n",
    "thrs"
   ]
  },
  {
   "cell_type": "code",
   "execution_count": 38,
   "id": "fdfcd272-16f0-49f0-9805-222fba1fcb9b",
   "metadata": {},
   "outputs": [
    {
     "data": {
      "text/html": [
       "<div>\n",
       "<style scoped>\n",
       "    .dataframe tbody tr th:only-of-type {\n",
       "        vertical-align: middle;\n",
       "    }\n",
       "\n",
       "    .dataframe tbody tr th {\n",
       "        vertical-align: top;\n",
       "    }\n",
       "\n",
       "    .dataframe thead th {\n",
       "        text-align: right;\n",
       "    }\n",
       "</style>\n",
       "<table border=\"1\" class=\"dataframe\">\n",
       "  <thead>\n",
       "    <tr style=\"text-align: right;\">\n",
       "      <th></th>\n",
       "      <th>accuracy_score</th>\n",
       "      <th>precision_score</th>\n",
       "      <th>recall_score</th>\n",
       "      <th>f1_score</th>\n",
       "    </tr>\n",
       "  </thead>\n",
       "  <tbody>\n",
       "    <tr>\n",
       "      <th>AdaBoostClassifier_train</th>\n",
       "      <td>0.775</td>\n",
       "      <td>0.548</td>\n",
       "      <td>0.804</td>\n",
       "      <td>0.652</td>\n",
       "    </tr>\n",
       "    <tr>\n",
       "      <th>AdaBoostClassifier_test</th>\n",
       "      <td>0.768</td>\n",
       "      <td>0.552</td>\n",
       "      <td>0.768</td>\n",
       "      <td>0.642</td>\n",
       "    </tr>\n",
       "  </tbody>\n",
       "</table>\n",
       "</div>"
      ],
      "text/plain": [
       "                          accuracy_score  precision_score  recall_score  \\\n",
       "AdaBoostClassifier_train           0.775            0.548         0.804   \n",
       "AdaBoostClassifier_test            0.768            0.552         0.768   \n",
       "\n",
       "                          f1_score  \n",
       "AdaBoostClassifier_train     0.652  \n",
       "AdaBoostClassifier_test      0.642  "
      ]
     },
     "execution_count": 38,
     "metadata": {},
     "output_type": "execute_result"
    }
   ],
   "source": [
    "# Use evaluate_model function to run evaluations\n",
    "scores, predicts = evaluate_model_probas(rf, data_list, metrics_list, \"AdaBoostClassifier\", 0.27)\n",
    "scores"
   ]
  },
  {
   "cell_type": "code",
   "execution_count": 39,
   "id": "a50999b6-60a6-4215-bfb5-04dd258d0153",
   "metadata": {},
   "outputs": [
    {
     "data": {
      "image/png": "[encoded data removed]",
      "text/plain": [
       "<Figure size 432x288 with 2 Axes>"
      ]
     },
     "metadata": {
      "needs_background": "light"
     },
     "output_type": "display_data"
    }
   ],
   "source": [
    "cm = confusion_matrix(y_test, predicts[1])\n",
    "s = sns.heatmap(cm, annot=True) \n",
    "s.set(xlabel=\"Predicted\", ylabel=\"True\")\n",
    "plt.show()"
   ]
  },
  {
   "cell_type": "markdown",
   "id": "db982212-d545-40d3-ad4d-48a29eb6d3ec",
   "metadata": {},
   "source": [
    "### Log run"
   ]
  },
  {
   "cell_type": "code",
   "execution_count": 40,
   "id": "fd9f2362-1c46-4c5c-a7ad-db90def233e5",
   "metadata": {},
   "outputs": [],
   "source": [
    "# Data details\n",
    "data_details = {\"data_path\": DATA_PATH,\n",
    "                \"training_indices\": X_train.index.tolist(),\n",
    "                \"test_indices\": X_test.index.tolist(),\n",
    "                \"feature_names\": X_train.columns.tolist(),\n",
    "                \"target_names\": y_train.columns.tolist()}\n",
    "\n",
    "with open(os.path.join(LOG_PATH, LOG_DATA_PKL), \"wb\") as output_file:\n",
    "    pickle.dump(data_details, output_file)"
   ]
  },
  {
   "cell_type": "code",
   "execution_count": 41,
   "id": "b72ba67f-605f-48b5-afd8-f4779238b0de",
   "metadata": {},
   "outputs": [],
   "source": [
    "# Model details\n",
    "model = {\"model_description\": \"Ada-Boost Classifier\",\n",
    "         \"model_details\": str(adaboost),\n",
    "         \"model_object\": adaboost}\n",
    "\n",
    "with open(os.path.join(LOG_PATH, LOG_MODEL_PKL), \"wb\") as output_file:\n",
    "    pickle.dump(model, output_file)"
   ]
  },
  {
   "cell_type": "code",
   "execution_count": 42,
   "id": "28c8b310-1447-4d48-9244-8a527e649c36",
   "metadata": {},
   "outputs": [],
   "source": [
    "# Performance details\n",
    "regression_metrics = {\"train_scores\": scores.iloc[0],\n",
    "                      \"test_scores\": scores.iloc[1]}\n",
    "\n",
    "with open(os.path.join(LOG_PATH, LOG_METRICS_PKL), \"wb\") as output_file:\n",
    "    pickle.dump(regression_metrics, output_file)"
   ]
  },
  {
   "cell_type": "markdown",
   "id": "c7fea61e-b3ea-4157-8a09-e688f2099ed7",
   "metadata": {},
   "source": [
    "### Logging"
   ]
  },
  {
   "cell_type": "code",
   "execution_count": 43,
   "id": "53de57ca-fa03-4b1b-a407-dc4d9a15ec1d",
   "metadata": {},
   "outputs": [],
   "source": [
    "# Start a new run and track\n",
    "with mlflow.start_run(experiment_id=exp.experiment_id, run_name=model[\"model_description\"]):\n",
    "    # log pickle\n",
    "    mlflow.log_artifacts(LOG_PATH)\n",
    "    \n",
    "    # Track metrics\n",
    "    for metric, score in scores.iloc[1].items():\n",
    "        mlflow.log_metric(metric, score)"
   ]
  },
  {
   "cell_type": "markdown",
   "id": "7ce8dcee-dd36-4a15-8448-c5a1a1f17d62",
   "metadata": {},
   "source": [
    "___\n",
    "## 3. XGBoost Classifier"
   ]
  },
  {
   "cell_type": "code",
   "execution_count": 44,
   "id": "8906ac96-c773-4646-a099-62543a49f271",
   "metadata": {},
   "outputs": [
    {
     "data": {
      "text/plain": [
       "Pipeline(steps=[('minmaxscaler', MinMaxScaler()),\n",
       "                ('xgbclassifier',\n",
       "                 XGBClassifier(base_score=0.5, booster='gbtree', callbacks=None,\n",
       "                               colsample_bylevel=1, colsample_bynode=1,\n",
       "                               colsample_bytree=1, early_stopping_rounds=None,\n",
       "                               enable_categorical=False, eval_metric=None,\n",
       "                               gamma=0, gpu_id=-1, grow_policy='depthwise',\n",
       "                               importance_type=None, interaction_constraints='',\n",
       "                               learning_rate=0.300000012, max_bin=256,\n",
       "                               max_cat_to_onehot=4, max_delta_step=0,\n",
       "                               max_depth=6, max_leaves=0, min_child_weight=1,\n",
       "                               missing=nan, monotone_constraints='()',\n",
       "                               n_estimators=100, n_jobs=0, num_parallel_tree=1,\n",
       "                               predictor='auto', random_state=0, reg_alpha=0,\n",
       "                               reg_lambda=1, ...))])"
      ]
     },
     "execution_count": 44,
     "metadata": {},
     "output_type": "execute_result"
    }
   ],
   "source": [
    "xgboost = make_pipeline(MinMaxScaler(),\n",
    "                    XGBClassifier())\n",
    "\n",
    "xgboost.fit(X_train.values, (y_train.values).reshape(-1,))"
   ]
  },
  {
   "cell_type": "markdown",
   "id": "2402e1b8-04df-4917-bde3-5a3ef71cd67c",
   "metadata": {
    "tags": []
   },
   "source": [
    "### Evaluate model:"
   ]
  },
  {
   "cell_type": "code",
   "execution_count": 45,
   "id": "85299290-d1ff-4a36-bc8f-1c6f42ac82b3",
   "metadata": {},
   "outputs": [
    {
     "data": {
      "text/html": [
       "<div>\n",
       "<style scoped>\n",
       "    .dataframe tbody tr th:only-of-type {\n",
       "        vertical-align: middle;\n",
       "    }\n",
       "\n",
       "    .dataframe tbody tr th {\n",
       "        vertical-align: top;\n",
       "    }\n",
       "\n",
       "    .dataframe thead th {\n",
       "        text-align: right;\n",
       "    }\n",
       "</style>\n",
       "<table border=\"1\" class=\"dataframe\">\n",
       "  <thead>\n",
       "    <tr style=\"text-align: right;\">\n",
       "      <th></th>\n",
       "      <th>accuracy_score</th>\n",
       "      <th>precision_score</th>\n",
       "      <th>recall_score</th>\n",
       "      <th>f1_score</th>\n",
       "    </tr>\n",
       "  </thead>\n",
       "  <tbody>\n",
       "    <tr>\n",
       "      <th>XGBoostClassifier_train</th>\n",
       "      <td>0.932</td>\n",
       "      <td>0.904</td>\n",
       "      <td>0.829</td>\n",
       "      <td>0.865</td>\n",
       "    </tr>\n",
       "    <tr>\n",
       "      <th>XGBoostClassifier_test</th>\n",
       "      <td>0.776</td>\n",
       "      <td>0.612</td>\n",
       "      <td>0.474</td>\n",
       "      <td>0.534</td>\n",
       "    </tr>\n",
       "  </tbody>\n",
       "</table>\n",
       "</div>"
      ],
      "text/plain": [
       "                         accuracy_score  precision_score  recall_score  \\\n",
       "XGBoostClassifier_train           0.932            0.904         0.829   \n",
       "XGBoostClassifier_test            0.776            0.612         0.474   \n",
       "\n",
       "                         f1_score  \n",
       "XGBoostClassifier_train     0.865  \n",
       "XGBoostClassifier_test      0.534  "
      ]
     },
     "execution_count": 45,
     "metadata": {},
     "output_type": "execute_result"
    }
   ],
   "source": [
    "# Use evaluate_model function to run evaluations\n",
    "scores, predicts = evaluate_model_probas(xgboost, data_list, metrics_list, \"XGBoostClassifier\")\n",
    "scores"
   ]
  },
  {
   "cell_type": "code",
   "execution_count": 46,
   "id": "201352d4-95ed-44e9-8674-147c860a57d6",
   "metadata": {},
   "outputs": [
    {
     "data": {
      "image/png": "[encoded data removed]",
      "text/plain": [
       "<Figure size 432x288 with 2 Axes>"
      ]
     },
     "metadata": {
      "needs_background": "light"
     },
     "output_type": "display_data"
    }
   ],
   "source": [
    "cm = confusion_matrix(y_test, predicts[1])\n",
    "s = sns.heatmap(cm, annot=True) \n",
    "s.set(xlabel=\"Predicted\", ylabel=\"True\")\n",
    "plt.show()"
   ]
  },
  {
   "cell_type": "code",
   "execution_count": 47,
   "id": "c436cc21-0693-4c89-9cab-04460c8c8894",
   "metadata": {
    "tags": []
   },
   "outputs": [
    {
     "data": {
      "text/plain": [
       "0.349"
      ]
     },
     "execution_count": 47,
     "metadata": {},
     "output_type": "execute_result"
    }
   ],
   "source": [
    "thrs = get_threshold(X_train, y_train, xgboost)\n",
    "thrs"
   ]
  },
  {
   "cell_type": "code",
   "execution_count": 48,
   "id": "c9c04452-a55d-4fbc-85ad-d2694b982826",
   "metadata": {},
   "outputs": [
    {
     "data": {
      "text/html": [
       "<div>\n",
       "<style scoped>\n",
       "    .dataframe tbody tr th:only-of-type {\n",
       "        vertical-align: middle;\n",
       "    }\n",
       "\n",
       "    .dataframe tbody tr th {\n",
       "        vertical-align: top;\n",
       "    }\n",
       "\n",
       "    .dataframe thead th {\n",
       "        text-align: right;\n",
       "    }\n",
       "</style>\n",
       "<table border=\"1\" class=\"dataframe\">\n",
       "  <thead>\n",
       "    <tr style=\"text-align: right;\">\n",
       "      <th></th>\n",
       "      <th>accuracy_score</th>\n",
       "      <th>precision_score</th>\n",
       "      <th>recall_score</th>\n",
       "      <th>f1_score</th>\n",
       "    </tr>\n",
       "  </thead>\n",
       "  <tbody>\n",
       "    <tr>\n",
       "      <th>XGBoostClassifier_train</th>\n",
       "      <td>0.926</td>\n",
       "      <td>0.803</td>\n",
       "      <td>0.947</td>\n",
       "      <td>0.869</td>\n",
       "    </tr>\n",
       "    <tr>\n",
       "      <th>XGBoostClassifier_test</th>\n",
       "      <td>0.765</td>\n",
       "      <td>0.561</td>\n",
       "      <td>0.613</td>\n",
       "      <td>0.586</td>\n",
       "    </tr>\n",
       "  </tbody>\n",
       "</table>\n",
       "</div>"
      ],
      "text/plain": [
       "                         accuracy_score  precision_score  recall_score  \\\n",
       "XGBoostClassifier_train           0.926            0.803         0.947   \n",
       "XGBoostClassifier_test            0.765            0.561         0.613   \n",
       "\n",
       "                         f1_score  \n",
       "XGBoostClassifier_train     0.869  \n",
       "XGBoostClassifier_test      0.586  "
      ]
     },
     "execution_count": 48,
     "metadata": {},
     "output_type": "execute_result"
    }
   ],
   "source": [
    "# Use evaluate_model function to run evaluations\n",
    "scores, predicts = evaluate_model_probas(xgboost, data_list, metrics_list, \"XGBoostClassifier\", 0.349)\n",
    "scores"
   ]
  },
  {
   "cell_type": "code",
   "execution_count": 49,
   "id": "0273a5e5-b58d-4679-9789-1dfbc5ecf8bd",
   "metadata": {},
   "outputs": [
    {
     "data": {
      "image/png": "[encoded data removed]",
      "text/plain": [
       "<Figure size 432x288 with 2 Axes>"
      ]
     },
     "metadata": {
      "needs_background": "light"
     },
     "output_type": "display_data"
    }
   ],
   "source": [
    "cm = confusion_matrix(y_test, predicts[1])\n",
    "s = sns.heatmap(cm, annot=True) \n",
    "s.set(xlabel=\"Predicted\", ylabel=\"True\")\n",
    "plt.show()"
   ]
  },
  {
   "cell_type": "markdown",
   "id": "de5f9861-c745-4adf-934c-e02d5d647a14",
   "metadata": {},
   "source": [
    "### Log run"
   ]
  },
  {
   "cell_type": "code",
   "execution_count": 50,
   "id": "a10bb61b-c003-4d28-98fc-9ed7753d1ecd",
   "metadata": {},
   "outputs": [],
   "source": [
    "# Data details\n",
    "data_details = {\"data_path\": DATA_PATH,\n",
    "                \"training_indices\": X_train.index.tolist(),\n",
    "                \"test_indices\": X_test.index.tolist(),\n",
    "                \"feature_names\": X_train.columns.tolist(),\n",
    "                \"target_names\": y_train.columns.tolist()}\n",
    "\n",
    "with open(os.path.join(LOG_PATH, LOG_DATA_PKL), \"wb\") as output_file:\n",
    "    pickle.dump(data_details, output_file)"
   ]
  },
  {
   "cell_type": "code",
   "execution_count": 51,
   "id": "efd3f561-e1c3-4088-9c2e-2cebb9d025b1",
   "metadata": {},
   "outputs": [],
   "source": [
    "# Model details\n",
    "model = {\"model_description\": \"XGBoost Classifier\",\n",
    "         \"model_details\": str(xgboost),\n",
    "         \"model_object\": xgboost}\n",
    "\n",
    "with open(os.path.join(LOG_PATH, LOG_MODEL_PKL), \"wb\") as output_file:\n",
    "    pickle.dump(model, output_file)"
   ]
  },
  {
   "cell_type": "code",
   "execution_count": 52,
   "id": "001b541e-d8d5-4976-a7a0-35fed56bed48",
   "metadata": {},
   "outputs": [],
   "source": [
    "# Performance details\n",
    "regression_metrics = {\"train_scores\": scores.iloc[0],\n",
    "                      \"test_scores\": scores.iloc[1]}\n",
    "\n",
    "with open(os.path.join(LOG_PATH, LOG_METRICS_PKL), \"wb\") as output_file:\n",
    "    pickle.dump(regression_metrics, output_file)"
   ]
  },
  {
   "cell_type": "markdown",
   "id": "598de96e-7ab5-4b4a-94d3-35aa3ca403ce",
   "metadata": {},
   "source": [
    "### Logging"
   ]
  },
  {
   "cell_type": "code",
   "execution_count": 53,
   "id": "5c7a64ad-9da1-47bd-aabf-08d9304d59bd",
   "metadata": {},
   "outputs": [],
   "source": [
    "# Start a new run and track\n",
    "with mlflow.start_run(experiment_id=exp.experiment_id, run_name=model[\"model_description\"]):\n",
    "    # log pickle\n",
    "    mlflow.log_artifacts(LOG_PATH)\n",
    "    \n",
    "    # Track metrics\n",
    "    for metric, score in scores.iloc[1].items():\n",
    "        mlflow.log_metric(metric, score)"
   ]
  }
 ],
 "metadata": {
  "kernelspec": {
   "display_name": "Python 3 (ipykernel)",
   "language": "python",
   "name": "python3"
  },
  "language_info": {
   "codemirror_mode": {
    "name": "ipython",
    "version": 3
   },
   "file_extension": ".py",
   "mimetype": "text/x-python",
   "name": "python",
   "nbconvert_exporter": "python",
   "pygments_lexer": "ipython3",
   "version": "3.8.8"
  }
 },
 "nbformat": 4,
 "nbformat_minor": 5
}
