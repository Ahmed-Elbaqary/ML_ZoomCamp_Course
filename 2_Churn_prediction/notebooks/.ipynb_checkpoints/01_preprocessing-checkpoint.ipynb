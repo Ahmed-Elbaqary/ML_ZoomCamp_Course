{
 "cells": [
  {
   "cell_type": "code",
   "execution_count": 1,
   "id": "bbec793f-1e81-4cf8-aa79-498f3e29d5fc",
   "metadata": {},
   "outputs": [],
   "source": [
    "DATA_PATH = \"../data/raw/Telco-Customer-Churn.csv\"\n",
    "EXPORT_PATH = \"../data/processed/00_preprocessed.pkl\"\n",
    "\n",
    "GENDER_DIC = {'female': 0.0, 'male': 1.0}\n",
    "BINARY_DIC = {'no': 0.0, 'yes': 1.0}\n",
    "INTERNET_DIC = {'no': 0.0, 'dsl':1.0, 'fiber_optic': 2.0}\n",
    "NET_SERVICES_DIC = {'no_internet_service': 0.0, 'no': 1.0,  'yes':2.0}\n",
    "MULTLINE_DIC = {'no_phone_service': 0.0, 'no': 1.0, 'yes': 2.0}\n",
    "CONTRACT_DIC = {'month-to-month': 0.0, 'one_year':1.0, 'two_year': 2.0}\n",
    "PAYMENT_DIC = {'electronic_check': 0.0, 'mailed_check': 1.0, \n",
    "               'bank_transfer_(automatic)': 2.0, \n",
    "               'credit_card_(automatic)': 3.0}"
   ]
  },
  {
   "cell_type": "code",
   "execution_count": 2,
   "id": "055adb0c-a214-467e-9c10-41d02291f4cd",
   "metadata": {},
   "outputs": [],
   "source": [
    "# Load packages\n",
    "import pandas as pd\n",
    "\n",
    "pd.options.display.max_columns=100"
   ]
  },
  {
   "cell_type": "markdown",
   "id": "d64ffc77-44aa-4916-8ac6-c16c080ab90b",
   "metadata": {},
   "source": [
    "___\n",
    "## Read data"
   ]
  },
  {
   "cell_type": "code",
   "execution_count": 3,
   "id": "eea6abaf-eb25-43b7-938e-cb3ee93e9c23",
   "metadata": {},
   "outputs": [],
   "source": [
    "df = pd.read_csv(DATA_PATH)"
   ]
  },
  {
   "cell_type": "markdown",
   "id": "8456191c-0601-49d6-bbc3-27ffb68adbdf",
   "metadata": {},
   "source": [
    "___\n",
    "#### Changing the columns names and vlaues to be more consistent"
   ]
  },
  {
   "cell_type": "code",
   "execution_count": 4,
   "id": "88b8c8b2-f813-4f00-919b-6fa6b753ca46",
   "metadata": {},
   "outputs": [
    {
     "name": "stdout",
     "output_type": "stream",
     "text": [
      "['customerid', 'gender', 'seniorcitizen', 'partner', 'dependents', 'tenure', 'phoneservice', 'multiplelines', 'internetservice', 'onlinesecurity', 'onlinebackup', 'deviceprotection', 'techsupport', 'streamingtv', 'streamingmovies', 'contract', 'paperlessbilling', 'paymentmethod', 'monthlycharges', 'totalcharges', 'churn']\n"
     ]
    }
   ],
   "source": [
    "df.columns = df.columns.str.lower().str.replace(' ', '_')\n",
    "print(df.columns.tolist())"
   ]
  },
  {
   "cell_type": "code",
   "execution_count": 5,
   "id": "167a7727-da3e-48c5-91b9-55e5a85b283c",
   "metadata": {},
   "outputs": [
    {
     "name": "stdout",
     "output_type": "stream",
     "text": [
      "['customerid', 'gender', 'partner', 'dependents', 'phoneservice', 'multiplelines', 'internetservice', 'onlinesecurity', 'onlinebackup', 'deviceprotection', 'techsupport', 'streamingtv', 'streamingmovies', 'contract', 'paperlessbilling', 'paymentmethod', 'totalcharges', 'churn']\n",
      "===========================\n",
      "customerid =====> Uniques= 7043\n",
      "['7590-vhveg' '5575-gnvde' '3668-qpybk' '7795-cfocw' '9237-hqitu']\n",
      "---------------------\n",
      "gender =====> Uniques= 2\n",
      "['female' 'male']\n",
      "---------------------\n",
      "partner =====> Uniques= 2\n",
      "['yes' 'no']\n",
      "---------------------\n",
      "dependents =====> Uniques= 2\n",
      "['no' 'yes']\n",
      "---------------------\n",
      "phoneservice =====> Uniques= 2\n",
      "['no' 'yes']\n",
      "---------------------\n",
      "multiplelines =====> Uniques= 3\n",
      "['no_phone_service' 'no' 'yes']\n",
      "---------------------\n",
      "internetservice =====> Uniques= 3\n",
      "['dsl' 'fiber_optic' 'no']\n",
      "---------------------\n",
      "onlinesecurity =====> Uniques= 3\n",
      "['no' 'yes' 'no_internet_service']\n",
      "---------------------\n",
      "onlinebackup =====> Uniques= 3\n",
      "['yes' 'no' 'no_internet_service']\n",
      "---------------------\n",
      "deviceprotection =====> Uniques= 3\n",
      "['no' 'yes' 'no_internet_service']\n",
      "---------------------\n",
      "techsupport =====> Uniques= 3\n",
      "['no' 'yes' 'no_internet_service']\n",
      "---------------------\n",
      "streamingtv =====> Uniques= 3\n",
      "['no' 'yes' 'no_internet_service']\n",
      "---------------------\n",
      "streamingmovies =====> Uniques= 3\n",
      "['no' 'yes' 'no_internet_service']\n",
      "---------------------\n",
      "contract =====> Uniques= 3\n",
      "['month-to-month' 'one_year' 'two_year']\n",
      "---------------------\n",
      "paperlessbilling =====> Uniques= 2\n",
      "['yes' 'no']\n",
      "---------------------\n",
      "paymentmethod =====> Uniques= 4\n",
      "['electronic_check' 'mailed_check' 'bank_transfer_(automatic)'\n",
      " 'credit_card_(automatic)']\n",
      "---------------------\n",
      "totalcharges =====> Uniques= 6531\n",
      "['29.85' '1889.5' '108.15' '1840.75' '151.65']\n",
      "---------------------\n",
      "churn =====> Uniques= 2\n",
      "['no' 'yes']\n",
      "---------------------\n"
     ]
    }
   ],
   "source": [
    "string_cols = list(df.dtypes[df.dtypes == \"object\"].index)\n",
    "print(string_cols)\n",
    "print(\"===========================\")\n",
    "for col in string_cols:\n",
    "    df[col] = df[col].str.lower().str.replace(' ', '_')\n",
    "    print(col, \"=====> Uniques=\", df[col].nunique())\n",
    "    print(df[col].unique()[:5])\n",
    "    print(\"---------------------\")"
   ]
  },
  {
   "cell_type": "markdown",
   "id": "24b85f5a-3803-44cf-8db2-e3ad4230fa4d",
   "metadata": {},
   "source": [
    "---\n",
    "### Change the 'Totalcharge' dtype to float64\n",
    "**We found an error telling us there are some values which are not numerical values so we will change anyway**"
   ]
  },
  {
   "cell_type": "code",
   "execution_count": 6,
   "id": "247a3e91-cd78-4b57-b330-18535680455b",
   "metadata": {},
   "outputs": [],
   "source": [
    "df.totalcharges = pd.to_numeric(df['totalcharges'], errors='coerce')"
   ]
  },
  {
   "cell_type": "code",
   "execution_count": 7,
   "id": "e43000aa-2878-497a-ba61-947229cab791",
   "metadata": {},
   "outputs": [
    {
     "data": {
      "text/html": [
       "<div>\n",
       "<style scoped>\n",
       "    .dataframe tbody tr th:only-of-type {\n",
       "        vertical-align: middle;\n",
       "    }\n",
       "\n",
       "    .dataframe tbody tr th {\n",
       "        vertical-align: top;\n",
       "    }\n",
       "\n",
       "    .dataframe thead th {\n",
       "        text-align: right;\n",
       "    }\n",
       "</style>\n",
       "<table border=\"1\" class=\"dataframe\">\n",
       "  <thead>\n",
       "    <tr style=\"text-align: right;\">\n",
       "      <th></th>\n",
       "      <th>customerid</th>\n",
       "      <th>totalcharges</th>\n",
       "    </tr>\n",
       "  </thead>\n",
       "  <tbody>\n",
       "    <tr>\n",
       "      <th>488</th>\n",
       "      <td>4472-lvygi</td>\n",
       "      <td>NaN</td>\n",
       "    </tr>\n",
       "    <tr>\n",
       "      <th>753</th>\n",
       "      <td>3115-czmzd</td>\n",
       "      <td>NaN</td>\n",
       "    </tr>\n",
       "    <tr>\n",
       "      <th>936</th>\n",
       "      <td>5709-lvoeq</td>\n",
       "      <td>NaN</td>\n",
       "    </tr>\n",
       "    <tr>\n",
       "      <th>1082</th>\n",
       "      <td>4367-nuyao</td>\n",
       "      <td>NaN</td>\n",
       "    </tr>\n",
       "    <tr>\n",
       "      <th>1340</th>\n",
       "      <td>1371-dwpaz</td>\n",
       "      <td>NaN</td>\n",
       "    </tr>\n",
       "    <tr>\n",
       "      <th>3331</th>\n",
       "      <td>7644-omvmy</td>\n",
       "      <td>NaN</td>\n",
       "    </tr>\n",
       "    <tr>\n",
       "      <th>3826</th>\n",
       "      <td>3213-vvolg</td>\n",
       "      <td>NaN</td>\n",
       "    </tr>\n",
       "    <tr>\n",
       "      <th>4380</th>\n",
       "      <td>2520-sgtta</td>\n",
       "      <td>NaN</td>\n",
       "    </tr>\n",
       "    <tr>\n",
       "      <th>5218</th>\n",
       "      <td>2923-arzlg</td>\n",
       "      <td>NaN</td>\n",
       "    </tr>\n",
       "    <tr>\n",
       "      <th>6670</th>\n",
       "      <td>4075-wkniu</td>\n",
       "      <td>NaN</td>\n",
       "    </tr>\n",
       "    <tr>\n",
       "      <th>6754</th>\n",
       "      <td>2775-sefee</td>\n",
       "      <td>NaN</td>\n",
       "    </tr>\n",
       "  </tbody>\n",
       "</table>\n",
       "</div>"
      ],
      "text/plain": [
       "      customerid  totalcharges\n",
       "488   4472-lvygi           NaN\n",
       "753   3115-czmzd           NaN\n",
       "936   5709-lvoeq           NaN\n",
       "1082  4367-nuyao           NaN\n",
       "1340  1371-dwpaz           NaN\n",
       "3331  7644-omvmy           NaN\n",
       "3826  3213-vvolg           NaN\n",
       "4380  2520-sgtta           NaN\n",
       "5218  2923-arzlg           NaN\n",
       "6670  4075-wkniu           NaN\n",
       "6754  2775-sefee           NaN"
      ]
     },
     "execution_count": 7,
     "metadata": {},
     "output_type": "execute_result"
    }
   ],
   "source": [
    "df[df['totalcharges'].isnull()][['customerid', 'totalcharges']]"
   ]
  },
  {
   "cell_type": "code",
   "execution_count": 8,
   "id": "d701ba2d-b819-4480-97bb-d79394d3f440",
   "metadata": {},
   "outputs": [
    {
     "name": "stdout",
     "output_type": "stream",
     "text": [
      "2283.3004408418697\n"
     ]
    }
   ],
   "source": [
    "# We will fill these values with the mean of the numerical column\n",
    "print(df['totalcharges'].mean())\n",
    "df['totalcharges'].fillna(df['totalcharges'].mean(), inplace=True)"
   ]
  },
  {
   "cell_type": "code",
   "execution_count": 9,
   "id": "dce2d4d9-63c5-4e97-98dd-93fc5b6269b6",
   "metadata": {},
   "outputs": [
    {
     "data": {
      "text/plain": [
       "0"
      ]
     },
     "execution_count": 9,
     "metadata": {},
     "output_type": "execute_result"
    }
   ],
   "source": [
    "df['totalcharges'].isnull().sum()"
   ]
  },
  {
   "cell_type": "markdown",
   "id": "b972a76d-17c9-4c24-85c7-4867b95b6627",
   "metadata": {},
   "source": [
    "___\n",
    "## Encodeing catigorical values into numerics"
   ]
  },
  {
   "cell_type": "code",
   "execution_count": 10,
   "id": "fb37ff49-502a-418b-9c7c-9069cfc43531",
   "metadata": {},
   "outputs": [],
   "source": [
    "# Change gender female/male into 0,1 values\n",
    "df['gender'].replace(GENDER_DIC, inplace=True)"
   ]
  },
  {
   "cell_type": "code",
   "execution_count": 11,
   "id": "737bf278-da67-4133-ab8f-9a759823b16d",
   "metadata": {},
   "outputs": [],
   "source": [
    "# Change yes/no columns with 0,1 values\n",
    "binary_cols = ['partner', 'dependents', 'phoneservice', 'paperlessbilling', 'churn']\n",
    "for col in binary_cols:\n",
    "    df[col].replace(BINARY_DIC, inplace=True)"
   ]
  },
  {
   "cell_type": "code",
   "execution_count": 12,
   "id": "f325783e-0d3e-40ce-996c-76cfebbe9e61",
   "metadata": {},
   "outputs": [],
   "source": [
    "df['multiplelines'].replace(MULTLINE_DIC, inplace=True)"
   ]
  },
  {
   "cell_type": "code",
   "execution_count": 13,
   "id": "9952f59f-0f1e-4098-8b14-aac0949a6e51",
   "metadata": {},
   "outputs": [],
   "source": [
    "df['internetservice'].replace(INTERNET_DIC, inplace=True)"
   ]
  },
  {
   "cell_type": "code",
   "execution_count": 14,
   "id": "750ed239-5ac1-410e-aaed-1d22333b6298",
   "metadata": {},
   "outputs": [],
   "source": [
    "net_cols = ['onlinesecurity', 'onlinebackup', 'deviceprotection', 'techsupport', 'streamingtv', 'streamingmovies']\n",
    "for col in net_cols:\n",
    "    df[col].replace(NET_SERVICES_DIC, inplace=True)"
   ]
  },
  {
   "cell_type": "code",
   "execution_count": 15,
   "id": "8b5d8e4b-3b42-4857-ae68-b1411dd6ec27",
   "metadata": {},
   "outputs": [],
   "source": [
    "df['contract'].replace(CONTRACT_DIC, inplace=True)"
   ]
  },
  {
   "cell_type": "code",
   "execution_count": 16,
   "id": "5a459e38-2a88-4d04-9a4a-541043536b3e",
   "metadata": {},
   "outputs": [],
   "source": [
    "df['paymentmethod'].replace(PAYMENT_DIC, inplace=True)"
   ]
  },
  {
   "cell_type": "markdown",
   "id": "eb7eb045-2060-4898-a195-bc36c42b8503",
   "metadata": {},
   "source": [
    "**Quick sanity check**"
   ]
  },
  {
   "cell_type": "code",
   "execution_count": 17,
   "id": "dd9a0f38-8db1-4537-99d5-47c6de752a48",
   "metadata": {},
   "outputs": [
    {
     "data": {
      "text/plain": [
       "customerid          2612-rridn\n",
       "gender                     1.0\n",
       "seniorcitizen                0\n",
       "partner                    0.0\n",
       "dependents                 0.0\n",
       "tenure                       4\n",
       "phoneservice               1.0\n",
       "multiplelines              1.0\n",
       "internetservice            2.0\n",
       "onlinesecurity             1.0\n",
       "onlinebackup               1.0\n",
       "deviceprotection           1.0\n",
       "techsupport                1.0\n",
       "streamingtv                2.0\n",
       "streamingmovies            1.0\n",
       "contract                   0.0\n",
       "paperlessbilling           1.0\n",
       "paymentmethod              0.0\n",
       "monthlycharges            81.0\n",
       "totalcharges            340.85\n",
       "churn                      1.0\n",
       "Name: 4946, dtype: object"
      ]
     },
     "execution_count": 17,
     "metadata": {},
     "output_type": "execute_result"
    }
   ],
   "source": [
    "df.sample(1).iloc[0]"
   ]
  },
  {
   "cell_type": "code",
   "execution_count": 18,
   "id": "fd3407aa-8abe-4c2f-8f21-0cd3e2ef83c4",
   "metadata": {},
   "outputs": [
    {
     "name": "stdout",
     "output_type": "stream",
     "text": [
      "<class 'pandas.core.frame.DataFrame'>\n",
      "RangeIndex: 7043 entries, 0 to 7042\n",
      "Data columns (total 21 columns):\n",
      " #   Column            Non-Null Count  Dtype  \n",
      "---  ------            --------------  -----  \n",
      " 0   customerid        7043 non-null   object \n",
      " 1   gender            7043 non-null   float64\n",
      " 2   seniorcitizen     7043 non-null   int64  \n",
      " 3   partner           7043 non-null   float64\n",
      " 4   dependents        7043 non-null   float64\n",
      " 5   tenure            7043 non-null   int64  \n",
      " 6   phoneservice      7043 non-null   float64\n",
      " 7   multiplelines     7043 non-null   float64\n",
      " 8   internetservice   7043 non-null   float64\n",
      " 9   onlinesecurity    7043 non-null   float64\n",
      " 10  onlinebackup      7043 non-null   float64\n",
      " 11  deviceprotection  7043 non-null   float64\n",
      " 12  techsupport       7043 non-null   float64\n",
      " 13  streamingtv       7043 non-null   float64\n",
      " 14  streamingmovies   7043 non-null   float64\n",
      " 15  contract          7043 non-null   float64\n",
      " 16  paperlessbilling  7043 non-null   float64\n",
      " 17  paymentmethod     7043 non-null   float64\n",
      " 18  monthlycharges    7043 non-null   float64\n",
      " 19  totalcharges      7043 non-null   float64\n",
      " 20  churn             7043 non-null   float64\n",
      "dtypes: float64(18), int64(2), object(1)\n",
      "memory usage: 1.1+ MB\n"
     ]
    }
   ],
   "source": [
    "# Check the \n",
    "df.info()"
   ]
  },
  {
   "cell_type": "markdown",
   "id": "04abe99c-227a-4127-859e-cd615a951112",
   "metadata": {},
   "source": [
    "___\n",
    "## Export data"
   ]
  },
  {
   "cell_type": "code",
   "execution_count": 19,
   "id": "7b5ecdc3-8b9a-46db-97fa-722fc05cdd7a",
   "metadata": {},
   "outputs": [],
   "source": [
    "df.to_pickle(EXPORT_PATH)"
   ]
  }
 ],
 "metadata": {
  "kernelspec": {
   "display_name": "Python 3 (ipykernel)",
   "language": "python",
   "name": "python3"
  },
  "language_info": {
   "codemirror_mode": {
    "name": "ipython",
    "version": 3
   },
   "file_extension": ".py",
   "mimetype": "text/x-python",
   "name": "python",
   "nbconvert_exporter": "python",
   "pygments_lexer": "ipython3",
   "version": "3.8.8"
  }
 },
 "nbformat": 4,
 "nbformat_minor": 5
}
