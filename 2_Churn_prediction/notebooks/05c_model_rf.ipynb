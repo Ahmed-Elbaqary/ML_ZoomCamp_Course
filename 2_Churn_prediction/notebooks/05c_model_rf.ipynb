{
 "cells": [
  {
   "cell_type": "code",
   "execution_count": 1,
   "id": "8dfed142-2ee0-4eb8-ba8c-627f93d1e9e1",
   "metadata": {},
   "outputs": [],
   "source": [
    "DATA_PATH = \"../data/processed/02_cleaned.pkl\"\n",
    "\n",
    "MLFLOW_TRACKING_URI = \"../models/mlruns\"\n",
    "MLFLOW_EXPERIMENT_NAME = \"churn_rate_prediction\"\n",
    "\n",
    "LOG_PATH = \"../models/temp/\"\n",
    "LOG_DATA_PKL = \"data.pkl\"\n",
    "LOG_MODEL_PKL = \"model.pkl\"\n",
    "LOG_METRICS_PKL = \"metrics.pkl\""
   ]
  },
  {
   "cell_type": "code",
   "execution_count": 2,
   "id": "52f7e691-a7c7-4118-808a-55db212a9da0",
   "metadata": {},
   "outputs": [],
   "source": [
    "# Load packages\n",
    "import pandas as pd\n",
    "\n",
    "from pathlib import Path\n",
    "import os\n",
    "import pickle\n",
    "\n",
    "from imblearn.over_sampling import SMOTE\n",
    "\n",
    "from sklearn.preprocessing import MinMaxScaler\n",
    "from sklearn.model_selection import train_test_split\n",
    "from sklearn.pipeline import make_pipeline\n",
    "from sklearn.metrics import accuracy_score, precision_score, recall_score, f1_score\n",
    "\n",
    "from sklearn.svm import SVC\n",
    "from sklearn.ensemble import RandomForestClassifier\n",
    "from sklearn.ensemble import AdaBoostClassifier\n",
    "from xgboost import XGBClassifier \n",
    "\n",
    "\n",
    "import mlflow\n",
    "from mlflow.tracking import MlflowClient"
   ]
  },
  {
   "cell_type": "markdown",
   "id": "a25d79bc-08d9-4920-9d47-2ffaa2cd7231",
   "metadata": {},
   "source": [
    "___\n",
    "## Functions"
   ]
  },
  {
   "cell_type": "code",
   "execution_count": 3,
   "id": "c0c77d48-403b-41e8-8683-02140cdeea88",
   "metadata": {},
   "outputs": [],
   "source": [
    "def calculate_quality(ground_truth, predictions, metric_function, model_name):\n",
    "    \"\"\"\n",
    "    Calculate the quality of the model according to different metric scores\n",
    "    Input:\n",
    "        ground_truth: from real observed data\n",
    "        predictions: the predicted values from the model\n",
    "        metric_function: the metric score funcrion used to measure performance\n",
    "    Output:\n",
    "        A dict of all scores for the given inputs\n",
    "    \"\"\"\n",
    "    quality_score = {}\n",
    "    quality_score[model_name] = round(metric_function(ground_truth, predictions), 3)\n",
    "    quality_score = pd.Series(quality_score.values(), index=quality_score.keys())\n",
    "    \n",
    "    return quality_score"
   ]
  },
  {
   "cell_type": "markdown",
   "id": "ef6bab8e-633c-464e-820f-5eeb59d217dc",
   "metadata": {},
   "source": [
    "___\n",
    "## Read data"
   ]
  },
  {
   "cell_type": "code",
   "execution_count": 4,
   "id": "769f3020-081c-48e1-ab69-f92123d96a0b",
   "metadata": {},
   "outputs": [
    {
     "data": {
      "text/html": [
       "<div>\n",
       "<style scoped>\n",
       "    .dataframe tbody tr th:only-of-type {\n",
       "        vertical-align: middle;\n",
       "    }\n",
       "\n",
       "    .dataframe tbody tr th {\n",
       "        vertical-align: top;\n",
       "    }\n",
       "\n",
       "    .dataframe thead th {\n",
       "        text-align: right;\n",
       "    }\n",
       "</style>\n",
       "<table border=\"1\" class=\"dataframe\">\n",
       "  <thead>\n",
       "    <tr style=\"text-align: right;\">\n",
       "      <th></th>\n",
       "      <th>seniorcitizen</th>\n",
       "      <th>dependents</th>\n",
       "      <th>tenure</th>\n",
       "      <th>phoneservice</th>\n",
       "      <th>multiplelines</th>\n",
       "      <th>internetservice</th>\n",
       "      <th>onlinesecurity</th>\n",
       "      <th>onlinebackup</th>\n",
       "      <th>deviceprotection</th>\n",
       "      <th>techsupport</th>\n",
       "      <th>streamingtv</th>\n",
       "      <th>streamingmovies</th>\n",
       "      <th>contract</th>\n",
       "      <th>paperlessbilling</th>\n",
       "      <th>paymentmethod</th>\n",
       "      <th>monthlycharges</th>\n",
       "      <th>totalcharges</th>\n",
       "      <th>churn</th>\n",
       "    </tr>\n",
       "  </thead>\n",
       "  <tbody>\n",
       "    <tr>\n",
       "      <th>1556</th>\n",
       "      <td>0</td>\n",
       "      <td>0.0</td>\n",
       "      <td>1</td>\n",
       "      <td>1.0</td>\n",
       "      <td>1.0</td>\n",
       "      <td>2.0</td>\n",
       "      <td>1.0</td>\n",
       "      <td>2.0</td>\n",
       "      <td>1.0</td>\n",
       "      <td>2.0</td>\n",
       "      <td>2.0</td>\n",
       "      <td>1.0</td>\n",
       "      <td>0.0</td>\n",
       "      <td>0.0</td>\n",
       "      <td>0.0</td>\n",
       "      <td>91.70</td>\n",
       "      <td>91.70</td>\n",
       "      <td>1.0</td>\n",
       "    </tr>\n",
       "    <tr>\n",
       "      <th>123</th>\n",
       "      <td>0</td>\n",
       "      <td>1.0</td>\n",
       "      <td>7</td>\n",
       "      <td>1.0</td>\n",
       "      <td>1.0</td>\n",
       "      <td>1.0</td>\n",
       "      <td>2.0</td>\n",
       "      <td>1.0</td>\n",
       "      <td>1.0</td>\n",
       "      <td>1.0</td>\n",
       "      <td>1.0</td>\n",
       "      <td>1.0</td>\n",
       "      <td>0.0</td>\n",
       "      <td>0.0</td>\n",
       "      <td>1.0</td>\n",
       "      <td>50.70</td>\n",
       "      <td>350.35</td>\n",
       "      <td>0.0</td>\n",
       "    </tr>\n",
       "    <tr>\n",
       "      <th>5810</th>\n",
       "      <td>0</td>\n",
       "      <td>1.0</td>\n",
       "      <td>17</td>\n",
       "      <td>1.0</td>\n",
       "      <td>2.0</td>\n",
       "      <td>2.0</td>\n",
       "      <td>1.0</td>\n",
       "      <td>1.0</td>\n",
       "      <td>1.0</td>\n",
       "      <td>1.0</td>\n",
       "      <td>1.0</td>\n",
       "      <td>2.0</td>\n",
       "      <td>0.0</td>\n",
       "      <td>1.0</td>\n",
       "      <td>0.0</td>\n",
       "      <td>85.45</td>\n",
       "      <td>1451.60</td>\n",
       "      <td>1.0</td>\n",
       "    </tr>\n",
       "    <tr>\n",
       "      <th>1921</th>\n",
       "      <td>0</td>\n",
       "      <td>1.0</td>\n",
       "      <td>70</td>\n",
       "      <td>1.0</td>\n",
       "      <td>2.0</td>\n",
       "      <td>1.0</td>\n",
       "      <td>1.0</td>\n",
       "      <td>2.0</td>\n",
       "      <td>2.0</td>\n",
       "      <td>2.0</td>\n",
       "      <td>2.0</td>\n",
       "      <td>2.0</td>\n",
       "      <td>2.0</td>\n",
       "      <td>1.0</td>\n",
       "      <td>3.0</td>\n",
       "      <td>85.95</td>\n",
       "      <td>5931.75</td>\n",
       "      <td>0.0</td>\n",
       "    </tr>\n",
       "    <tr>\n",
       "      <th>90</th>\n",
       "      <td>0</td>\n",
       "      <td>1.0</td>\n",
       "      <td>30</td>\n",
       "      <td>1.0</td>\n",
       "      <td>1.0</td>\n",
       "      <td>2.0</td>\n",
       "      <td>1.0</td>\n",
       "      <td>2.0</td>\n",
       "      <td>2.0</td>\n",
       "      <td>1.0</td>\n",
       "      <td>1.0</td>\n",
       "      <td>1.0</td>\n",
       "      <td>0.0</td>\n",
       "      <td>0.0</td>\n",
       "      <td>2.0</td>\n",
       "      <td>82.05</td>\n",
       "      <td>2570.20</td>\n",
       "      <td>0.0</td>\n",
       "    </tr>\n",
       "  </tbody>\n",
       "</table>\n",
       "</div>"
      ],
      "text/plain": [
       "      seniorcitizen  dependents  tenure  phoneservice  multiplelines  \\\n",
       "1556              0         0.0       1           1.0            1.0   \n",
       "123               0         1.0       7           1.0            1.0   \n",
       "5810              0         1.0      17           1.0            2.0   \n",
       "1921              0         1.0      70           1.0            2.0   \n",
       "90                0         1.0      30           1.0            1.0   \n",
       "\n",
       "      internetservice  onlinesecurity  onlinebackup  deviceprotection  \\\n",
       "1556              2.0             1.0           2.0               1.0   \n",
       "123               1.0             2.0           1.0               1.0   \n",
       "5810              2.0             1.0           1.0               1.0   \n",
       "1921              1.0             1.0           2.0               2.0   \n",
       "90                2.0             1.0           2.0               2.0   \n",
       "\n",
       "      techsupport  streamingtv  streamingmovies  contract  paperlessbilling  \\\n",
       "1556          2.0          2.0              1.0       0.0               0.0   \n",
       "123           1.0          1.0              1.0       0.0               0.0   \n",
       "5810          1.0          1.0              2.0       0.0               1.0   \n",
       "1921          2.0          2.0              2.0       2.0               1.0   \n",
       "90            1.0          1.0              1.0       0.0               0.0   \n",
       "\n",
       "      paymentmethod  monthlycharges  totalcharges  churn  \n",
       "1556            0.0           91.70         91.70    1.0  \n",
       "123             1.0           50.70        350.35    0.0  \n",
       "5810            0.0           85.45       1451.60    1.0  \n",
       "1921            3.0           85.95       5931.75    0.0  \n",
       "90              2.0           82.05       2570.20    0.0  "
      ]
     },
     "execution_count": 4,
     "metadata": {},
     "output_type": "execute_result"
    }
   ],
   "source": [
    "df = pd.read_pickle(DATA_PATH)\n",
    "df.sample(5)"
   ]
  },
  {
   "cell_type": "markdown",
   "id": "2bdf31c3-d6a3-4e3c-9cb6-9205b8299d0e",
   "metadata": {},
   "source": [
    "___\n",
    "## Split data for modeling"
   ]
  },
  {
   "cell_type": "code",
   "execution_count": 5,
   "id": "eb8c7319-381b-4984-b40f-b17a15e56f10",
   "metadata": {},
   "outputs": [],
   "source": [
    "X_train, X_test, y_train, y_test = train_test_split(df.drop('churn', axis=1),\n",
    "                                                    df[['churn']],\n",
    "                                                    test_size=0.2,\n",
    "                                                    random_state=42)"
   ]
  },
  {
   "cell_type": "code",
   "execution_count": 6,
   "id": "5ff48360-0be6-46d1-8a3f-72bb8746b811",
   "metadata": {},
   "outputs": [
    {
     "name": "stdout",
     "output_type": "stream",
     "text": [
      "X_train shape (5600, 17)\n",
      "X_test shape (1400, 17)\n"
     ]
    },
    {
     "data": {
      "text/html": [
       "<div>\n",
       "<style scoped>\n",
       "    .dataframe tbody tr th:only-of-type {\n",
       "        vertical-align: middle;\n",
       "    }\n",
       "\n",
       "    .dataframe tbody tr th {\n",
       "        vertical-align: top;\n",
       "    }\n",
       "\n",
       "    .dataframe thead th {\n",
       "        text-align: right;\n",
       "    }\n",
       "</style>\n",
       "<table border=\"1\" class=\"dataframe\">\n",
       "  <thead>\n",
       "    <tr style=\"text-align: right;\">\n",
       "      <th></th>\n",
       "      <th>seniorcitizen</th>\n",
       "      <th>dependents</th>\n",
       "      <th>tenure</th>\n",
       "      <th>phoneservice</th>\n",
       "      <th>multiplelines</th>\n",
       "      <th>internetservice</th>\n",
       "      <th>onlinesecurity</th>\n",
       "      <th>onlinebackup</th>\n",
       "      <th>deviceprotection</th>\n",
       "      <th>techsupport</th>\n",
       "      <th>streamingtv</th>\n",
       "      <th>streamingmovies</th>\n",
       "      <th>contract</th>\n",
       "      <th>paperlessbilling</th>\n",
       "      <th>paymentmethod</th>\n",
       "      <th>monthlycharges</th>\n",
       "      <th>totalcharges</th>\n",
       "    </tr>\n",
       "  </thead>\n",
       "  <tbody>\n",
       "    <tr>\n",
       "      <th>212</th>\n",
       "      <td>0</td>\n",
       "      <td>1.0</td>\n",
       "      <td>61</td>\n",
       "      <td>1.0</td>\n",
       "      <td>1.0</td>\n",
       "      <td>0.0</td>\n",
       "      <td>0.0</td>\n",
       "      <td>0.0</td>\n",
       "      <td>0.0</td>\n",
       "      <td>0.0</td>\n",
       "      <td>0.0</td>\n",
       "      <td>0.0</td>\n",
       "      <td>2.0</td>\n",
       "      <td>0.0</td>\n",
       "      <td>1.0</td>\n",
       "      <td>19.75</td>\n",
       "      <td>1124.20</td>\n",
       "    </tr>\n",
       "    <tr>\n",
       "      <th>86</th>\n",
       "      <td>0</td>\n",
       "      <td>0.0</td>\n",
       "      <td>35</td>\n",
       "      <td>1.0</td>\n",
       "      <td>1.0</td>\n",
       "      <td>1.0</td>\n",
       "      <td>2.0</td>\n",
       "      <td>1.0</td>\n",
       "      <td>1.0</td>\n",
       "      <td>1.0</td>\n",
       "      <td>2.0</td>\n",
       "      <td>1.0</td>\n",
       "      <td>1.0</td>\n",
       "      <td>1.0</td>\n",
       "      <td>2.0</td>\n",
       "      <td>62.15</td>\n",
       "      <td>2215.45</td>\n",
       "    </tr>\n",
       "    <tr>\n",
       "      <th>5362</th>\n",
       "      <td>0</td>\n",
       "      <td>1.0</td>\n",
       "      <td>65</td>\n",
       "      <td>1.0</td>\n",
       "      <td>2.0</td>\n",
       "      <td>0.0</td>\n",
       "      <td>0.0</td>\n",
       "      <td>0.0</td>\n",
       "      <td>0.0</td>\n",
       "      <td>0.0</td>\n",
       "      <td>0.0</td>\n",
       "      <td>0.0</td>\n",
       "      <td>2.0</td>\n",
       "      <td>0.0</td>\n",
       "      <td>3.0</td>\n",
       "      <td>24.75</td>\n",
       "      <td>1715.10</td>\n",
       "    </tr>\n",
       "    <tr>\n",
       "      <th>6084</th>\n",
       "      <td>0</td>\n",
       "      <td>0.0</td>\n",
       "      <td>36</td>\n",
       "      <td>1.0</td>\n",
       "      <td>2.0</td>\n",
       "      <td>2.0</td>\n",
       "      <td>1.0</td>\n",
       "      <td>1.0</td>\n",
       "      <td>1.0</td>\n",
       "      <td>1.0</td>\n",
       "      <td>2.0</td>\n",
       "      <td>2.0</td>\n",
       "      <td>0.0</td>\n",
       "      <td>1.0</td>\n",
       "      <td>2.0</td>\n",
       "      <td>95.00</td>\n",
       "      <td>3440.25</td>\n",
       "    </tr>\n",
       "    <tr>\n",
       "      <th>3671</th>\n",
       "      <td>0</td>\n",
       "      <td>0.0</td>\n",
       "      <td>1</td>\n",
       "      <td>1.0</td>\n",
       "      <td>2.0</td>\n",
       "      <td>2.0</td>\n",
       "      <td>1.0</td>\n",
       "      <td>1.0</td>\n",
       "      <td>1.0</td>\n",
       "      <td>1.0</td>\n",
       "      <td>1.0</td>\n",
       "      <td>1.0</td>\n",
       "      <td>0.0</td>\n",
       "      <td>1.0</td>\n",
       "      <td>0.0</td>\n",
       "      <td>75.10</td>\n",
       "      <td>75.10</td>\n",
       "    </tr>\n",
       "  </tbody>\n",
       "</table>\n",
       "</div>"
      ],
      "text/plain": [
       "      seniorcitizen  dependents  tenure  phoneservice  multiplelines  \\\n",
       "212               0         1.0      61           1.0            1.0   \n",
       "86                0         0.0      35           1.0            1.0   \n",
       "5362              0         1.0      65           1.0            2.0   \n",
       "6084              0         0.0      36           1.0            2.0   \n",
       "3671              0         0.0       1           1.0            2.0   \n",
       "\n",
       "      internetservice  onlinesecurity  onlinebackup  deviceprotection  \\\n",
       "212               0.0             0.0           0.0               0.0   \n",
       "86                1.0             2.0           1.0               1.0   \n",
       "5362              0.0             0.0           0.0               0.0   \n",
       "6084              2.0             1.0           1.0               1.0   \n",
       "3671              2.0             1.0           1.0               1.0   \n",
       "\n",
       "      techsupport  streamingtv  streamingmovies  contract  paperlessbilling  \\\n",
       "212           0.0          0.0              0.0       2.0               0.0   \n",
       "86            1.0          2.0              1.0       1.0               1.0   \n",
       "5362          0.0          0.0              0.0       2.0               0.0   \n",
       "6084          1.0          2.0              2.0       0.0               1.0   \n",
       "3671          1.0          1.0              1.0       0.0               1.0   \n",
       "\n",
       "      paymentmethod  monthlycharges  totalcharges  \n",
       "212             1.0           19.75       1124.20  \n",
       "86              2.0           62.15       2215.45  \n",
       "5362            3.0           24.75       1715.10  \n",
       "6084            2.0           95.00       3440.25  \n",
       "3671            0.0           75.10         75.10  "
      ]
     },
     "execution_count": 6,
     "metadata": {},
     "output_type": "execute_result"
    }
   ],
   "source": [
    "# quick check of splitted data:\n",
    "print(\"X_train shape\", X_train.shape)\n",
    "print(\"X_test shape\", X_test.shape)\n",
    "X_train.sample(5)"
   ]
  },
  {
   "cell_type": "code",
   "execution_count": 7,
   "id": "3b203173-53e1-4d12-9491-6e534d3e7351",
   "metadata": {},
   "outputs": [
    {
     "name": "stdout",
     "output_type": "stream",
     "text": [
      "y_train classes churn\n",
      "0.0      4134\n",
      "1.0      1466\n",
      "dtype: int64 \n",
      "\n",
      "y_test classes churn\n",
      "0.0      1020\n",
      "1.0       380\n",
      "dtype: int64\n"
     ]
    }
   ],
   "source": [
    "# quick check of splitted data:\n",
    "print(\"y_train classes\", y_train.value_counts(), \"\\n\")\n",
    "print(\"y_test classes\", y_test.value_counts())"
   ]
  },
  {
   "cell_type": "markdown",
   "id": "9cf2b2fb-931d-41c5-a901-9d5dae3b5911",
   "metadata": {},
   "source": [
    "### Balancing data to test:"
   ]
  },
  {
   "cell_type": "code",
   "execution_count": 8,
   "id": "5d59c493-99fc-445b-b903-6f4e8393f0fc",
   "metadata": {},
   "outputs": [],
   "source": [
    "sm = SMOTE(random_state=42)\n",
    "X_train_balance, y_train_balance = sm.fit_resample(X_train, y_train)"
   ]
  },
  {
   "cell_type": "code",
   "execution_count": 9,
   "id": "44156788-8494-49e7-87ac-027bf083b402",
   "metadata": {},
   "outputs": [
    {
     "name": "stdout",
     "output_type": "stream",
     "text": [
      "y_train classes churn\n",
      "0.0      4134\n",
      "1.0      4134\n",
      "dtype: int64\n"
     ]
    }
   ],
   "source": [
    "# quick check of splitted data:\n",
    "print(\"y_train classes\", y_train_balance.value_counts())"
   ]
  },
  {
   "cell_type": "markdown",
   "id": "8478e488-54ad-4ff0-ad59-7c5ac85e35a8",
   "metadata": {},
   "source": [
    "___\n",
    "## Intializing MLFLOW"
   ]
  },
  {
   "cell_type": "code",
   "execution_count": 10,
   "id": "43568573-2813-4c27-a0b8-f060fbc421bf",
   "metadata": {},
   "outputs": [],
   "source": [
    "mlflow.set_tracking_uri(MLFLOW_TRACKING_URI)\n",
    "client = MlflowClient()"
   ]
  },
  {
   "cell_type": "code",
   "execution_count": 11,
   "id": "ac38cd8f-79ba-41c9-8be3-6398008a614a",
   "metadata": {},
   "outputs": [
    {
     "name": "stdout",
     "output_type": "stream",
     "text": [
      "Experiment \"churn_rate_prediction\" exists at \"../models/mlruns\"\n"
     ]
    }
   ],
   "source": [
    "try:\n",
    "    mlflow.create_experiment(MLFLOW_EXPERIMENT_NAME)\n",
    "except:\n",
    "    print(f'Experiment \"{MLFLOW_EXPERIMENT_NAME}\" exists at \"{mlflow.get_tracking_uri()}\"')"
   ]
  },
  {
   "cell_type": "code",
   "execution_count": 12,
   "id": "e4e68d04-4410-4632-ae74-ab53c680ad88",
   "metadata": {},
   "outputs": [
    {
     "name": "stdout",
     "output_type": "stream",
     "text": [
      "<Experiment: artifact_location='../models/mlruns/0', experiment_id='0', lifecycle_stage='active', name='churn_rate_prediction', tags={}>\n"
     ]
    }
   ],
   "source": [
    "exp = client.get_experiment_by_name(MLFLOW_EXPERIMENT_NAME)\n",
    "print(exp)"
   ]
  },
  {
   "cell_type": "markdown",
   "id": "80c6c62e-aa86-4b36-b5ac-719608c1db7d",
   "metadata": {},
   "source": [
    "___\n",
    "## 1. Support Vector Machines (SVC)"
   ]
  },
  {
   "cell_type": "code",
   "execution_count": 13,
   "id": "cd7e3472-e8c9-4739-a1d6-e179488e23a5",
   "metadata": {},
   "outputs": [
    {
     "data": {
      "text/plain": [
       "Pipeline(steps=[('minmaxscaler', MinMaxScaler()), ('svc', SVC())])"
      ]
     },
     "execution_count": 13,
     "metadata": {},
     "output_type": "execute_result"
    }
   ],
   "source": [
    "svc = make_pipeline(MinMaxScaler(),\n",
    "                    SVC())\n",
    "\n",
    "svc.fit(X_train.values, (y_train.values).reshape(-1,))"
   ]
  },
  {
   "cell_type": "markdown",
   "id": "5edd04f4-5743-44be-89e5-f1513193735a",
   "metadata": {
    "tags": []
   },
   "source": [
    "### Evaluate on training data:"
   ]
  },
  {
   "cell_type": "code",
   "execution_count": 14,
   "id": "bc3a5587-7eb5-4254-b962-5f076fffbdb7",
   "metadata": {},
   "outputs": [
    {
     "data": {
      "text/html": [
       "<div>\n",
       "<style scoped>\n",
       "    .dataframe tbody tr th:only-of-type {\n",
       "        vertical-align: middle;\n",
       "    }\n",
       "\n",
       "    .dataframe tbody tr th {\n",
       "        vertical-align: top;\n",
       "    }\n",
       "\n",
       "    .dataframe thead th {\n",
       "        text-align: right;\n",
       "    }\n",
       "</style>\n",
       "<table border=\"1\" class=\"dataframe\">\n",
       "  <thead>\n",
       "    <tr style=\"text-align: right;\">\n",
       "      <th></th>\n",
       "      <th>accuracy_score</th>\n",
       "      <th>precision_score</th>\n",
       "      <th>recall_score</th>\n",
       "      <th>f1_score</th>\n",
       "    </tr>\n",
       "  </thead>\n",
       "  <tbody>\n",
       "    <tr>\n",
       "      <th>SVC</th>\n",
       "      <td>0.815</td>\n",
       "      <td>0.7</td>\n",
       "      <td>0.512</td>\n",
       "      <td>0.592</td>\n",
       "    </tr>\n",
       "  </tbody>\n",
       "</table>\n",
       "</div>"
      ],
      "text/plain": [
       "     accuracy_score  precision_score  recall_score  f1_score\n",
       "SVC           0.815              0.7         0.512     0.592"
      ]
     },
     "execution_count": 14,
     "metadata": {},
     "output_type": "execute_result"
    }
   ],
   "source": [
    "# Evaluate on training set:\n",
    "predictions = pd.DataFrame(svc.predict(X_train.values),\n",
    "                          columns=y_train.columns)\n",
    "\n",
    "train_scores = {score.__name__:calculate_quality(y_train, predictions, score, \"SVC\")\n",
    "                for score in [accuracy_score, precision_score, recall_score, f1_score]}\n",
    "\n",
    "train_scores = pd.concat(train_scores, axis=1)\n",
    "train_scores"
   ]
  },
  {
   "cell_type": "code",
   "execution_count": 15,
   "id": "bdbd4e5b-d57c-4674-b82c-4a95ea05ebf4",
   "metadata": {},
   "outputs": [
    {
     "data": {
      "text/plain": [
       "accuracy_score     0.815\n",
       "precision_score    0.700\n",
       "recall_score       0.512\n",
       "f1_score           0.592\n",
       "dtype: float64"
      ]
     },
     "execution_count": 15,
     "metadata": {},
     "output_type": "execute_result"
    }
   ],
   "source": [
    "mean_train_score = train_scores.mean()\n",
    "mean_train_score"
   ]
  },
  {
   "cell_type": "markdown",
   "id": "896377be-6f2a-4507-ab16-7b37ad179dfc",
   "metadata": {
    "tags": []
   },
   "source": [
    "### Evaluate on testing data:"
   ]
  },
  {
   "cell_type": "code",
   "execution_count": 16,
   "id": "d890a6f0-cf6d-4592-9186-77938cc9e9f6",
   "metadata": {},
   "outputs": [
    {
     "data": {
      "text/html": [
       "<div>\n",
       "<style scoped>\n",
       "    .dataframe tbody tr th:only-of-type {\n",
       "        vertical-align: middle;\n",
       "    }\n",
       "\n",
       "    .dataframe tbody tr th {\n",
       "        vertical-align: top;\n",
       "    }\n",
       "\n",
       "    .dataframe thead th {\n",
       "        text-align: right;\n",
       "    }\n",
       "</style>\n",
       "<table border=\"1\" class=\"dataframe\">\n",
       "  <thead>\n",
       "    <tr style=\"text-align: right;\">\n",
       "      <th></th>\n",
       "      <th>accuracy_score</th>\n",
       "      <th>precision_score</th>\n",
       "      <th>recall_score</th>\n",
       "      <th>f1_score</th>\n",
       "    </tr>\n",
       "  </thead>\n",
       "  <tbody>\n",
       "    <tr>\n",
       "      <th>SVC</th>\n",
       "      <td>0.798</td>\n",
       "      <td>0.693</td>\n",
       "      <td>0.458</td>\n",
       "      <td>0.552</td>\n",
       "    </tr>\n",
       "  </tbody>\n",
       "</table>\n",
       "</div>"
      ],
      "text/plain": [
       "     accuracy_score  precision_score  recall_score  f1_score\n",
       "SVC           0.798            0.693         0.458     0.552"
      ]
     },
     "execution_count": 16,
     "metadata": {},
     "output_type": "execute_result"
    }
   ],
   "source": [
    "# Evaluate on training set:\n",
    "predictions = pd.DataFrame(svc.predict(X_test.values),\n",
    "                          columns=y_test.columns)\n",
    "\n",
    "test_scores = {score.__name__:calculate_quality(y_test, predictions, score, \"SVC\")\n",
    "                for score in [accuracy_score, precision_score, recall_score, f1_score]}\n",
    "\n",
    "test_scores = pd.concat(test_scores, axis=1)\n",
    "test_scores"
   ]
  },
  {
   "cell_type": "code",
   "execution_count": 17,
   "id": "a7f9925e-019f-424a-a748-002c1ea1c051",
   "metadata": {},
   "outputs": [
    {
     "data": {
      "text/plain": [
       "accuracy_score     0.798\n",
       "precision_score    0.693\n",
       "recall_score       0.458\n",
       "f1_score           0.552\n",
       "dtype: float64"
      ]
     },
     "execution_count": 17,
     "metadata": {},
     "output_type": "execute_result"
    }
   ],
   "source": [
    "mean_test_score = test_scores.mean()\n",
    "mean_test_score"
   ]
  },
  {
   "cell_type": "markdown",
   "id": "c9dfb8f1-b6c3-4837-a3e7-a3344a8e534e",
   "metadata": {},
   "source": [
    "### Log run"
   ]
  },
  {
   "cell_type": "code",
   "execution_count": 18,
   "id": "140feed2-27ca-4372-a2d7-8f64c42fa4d0",
   "metadata": {},
   "outputs": [],
   "source": [
    "# Data details\n",
    "data_details = {\"data_path\": DATA_PATH,\n",
    "                \"training_indices\": X_train.index.tolist(),\n",
    "                \"test_indices\": X_test.index.tolist(),\n",
    "                \"feature_names\": X_train.columns.tolist(),\n",
    "                \"target_names\": y_train.columns.tolist()}\n",
    "\n",
    "with open(os.path.join(LOG_PATH, LOG_DATA_PKL), \"wb\") as output_file:\n",
    "    pickle.dump(data_details, output_file)"
   ]
  },
  {
   "cell_type": "code",
   "execution_count": 19,
   "id": "9fb06ad5-3f5e-4124-9a6c-11ba566066bb",
   "metadata": {},
   "outputs": [],
   "source": [
    "# Model details\n",
    "model = {\"model_description\": \"Support Vector Classifier SVC\",\n",
    "         \"model_details\": str(svc),\n",
    "         \"model_object\": svc}\n",
    "\n",
    "with open(os.path.join(LOG_PATH, LOG_MODEL_PKL), \"wb\") as output_file:\n",
    "    pickle.dump(model, output_file)"
   ]
  },
  {
   "cell_type": "code",
   "execution_count": 20,
   "id": "beec94f5-6a4d-41a1-a7e6-93974f5b754d",
   "metadata": {},
   "outputs": [],
   "source": [
    "# Performance details\n",
    "regression_metrics = {\"train_scores\": train_scores,\n",
    "                      \"test_scores\": test_scores}\n",
    "\n",
    "with open(os.path.join(LOG_PATH, LOG_METRICS_PKL), \"wb\") as output_file:\n",
    "    pickle.dump(regression_metrics, output_file)"
   ]
  },
  {
   "cell_type": "markdown",
   "id": "9ce1237b-df05-4e3c-9024-977ccebe0b42",
   "metadata": {},
   "source": [
    "### Logging"
   ]
  },
  {
   "cell_type": "code",
   "execution_count": 21,
   "id": "2e471bc7-3724-4acf-9aae-0e9eb2341753",
   "metadata": {},
   "outputs": [],
   "source": [
    "# Start a new run and track\n",
    "with mlflow.start_run(experiment_id=exp.experiment_id, run_name=model[\"model_description\"]):\n",
    "    # log pickle\n",
    "    mlflow.log_artifacts(LOG_PATH)\n",
    "    \n",
    "    # Track metrics\n",
    "    for metric, score in mean_test_score.items():\n",
    "        mlflow.log_metric(metric, score)"
   ]
  },
  {
   "cell_type": "markdown",
   "id": "3232c659-0921-4936-836a-cb85e5203456",
   "metadata": {},
   "source": [
    "___\n",
    "## 2. Random Forest Classifier:"
   ]
  },
  {
   "cell_type": "code",
   "execution_count": 49,
   "id": "4a529d8f-67bf-467b-b5df-29af6076cec4",
   "metadata": {},
   "outputs": [
    {
     "data": {
      "text/plain": [
       "Pipeline(steps=[('minmaxscaler', MinMaxScaler()),\n",
       "                ('randomforestclassifier',\n",
       "                 RandomForestClassifier(max_leaf_nodes=30, n_estimators=1000,\n",
       "                                        n_jobs=1, oob_score=True,\n",
       "                                        random_state=42))])"
      ]
     },
     "execution_count": 49,
     "metadata": {},
     "output_type": "execute_result"
    }
   ],
   "source": [
    "rf = make_pipeline(MinMaxScaler(),\n",
    "                    RandomForestClassifier(n_estimators=1000,\n",
    "                                          oob_score=True,\n",
    "                                          n_jobs=1, random_state=42,\n",
    "                                          max_features='auto', max_leaf_nodes=30))\n",
    "\n",
    "rf.fit(X_train.values, (y_train.values).reshape(-1,))"
   ]
  },
  {
   "cell_type": "markdown",
   "id": "930f5e4c-769a-4e15-84a9-1238575a6eec",
   "metadata": {
    "tags": []
   },
   "source": [
    "### Evaluate on training data:"
   ]
  },
  {
   "cell_type": "code",
   "execution_count": 50,
   "id": "41df615f-0fdf-4e96-aef4-6ebff62ec292",
   "metadata": {},
   "outputs": [
    {
     "data": {
      "text/html": [
       "<div>\n",
       "<style scoped>\n",
       "    .dataframe tbody tr th:only-of-type {\n",
       "        vertical-align: middle;\n",
       "    }\n",
       "\n",
       "    .dataframe tbody tr th {\n",
       "        vertical-align: top;\n",
       "    }\n",
       "\n",
       "    .dataframe thead th {\n",
       "        text-align: right;\n",
       "    }\n",
       "</style>\n",
       "<table border=\"1\" class=\"dataframe\">\n",
       "  <thead>\n",
       "    <tr style=\"text-align: right;\">\n",
       "      <th></th>\n",
       "      <th>accuracy_score</th>\n",
       "      <th>precision_score</th>\n",
       "      <th>recall_score</th>\n",
       "      <th>f1_score</th>\n",
       "    </tr>\n",
       "  </thead>\n",
       "  <tbody>\n",
       "    <tr>\n",
       "      <th>RandomForestClassifier</th>\n",
       "      <td>0.822</td>\n",
       "      <td>0.714</td>\n",
       "      <td>0.534</td>\n",
       "      <td>0.611</td>\n",
       "    </tr>\n",
       "  </tbody>\n",
       "</table>\n",
       "</div>"
      ],
      "text/plain": [
       "                        accuracy_score  precision_score  recall_score  \\\n",
       "RandomForestClassifier           0.822            0.714         0.534   \n",
       "\n",
       "                        f1_score  \n",
       "RandomForestClassifier     0.611  "
      ]
     },
     "execution_count": 50,
     "metadata": {},
     "output_type": "execute_result"
    }
   ],
   "source": [
    "# Evaluate on training set:\n",
    "predictions = pd.DataFrame(rf.predict(X_train.values),\n",
    "                          columns=y_train.columns)\n",
    "\n",
    "train_scores = {score.__name__:calculate_quality(y_train, predictions, score, \"RandomForestClassifier\")\n",
    "                for score in [accuracy_score, precision_score, recall_score, f1_score]}\n",
    "\n",
    "train_scores = pd.concat(train_scores, axis=1)\n",
    "train_scores"
   ]
  },
  {
   "cell_type": "code",
   "execution_count": 53,
   "id": "d44ed186-4f8d-4875-b913-b961deed607c",
   "metadata": {},
   "outputs": [
    {
     "data": {
      "text/plain": [
       "accuracy_score     0.822\n",
       "precision_score    0.714\n",
       "recall_score       0.534\n",
       "f1_score           0.611\n",
       "dtype: float64"
      ]
     },
     "execution_count": 53,
     "metadata": {},
     "output_type": "execute_result"
    }
   ],
   "source": [
    "mean_train_score = train_scores.mean()\n",
    "mean_train_score"
   ]
  },
  {
   "cell_type": "markdown",
   "id": "15c2211c-bf26-4611-8d35-09a9876299ad",
   "metadata": {
    "tags": []
   },
   "source": [
    "### Evaluate on testing data:"
   ]
  },
  {
   "cell_type": "code",
   "execution_count": 51,
   "id": "691ba654-6e7e-4a79-945d-918bf84773e8",
   "metadata": {},
   "outputs": [
    {
     "data": {
      "text/html": [
       "<div>\n",
       "<style scoped>\n",
       "    .dataframe tbody tr th:only-of-type {\n",
       "        vertical-align: middle;\n",
       "    }\n",
       "\n",
       "    .dataframe tbody tr th {\n",
       "        vertical-align: top;\n",
       "    }\n",
       "\n",
       "    .dataframe thead th {\n",
       "        text-align: right;\n",
       "    }\n",
       "</style>\n",
       "<table border=\"1\" class=\"dataframe\">\n",
       "  <thead>\n",
       "    <tr style=\"text-align: right;\">\n",
       "      <th></th>\n",
       "      <th>accuracy_score</th>\n",
       "      <th>precision_score</th>\n",
       "      <th>recall_score</th>\n",
       "      <th>f1_score</th>\n",
       "    </tr>\n",
       "  </thead>\n",
       "  <tbody>\n",
       "    <tr>\n",
       "      <th>RandomForestClassifier</th>\n",
       "      <td>0.794</td>\n",
       "      <td>0.683</td>\n",
       "      <td>0.447</td>\n",
       "      <td>0.541</td>\n",
       "    </tr>\n",
       "  </tbody>\n",
       "</table>\n",
       "</div>"
      ],
      "text/plain": [
       "                        accuracy_score  precision_score  recall_score  \\\n",
       "RandomForestClassifier           0.794            0.683         0.447   \n",
       "\n",
       "                        f1_score  \n",
       "RandomForestClassifier     0.541  "
      ]
     },
     "execution_count": 51,
     "metadata": {},
     "output_type": "execute_result"
    }
   ],
   "source": [
    "# Evaluate on training set:\n",
    "predictions = pd.DataFrame(rf.predict(X_test.values),\n",
    "                          columns=y_test.columns)\n",
    "\n",
    "test_scores = {score.__name__:calculate_quality(y_test, predictions, score, \"RandomForestClassifier\")\n",
    "                for score in [accuracy_score, precision_score, recall_score, f1_score]}\n",
    "\n",
    "test_scores = pd.concat(test_scores, axis=1)\n",
    "test_scores"
   ]
  },
  {
   "cell_type": "code",
   "execution_count": 52,
   "id": "bb9a7142-6eea-48af-b368-b51e45c1dd20",
   "metadata": {
    "tags": []
   },
   "outputs": [
    {
     "data": {
      "text/plain": [
       "accuracy_score     0.794\n",
       "precision_score    0.683\n",
       "recall_score       0.447\n",
       "f1_score           0.541\n",
       "dtype: float64"
      ]
     },
     "execution_count": 52,
     "metadata": {},
     "output_type": "execute_result"
    }
   ],
   "source": [
    "mean_test_score = test_scores.mean()\n",
    "mean_test_score"
   ]
  },
  {
   "cell_type": "markdown",
   "id": "ee6c5b23-487d-4ef0-b2e7-5ad0b4a9b3bc",
   "metadata": {},
   "source": [
    "### Log run"
   ]
  },
  {
   "cell_type": "code",
   "execution_count": 54,
   "id": "bee17f38-289c-4a2c-bf14-0e65638a210d",
   "metadata": {},
   "outputs": [],
   "source": [
    "# Data details\n",
    "data_details = {\"data_path\": DATA_PATH,\n",
    "                \"training_indices\": X_train.index.tolist(),\n",
    "                \"test_indices\": X_test.index.tolist(),\n",
    "                \"feature_names\": X_train.columns.tolist(),\n",
    "                \"target_names\": y_train.columns.tolist()}\n",
    "\n",
    "with open(os.path.join(LOG_PATH, LOG_DATA_PKL), \"wb\") as output_file:\n",
    "    pickle.dump(data_details, output_file)"
   ]
  },
  {
   "cell_type": "code",
   "execution_count": 55,
   "id": "8fc2d7c5-a996-4d2e-9785-d07bdb939a81",
   "metadata": {},
   "outputs": [],
   "source": [
    "# Model details\n",
    "model = {\"model_description\": \"Random Forrest Classifier\",\n",
    "         \"model_details\": str(rf),\n",
    "         \"model_object\": rf}\n",
    "\n",
    "with open(os.path.join(LOG_PATH, LOG_MODEL_PKL), \"wb\") as output_file:\n",
    "    pickle.dump(model, output_file)"
   ]
  },
  {
   "cell_type": "code",
   "execution_count": 56,
   "id": "1013d702-5768-432f-9ab7-4e7508888f12",
   "metadata": {},
   "outputs": [],
   "source": [
    "# Performance details\n",
    "regression_metrics = {\"train_scores\": train_scores,\n",
    "                      \"test_scores\": test_scores}\n",
    "\n",
    "with open(os.path.join(LOG_PATH, LOG_METRICS_PKL), \"wb\") as output_file:\n",
    "    pickle.dump(regression_metrics, output_file)"
   ]
  },
  {
   "cell_type": "markdown",
   "id": "62d378b9-4b1f-4e4d-89aa-ffeb58d63a1b",
   "metadata": {},
   "source": [
    "### Logging"
   ]
  },
  {
   "cell_type": "code",
   "execution_count": 57,
   "id": "28ee5530-ce35-4afb-83a5-6af0eae0ea57",
   "metadata": {},
   "outputs": [],
   "source": [
    "# Start a new run and track\n",
    "with mlflow.start_run(experiment_id=exp.experiment_id, run_name=model[\"model_description\"]):\n",
    "    # log pickle\n",
    "    mlflow.log_artifacts(LOG_PATH)\n",
    "    \n",
    "    # Track metrics\n",
    "    for metric, score in mean_test_score.items():\n",
    "        mlflow.log_metric(metric, score)"
   ]
  },
  {
   "cell_type": "markdown",
   "id": "4f2185d0-0ee3-4310-b913-848006ea1382",
   "metadata": {},
   "source": [
    "___\n",
    "## 3. AdaBoost Classifier"
   ]
  },
  {
   "cell_type": "code",
   "execution_count": 31,
   "id": "97fd50b5-fe76-4ab1-b674-a1f2fcb09d7f",
   "metadata": {},
   "outputs": [
    {
     "data": {
      "text/plain": [
       "Pipeline(steps=[('minmaxscaler', MinMaxScaler()),\n",
       "                ('adaboostclassifier', AdaBoostClassifier())])"
      ]
     },
     "execution_count": 31,
     "metadata": {},
     "output_type": "execute_result"
    }
   ],
   "source": [
    "adaboost = make_pipeline(MinMaxScaler(),\n",
    "                    AdaBoostClassifier())\n",
    "\n",
    "adaboost.fit(X_train.values, (y_train.values).reshape(-1,))"
   ]
  },
  {
   "cell_type": "markdown",
   "id": "bb659202-43a6-4fd7-bad0-3ffe0fbcde7c",
   "metadata": {
    "tags": []
   },
   "source": [
    "### Evaluate on training data:"
   ]
  },
  {
   "cell_type": "code",
   "execution_count": 32,
   "id": "0f196b5b-2cbf-40a3-bd1f-1c2dc371e47a",
   "metadata": {},
   "outputs": [
    {
     "data": {
      "text/html": [
       "<div>\n",
       "<style scoped>\n",
       "    .dataframe tbody tr th:only-of-type {\n",
       "        vertical-align: middle;\n",
       "    }\n",
       "\n",
       "    .dataframe tbody tr th {\n",
       "        vertical-align: top;\n",
       "    }\n",
       "\n",
       "    .dataframe thead th {\n",
       "        text-align: right;\n",
       "    }\n",
       "</style>\n",
       "<table border=\"1\" class=\"dataframe\">\n",
       "  <thead>\n",
       "    <tr style=\"text-align: right;\">\n",
       "      <th></th>\n",
       "      <th>accuracy_score</th>\n",
       "      <th>precision_score</th>\n",
       "      <th>recall_score</th>\n",
       "      <th>f1_score</th>\n",
       "    </tr>\n",
       "  </thead>\n",
       "  <tbody>\n",
       "    <tr>\n",
       "      <th>AdaBoost</th>\n",
       "      <td>0.808</td>\n",
       "      <td>0.669</td>\n",
       "      <td>0.529</td>\n",
       "      <td>0.59</td>\n",
       "    </tr>\n",
       "  </tbody>\n",
       "</table>\n",
       "</div>"
      ],
      "text/plain": [
       "          accuracy_score  precision_score  recall_score  f1_score\n",
       "AdaBoost           0.808            0.669         0.529      0.59"
      ]
     },
     "execution_count": 32,
     "metadata": {},
     "output_type": "execute_result"
    }
   ],
   "source": [
    "# Evaluate on training set:\n",
    "predictions = pd.DataFrame(adaboost.predict(X_train.values),\n",
    "                          columns=y_train.columns)\n",
    "\n",
    "train_scores = {score.__name__:calculate_quality(y_train, predictions, score, \"AdaBoost\")\n",
    "                for score in [accuracy_score, precision_score, recall_score, f1_score]}\n",
    "\n",
    "train_scores = pd.concat(train_scores, axis=1)\n",
    "train_scores"
   ]
  },
  {
   "cell_type": "code",
   "execution_count": 33,
   "id": "03b4a840-6497-4833-8b65-2253349452fa",
   "metadata": {},
   "outputs": [
    {
     "data": {
      "text/plain": [
       "accuracy_score     0.808\n",
       "precision_score    0.669\n",
       "recall_score       0.529\n",
       "f1_score           0.590\n",
       "dtype: float64"
      ]
     },
     "execution_count": 33,
     "metadata": {},
     "output_type": "execute_result"
    }
   ],
   "source": [
    "mean_train_score = train_scores.mean()\n",
    "mean_train_score"
   ]
  },
  {
   "cell_type": "markdown",
   "id": "7c7ac468-1efa-4507-9f54-71fe170e7f18",
   "metadata": {
    "tags": []
   },
   "source": [
    "### Evaluate on testing data:"
   ]
  },
  {
   "cell_type": "code",
   "execution_count": 34,
   "id": "7cf1b6ae-e6f3-4dce-a28b-e1157ae5b78e",
   "metadata": {},
   "outputs": [
    {
     "data": {
      "text/html": [
       "<div>\n",
       "<style scoped>\n",
       "    .dataframe tbody tr th:only-of-type {\n",
       "        vertical-align: middle;\n",
       "    }\n",
       "\n",
       "    .dataframe tbody tr th {\n",
       "        vertical-align: top;\n",
       "    }\n",
       "\n",
       "    .dataframe thead th {\n",
       "        text-align: right;\n",
       "    }\n",
       "</style>\n",
       "<table border=\"1\" class=\"dataframe\">\n",
       "  <thead>\n",
       "    <tr style=\"text-align: right;\">\n",
       "      <th></th>\n",
       "      <th>accuracy_score</th>\n",
       "      <th>precision_score</th>\n",
       "      <th>recall_score</th>\n",
       "      <th>f1_score</th>\n",
       "    </tr>\n",
       "  </thead>\n",
       "  <tbody>\n",
       "    <tr>\n",
       "      <th>AdaBoost</th>\n",
       "      <td>0.799</td>\n",
       "      <td>0.687</td>\n",
       "      <td>0.474</td>\n",
       "      <td>0.561</td>\n",
       "    </tr>\n",
       "  </tbody>\n",
       "</table>\n",
       "</div>"
      ],
      "text/plain": [
       "          accuracy_score  precision_score  recall_score  f1_score\n",
       "AdaBoost           0.799            0.687         0.474     0.561"
      ]
     },
     "execution_count": 34,
     "metadata": {},
     "output_type": "execute_result"
    }
   ],
   "source": [
    "# Evaluate on training set:\n",
    "predictions = pd.DataFrame(adaboost.predict(X_test.values),\n",
    "                          columns=y_test.columns)\n",
    "\n",
    "test_scores = {score.__name__:calculate_quality(y_test, predictions, score, \"AdaBoost\")\n",
    "                for score in [accuracy_score, precision_score, recall_score, f1_score]}\n",
    "\n",
    "test_scores = pd.concat(test_scores, axis=1)\n",
    "test_scores"
   ]
  },
  {
   "cell_type": "code",
   "execution_count": 35,
   "id": "5e691970-e4c1-4949-9aea-6713716713c5",
   "metadata": {
    "tags": []
   },
   "outputs": [
    {
     "data": {
      "text/plain": [
       "accuracy_score     0.799\n",
       "precision_score    0.687\n",
       "recall_score       0.474\n",
       "f1_score           0.561\n",
       "dtype: float64"
      ]
     },
     "execution_count": 35,
     "metadata": {},
     "output_type": "execute_result"
    }
   ],
   "source": [
    "mean_test_score = test_scores.mean()\n",
    "mean_test_score"
   ]
  },
  {
   "cell_type": "markdown",
   "id": "db982212-d545-40d3-ad4d-48a29eb6d3ec",
   "metadata": {},
   "source": [
    "### Log run"
   ]
  },
  {
   "cell_type": "code",
   "execution_count": 36,
   "id": "fd9f2362-1c46-4c5c-a7ad-db90def233e5",
   "metadata": {},
   "outputs": [],
   "source": [
    "# Data details\n",
    "data_details = {\"data_path\": DATA_PATH,\n",
    "                \"training_indices\": X_train.index.tolist(),\n",
    "                \"test_indices\": X_test.index.tolist(),\n",
    "                \"feature_names\": X_train.columns.tolist(),\n",
    "                \"target_names\": y_train.columns.tolist()}\n",
    "\n",
    "with open(os.path.join(LOG_PATH, LOG_DATA_PKL), \"wb\") as output_file:\n",
    "    pickle.dump(data_details, output_file)"
   ]
  },
  {
   "cell_type": "code",
   "execution_count": 37,
   "id": "b72ba67f-605f-48b5-afd8-f4779238b0de",
   "metadata": {},
   "outputs": [],
   "source": [
    "# Model details\n",
    "model = {\"model_description\": \"Ada-Boost Classifier\",\n",
    "         \"model_details\": str(adaboost),\n",
    "         \"model_object\": adaboost}\n",
    "\n",
    "with open(os.path.join(LOG_PATH, LOG_MODEL_PKL), \"wb\") as output_file:\n",
    "    pickle.dump(model, output_file)"
   ]
  },
  {
   "cell_type": "code",
   "execution_count": 38,
   "id": "28c8b310-1447-4d48-9244-8a527e649c36",
   "metadata": {},
   "outputs": [],
   "source": [
    "# Performance details\n",
    "regression_metrics = {\"train_scores\": train_scores,\n",
    "                      \"test_scores\": test_scores}\n",
    "\n",
    "with open(os.path.join(LOG_PATH, LOG_METRICS_PKL), \"wb\") as output_file:\n",
    "    pickle.dump(regression_metrics, output_file)"
   ]
  },
  {
   "cell_type": "markdown",
   "id": "c7fea61e-b3ea-4157-8a09-e688f2099ed7",
   "metadata": {},
   "source": [
    "### Logging"
   ]
  },
  {
   "cell_type": "code",
   "execution_count": 39,
   "id": "53de57ca-fa03-4b1b-a407-dc4d9a15ec1d",
   "metadata": {},
   "outputs": [],
   "source": [
    "# Start a new run and track\n",
    "with mlflow.start_run(experiment_id=exp.experiment_id, run_name=model[\"model_description\"]):\n",
    "    # log pickle\n",
    "    mlflow.log_artifacts(LOG_PATH)\n",
    "    \n",
    "    # Track metrics\n",
    "    for metric, score in mean_test_score.items():\n",
    "        mlflow.log_metric(metric, score)"
   ]
  },
  {
   "cell_type": "markdown",
   "id": "7ce8dcee-dd36-4a15-8448-c5a1a1f17d62",
   "metadata": {},
   "source": [
    "___\n",
    "## 3. XGBoost Classifier"
   ]
  },
  {
   "cell_type": "code",
   "execution_count": 40,
   "id": "8906ac96-c773-4646-a099-62543a49f271",
   "metadata": {},
   "outputs": [
    {
     "data": {
      "text/plain": [
       "Pipeline(steps=[('minmaxscaler', MinMaxScaler()),\n",
       "                ('xgbclassifier',\n",
       "                 XGBClassifier(base_score=0.5, booster='gbtree', callbacks=None,\n",
       "                               colsample_bylevel=1, colsample_bynode=1,\n",
       "                               colsample_bytree=1, early_stopping_rounds=None,\n",
       "                               enable_categorical=False, eval_metric=None,\n",
       "                               gamma=0, gpu_id=-1, grow_policy='depthwise',\n",
       "                               importance_type=None, interaction_constraints='',\n",
       "                               learning_rate=0.300000012, max_bin=256,\n",
       "                               max_cat_to_onehot=4, max_delta_step=0,\n",
       "                               max_depth=6, max_leaves=0, min_child_weight=1,\n",
       "                               missing=nan, monotone_constraints='()',\n",
       "                               n_estimators=100, n_jobs=0, num_parallel_tree=1,\n",
       "                               predictor='auto', random_state=0, reg_alpha=0,\n",
       "                               reg_lambda=1, ...))])"
      ]
     },
     "execution_count": 40,
     "metadata": {},
     "output_type": "execute_result"
    }
   ],
   "source": [
    "xgboost = make_pipeline(MinMaxScaler(),\n",
    "                    XGBClassifier())\n",
    "\n",
    "xgboost.fit(X_train.values, (y_train.values).reshape(-1,))"
   ]
  },
  {
   "cell_type": "markdown",
   "id": "77ffc7d4-69ea-4471-a25d-5126efd2fcd5",
   "metadata": {
    "tags": []
   },
   "source": [
    "### Evaluate on training data:"
   ]
  },
  {
   "cell_type": "code",
   "execution_count": 41,
   "id": "e535abeb-79b3-4cf0-8de4-3e68e49c1481",
   "metadata": {},
   "outputs": [
    {
     "data": {
      "text/html": [
       "<div>\n",
       "<style scoped>\n",
       "    .dataframe tbody tr th:only-of-type {\n",
       "        vertical-align: middle;\n",
       "    }\n",
       "\n",
       "    .dataframe tbody tr th {\n",
       "        vertical-align: top;\n",
       "    }\n",
       "\n",
       "    .dataframe thead th {\n",
       "        text-align: right;\n",
       "    }\n",
       "</style>\n",
       "<table border=\"1\" class=\"dataframe\">\n",
       "  <thead>\n",
       "    <tr style=\"text-align: right;\">\n",
       "      <th></th>\n",
       "      <th>accuracy_score</th>\n",
       "      <th>precision_score</th>\n",
       "      <th>recall_score</th>\n",
       "      <th>f1_score</th>\n",
       "    </tr>\n",
       "  </thead>\n",
       "  <tbody>\n",
       "    <tr>\n",
       "      <th>XGBoost</th>\n",
       "      <td>0.932</td>\n",
       "      <td>0.904</td>\n",
       "      <td>0.829</td>\n",
       "      <td>0.865</td>\n",
       "    </tr>\n",
       "  </tbody>\n",
       "</table>\n",
       "</div>"
      ],
      "text/plain": [
       "         accuracy_score  precision_score  recall_score  f1_score\n",
       "XGBoost           0.932            0.904         0.829     0.865"
      ]
     },
     "execution_count": 41,
     "metadata": {},
     "output_type": "execute_result"
    }
   ],
   "source": [
    "# Evaluate on training set:\n",
    "predictions = pd.DataFrame(xgboost.predict(X_train.values),\n",
    "                          columns=y_train.columns)\n",
    "\n",
    "train_scores = {score.__name__:calculate_quality(y_train, predictions, score, \"XGBoost\")\n",
    "                for score in [accuracy_score, precision_score, recall_score, f1_score]}\n",
    "\n",
    "train_scores = pd.concat(train_scores, axis=1)\n",
    "train_scores"
   ]
  },
  {
   "cell_type": "code",
   "execution_count": 42,
   "id": "17bb3f1c-99aa-47cc-ba37-4325cbb3ae76",
   "metadata": {},
   "outputs": [
    {
     "data": {
      "text/plain": [
       "accuracy_score     0.932\n",
       "precision_score    0.904\n",
       "recall_score       0.829\n",
       "f1_score           0.865\n",
       "dtype: float64"
      ]
     },
     "execution_count": 42,
     "metadata": {},
     "output_type": "execute_result"
    }
   ],
   "source": [
    "mean_train_score = train_scores.mean()\n",
    "mean_train_score"
   ]
  },
  {
   "cell_type": "markdown",
   "id": "f6e65211-846a-4a2c-9695-ae5bd6e0d7b2",
   "metadata": {
    "tags": []
   },
   "source": [
    "### Evaluate on testing data:"
   ]
  },
  {
   "cell_type": "code",
   "execution_count": 43,
   "id": "d83c8750-6c6c-4c47-addf-8f03605722dc",
   "metadata": {},
   "outputs": [
    {
     "data": {
      "text/html": [
       "<div>\n",
       "<style scoped>\n",
       "    .dataframe tbody tr th:only-of-type {\n",
       "        vertical-align: middle;\n",
       "    }\n",
       "\n",
       "    .dataframe tbody tr th {\n",
       "        vertical-align: top;\n",
       "    }\n",
       "\n",
       "    .dataframe thead th {\n",
       "        text-align: right;\n",
       "    }\n",
       "</style>\n",
       "<table border=\"1\" class=\"dataframe\">\n",
       "  <thead>\n",
       "    <tr style=\"text-align: right;\">\n",
       "      <th></th>\n",
       "      <th>accuracy_score</th>\n",
       "      <th>precision_score</th>\n",
       "      <th>recall_score</th>\n",
       "      <th>f1_score</th>\n",
       "    </tr>\n",
       "  </thead>\n",
       "  <tbody>\n",
       "    <tr>\n",
       "      <th>XGBoost</th>\n",
       "      <td>0.776</td>\n",
       "      <td>0.612</td>\n",
       "      <td>0.474</td>\n",
       "      <td>0.534</td>\n",
       "    </tr>\n",
       "  </tbody>\n",
       "</table>\n",
       "</div>"
      ],
      "text/plain": [
       "         accuracy_score  precision_score  recall_score  f1_score\n",
       "XGBoost           0.776            0.612         0.474     0.534"
      ]
     },
     "execution_count": 43,
     "metadata": {},
     "output_type": "execute_result"
    }
   ],
   "source": [
    "# Evaluate on training set:\n",
    "predictions = pd.DataFrame(xgboost.predict(X_test.values),\n",
    "                          columns=y_test.columns)\n",
    "\n",
    "test_scores = {score.__name__:calculate_quality(y_test, predictions, score, \"XGBoost\")\n",
    "                for score in [accuracy_score, precision_score, recall_score, f1_score]}\n",
    "\n",
    "test_scores = pd.concat(test_scores, axis=1)\n",
    "test_scores"
   ]
  },
  {
   "cell_type": "code",
   "execution_count": 44,
   "id": "1e8de0f9-25ba-4b12-9c03-a461aa2cedc8",
   "metadata": {},
   "outputs": [
    {
     "data": {
      "text/plain": [
       "accuracy_score     0.776\n",
       "precision_score    0.612\n",
       "recall_score       0.474\n",
       "f1_score           0.534\n",
       "dtype: float64"
      ]
     },
     "execution_count": 44,
     "metadata": {},
     "output_type": "execute_result"
    }
   ],
   "source": [
    "mean_test_score = test_scores.mean()\n",
    "mean_test_score"
   ]
  },
  {
   "cell_type": "markdown",
   "id": "de5f9861-c745-4adf-934c-e02d5d647a14",
   "metadata": {},
   "source": [
    "### Log run"
   ]
  },
  {
   "cell_type": "code",
   "execution_count": 45,
   "id": "a10bb61b-c003-4d28-98fc-9ed7753d1ecd",
   "metadata": {},
   "outputs": [],
   "source": [
    "# Data details\n",
    "data_details = {\"data_path\": DATA_PATH,\n",
    "                \"training_indices\": X_train.index.tolist(),\n",
    "                \"test_indices\": X_test.index.tolist(),\n",
    "                \"feature_names\": X_train.columns.tolist(),\n",
    "                \"target_names\": y_train.columns.tolist()}\n",
    "\n",
    "with open(os.path.join(LOG_PATH, LOG_DATA_PKL), \"wb\") as output_file:\n",
    "    pickle.dump(data_details, output_file)"
   ]
  },
  {
   "cell_type": "code",
   "execution_count": 46,
   "id": "efd3f561-e1c3-4088-9c2e-2cebb9d025b1",
   "metadata": {},
   "outputs": [],
   "source": [
    "# Model details\n",
    "model = {\"model_description\": \"XGBoost Classifier\",\n",
    "         \"model_details\": str(xgboost),\n",
    "         \"model_object\": xgboost}\n",
    "\n",
    "with open(os.path.join(LOG_PATH, LOG_MODEL_PKL), \"wb\") as output_file:\n",
    "    pickle.dump(model, output_file)"
   ]
  },
  {
   "cell_type": "code",
   "execution_count": 47,
   "id": "001b541e-d8d5-4976-a7a0-35fed56bed48",
   "metadata": {},
   "outputs": [],
   "source": [
    "# Performance details\n",
    "regression_metrics = {\"train_scores\": train_scores,\n",
    "                      \"test_scores\": test_scores}\n",
    "\n",
    "with open(os.path.join(LOG_PATH, LOG_METRICS_PKL), \"wb\") as output_file:\n",
    "    pickle.dump(regression_metrics, output_file)"
   ]
  },
  {
   "cell_type": "markdown",
   "id": "598de96e-7ab5-4b4a-94d3-35aa3ca403ce",
   "metadata": {},
   "source": [
    "### Logging"
   ]
  },
  {
   "cell_type": "code",
   "execution_count": 48,
   "id": "5c7a64ad-9da1-47bd-aabf-08d9304d59bd",
   "metadata": {},
   "outputs": [],
   "source": [
    "# Start a new run and track\n",
    "with mlflow.start_run(experiment_id=exp.experiment_id, run_name=model[\"model_description\"]):\n",
    "    # log pickle\n",
    "    mlflow.log_artifacts(LOG_PATH)\n",
    "    \n",
    "    # Track metrics\n",
    "    for metric, score in mean_test_score.items():\n",
    "        mlflow.log_metric(metric, score)"
   ]
  }
 ],
 "metadata": {
  "kernelspec": {
   "display_name": "Python 3 (ipykernel)",
   "language": "python",
   "name": "python3"
  },
  "language_info": {
   "codemirror_mode": {
    "name": "ipython",
    "version": 3
   },
   "file_extension": ".py",
   "mimetype": "text/x-python",
   "name": "python",
   "nbconvert_exporter": "python",
   "pygments_lexer": "ipython3",
   "version": "3.8.8"
  }
 },
 "nbformat": 4,
 "nbformat_minor": 5
}
