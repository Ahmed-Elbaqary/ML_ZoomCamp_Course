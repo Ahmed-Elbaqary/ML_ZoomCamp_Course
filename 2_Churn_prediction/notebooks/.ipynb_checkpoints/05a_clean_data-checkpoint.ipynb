{
 "cells": [
  {
   "cell_type": "code",
   "execution_count": 2,
   "id": "f4e52e95-ffa2-46ec-aeb8-8af9649b86c6",
   "metadata": {},
   "outputs": [],
   "source": [
    "DATA_PATH = \"../data/processed/01_features.pkl\"\n",
    "EXPORT_PATH = \"../data/processed/02_cleaned.pkl\""
   ]
  },
  {
   "cell_type": "code",
   "execution_count": 3,
   "id": "344d3b7f-849c-452c-9ce7-9516083fa5f2",
   "metadata": {},
   "outputs": [],
   "source": [
    "# Load packages\n",
    "import pandas as pd\n",
    "\n",
    "pd.options.display.max_columns=100"
   ]
  },
  {
   "cell_type": "markdown",
   "id": "a47e61e4-b8ec-4489-a762-6d757a42e139",
   "metadata": {},
   "source": [
    "___\n",
    "## Reading data"
   ]
  },
  {
   "cell_type": "code",
   "execution_count": 19,
   "id": "e9f38bc4-1fde-4bfe-9e75-be803bfd0a29",
   "metadata": {},
   "outputs": [],
   "source": [
    "df = pd.read_pickle(DATA_PATH)"
   ]
  },
  {
   "cell_type": "code",
   "execution_count": 20,
   "id": "023065a1-6019-4818-95f7-1e5a32cd85e5",
   "metadata": {},
   "outputs": [
    {
     "data": {
      "text/plain": [
       "seniorcitizen        0.00\n",
       "dependents           0.00\n",
       "tenure               2.00\n",
       "phoneservice         1.00\n",
       "multiplelines        1.00\n",
       "internetservice      1.00\n",
       "onlinesecurity       1.00\n",
       "onlinebackup         1.00\n",
       "deviceprotection     1.00\n",
       "techsupport          1.00\n",
       "streamingtv          1.00\n",
       "streamingmovies      1.00\n",
       "contract             0.00\n",
       "paperlessbilling     1.00\n",
       "paymentmethod        0.00\n",
       "monthlycharges      45.00\n",
       "totalcharges        89.75\n",
       "churn                0.00\n",
       "Name: 2482, dtype: float64"
      ]
     },
     "execution_count": 20,
     "metadata": {},
     "output_type": "execute_result"
    }
   ],
   "source": [
    "df.sample(1).iloc[0]"
   ]
  },
  {
   "cell_type": "markdown",
   "id": "0870238c-c89e-45c9-9fe2-c094064ec8f2",
   "metadata": {},
   "source": [
    "___\n",
    "## Check for duplicates and nulls:"
   ]
  },
  {
   "cell_type": "code",
   "execution_count": 21,
   "id": "eeb92ee6-fcc6-41d4-817e-cd526baa8fba",
   "metadata": {},
   "outputs": [
    {
     "data": {
      "text/plain": [
       "seniorcitizen       0\n",
       "dependents          0\n",
       "tenure              0\n",
       "phoneservice        0\n",
       "multiplelines       0\n",
       "internetservice     0\n",
       "onlinesecurity      0\n",
       "onlinebackup        0\n",
       "deviceprotection    0\n",
       "techsupport         0\n",
       "streamingtv         0\n",
       "streamingmovies     0\n",
       "contract            0\n",
       "paperlessbilling    0\n",
       "paymentmethod       0\n",
       "monthlycharges      0\n",
       "totalcharges        0\n",
       "churn               0\n",
       "dtype: int64"
      ]
     },
     "execution_count": 21,
     "metadata": {},
     "output_type": "execute_result"
    }
   ],
   "source": [
    "df.isnull().sum()"
   ]
  },
  {
   "cell_type": "markdown",
   "id": "f407c89e-10b4-48e2-a835-777ae9e92f46",
   "metadata": {},
   "source": [
    "**It seems that there is no nulls in this data**"
   ]
  },
  {
   "cell_type": "code",
   "execution_count": 22,
   "id": "cd4c8f6d-c2f1-49de-8fb0-364346687918",
   "metadata": {},
   "outputs": [
    {
     "data": {
      "text/plain": [
       "43"
      ]
     },
     "execution_count": 22,
     "metadata": {},
     "output_type": "execute_result"
    }
   ],
   "source": [
    "df.duplicated().sum()"
   ]
  },
  {
   "cell_type": "markdown",
   "id": "718ab592-0351-40a4-b7e9-63952d340459",
   "metadata": {},
   "source": [
    "**There is 43 duplicated observations, we will remove them**"
   ]
  },
  {
   "cell_type": "code",
   "execution_count": 23,
   "id": "24651de2-a0aa-4c50-ba2d-4b030b3a82f7",
   "metadata": {},
   "outputs": [
    {
     "data": {
      "text/plain": [
       "0.0    5174\n",
       "1.0    1869\n",
       "Name: churn, dtype: int64"
      ]
     },
     "execution_count": 23,
     "metadata": {},
     "output_type": "execute_result"
    }
   ],
   "source": [
    "df['churn'].value_counts()"
   ]
  },
  {
   "cell_type": "code",
   "execution_count": 24,
   "id": "ec2eade8-b6e3-4d15-920b-a811fe676090",
   "metadata": {},
   "outputs": [
    {
     "name": "stdout",
     "output_type": "stream",
     "text": [
      "Shape before dropping duplicates:  (7043, 18)\n",
      "Shape after dropping duplicates:  (7000, 18)\n"
     ]
    }
   ],
   "source": [
    "print(\"Shape before dropping duplicates: \", df.shape)\n",
    "\n",
    "df.drop_duplicates(inplace=True)\n",
    "\n",
    "print(\"Shape after dropping duplicates: \", df.shape)"
   ]
  },
  {
   "cell_type": "markdown",
   "id": "7715801b-7e88-4a27-ba24-e8408289ff12",
   "metadata": {},
   "source": [
    "___\n",
    "## Now check for balance of data"
   ]
  },
  {
   "cell_type": "code",
   "execution_count": 25,
   "id": "22ffce27-0840-4a5c-ba63-5a07a66b814a",
   "metadata": {},
   "outputs": [
    {
     "data": {
      "text/plain": [
       "0.0    5154\n",
       "1.0    1846\n",
       "Name: churn, dtype: int64"
      ]
     },
     "execution_count": 25,
     "metadata": {},
     "output_type": "execute_result"
    }
   ],
   "source": [
    "df['churn'].value_counts()"
   ]
  },
  {
   "cell_type": "markdown",
   "id": "8195b4c9-7368-4ff8-af4d-3cbff75e3def",
   "metadata": {},
   "source": [
    "**All of the duplicates are of the churn class, we will need to deal with this imbalance with either smothing or just resampling without any synthetic data.**\n",
    "\n",
    "___\n",
    "## Export data"
   ]
  },
  {
   "cell_type": "code",
   "execution_count": 27,
   "id": "076cc353-7938-47a9-b114-5e87dcf668cb",
   "metadata": {},
   "outputs": [],
   "source": [
    "df.to_pickle(EXPORT_PATH)"
   ]
  }
 ],
 "metadata": {
  "kernelspec": {
   "display_name": "Python 3 (ipykernel)",
   "language": "python",
   "name": "python3"
  },
  "language_info": {
   "codemirror_mode": {
    "name": "ipython",
    "version": 3
   },
   "file_extension": ".py",
   "mimetype": "text/x-python",
   "name": "python",
   "nbconvert_exporter": "python",
   "pygments_lexer": "ipython3",
   "version": "3.8.8"
  }
 },
 "nbformat": 4,
 "nbformat_minor": 5
}
