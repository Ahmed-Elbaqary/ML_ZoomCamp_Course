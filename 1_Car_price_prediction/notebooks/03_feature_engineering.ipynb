{
 "cells": [
  {
   "cell_type": "code",
   "execution_count": 1,
   "id": "2795805a-cfb4-4bd0-956b-dc85a817b6b2",
   "metadata": {},
   "outputs": [],
   "source": [
    "DATA_PATH = \"../data/processed/00_preprocessed.pkl\"\n",
    "EXPORT_PATH = \"../data/processed/01_OHE_data.pkl\"\n",
    "\n",
    "DROP_COLS = [\"model\", \"engine_fuel_type\", \"driven_wheels\",\n",
    "             \"number_of_doors\", \"market_category\",\n",
    "             \"vehicle_size\", \"vehicle_style\", \"popularity\"]\n",
    "\n",
    "TRANSMISSION_DICT = {'manual': 1, 'automatic': 2,\n",
    "                     'automated_manual': 3, 'direct_drive':4}\n",
    "\n"
   ]
  },
  {
   "cell_type": "code",
   "execution_count": 2,
   "id": "ff67a14d-9f6d-4882-929d-769661b1322a",
   "metadata": {},
   "outputs": [],
   "source": [
    "# Load packages\n",
    "import pandas as pd\n",
    "import numpy as np\n",
    "\n",
    "from sklearn.preprocessing import OneHotEncoder"
   ]
  },
  {
   "cell_type": "markdown",
   "id": "026ab2dd-4ee3-4056-818a-cff35f8a23f3",
   "metadata": {},
   "source": [
    "___\n",
    "## Reading data:"
   ]
  },
  {
   "cell_type": "code",
   "execution_count": 3,
   "id": "666368f2-fd3b-437a-bc47-492cb7d73899",
   "metadata": {},
   "outputs": [],
   "source": [
    "df = pd.read_pickle(DATA_PATH)"
   ]
  },
  {
   "cell_type": "code",
   "execution_count": 4,
   "id": "3876873e-8dce-44ea-9ff5-9b10571b9b2d",
   "metadata": {},
   "outputs": [
    {
     "data": {
      "text/html": [
       "<div>\n",
       "<style scoped>\n",
       "    .dataframe tbody tr th:only-of-type {\n",
       "        vertical-align: middle;\n",
       "    }\n",
       "\n",
       "    .dataframe tbody tr th {\n",
       "        vertical-align: top;\n",
       "    }\n",
       "\n",
       "    .dataframe thead th {\n",
       "        text-align: right;\n",
       "    }\n",
       "</style>\n",
       "<table border=\"1\" class=\"dataframe\">\n",
       "  <thead>\n",
       "    <tr style=\"text-align: right;\">\n",
       "      <th></th>\n",
       "      <th>make</th>\n",
       "      <th>model</th>\n",
       "      <th>year</th>\n",
       "      <th>engine_fuel_type</th>\n",
       "      <th>engine_hp</th>\n",
       "      <th>engine_cylinders</th>\n",
       "      <th>transmission_type</th>\n",
       "      <th>driven_wheels</th>\n",
       "      <th>number_of_doors</th>\n",
       "      <th>market_category</th>\n",
       "      <th>vehicle_size</th>\n",
       "      <th>vehicle_style</th>\n",
       "      <th>highway_mpg</th>\n",
       "      <th>city_mpg</th>\n",
       "      <th>popularity</th>\n",
       "      <th>msrp</th>\n",
       "    </tr>\n",
       "  </thead>\n",
       "  <tbody>\n",
       "    <tr>\n",
       "      <th>0</th>\n",
       "      <td>bmw</td>\n",
       "      <td>1_series_m</td>\n",
       "      <td>2011</td>\n",
       "      <td>premium_unleaded_(required)</td>\n",
       "      <td>335.0</td>\n",
       "      <td>6.0</td>\n",
       "      <td>manual</td>\n",
       "      <td>rear_wheel_drive</td>\n",
       "      <td>2.0</td>\n",
       "      <td>factory_tuner,luxury,high-performance</td>\n",
       "      <td>compact</td>\n",
       "      <td>coupe</td>\n",
       "      <td>26</td>\n",
       "      <td>19</td>\n",
       "      <td>3916</td>\n",
       "      <td>46135</td>\n",
       "    </tr>\n",
       "    <tr>\n",
       "      <th>1</th>\n",
       "      <td>bmw</td>\n",
       "      <td>1_series</td>\n",
       "      <td>2011</td>\n",
       "      <td>premium_unleaded_(required)</td>\n",
       "      <td>300.0</td>\n",
       "      <td>6.0</td>\n",
       "      <td>manual</td>\n",
       "      <td>rear_wheel_drive</td>\n",
       "      <td>2.0</td>\n",
       "      <td>luxury,performance</td>\n",
       "      <td>compact</td>\n",
       "      <td>convertible</td>\n",
       "      <td>28</td>\n",
       "      <td>19</td>\n",
       "      <td>3916</td>\n",
       "      <td>40650</td>\n",
       "    </tr>\n",
       "    <tr>\n",
       "      <th>2</th>\n",
       "      <td>bmw</td>\n",
       "      <td>1_series</td>\n",
       "      <td>2011</td>\n",
       "      <td>premium_unleaded_(required)</td>\n",
       "      <td>300.0</td>\n",
       "      <td>6.0</td>\n",
       "      <td>manual</td>\n",
       "      <td>rear_wheel_drive</td>\n",
       "      <td>2.0</td>\n",
       "      <td>luxury,high-performance</td>\n",
       "      <td>compact</td>\n",
       "      <td>coupe</td>\n",
       "      <td>28</td>\n",
       "      <td>20</td>\n",
       "      <td>3916</td>\n",
       "      <td>36350</td>\n",
       "    </tr>\n",
       "    <tr>\n",
       "      <th>3</th>\n",
       "      <td>bmw</td>\n",
       "      <td>1_series</td>\n",
       "      <td>2011</td>\n",
       "      <td>premium_unleaded_(required)</td>\n",
       "      <td>230.0</td>\n",
       "      <td>6.0</td>\n",
       "      <td>manual</td>\n",
       "      <td>rear_wheel_drive</td>\n",
       "      <td>2.0</td>\n",
       "      <td>luxury,performance</td>\n",
       "      <td>compact</td>\n",
       "      <td>coupe</td>\n",
       "      <td>28</td>\n",
       "      <td>18</td>\n",
       "      <td>3916</td>\n",
       "      <td>29450</td>\n",
       "    </tr>\n",
       "    <tr>\n",
       "      <th>4</th>\n",
       "      <td>bmw</td>\n",
       "      <td>1_series</td>\n",
       "      <td>2011</td>\n",
       "      <td>premium_unleaded_(required)</td>\n",
       "      <td>230.0</td>\n",
       "      <td>6.0</td>\n",
       "      <td>manual</td>\n",
       "      <td>rear_wheel_drive</td>\n",
       "      <td>2.0</td>\n",
       "      <td>luxury</td>\n",
       "      <td>compact</td>\n",
       "      <td>convertible</td>\n",
       "      <td>28</td>\n",
       "      <td>18</td>\n",
       "      <td>3916</td>\n",
       "      <td>34500</td>\n",
       "    </tr>\n",
       "  </tbody>\n",
       "</table>\n",
       "</div>"
      ],
      "text/plain": [
       "  make       model  year             engine_fuel_type  engine_hp  \\\n",
       "0  bmw  1_series_m  2011  premium_unleaded_(required)      335.0   \n",
       "1  bmw    1_series  2011  premium_unleaded_(required)      300.0   \n",
       "2  bmw    1_series  2011  premium_unleaded_(required)      300.0   \n",
       "3  bmw    1_series  2011  premium_unleaded_(required)      230.0   \n",
       "4  bmw    1_series  2011  premium_unleaded_(required)      230.0   \n",
       "\n",
       "   engine_cylinders transmission_type     driven_wheels  number_of_doors  \\\n",
       "0               6.0            manual  rear_wheel_drive              2.0   \n",
       "1               6.0            manual  rear_wheel_drive              2.0   \n",
       "2               6.0            manual  rear_wheel_drive              2.0   \n",
       "3               6.0            manual  rear_wheel_drive              2.0   \n",
       "4               6.0            manual  rear_wheel_drive              2.0   \n",
       "\n",
       "                         market_category vehicle_size vehicle_style  \\\n",
       "0  factory_tuner,luxury,high-performance      compact         coupe   \n",
       "1                     luxury,performance      compact   convertible   \n",
       "2                luxury,high-performance      compact         coupe   \n",
       "3                     luxury,performance      compact         coupe   \n",
       "4                                 luxury      compact   convertible   \n",
       "\n",
       "   highway_mpg  city_mpg  popularity   msrp  \n",
       "0           26        19        3916  46135  \n",
       "1           28        19        3916  40650  \n",
       "2           28        20        3916  36350  \n",
       "3           28        18        3916  29450  \n",
       "4           28        18        3916  34500  "
      ]
     },
     "execution_count": 4,
     "metadata": {},
     "output_type": "execute_result"
    }
   ],
   "source": [
    "df.head()"
   ]
  },
  {
   "cell_type": "markdown",
   "id": "419bf0f6-de8f-4ab6-8075-65ff33990653",
   "metadata": {},
   "source": [
    "___\n",
    "### Construct a list changer for the year columns:"
   ]
  },
  {
   "cell_type": "code",
   "execution_count": 5,
   "id": "a1b6e90f-2ea9-4479-ae5c-6a3ce37964a7",
   "metadata": {},
   "outputs": [
    {
     "data": {
      "text/plain": [
       "{1990: 1,\n",
       " 1991: 2,\n",
       " 1992: 3,\n",
       " 1993: 4,\n",
       " 1994: 5,\n",
       " 1995: 6,\n",
       " 1996: 7,\n",
       " 1997: 8,\n",
       " 1998: 9,\n",
       " 1999: 10,\n",
       " 2000: 11,\n",
       " 2001: 12,\n",
       " 2002: 13,\n",
       " 2003: 14,\n",
       " 2004: 15,\n",
       " 2005: 16,\n",
       " 2006: 17,\n",
       " 2007: 18,\n",
       " 2008: 19,\n",
       " 2009: 20,\n",
       " 2010: 21,\n",
       " 2011: 22,\n",
       " 2012: 23,\n",
       " 2013: 24,\n",
       " 2014: 25,\n",
       " 2015: 26,\n",
       " 2016: 27,\n",
       " 2017: 28}"
      ]
     },
     "execution_count": 5,
     "metadata": {},
     "output_type": "execute_result"
    }
   ],
   "source": [
    "lst = sorted(df.year.unique().tolist())\n",
    "YEAR_DICT = {n: i+1 for i, n in enumerate(lst)}\n",
    "YEAR_DICT"
   ]
  },
  {
   "cell_type": "markdown",
   "id": "2e621f7c-f964-427c-80d5-4d4f0b7c27f3",
   "metadata": {},
   "source": [
    "___\n",
    "## Dropping irrelevant features:"
   ]
  },
  {
   "cell_type": "code",
   "execution_count": 6,
   "id": "64b8213b-b1dc-4582-a2b3-f91bb98f0232",
   "metadata": {},
   "outputs": [
    {
     "data": {
      "text/html": [
       "<div>\n",
       "<style scoped>\n",
       "    .dataframe tbody tr th:only-of-type {\n",
       "        vertical-align: middle;\n",
       "    }\n",
       "\n",
       "    .dataframe tbody tr th {\n",
       "        vertical-align: top;\n",
       "    }\n",
       "\n",
       "    .dataframe thead th {\n",
       "        text-align: right;\n",
       "    }\n",
       "</style>\n",
       "<table border=\"1\" class=\"dataframe\">\n",
       "  <thead>\n",
       "    <tr style=\"text-align: right;\">\n",
       "      <th></th>\n",
       "      <th>make</th>\n",
       "      <th>year</th>\n",
       "      <th>engine_hp</th>\n",
       "      <th>engine_cylinders</th>\n",
       "      <th>transmission_type</th>\n",
       "      <th>highway_mpg</th>\n",
       "      <th>city_mpg</th>\n",
       "      <th>msrp</th>\n",
       "    </tr>\n",
       "  </thead>\n",
       "  <tbody>\n",
       "    <tr>\n",
       "      <th>0</th>\n",
       "      <td>bmw</td>\n",
       "      <td>2011</td>\n",
       "      <td>335.0</td>\n",
       "      <td>6.0</td>\n",
       "      <td>manual</td>\n",
       "      <td>26</td>\n",
       "      <td>19</td>\n",
       "      <td>46135</td>\n",
       "    </tr>\n",
       "    <tr>\n",
       "      <th>1</th>\n",
       "      <td>bmw</td>\n",
       "      <td>2011</td>\n",
       "      <td>300.0</td>\n",
       "      <td>6.0</td>\n",
       "      <td>manual</td>\n",
       "      <td>28</td>\n",
       "      <td>19</td>\n",
       "      <td>40650</td>\n",
       "    </tr>\n",
       "    <tr>\n",
       "      <th>2</th>\n",
       "      <td>bmw</td>\n",
       "      <td>2011</td>\n",
       "      <td>300.0</td>\n",
       "      <td>6.0</td>\n",
       "      <td>manual</td>\n",
       "      <td>28</td>\n",
       "      <td>20</td>\n",
       "      <td>36350</td>\n",
       "    </tr>\n",
       "    <tr>\n",
       "      <th>3</th>\n",
       "      <td>bmw</td>\n",
       "      <td>2011</td>\n",
       "      <td>230.0</td>\n",
       "      <td>6.0</td>\n",
       "      <td>manual</td>\n",
       "      <td>28</td>\n",
       "      <td>18</td>\n",
       "      <td>29450</td>\n",
       "    </tr>\n",
       "    <tr>\n",
       "      <th>4</th>\n",
       "      <td>bmw</td>\n",
       "      <td>2011</td>\n",
       "      <td>230.0</td>\n",
       "      <td>6.0</td>\n",
       "      <td>manual</td>\n",
       "      <td>28</td>\n",
       "      <td>18</td>\n",
       "      <td>34500</td>\n",
       "    </tr>\n",
       "  </tbody>\n",
       "</table>\n",
       "</div>"
      ],
      "text/plain": [
       "  make  year  engine_hp  engine_cylinders transmission_type  highway_mpg  \\\n",
       "0  bmw  2011      335.0               6.0            manual           26   \n",
       "1  bmw  2011      300.0               6.0            manual           28   \n",
       "2  bmw  2011      300.0               6.0            manual           28   \n",
       "3  bmw  2011      230.0               6.0            manual           28   \n",
       "4  bmw  2011      230.0               6.0            manual           28   \n",
       "\n",
       "   city_mpg   msrp  \n",
       "0        19  46135  \n",
       "1        19  40650  \n",
       "2        20  36350  \n",
       "3        18  29450  \n",
       "4        18  34500  "
      ]
     },
     "execution_count": 6,
     "metadata": {},
     "output_type": "execute_result"
    }
   ],
   "source": [
    "df.drop(DROP_COLS, axis=1, inplace=True)\n",
    "df.head()"
   ]
  },
  {
   "cell_type": "markdown",
   "id": "b6353f99-41a7-4955-8fde-c8a894db748b",
   "metadata": {},
   "source": [
    "___\n",
    "### replace values for tranmsission type and year columns:"
   ]
  },
  {
   "cell_type": "code",
   "execution_count": 7,
   "id": "1a6ab8f3-c473-435d-b674-a59f9b7c768a",
   "metadata": {},
   "outputs": [],
   "source": [
    "df.replace(TRANSMISSION_DICT, inplace=True)"
   ]
  },
  {
   "cell_type": "code",
   "execution_count": 8,
   "id": "0aa87f5e-6219-4116-8654-56e3fe996d5e",
   "metadata": {},
   "outputs": [],
   "source": [
    "df.replace(YEAR_DICT, inplace=True)"
   ]
  },
  {
   "cell_type": "markdown",
   "id": "146de423-bdff-4ca1-bbc9-b4bc11d2f57e",
   "metadata": {},
   "source": [
    "**Note we have some columns with 'unknown' value in the transmission type columns so we will need to remove it in cleaning phase**"
   ]
  },
  {
   "cell_type": "markdown",
   "id": "0bda44aa-faa6-4040-b5ad-a5fe4f18ebef",
   "metadata": {},
   "source": [
    "___\n",
    "## Transforming columns:\n",
    "**Including the highway_mpg and city_mpg columns into one column that represents the mean speed of both and then applying minmaxscaler into it**"
   ]
  },
  {
   "cell_type": "code",
   "execution_count": 9,
   "id": "a53599bb-e5ac-4848-b57a-7ae27f414ade",
   "metadata": {},
   "outputs": [],
   "source": [
    "df['speed'] = (df['highway_mpg'] + df['city_mpg']) / 2"
   ]
  },
  {
   "cell_type": "markdown",
   "id": "bcd72814-be3d-4718-add9-1fb437af309f",
   "metadata": {
    "tags": []
   },
   "source": [
    "___\n",
    "## OneHotEncoding the 'make' column:"
   ]
  },
  {
   "cell_type": "code",
   "execution_count": 10,
   "id": "9f1aa1e6-1649-4c8f-bad9-dce37de2cadf",
   "metadata": {},
   "outputs": [],
   "source": [
    "# Building the onehotencoder\n",
    "ohe = OneHotEncoder(handle_unknown='ignore')\n",
    "\n",
    "# Fitting and transforming the data\n",
    "ohe.fit(df[['make']])\n",
    "transformed = ohe.transform(df[['make']])\n",
    "\n",
    "# Merging the new columns into the dataframe\n",
    "df[ohe.categories_[0]] = transformed.toarray()"
   ]
  },
  {
   "cell_type": "code",
   "execution_count": 11,
   "id": "e94e1b3d-51cd-4408-8879-5f6e500e4ae3",
   "metadata": {},
   "outputs": [
    {
     "data": {
      "text/plain": [
       "array([0., 0., 0., 0., 0., 1., 0., 0., 0., 0., 0., 0., 0., 0., 0., 0., 0.,\n",
       "       0., 0., 0., 0., 0., 0., 0., 0., 0., 0., 0., 0., 0., 0., 0., 0., 0.,\n",
       "       0., 0., 0., 0., 0., 0., 0., 0., 0., 0., 0., 0., 0., 0.])"
      ]
     },
     "execution_count": 11,
     "metadata": {},
     "output_type": "execute_result"
    }
   ],
   "source": [
    "transformed.toarray()[0]"
   ]
  },
  {
   "cell_type": "code",
   "execution_count": 12,
   "id": "2b22c331-1d8f-4e31-8003-e6f49f104d80",
   "metadata": {},
   "outputs": [
    {
     "name": "stdout",
     "output_type": "stream",
     "text": [
      "['acura' 'alfa_romeo' 'aston_martin' 'audi' 'bentley' 'bmw' 'bugatti'\n",
      " 'buick' 'cadillac' 'chevrolet' 'chrysler' 'dodge' 'ferrari' 'fiat' 'ford'\n",
      " 'genesis' 'gmc' 'honda' 'hummer' 'hyundai' 'infiniti' 'kia' 'lamborghini'\n",
      " 'land_rover' 'lexus' 'lincoln' 'lotus' 'maserati' 'maybach' 'mazda'\n",
      " 'mclaren' 'mercedes-benz' 'mitsubishi' 'nissan' 'oldsmobile' 'plymouth'\n",
      " 'pontiac' 'porsche' 'rolls-royce' 'saab' 'scion' 'spyker' 'subaru'\n",
      " 'suzuki' 'tesla' 'toyota' 'volkswagen' 'volvo']\n"
     ]
    }
   ],
   "source": [
    "print(ohe.categories_[0])"
   ]
  },
  {
   "cell_type": "markdown",
   "id": "38d9ea12-2164-4a3a-abe2-45c8e987da2a",
   "metadata": {},
   "source": [
    "___\n",
    "## Showing some sample from the dataframe after transforming and feature engineering:"
   ]
  },
  {
   "cell_type": "code",
   "execution_count": 13,
   "id": "309e1e44-b9b9-44df-a742-caa4f29bd9ea",
   "metadata": {},
   "outputs": [
    {
     "data": {
      "text/plain": [
       "make                 nissan\n",
       "year                     26\n",
       "engine_hp             261.0\n",
       "engine_cylinders        6.0\n",
       "transmission_type         2\n",
       "highway_mpg              22\n",
       "city_mpg                 16\n",
       "msrp                  25670\n",
       "speed                  19.0\n",
       "acura                   0.0\n",
       "alfa_romeo              0.0\n",
       "aston_martin            0.0\n",
       "audi                    0.0\n",
       "bentley                 0.0\n",
       "bmw                     0.0\n",
       "bugatti                 0.0\n",
       "buick                   0.0\n",
       "cadillac                0.0\n",
       "chevrolet               0.0\n",
       "chrysler                0.0\n",
       "dodge                   0.0\n",
       "ferrari                 0.0\n",
       "fiat                    0.0\n",
       "ford                    0.0\n",
       "genesis                 0.0\n",
       "gmc                     0.0\n",
       "honda                   0.0\n",
       "hummer                  0.0\n",
       "hyundai                 0.0\n",
       "infiniti                0.0\n",
       "kia                     0.0\n",
       "lamborghini             0.0\n",
       "land_rover              0.0\n",
       "lexus                   0.0\n",
       "lincoln                 0.0\n",
       "lotus                   0.0\n",
       "maserati                0.0\n",
       "maybach                 0.0\n",
       "mazda                   0.0\n",
       "mclaren                 0.0\n",
       "mercedes-benz           0.0\n",
       "mitsubishi              0.0\n",
       "nissan                  1.0\n",
       "oldsmobile              0.0\n",
       "plymouth                0.0\n",
       "pontiac                 0.0\n",
       "porsche                 0.0\n",
       "rolls-royce             0.0\n",
       "saab                    0.0\n",
       "scion                   0.0\n",
       "spyker                  0.0\n",
       "subaru                  0.0\n",
       "suzuki                  0.0\n",
       "tesla                   0.0\n",
       "toyota                  0.0\n",
       "volkswagen              0.0\n",
       "volvo                   0.0\n",
       "Name: 11764, dtype: object"
      ]
     },
     "execution_count": 13,
     "metadata": {},
     "output_type": "execute_result"
    }
   ],
   "source": [
    "df.sample(1).iloc[0]"
   ]
  },
  {
   "cell_type": "markdown",
   "id": "6fb593b2-a67b-4be0-87c5-93c0c6bf14f5",
   "metadata": {},
   "source": [
    "___\n",
    "## Now dropping tables that wont be used in our model:"
   ]
  },
  {
   "cell_type": "code",
   "execution_count": 14,
   "id": "a4f609f6-b3dd-4e41-bae3-06785ddfd2b9",
   "metadata": {},
   "outputs": [],
   "source": [
    "DROPINGS = [\"make\", \"highway_mpg\", \"city_mpg\"]\n",
    "df.drop(DROPINGS, axis=1, inplace=True)"
   ]
  },
  {
   "cell_type": "code",
   "execution_count": 15,
   "id": "34665bcc-4415-4c82-aa21-cdefea8f98dc",
   "metadata": {},
   "outputs": [
    {
     "data": {
      "text/plain": [
       "year                    11\n",
       "engine_hp            170.0\n",
       "engine_cylinders       6.0\n",
       "transmission_type        1\n",
       "msrp                  2234\n",
       "speed                 22.0\n",
       "acura                  0.0\n",
       "alfa_romeo             0.0\n",
       "aston_martin           0.0\n",
       "audi                   0.0\n",
       "bentley                0.0\n",
       "bmw                    0.0\n",
       "bugatti                0.0\n",
       "buick                  0.0\n",
       "cadillac               0.0\n",
       "chevrolet              0.0\n",
       "chrysler               0.0\n",
       "dodge                  0.0\n",
       "ferrari                0.0\n",
       "fiat                   0.0\n",
       "ford                   0.0\n",
       "genesis                0.0\n",
       "gmc                    0.0\n",
       "honda                  0.0\n",
       "hummer                 0.0\n",
       "hyundai                0.0\n",
       "infiniti               0.0\n",
       "kia                    0.0\n",
       "lamborghini            0.0\n",
       "land_rover             0.0\n",
       "lexus                  0.0\n",
       "lincoln                0.0\n",
       "lotus                  0.0\n",
       "maserati               0.0\n",
       "maybach                0.0\n",
       "mazda                  1.0\n",
       "mclaren                0.0\n",
       "mercedes-benz          0.0\n",
       "mitsubishi             0.0\n",
       "nissan                 0.0\n",
       "oldsmobile             0.0\n",
       "plymouth               0.0\n",
       "pontiac                0.0\n",
       "porsche                0.0\n",
       "rolls-royce            0.0\n",
       "saab                   0.0\n",
       "scion                  0.0\n",
       "spyker                 0.0\n",
       "subaru                 0.0\n",
       "suzuki                 0.0\n",
       "tesla                  0.0\n",
       "toyota                 0.0\n",
       "volkswagen             0.0\n",
       "volvo                  0.0\n",
       "Name: 686, dtype: object"
      ]
     },
     "execution_count": 15,
     "metadata": {},
     "output_type": "execute_result"
    }
   ],
   "source": [
    "df.sample(1).iloc[0]"
   ]
  },
  {
   "cell_type": "markdown",
   "id": "ac8e9d5f-4cc9-4c28-bbc9-4246fd9a1906",
   "metadata": {},
   "source": [
    "___\n",
    "## Export DataFrame:"
   ]
  },
  {
   "cell_type": "code",
   "execution_count": 16,
   "id": "1e839aeb-bfc7-4322-a810-1557abdc588e",
   "metadata": {},
   "outputs": [],
   "source": [
    "df.to_pickle(EXPORT_PATH)"
   ]
  }
 ],
 "metadata": {
  "kernelspec": {
   "display_name": "Python 3 (ipykernel)",
   "language": "python",
   "name": "python3"
  },
  "language_info": {
   "codemirror_mode": {
    "name": "ipython",
    "version": 3
   },
   "file_extension": ".py",
   "mimetype": "text/x-python",
   "name": "python",
   "nbconvert_exporter": "python",
   "pygments_lexer": "ipython3",
   "version": "3.8.8"
  }
 },
 "nbformat": 4,
 "nbformat_minor": 5
}
