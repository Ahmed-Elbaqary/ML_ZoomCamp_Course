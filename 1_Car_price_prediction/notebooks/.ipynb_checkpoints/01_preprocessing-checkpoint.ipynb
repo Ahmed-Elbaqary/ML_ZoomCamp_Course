{
 "cells": [
  {
   "cell_type": "code",
   "execution_count": 4,
   "id": "041007f8-a627-44e8-9479-e3877275e798",
   "metadata": {},
   "outputs": [],
   "source": [
    "DATA_PATH = \"../data/raw/car_price.csv\""
   ]
  },
  {
   "cell_type": "code",
   "execution_count": 36,
   "id": "07b19e76-338e-41d3-9b43-f8dfd57b0d5b",
   "metadata": {},
   "outputs": [],
   "source": [
    "# load packages\n",
    "import pandas as pd\n",
    "import numpy as np\n",
    "\n",
    "pd.options.display.max_columns=100"
   ]
  },
  {
   "cell_type": "markdown",
   "id": "db552694-af53-49d9-8993-ba40b6b25953",
   "metadata": {
    "tags": []
   },
   "source": [
    "## Reading data"
   ]
  },
  {
   "cell_type": "code",
   "execution_count": 42,
   "id": "d3c7ad88-8f33-4651-983c-4d35db9e6834",
   "metadata": {},
   "outputs": [],
   "source": [
    "raw_df = pd.read_csv(DATA_PATH)\n",
    "df = raw_df.copy()"
   ]
  },
  {
   "cell_type": "markdown",
   "id": "ee1a4c0d-951a-4170-ac9b-dd8fc45abe17",
   "metadata": {
    "tags": []
   },
   "source": [
    "## Modify columns names"
   ]
  },
  {
   "cell_type": "code",
   "execution_count": 43,
   "id": "1998d251-4737-4e3f-a6e7-a0947e0b2790",
   "metadata": {},
   "outputs": [
    {
     "data": {
      "text/plain": [
       "['make',\n",
       " 'model',\n",
       " 'year',\n",
       " 'engine_fuel_type',\n",
       " 'engine_hp',\n",
       " 'engine_cylinders',\n",
       " 'transmission_type',\n",
       " 'driven_wheels',\n",
       " 'number_of_doors',\n",
       " 'market_category',\n",
       " 'vehicle_size',\n",
       " 'vehicle_style',\n",
       " 'highway_mpg',\n",
       " 'city_mpg',\n",
       " 'popularity',\n",
       " 'msrp']"
      ]
     },
     "execution_count": 43,
     "metadata": {},
     "output_type": "execute_result"
    }
   ],
   "source": [
    "# First we change the column names\n",
    "df.columns = df.columns.str.lower().str.replace(\" \", \"_\")\n",
    "df.columns.tolist()"
   ]
  },
  {
   "cell_type": "markdown",
   "id": "d7cf1e4f-6a75-48c3-9a07-5cf7adf9e302",
   "metadata": {},
   "source": [
    "## replace the space in values with '_'"
   ]
  },
  {
   "cell_type": "code",
   "execution_count": 48,
   "id": "a846c8d6-797a-489a-be4d-9487b8de3a78",
   "metadata": {},
   "outputs": [
    {
     "name": "stdout",
     "output_type": "stream",
     "text": [
      "['make', 'model', 'engine_fuel_type', 'transmission_type', 'driven_wheels', 'market_category', 'vehicle_size', 'vehicle_style']\n",
      "=============================\n",
      "make ['BMW' 'Audi' 'FIAT' 'Mercedes-Benz' 'Chrysler']\n",
      "-------------------------\n",
      "model ['1_Series_M' '1_Series' '100' '124_Spider' '190-Class']\n",
      "-------------------------\n",
      "engine_fuel_type ['premium_unleaded_(required)' 'regular_unleaded'\n",
      " 'premium_unleaded_(recommended)' 'flex-fuel_(unleaded/E85)' 'diesel']\n",
      "-------------------------\n",
      "transmission_type ['MANUAL' 'AUTOMATIC' 'AUTOMATED_MANUAL' 'DIRECT_DRIVE' 'UNKNOWN']\n",
      "-------------------------\n",
      "driven_wheels ['rear_wheel_drive' 'front_wheel_drive' 'all_wheel_drive'\n",
      " 'four_wheel_drive']\n",
      "-------------------------\n",
      "market_category ['Factory_Tuner,Luxury,High-Performance' 'Luxury,Performance'\n",
      " 'Luxury,High-Performance' 'Luxury' 'Performance']\n",
      "-------------------------\n",
      "vehicle_size ['Compact' 'Midsize' 'Large']\n",
      "-------------------------\n",
      "vehicle_style ['Coupe' 'Convertible' 'Sedan' 'Wagon' '4dr_Hatchback']\n",
      "-------------------------\n"
     ]
    }
   ],
   "source": [
    "string_cols = list(df.dtypes[df.dtypes == \"object\"].index)\n",
    "print(string_cols)\n",
    "print(\"=============================\")\n",
    "for col in string_cols:\n",
    "    df[col] = df[col].str.replace(\" \", \"_\")\n",
    "    print(col, df[col].unique()[:5])\n",
    "    print(\"-------------------------\")"
   ]
  },
  {
   "cell_type": "markdown",
   "id": "bd614d74-7f1a-4630-b612-dedbacf08da1",
   "metadata": {
    "tags": []
   },
   "source": [
    "# Replace nan value in columns with 0"
   ]
  },
  {
   "cell_type": "code",
   "execution_count": 50,
   "id": "9fb998cc-2acc-478e-9747-b06147f589b1",
   "metadata": {},
   "outputs": [],
   "source": [
    "df.engine_cylinders = df.engine_cylinders.replace(np.nan, 0)"
   ]
  },
  {
   "cell_type": "code",
   "execution_count": 51,
   "id": "8d93a4e1-aef3-4c13-83f5-4ca4a1f5c415",
   "metadata": {},
   "outputs": [
    {
     "data": {
      "text/plain": [
       "array([ 6.,  4.,  5.,  8., 12.,  0., 10.,  3., 16.])"
      ]
     },
     "execution_count": 51,
     "metadata": {},
     "output_type": "execute_result"
    }
   ],
   "source": [
    "df.engine_cylinders.unique()"
   ]
  },
  {
   "cell_type": "code",
   "execution_count": 52,
   "id": "330a8ebf-1cf1-4fe8-b431-98d281afa1d9",
   "metadata": {},
   "outputs": [
    {
     "data": {
      "text/plain": [
       "539     Compact\n",
       "540     Compact\n",
       "541     Compact\n",
       "1680    Compact\n",
       "1681    Compact\n",
       "         ...   \n",
       "9868    Compact\n",
       "9869    Compact\n",
       "9870    Compact\n",
       "9871    Compact\n",
       "9872    Compact\n",
       "Name: vehicle_size, Length: 86, dtype: object"
      ]
     },
     "execution_count": 52,
     "metadata": {},
     "output_type": "execute_result"
    }
   ],
   "source": [
    "df.vehicle_size[df.engine_cylinders==0]#.value_counts()"
   ]
  },
  {
   "cell_type": "code",
   "execution_count": null,
   "id": "4eafa221-f83f-4410-b6d6-b1f717ec8f39",
   "metadata": {},
   "outputs": [],
   "source": []
  }
 ],
 "metadata": {
  "kernelspec": {
   "display_name": "Python 3 (ipykernel)",
   "language": "python",
   "name": "python3"
  },
  "language_info": {
   "codemirror_mode": {
    "name": "ipython",
    "version": 3
   },
   "file_extension": ".py",
   "mimetype": "text/x-python",
   "name": "python",
   "nbconvert_exporter": "python",
   "pygments_lexer": "ipython3",
   "version": "3.8.8"
  }
 },
 "nbformat": 4,
 "nbformat_minor": 5
}
