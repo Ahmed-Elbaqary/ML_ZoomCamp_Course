{
 "cells": [
  {
   "cell_type": "code",
   "execution_count": 1,
   "id": "cad38977-e7d1-4e8a-85a7-3e3b33326531",
   "metadata": {},
   "outputs": [],
   "source": [
    "DATA_PATH = \"../data/processed/02_cleaned_data.pkl\"\n",
    "\n",
    "MLFLOW_TRACKING_URI = \"../models/mlruns\"\n",
    "MLFLOW_EXPERIMENT_NAME = \"car_price_prediction\"\n",
    "\n",
    "LOG_PATH = \"../models/temp/\"\n",
    "LOG_DATA_PKL = \"data.pkl\"\n",
    "LOG_MODEL_PKL = \"model.pkl\"\n",
    "LOG_METRICS_PKL = \"metrics.pkl\""
   ]
  },
  {
   "cell_type": "code",
   "execution_count": 183,
   "id": "2aa67ade-829a-425d-871d-8409a665063b",
   "metadata": {},
   "outputs": [],
   "source": [
    "# Load packages\n",
    "import pandas as pd\n",
    "\n",
    "import matplotlib.pyplot as plt\n",
    "\n",
    "from pathlib import Path\n",
    "import os\n",
    "import pickle\n",
    "\n",
    "from sklearn.preprocessing import RobustScaler, MinMaxScaler, StandardScaler\n",
    "from sklearn.pipeline import make_pipeline\n",
    "from sklearn.model_selection import train_test_split\n",
    "\n",
    "from sklearn.linear_model import Ridge\n",
    "from sklearn.linear_model import Lasso\n",
    "from sklearn.svm import SVR\n",
    "from sklearn.tree import DecisionTreeRegressor\n",
    "from sklearn.ensemble import RandomForestRegressor\n",
    "from sklearn.neighbors import KNeighborsRegressor\n",
    "\n",
    "from sklearn.metrics import mean_squared_error\n",
    "from sklearn.metrics import mean_absolute_error\n",
    "from sklearn.metrics import r2_score\n",
    "\n",
    "import mlflow\n",
    "from mlflow.tracking import MlflowClient\n",
    "\n",
    "\n",
    "pd.options.display.max_columns = 100\n",
    "%matplotlib inline"
   ]
  },
  {
   "cell_type": "markdown",
   "id": "5d286a49-f688-424a-8eff-fdc9e30f19cd",
   "metadata": {},
   "source": [
    "___\n",
    "## Functions"
   ]
  },
  {
   "cell_type": "code",
   "execution_count": 4,
   "id": "2c4cf57b-e4cb-472f-b016-fda3e91faafb",
   "metadata": {},
   "outputs": [],
   "source": [
    "def calculate_quality(ground_truth, predictions, metric_function, model_name):\n",
    "    \"\"\"\n",
    "    Calculate the quality of the model according to different metric scores\n",
    "    Input:\n",
    "        ground_truth: from real observed data\n",
    "        predictions: the predicted values from the model\n",
    "        metric_function: the metric score funcrion used to measure performance\n",
    "    Output:\n",
    "        A dict of all scores for the given inputs\n",
    "    \"\"\"\n",
    "    quality_score = {}\n",
    "    quality_score[model_name] = round(metric_function(ground_truth, predictions), 3)\n",
    "    quality_score = pd.Series(quality_score.values(), index=quality_score.keys())\n",
    "    \n",
    "    return quality_score"
   ]
  },
  {
   "cell_type": "markdown",
   "id": "9ace9853-daff-47f4-ab0a-66698e2da6ce",
   "metadata": {},
   "source": [
    "___\n",
    "## Read data:"
   ]
  },
  {
   "cell_type": "code",
   "execution_count": 5,
   "id": "5d77245d-fce1-4aaf-b12f-c202a9485921",
   "metadata": {},
   "outputs": [
    {
     "data": {
      "text/html": [
       "<div>\n",
       "<style scoped>\n",
       "    .dataframe tbody tr th:only-of-type {\n",
       "        vertical-align: middle;\n",
       "    }\n",
       "\n",
       "    .dataframe tbody tr th {\n",
       "        vertical-align: top;\n",
       "    }\n",
       "\n",
       "    .dataframe thead th {\n",
       "        text-align: right;\n",
       "    }\n",
       "</style>\n",
       "<table border=\"1\" class=\"dataframe\">\n",
       "  <thead>\n",
       "    <tr style=\"text-align: right;\">\n",
       "      <th></th>\n",
       "      <th>year</th>\n",
       "      <th>engine_hp</th>\n",
       "      <th>engine_cylinders</th>\n",
       "      <th>transmission_type</th>\n",
       "      <th>msrp</th>\n",
       "      <th>speed</th>\n",
       "      <th>acura</th>\n",
       "      <th>alfa_romeo</th>\n",
       "      <th>aston_martin</th>\n",
       "      <th>audi</th>\n",
       "      <th>bentley</th>\n",
       "      <th>bmw</th>\n",
       "      <th>bugatti</th>\n",
       "      <th>buick</th>\n",
       "      <th>cadillac</th>\n",
       "      <th>chevrolet</th>\n",
       "      <th>chrysler</th>\n",
       "      <th>dodge</th>\n",
       "      <th>ferrari</th>\n",
       "      <th>fiat</th>\n",
       "      <th>ford</th>\n",
       "      <th>genesis</th>\n",
       "      <th>gmc</th>\n",
       "      <th>honda</th>\n",
       "      <th>hummer</th>\n",
       "      <th>hyundai</th>\n",
       "      <th>infiniti</th>\n",
       "      <th>kia</th>\n",
       "      <th>lamborghini</th>\n",
       "      <th>land_rover</th>\n",
       "      <th>lexus</th>\n",
       "      <th>lincoln</th>\n",
       "      <th>lotus</th>\n",
       "      <th>maserati</th>\n",
       "      <th>maybach</th>\n",
       "      <th>mazda</th>\n",
       "      <th>mclaren</th>\n",
       "      <th>mercedes-benz</th>\n",
       "      <th>mitsubishi</th>\n",
       "      <th>nissan</th>\n",
       "      <th>oldsmobile</th>\n",
       "      <th>plymouth</th>\n",
       "      <th>pontiac</th>\n",
       "      <th>porsche</th>\n",
       "      <th>rolls-royce</th>\n",
       "      <th>saab</th>\n",
       "      <th>scion</th>\n",
       "      <th>spyker</th>\n",
       "      <th>subaru</th>\n",
       "      <th>suzuki</th>\n",
       "      <th>tesla</th>\n",
       "      <th>toyota</th>\n",
       "      <th>volkswagen</th>\n",
       "      <th>volvo</th>\n",
       "    </tr>\n",
       "  </thead>\n",
       "  <tbody>\n",
       "    <tr>\n",
       "      <th>9581</th>\n",
       "      <td>27</td>\n",
       "      <td>355.0</td>\n",
       "      <td>8.0</td>\n",
       "      <td>2</td>\n",
       "      <td>10.814585</td>\n",
       "      <td>19.5</td>\n",
       "      <td>0.0</td>\n",
       "      <td>0.0</td>\n",
       "      <td>0.0</td>\n",
       "      <td>0.0</td>\n",
       "      <td>0.0</td>\n",
       "      <td>0.0</td>\n",
       "      <td>0.0</td>\n",
       "      <td>0.0</td>\n",
       "      <td>0.0</td>\n",
       "      <td>1.0</td>\n",
       "      <td>0.0</td>\n",
       "      <td>0.0</td>\n",
       "      <td>0.0</td>\n",
       "      <td>0.0</td>\n",
       "      <td>0.0</td>\n",
       "      <td>0.0</td>\n",
       "      <td>0.0</td>\n",
       "      <td>0.0</td>\n",
       "      <td>0.0</td>\n",
       "      <td>0.0</td>\n",
       "      <td>0.0</td>\n",
       "      <td>0.0</td>\n",
       "      <td>0.0</td>\n",
       "      <td>0.0</td>\n",
       "      <td>0.0</td>\n",
       "      <td>0.0</td>\n",
       "      <td>0.0</td>\n",
       "      <td>0.0</td>\n",
       "      <td>0.0</td>\n",
       "      <td>0.0</td>\n",
       "      <td>0.0</td>\n",
       "      <td>0.0</td>\n",
       "      <td>0.0</td>\n",
       "      <td>0.0</td>\n",
       "      <td>0.0</td>\n",
       "      <td>0.0</td>\n",
       "      <td>0.0</td>\n",
       "      <td>0.0</td>\n",
       "      <td>0.0</td>\n",
       "      <td>0.0</td>\n",
       "      <td>0.0</td>\n",
       "      <td>0.0</td>\n",
       "      <td>0.0</td>\n",
       "      <td>0.0</td>\n",
       "      <td>0.0</td>\n",
       "      <td>0.0</td>\n",
       "      <td>0.0</td>\n",
       "      <td>0.0</td>\n",
       "    </tr>\n",
       "    <tr>\n",
       "      <th>8132</th>\n",
       "      <td>13</td>\n",
       "      <td>175.0</td>\n",
       "      <td>6.0</td>\n",
       "      <td>2</td>\n",
       "      <td>9.972594</td>\n",
       "      <td>14.0</td>\n",
       "      <td>0.0</td>\n",
       "      <td>0.0</td>\n",
       "      <td>0.0</td>\n",
       "      <td>0.0</td>\n",
       "      <td>0.0</td>\n",
       "      <td>0.0</td>\n",
       "      <td>0.0</td>\n",
       "      <td>0.0</td>\n",
       "      <td>0.0</td>\n",
       "      <td>0.0</td>\n",
       "      <td>0.0</td>\n",
       "      <td>1.0</td>\n",
       "      <td>0.0</td>\n",
       "      <td>0.0</td>\n",
       "      <td>0.0</td>\n",
       "      <td>0.0</td>\n",
       "      <td>0.0</td>\n",
       "      <td>0.0</td>\n",
       "      <td>0.0</td>\n",
       "      <td>0.0</td>\n",
       "      <td>0.0</td>\n",
       "      <td>0.0</td>\n",
       "      <td>0.0</td>\n",
       "      <td>0.0</td>\n",
       "      <td>0.0</td>\n",
       "      <td>0.0</td>\n",
       "      <td>0.0</td>\n",
       "      <td>0.0</td>\n",
       "      <td>0.0</td>\n",
       "      <td>0.0</td>\n",
       "      <td>0.0</td>\n",
       "      <td>0.0</td>\n",
       "      <td>0.0</td>\n",
       "      <td>0.0</td>\n",
       "      <td>0.0</td>\n",
       "      <td>0.0</td>\n",
       "      <td>0.0</td>\n",
       "      <td>0.0</td>\n",
       "      <td>0.0</td>\n",
       "      <td>0.0</td>\n",
       "      <td>0.0</td>\n",
       "      <td>0.0</td>\n",
       "      <td>0.0</td>\n",
       "      <td>0.0</td>\n",
       "      <td>0.0</td>\n",
       "      <td>0.0</td>\n",
       "      <td>0.0</td>\n",
       "      <td>0.0</td>\n",
       "    </tr>\n",
       "    <tr>\n",
       "      <th>7633</th>\n",
       "      <td>28</td>\n",
       "      <td>280.0</td>\n",
       "      <td>6.0</td>\n",
       "      <td>2</td>\n",
       "      <td>10.637561</td>\n",
       "      <td>23.5</td>\n",
       "      <td>0.0</td>\n",
       "      <td>0.0</td>\n",
       "      <td>0.0</td>\n",
       "      <td>0.0</td>\n",
       "      <td>0.0</td>\n",
       "      <td>0.0</td>\n",
       "      <td>0.0</td>\n",
       "      <td>0.0</td>\n",
       "      <td>0.0</td>\n",
       "      <td>0.0</td>\n",
       "      <td>0.0</td>\n",
       "      <td>0.0</td>\n",
       "      <td>0.0</td>\n",
       "      <td>0.0</td>\n",
       "      <td>0.0</td>\n",
       "      <td>0.0</td>\n",
       "      <td>0.0</td>\n",
       "      <td>1.0</td>\n",
       "      <td>0.0</td>\n",
       "      <td>0.0</td>\n",
       "      <td>0.0</td>\n",
       "      <td>0.0</td>\n",
       "      <td>0.0</td>\n",
       "      <td>0.0</td>\n",
       "      <td>0.0</td>\n",
       "      <td>0.0</td>\n",
       "      <td>0.0</td>\n",
       "      <td>0.0</td>\n",
       "      <td>0.0</td>\n",
       "      <td>0.0</td>\n",
       "      <td>0.0</td>\n",
       "      <td>0.0</td>\n",
       "      <td>0.0</td>\n",
       "      <td>0.0</td>\n",
       "      <td>0.0</td>\n",
       "      <td>0.0</td>\n",
       "      <td>0.0</td>\n",
       "      <td>0.0</td>\n",
       "      <td>0.0</td>\n",
       "      <td>0.0</td>\n",
       "      <td>0.0</td>\n",
       "      <td>0.0</td>\n",
       "      <td>0.0</td>\n",
       "      <td>0.0</td>\n",
       "      <td>0.0</td>\n",
       "      <td>0.0</td>\n",
       "      <td>0.0</td>\n",
       "      <td>0.0</td>\n",
       "    </tr>\n",
       "    <tr>\n",
       "      <th>2689</th>\n",
       "      <td>26</td>\n",
       "      <td>355.0</td>\n",
       "      <td>4.0</td>\n",
       "      <td>3</td>\n",
       "      <td>10.789340</td>\n",
       "      <td>27.0</td>\n",
       "      <td>0.0</td>\n",
       "      <td>0.0</td>\n",
       "      <td>0.0</td>\n",
       "      <td>0.0</td>\n",
       "      <td>0.0</td>\n",
       "      <td>0.0</td>\n",
       "      <td>0.0</td>\n",
       "      <td>0.0</td>\n",
       "      <td>0.0</td>\n",
       "      <td>0.0</td>\n",
       "      <td>0.0</td>\n",
       "      <td>0.0</td>\n",
       "      <td>0.0</td>\n",
       "      <td>0.0</td>\n",
       "      <td>0.0</td>\n",
       "      <td>0.0</td>\n",
       "      <td>0.0</td>\n",
       "      <td>0.0</td>\n",
       "      <td>0.0</td>\n",
       "      <td>0.0</td>\n",
       "      <td>0.0</td>\n",
       "      <td>0.0</td>\n",
       "      <td>0.0</td>\n",
       "      <td>0.0</td>\n",
       "      <td>0.0</td>\n",
       "      <td>0.0</td>\n",
       "      <td>0.0</td>\n",
       "      <td>0.0</td>\n",
       "      <td>0.0</td>\n",
       "      <td>0.0</td>\n",
       "      <td>0.0</td>\n",
       "      <td>1.0</td>\n",
       "      <td>0.0</td>\n",
       "      <td>0.0</td>\n",
       "      <td>0.0</td>\n",
       "      <td>0.0</td>\n",
       "      <td>0.0</td>\n",
       "      <td>0.0</td>\n",
       "      <td>0.0</td>\n",
       "      <td>0.0</td>\n",
       "      <td>0.0</td>\n",
       "      <td>0.0</td>\n",
       "      <td>0.0</td>\n",
       "      <td>0.0</td>\n",
       "      <td>0.0</td>\n",
       "      <td>0.0</td>\n",
       "      <td>0.0</td>\n",
       "      <td>0.0</td>\n",
       "    </tr>\n",
       "    <tr>\n",
       "      <th>8774</th>\n",
       "      <td>14</td>\n",
       "      <td>120.0</td>\n",
       "      <td>4.0</td>\n",
       "      <td>2</td>\n",
       "      <td>9.694062</td>\n",
       "      <td>20.0</td>\n",
       "      <td>0.0</td>\n",
       "      <td>0.0</td>\n",
       "      <td>0.0</td>\n",
       "      <td>0.0</td>\n",
       "      <td>0.0</td>\n",
       "      <td>0.0</td>\n",
       "      <td>0.0</td>\n",
       "      <td>0.0</td>\n",
       "      <td>0.0</td>\n",
       "      <td>1.0</td>\n",
       "      <td>0.0</td>\n",
       "      <td>0.0</td>\n",
       "      <td>0.0</td>\n",
       "      <td>0.0</td>\n",
       "      <td>0.0</td>\n",
       "      <td>0.0</td>\n",
       "      <td>0.0</td>\n",
       "      <td>0.0</td>\n",
       "      <td>0.0</td>\n",
       "      <td>0.0</td>\n",
       "      <td>0.0</td>\n",
       "      <td>0.0</td>\n",
       "      <td>0.0</td>\n",
       "      <td>0.0</td>\n",
       "      <td>0.0</td>\n",
       "      <td>0.0</td>\n",
       "      <td>0.0</td>\n",
       "      <td>0.0</td>\n",
       "      <td>0.0</td>\n",
       "      <td>0.0</td>\n",
       "      <td>0.0</td>\n",
       "      <td>0.0</td>\n",
       "      <td>0.0</td>\n",
       "      <td>0.0</td>\n",
       "      <td>0.0</td>\n",
       "      <td>0.0</td>\n",
       "      <td>0.0</td>\n",
       "      <td>0.0</td>\n",
       "      <td>0.0</td>\n",
       "      <td>0.0</td>\n",
       "      <td>0.0</td>\n",
       "      <td>0.0</td>\n",
       "      <td>0.0</td>\n",
       "      <td>0.0</td>\n",
       "      <td>0.0</td>\n",
       "      <td>0.0</td>\n",
       "      <td>0.0</td>\n",
       "      <td>0.0</td>\n",
       "    </tr>\n",
       "  </tbody>\n",
       "</table>\n",
       "</div>"
      ],
      "text/plain": [
       "      year  engine_hp  engine_cylinders transmission_type       msrp  speed  \\\n",
       "9581    27      355.0               8.0                 2  10.814585   19.5   \n",
       "8132    13      175.0               6.0                 2   9.972594   14.0   \n",
       "7633    28      280.0               6.0                 2  10.637561   23.5   \n",
       "2689    26      355.0               4.0                 3  10.789340   27.0   \n",
       "8774    14      120.0               4.0                 2   9.694062   20.0   \n",
       "\n",
       "      acura  alfa_romeo  aston_martin  audi  bentley  bmw  bugatti  buick  \\\n",
       "9581    0.0         0.0           0.0   0.0      0.0  0.0      0.0    0.0   \n",
       "8132    0.0         0.0           0.0   0.0      0.0  0.0      0.0    0.0   \n",
       "7633    0.0         0.0           0.0   0.0      0.0  0.0      0.0    0.0   \n",
       "2689    0.0         0.0           0.0   0.0      0.0  0.0      0.0    0.0   \n",
       "8774    0.0         0.0           0.0   0.0      0.0  0.0      0.0    0.0   \n",
       "\n",
       "      cadillac  chevrolet  chrysler  dodge  ferrari  fiat  ford  genesis  gmc  \\\n",
       "9581       0.0        1.0       0.0    0.0      0.0   0.0   0.0      0.0  0.0   \n",
       "8132       0.0        0.0       0.0    1.0      0.0   0.0   0.0      0.0  0.0   \n",
       "7633       0.0        0.0       0.0    0.0      0.0   0.0   0.0      0.0  0.0   \n",
       "2689       0.0        0.0       0.0    0.0      0.0   0.0   0.0      0.0  0.0   \n",
       "8774       0.0        1.0       0.0    0.0      0.0   0.0   0.0      0.0  0.0   \n",
       "\n",
       "      honda  hummer  hyundai  infiniti  kia  lamborghini  land_rover  lexus  \\\n",
       "9581    0.0     0.0      0.0       0.0  0.0          0.0         0.0    0.0   \n",
       "8132    0.0     0.0      0.0       0.0  0.0          0.0         0.0    0.0   \n",
       "7633    1.0     0.0      0.0       0.0  0.0          0.0         0.0    0.0   \n",
       "2689    0.0     0.0      0.0       0.0  0.0          0.0         0.0    0.0   \n",
       "8774    0.0     0.0      0.0       0.0  0.0          0.0         0.0    0.0   \n",
       "\n",
       "      lincoln  lotus  maserati  maybach  mazda  mclaren  mercedes-benz  \\\n",
       "9581      0.0    0.0       0.0      0.0    0.0      0.0            0.0   \n",
       "8132      0.0    0.0       0.0      0.0    0.0      0.0            0.0   \n",
       "7633      0.0    0.0       0.0      0.0    0.0      0.0            0.0   \n",
       "2689      0.0    0.0       0.0      0.0    0.0      0.0            1.0   \n",
       "8774      0.0    0.0       0.0      0.0    0.0      0.0            0.0   \n",
       "\n",
       "      mitsubishi  nissan  oldsmobile  plymouth  pontiac  porsche  rolls-royce  \\\n",
       "9581         0.0     0.0         0.0       0.0      0.0      0.0          0.0   \n",
       "8132         0.0     0.0         0.0       0.0      0.0      0.0          0.0   \n",
       "7633         0.0     0.0         0.0       0.0      0.0      0.0          0.0   \n",
       "2689         0.0     0.0         0.0       0.0      0.0      0.0          0.0   \n",
       "8774         0.0     0.0         0.0       0.0      0.0      0.0          0.0   \n",
       "\n",
       "      saab  scion  spyker  subaru  suzuki  tesla  toyota  volkswagen  volvo  \n",
       "9581   0.0    0.0     0.0     0.0     0.0    0.0     0.0         0.0    0.0  \n",
       "8132   0.0    0.0     0.0     0.0     0.0    0.0     0.0         0.0    0.0  \n",
       "7633   0.0    0.0     0.0     0.0     0.0    0.0     0.0         0.0    0.0  \n",
       "2689   0.0    0.0     0.0     0.0     0.0    0.0     0.0         0.0    0.0  \n",
       "8774   0.0    0.0     0.0     0.0     0.0    0.0     0.0         0.0    0.0  "
      ]
     },
     "execution_count": 5,
     "metadata": {},
     "output_type": "execute_result"
    }
   ],
   "source": [
    "df = pd.read_pickle(DATA_PATH)\n",
    "df.sample(5)"
   ]
  },
  {
   "cell_type": "markdown",
   "id": "39fb47f6-0ce0-4a0b-b5a2-6ff73d96078e",
   "metadata": {},
   "source": [
    "___\n",
    "## Splitting data into train and test:"
   ]
  },
  {
   "cell_type": "code",
   "execution_count": 7,
   "id": "0ffcdf8b-e777-4379-8183-c61ac1d29eb8",
   "metadata": {},
   "outputs": [],
   "source": [
    "X_train, X_test, y_train, y_test = train_test_split(df.drop('msrp', axis=1),\n",
    "                                                    df[['msrp']],\n",
    "                                                    test_size=0.2,\n",
    "                                                    random_state=42)"
   ]
  },
  {
   "cell_type": "code",
   "execution_count": 8,
   "id": "766eeba7-5659-4212-9e4a-b364128c939c",
   "metadata": {},
   "outputs": [
    {
     "name": "stdout",
     "output_type": "stream",
     "text": [
      "X_train shape (6873, 53)\n",
      "X_test shape (1719, 53)\n"
     ]
    },
    {
     "data": {
      "text/html": [
       "<div>\n",
       "<style scoped>\n",
       "    .dataframe tbody tr th:only-of-type {\n",
       "        vertical-align: middle;\n",
       "    }\n",
       "\n",
       "    .dataframe tbody tr th {\n",
       "        vertical-align: top;\n",
       "    }\n",
       "\n",
       "    .dataframe thead th {\n",
       "        text-align: right;\n",
       "    }\n",
       "</style>\n",
       "<table border=\"1\" class=\"dataframe\">\n",
       "  <thead>\n",
       "    <tr style=\"text-align: right;\">\n",
       "      <th></th>\n",
       "      <th>year</th>\n",
       "      <th>engine_hp</th>\n",
       "      <th>engine_cylinders</th>\n",
       "      <th>transmission_type</th>\n",
       "      <th>speed</th>\n",
       "      <th>acura</th>\n",
       "      <th>alfa_romeo</th>\n",
       "      <th>aston_martin</th>\n",
       "      <th>audi</th>\n",
       "      <th>bentley</th>\n",
       "      <th>bmw</th>\n",
       "      <th>bugatti</th>\n",
       "      <th>buick</th>\n",
       "      <th>cadillac</th>\n",
       "      <th>chevrolet</th>\n",
       "      <th>chrysler</th>\n",
       "      <th>dodge</th>\n",
       "      <th>ferrari</th>\n",
       "      <th>fiat</th>\n",
       "      <th>ford</th>\n",
       "      <th>genesis</th>\n",
       "      <th>gmc</th>\n",
       "      <th>honda</th>\n",
       "      <th>hummer</th>\n",
       "      <th>hyundai</th>\n",
       "      <th>infiniti</th>\n",
       "      <th>kia</th>\n",
       "      <th>lamborghini</th>\n",
       "      <th>land_rover</th>\n",
       "      <th>lexus</th>\n",
       "      <th>lincoln</th>\n",
       "      <th>lotus</th>\n",
       "      <th>maserati</th>\n",
       "      <th>maybach</th>\n",
       "      <th>mazda</th>\n",
       "      <th>mclaren</th>\n",
       "      <th>mercedes-benz</th>\n",
       "      <th>mitsubishi</th>\n",
       "      <th>nissan</th>\n",
       "      <th>oldsmobile</th>\n",
       "      <th>plymouth</th>\n",
       "      <th>pontiac</th>\n",
       "      <th>porsche</th>\n",
       "      <th>rolls-royce</th>\n",
       "      <th>saab</th>\n",
       "      <th>scion</th>\n",
       "      <th>spyker</th>\n",
       "      <th>subaru</th>\n",
       "      <th>suzuki</th>\n",
       "      <th>tesla</th>\n",
       "      <th>toyota</th>\n",
       "      <th>volkswagen</th>\n",
       "      <th>volvo</th>\n",
       "    </tr>\n",
       "  </thead>\n",
       "  <tbody>\n",
       "    <tr>\n",
       "      <th>9072</th>\n",
       "      <td>26</td>\n",
       "      <td>276.0</td>\n",
       "      <td>6.0</td>\n",
       "      <td>2</td>\n",
       "      <td>21.5</td>\n",
       "      <td>0.0</td>\n",
       "      <td>0.0</td>\n",
       "      <td>0.0</td>\n",
       "      <td>0.0</td>\n",
       "      <td>0.0</td>\n",
       "      <td>0.0</td>\n",
       "      <td>0.0</td>\n",
       "      <td>0.0</td>\n",
       "      <td>0.0</td>\n",
       "      <td>0.0</td>\n",
       "      <td>0.0</td>\n",
       "      <td>0.0</td>\n",
       "      <td>0.0</td>\n",
       "      <td>0.0</td>\n",
       "      <td>0.0</td>\n",
       "      <td>0.0</td>\n",
       "      <td>0.0</td>\n",
       "      <td>0.0</td>\n",
       "      <td>0.0</td>\n",
       "      <td>0.0</td>\n",
       "      <td>0.0</td>\n",
       "      <td>1.0</td>\n",
       "      <td>0.0</td>\n",
       "      <td>0.0</td>\n",
       "      <td>0.0</td>\n",
       "      <td>0.0</td>\n",
       "      <td>0.0</td>\n",
       "      <td>0.0</td>\n",
       "      <td>0.0</td>\n",
       "      <td>0.0</td>\n",
       "      <td>0.0</td>\n",
       "      <td>0.0</td>\n",
       "      <td>0.0</td>\n",
       "      <td>0.0</td>\n",
       "      <td>0.0</td>\n",
       "      <td>0.0</td>\n",
       "      <td>0.0</td>\n",
       "      <td>0.0</td>\n",
       "      <td>0.0</td>\n",
       "      <td>0.0</td>\n",
       "      <td>0.0</td>\n",
       "      <td>0.0</td>\n",
       "      <td>0.0</td>\n",
       "      <td>0.0</td>\n",
       "      <td>0.0</td>\n",
       "      <td>0.0</td>\n",
       "      <td>0.0</td>\n",
       "      <td>0.0</td>\n",
       "    </tr>\n",
       "    <tr>\n",
       "      <th>7193</th>\n",
       "      <td>19</td>\n",
       "      <td>150.0</td>\n",
       "      <td>5.0</td>\n",
       "      <td>1</td>\n",
       "      <td>24.0</td>\n",
       "      <td>0.0</td>\n",
       "      <td>0.0</td>\n",
       "      <td>0.0</td>\n",
       "      <td>0.0</td>\n",
       "      <td>0.0</td>\n",
       "      <td>0.0</td>\n",
       "      <td>0.0</td>\n",
       "      <td>0.0</td>\n",
       "      <td>0.0</td>\n",
       "      <td>0.0</td>\n",
       "      <td>0.0</td>\n",
       "      <td>0.0</td>\n",
       "      <td>0.0</td>\n",
       "      <td>0.0</td>\n",
       "      <td>0.0</td>\n",
       "      <td>0.0</td>\n",
       "      <td>0.0</td>\n",
       "      <td>0.0</td>\n",
       "      <td>0.0</td>\n",
       "      <td>0.0</td>\n",
       "      <td>0.0</td>\n",
       "      <td>0.0</td>\n",
       "      <td>0.0</td>\n",
       "      <td>0.0</td>\n",
       "      <td>0.0</td>\n",
       "      <td>0.0</td>\n",
       "      <td>0.0</td>\n",
       "      <td>0.0</td>\n",
       "      <td>0.0</td>\n",
       "      <td>0.0</td>\n",
       "      <td>0.0</td>\n",
       "      <td>0.0</td>\n",
       "      <td>0.0</td>\n",
       "      <td>0.0</td>\n",
       "      <td>0.0</td>\n",
       "      <td>0.0</td>\n",
       "      <td>0.0</td>\n",
       "      <td>0.0</td>\n",
       "      <td>0.0</td>\n",
       "      <td>0.0</td>\n",
       "      <td>0.0</td>\n",
       "      <td>0.0</td>\n",
       "      <td>0.0</td>\n",
       "      <td>0.0</td>\n",
       "      <td>0.0</td>\n",
       "      <td>0.0</td>\n",
       "      <td>1.0</td>\n",
       "      <td>0.0</td>\n",
       "    </tr>\n",
       "    <tr>\n",
       "      <th>5906</th>\n",
       "      <td>24</td>\n",
       "      <td>98.0</td>\n",
       "      <td>4.0</td>\n",
       "      <td>2</td>\n",
       "      <td>42.5</td>\n",
       "      <td>0.0</td>\n",
       "      <td>0.0</td>\n",
       "      <td>0.0</td>\n",
       "      <td>0.0</td>\n",
       "      <td>0.0</td>\n",
       "      <td>0.0</td>\n",
       "      <td>0.0</td>\n",
       "      <td>0.0</td>\n",
       "      <td>0.0</td>\n",
       "      <td>0.0</td>\n",
       "      <td>0.0</td>\n",
       "      <td>0.0</td>\n",
       "      <td>0.0</td>\n",
       "      <td>0.0</td>\n",
       "      <td>0.0</td>\n",
       "      <td>0.0</td>\n",
       "      <td>0.0</td>\n",
       "      <td>1.0</td>\n",
       "      <td>0.0</td>\n",
       "      <td>0.0</td>\n",
       "      <td>0.0</td>\n",
       "      <td>0.0</td>\n",
       "      <td>0.0</td>\n",
       "      <td>0.0</td>\n",
       "      <td>0.0</td>\n",
       "      <td>0.0</td>\n",
       "      <td>0.0</td>\n",
       "      <td>0.0</td>\n",
       "      <td>0.0</td>\n",
       "      <td>0.0</td>\n",
       "      <td>0.0</td>\n",
       "      <td>0.0</td>\n",
       "      <td>0.0</td>\n",
       "      <td>0.0</td>\n",
       "      <td>0.0</td>\n",
       "      <td>0.0</td>\n",
       "      <td>0.0</td>\n",
       "      <td>0.0</td>\n",
       "      <td>0.0</td>\n",
       "      <td>0.0</td>\n",
       "      <td>0.0</td>\n",
       "      <td>0.0</td>\n",
       "      <td>0.0</td>\n",
       "      <td>0.0</td>\n",
       "      <td>0.0</td>\n",
       "      <td>0.0</td>\n",
       "      <td>0.0</td>\n",
       "      <td>0.0</td>\n",
       "    </tr>\n",
       "    <tr>\n",
       "      <th>10011</th>\n",
       "      <td>15</td>\n",
       "      <td>200.0</td>\n",
       "      <td>6.0</td>\n",
       "      <td>1</td>\n",
       "      <td>21.0</td>\n",
       "      <td>0.0</td>\n",
       "      <td>0.0</td>\n",
       "      <td>0.0</td>\n",
       "      <td>0.0</td>\n",
       "      <td>0.0</td>\n",
       "      <td>0.0</td>\n",
       "      <td>0.0</td>\n",
       "      <td>0.0</td>\n",
       "      <td>0.0</td>\n",
       "      <td>0.0</td>\n",
       "      <td>0.0</td>\n",
       "      <td>1.0</td>\n",
       "      <td>0.0</td>\n",
       "      <td>0.0</td>\n",
       "      <td>0.0</td>\n",
       "      <td>0.0</td>\n",
       "      <td>0.0</td>\n",
       "      <td>0.0</td>\n",
       "      <td>0.0</td>\n",
       "      <td>0.0</td>\n",
       "      <td>0.0</td>\n",
       "      <td>0.0</td>\n",
       "      <td>0.0</td>\n",
       "      <td>0.0</td>\n",
       "      <td>0.0</td>\n",
       "      <td>0.0</td>\n",
       "      <td>0.0</td>\n",
       "      <td>0.0</td>\n",
       "      <td>0.0</td>\n",
       "      <td>0.0</td>\n",
       "      <td>0.0</td>\n",
       "      <td>0.0</td>\n",
       "      <td>0.0</td>\n",
       "      <td>0.0</td>\n",
       "      <td>0.0</td>\n",
       "      <td>0.0</td>\n",
       "      <td>0.0</td>\n",
       "      <td>0.0</td>\n",
       "      <td>0.0</td>\n",
       "      <td>0.0</td>\n",
       "      <td>0.0</td>\n",
       "      <td>0.0</td>\n",
       "      <td>0.0</td>\n",
       "      <td>0.0</td>\n",
       "      <td>0.0</td>\n",
       "      <td>0.0</td>\n",
       "      <td>0.0</td>\n",
       "      <td>0.0</td>\n",
       "    </tr>\n",
       "    <tr>\n",
       "      <th>7857</th>\n",
       "      <td>26</td>\n",
       "      <td>330.0</td>\n",
       "      <td>6.0</td>\n",
       "      <td>2</td>\n",
       "      <td>20.5</td>\n",
       "      <td>0.0</td>\n",
       "      <td>0.0</td>\n",
       "      <td>0.0</td>\n",
       "      <td>0.0</td>\n",
       "      <td>0.0</td>\n",
       "      <td>0.0</td>\n",
       "      <td>0.0</td>\n",
       "      <td>0.0</td>\n",
       "      <td>0.0</td>\n",
       "      <td>0.0</td>\n",
       "      <td>0.0</td>\n",
       "      <td>0.0</td>\n",
       "      <td>0.0</td>\n",
       "      <td>0.0</td>\n",
       "      <td>0.0</td>\n",
       "      <td>0.0</td>\n",
       "      <td>0.0</td>\n",
       "      <td>0.0</td>\n",
       "      <td>0.0</td>\n",
       "      <td>0.0</td>\n",
       "      <td>1.0</td>\n",
       "      <td>0.0</td>\n",
       "      <td>0.0</td>\n",
       "      <td>0.0</td>\n",
       "      <td>0.0</td>\n",
       "      <td>0.0</td>\n",
       "      <td>0.0</td>\n",
       "      <td>0.0</td>\n",
       "      <td>0.0</td>\n",
       "      <td>0.0</td>\n",
       "      <td>0.0</td>\n",
       "      <td>0.0</td>\n",
       "      <td>0.0</td>\n",
       "      <td>0.0</td>\n",
       "      <td>0.0</td>\n",
       "      <td>0.0</td>\n",
       "      <td>0.0</td>\n",
       "      <td>0.0</td>\n",
       "      <td>0.0</td>\n",
       "      <td>0.0</td>\n",
       "      <td>0.0</td>\n",
       "      <td>0.0</td>\n",
       "      <td>0.0</td>\n",
       "      <td>0.0</td>\n",
       "      <td>0.0</td>\n",
       "      <td>0.0</td>\n",
       "      <td>0.0</td>\n",
       "      <td>0.0</td>\n",
       "    </tr>\n",
       "  </tbody>\n",
       "</table>\n",
       "</div>"
      ],
      "text/plain": [
       "       year  engine_hp  engine_cylinders transmission_type  speed  acura  \\\n",
       "9072     26      276.0               6.0                 2   21.5    0.0   \n",
       "7193     19      150.0               5.0                 1   24.0    0.0   \n",
       "5906     24       98.0               4.0                 2   42.5    0.0   \n",
       "10011    15      200.0               6.0                 1   21.0    0.0   \n",
       "7857     26      330.0               6.0                 2   20.5    0.0   \n",
       "\n",
       "       alfa_romeo  aston_martin  audi  bentley  bmw  bugatti  buick  cadillac  \\\n",
       "9072          0.0           0.0   0.0      0.0  0.0      0.0    0.0       0.0   \n",
       "7193          0.0           0.0   0.0      0.0  0.0      0.0    0.0       0.0   \n",
       "5906          0.0           0.0   0.0      0.0  0.0      0.0    0.0       0.0   \n",
       "10011         0.0           0.0   0.0      0.0  0.0      0.0    0.0       0.0   \n",
       "7857          0.0           0.0   0.0      0.0  0.0      0.0    0.0       0.0   \n",
       "\n",
       "       chevrolet  chrysler  dodge  ferrari  fiat  ford  genesis  gmc  honda  \\\n",
       "9072         0.0       0.0    0.0      0.0   0.0   0.0      0.0  0.0    0.0   \n",
       "7193         0.0       0.0    0.0      0.0   0.0   0.0      0.0  0.0    0.0   \n",
       "5906         0.0       0.0    0.0      0.0   0.0   0.0      0.0  0.0    1.0   \n",
       "10011        0.0       0.0    1.0      0.0   0.0   0.0      0.0  0.0    0.0   \n",
       "7857         0.0       0.0    0.0      0.0   0.0   0.0      0.0  0.0    0.0   \n",
       "\n",
       "       hummer  hyundai  infiniti  kia  lamborghini  land_rover  lexus  \\\n",
       "9072      0.0      0.0       0.0  1.0          0.0         0.0    0.0   \n",
       "7193      0.0      0.0       0.0  0.0          0.0         0.0    0.0   \n",
       "5906      0.0      0.0       0.0  0.0          0.0         0.0    0.0   \n",
       "10011     0.0      0.0       0.0  0.0          0.0         0.0    0.0   \n",
       "7857      0.0      0.0       1.0  0.0          0.0         0.0    0.0   \n",
       "\n",
       "       lincoln  lotus  maserati  maybach  mazda  mclaren  mercedes-benz  \\\n",
       "9072       0.0    0.0       0.0      0.0    0.0      0.0            0.0   \n",
       "7193       0.0    0.0       0.0      0.0    0.0      0.0            0.0   \n",
       "5906       0.0    0.0       0.0      0.0    0.0      0.0            0.0   \n",
       "10011      0.0    0.0       0.0      0.0    0.0      0.0            0.0   \n",
       "7857       0.0    0.0       0.0      0.0    0.0      0.0            0.0   \n",
       "\n",
       "       mitsubishi  nissan  oldsmobile  plymouth  pontiac  porsche  \\\n",
       "9072          0.0     0.0         0.0       0.0      0.0      0.0   \n",
       "7193          0.0     0.0         0.0       0.0      0.0      0.0   \n",
       "5906          0.0     0.0         0.0       0.0      0.0      0.0   \n",
       "10011         0.0     0.0         0.0       0.0      0.0      0.0   \n",
       "7857          0.0     0.0         0.0       0.0      0.0      0.0   \n",
       "\n",
       "       rolls-royce  saab  scion  spyker  subaru  suzuki  tesla  toyota  \\\n",
       "9072           0.0   0.0    0.0     0.0     0.0     0.0    0.0     0.0   \n",
       "7193           0.0   0.0    0.0     0.0     0.0     0.0    0.0     0.0   \n",
       "5906           0.0   0.0    0.0     0.0     0.0     0.0    0.0     0.0   \n",
       "10011          0.0   0.0    0.0     0.0     0.0     0.0    0.0     0.0   \n",
       "7857           0.0   0.0    0.0     0.0     0.0     0.0    0.0     0.0   \n",
       "\n",
       "       volkswagen  volvo  \n",
       "9072          0.0    0.0  \n",
       "7193          1.0    0.0  \n",
       "5906          0.0    0.0  \n",
       "10011         0.0    0.0  \n",
       "7857          0.0    0.0  "
      ]
     },
     "execution_count": 8,
     "metadata": {},
     "output_type": "execute_result"
    }
   ],
   "source": [
    "# quick check of splitted data:\n",
    "print(\"X_train shape\", X_train.shape)\n",
    "print(\"X_test shape\", X_test.shape)\n",
    "X_train.sample(5)"
   ]
  },
  {
   "cell_type": "markdown",
   "id": "9662639c-9ba4-4e30-931e-d512ea1fa508",
   "metadata": {},
   "source": [
    "___ \n",
    "## Trying the base model:\n",
    "\n",
    "### Intialize MLflow"
   ]
  },
  {
   "cell_type": "code",
   "execution_count": 9,
   "id": "f1b6f773-a67e-4113-a6c7-86357baa8c50",
   "metadata": {},
   "outputs": [],
   "source": [
    "# Intialize client and experiment\n",
    "mlflow.set_tracking_uri(MLFLOW_TRACKING_URI)\n",
    "client = MlflowClient()"
   ]
  },
  {
   "cell_type": "code",
   "execution_count": 10,
   "id": "70efa162-b9da-40ac-af07-37e3652913df",
   "metadata": {},
   "outputs": [
    {
     "name": "stdout",
     "output_type": "stream",
     "text": [
      "Experiment \"car_price_prediction\" exists at \"../models/mlruns\"\n"
     ]
    }
   ],
   "source": [
    "# Check if experiment already exists; if not create one\n",
    "try:\n",
    "    mlflow.create_experiment(MLFLOW_EXPERIMENT_NAME)\n",
    "except:\n",
    "    print(f'Experiment \"{MLFLOW_EXPERIMENT_NAME}\" exists at \"{mlflow.get_tracking_uri()}\"')"
   ]
  },
  {
   "cell_type": "code",
   "execution_count": 11,
   "id": "293e50fb-833d-4f2a-b24e-7b67f30905fe",
   "metadata": {},
   "outputs": [
    {
     "name": "stdout",
     "output_type": "stream",
     "text": [
      "<Experiment: artifact_location='../models/mlruns/1', experiment_id='1', lifecycle_stage='active', name='car_price_prediction', tags={}>\n"
     ]
    }
   ],
   "source": [
    "exp = client.get_experiment_by_name(MLFLOW_EXPERIMENT_NAME)\n",
    "print(exp)"
   ]
  },
  {
   "cell_type": "markdown",
   "id": "db066dd5-2ada-4c51-9377-8a71553f3f15",
   "metadata": {},
   "source": [
    "___\n",
    "## Training different models\n",
    "### 1. Ridgeregression"
   ]
  },
  {
   "cell_type": "code",
   "execution_count": 21,
   "id": "4b313676-4776-4f3f-8e49-c3ec15fe388e",
   "metadata": {},
   "outputs": [
    {
     "data": {
      "text/plain": [
       "Pipeline(steps=[('minmaxscaler', MinMaxScaler()), ('ridge', Ridge(alpha=0.3))])"
      ]
     },
     "execution_count": 21,
     "metadata": {},
     "output_type": "execute_result"
    }
   ],
   "source": [
    "ridge = make_pipeline(MinMaxScaler(), Ridge(alpha=0.3))\n",
    "\n",
    "ridge.fit(X_train.values, y_train.values)"
   ]
  },
  {
   "cell_type": "markdown",
   "id": "77bae980-05c8-48c5-a431-e96fe3e8e342",
   "metadata": {},
   "source": [
    "**Evaluate on training data**"
   ]
  },
  {
   "cell_type": "code",
   "execution_count": 22,
   "id": "de4935ea-810c-41be-8b08-375fe2a89f63",
   "metadata": {},
   "outputs": [
    {
     "data": {
      "text/html": [
       "<div>\n",
       "<style scoped>\n",
       "    .dataframe tbody tr th:only-of-type {\n",
       "        vertical-align: middle;\n",
       "    }\n",
       "\n",
       "    .dataframe tbody tr th {\n",
       "        vertical-align: top;\n",
       "    }\n",
       "\n",
       "    .dataframe thead th {\n",
       "        text-align: right;\n",
       "    }\n",
       "</style>\n",
       "<table border=\"1\" class=\"dataframe\">\n",
       "  <thead>\n",
       "    <tr style=\"text-align: right;\">\n",
       "      <th></th>\n",
       "      <th>r2_score</th>\n",
       "      <th>mean_squared_error</th>\n",
       "      <th>mean_absolute_error</th>\n",
       "    </tr>\n",
       "  </thead>\n",
       "  <tbody>\n",
       "    <tr>\n",
       "      <th>RidgeRegression</th>\n",
       "      <td>0.828</td>\n",
       "      <td>0.023</td>\n",
       "      <td>0.12</td>\n",
       "    </tr>\n",
       "  </tbody>\n",
       "</table>\n",
       "</div>"
      ],
      "text/plain": [
       "                 r2_score  mean_squared_error  mean_absolute_error\n",
       "RidgeRegression     0.828               0.023                 0.12"
      ]
     },
     "execution_count": 22,
     "metadata": {},
     "output_type": "execute_result"
    }
   ],
   "source": [
    "# Evaluate on training set:\n",
    "predictions = pd.DataFrame(ridge.predict(X_train.values),\n",
    "                          columns=y_train.columns)\n",
    "\n",
    "train_scores = {score.__name__:calculate_quality(y_train, predictions, score, \"RidgeRegression\")\n",
    "                for score in [r2_score, mean_squared_error, mean_absolute_error]}\n",
    "\n",
    "train_scores = pd.concat(train_scores, axis=1)\n",
    "train_scores"
   ]
  },
  {
   "cell_type": "code",
   "execution_count": 20,
   "id": "5c748699-e717-47b9-8f34-ac8bf99e806e",
   "metadata": {},
   "outputs": [
    {
     "data": {
      "text/plain": [
       "r2_score               0.828\n",
       "mean_squared_error     0.023\n",
       "mean_absolute_error    0.120\n",
       "dtype: float64"
      ]
     },
     "execution_count": 20,
     "metadata": {},
     "output_type": "execute_result"
    }
   ],
   "source": [
    "mean_train_score = train_scores.mean()\n",
    "mean_train_score"
   ]
  },
  {
   "cell_type": "markdown",
   "id": "d6839574-3087-4535-87e9-5b4db189bc66",
   "metadata": {},
   "source": [
    "**Evaluate on testing data**"
   ]
  },
  {
   "cell_type": "code",
   "execution_count": 23,
   "id": "2b601bce-e28d-4b30-b300-d57e946cf2cf",
   "metadata": {},
   "outputs": [
    {
     "data": {
      "text/html": [
       "<div>\n",
       "<style scoped>\n",
       "    .dataframe tbody tr th:only-of-type {\n",
       "        vertical-align: middle;\n",
       "    }\n",
       "\n",
       "    .dataframe tbody tr th {\n",
       "        vertical-align: top;\n",
       "    }\n",
       "\n",
       "    .dataframe thead th {\n",
       "        text-align: right;\n",
       "    }\n",
       "</style>\n",
       "<table border=\"1\" class=\"dataframe\">\n",
       "  <thead>\n",
       "    <tr style=\"text-align: right;\">\n",
       "      <th></th>\n",
       "      <th>r2_score</th>\n",
       "      <th>mean_squared_error</th>\n",
       "      <th>mean_absolute_error</th>\n",
       "    </tr>\n",
       "  </thead>\n",
       "  <tbody>\n",
       "    <tr>\n",
       "      <th>RidgeRegression</th>\n",
       "      <td>0.827</td>\n",
       "      <td>0.023</td>\n",
       "      <td>0.121</td>\n",
       "    </tr>\n",
       "  </tbody>\n",
       "</table>\n",
       "</div>"
      ],
      "text/plain": [
       "                 r2_score  mean_squared_error  mean_absolute_error\n",
       "RidgeRegression     0.827               0.023                0.121"
      ]
     },
     "execution_count": 23,
     "metadata": {},
     "output_type": "execute_result"
    }
   ],
   "source": [
    "# Evaluate on testing set:\n",
    "predictions = pd.DataFrame(ridge.predict(X_test.values),\n",
    "                           columns=y_train.columns)\n",
    "\n",
    "test_scores = {score.__name__:calculate_quality(y_test, predictions, score, \"RidgeRegression\")\n",
    "                for score in [r2_score, mean_squared_error, mean_absolute_error]}\n",
    "\n",
    "test_scores = pd.concat(test_scores, axis=1)\n",
    "test_scores"
   ]
  },
  {
   "cell_type": "code",
   "execution_count": 24,
   "id": "2991da77-b2ce-4f24-b004-722a742b27c3",
   "metadata": {},
   "outputs": [
    {
     "data": {
      "text/plain": [
       "r2_score               0.827\n",
       "mean_squared_error     0.023\n",
       "mean_absolute_error    0.121\n",
       "dtype: float64"
      ]
     },
     "execution_count": 24,
     "metadata": {},
     "output_type": "execute_result"
    }
   ],
   "source": [
    "mean_test_score = test_scores.mean()\n",
    "mean_test_score"
   ]
  },
  {
   "cell_type": "markdown",
   "id": "43fddf47-8b54-4c5d-85ca-d45273c819e9",
   "metadata": {},
   "source": [
    "**Log Run**"
   ]
  },
  {
   "cell_type": "code",
   "execution_count": 25,
   "id": "5fbeffc6-88b6-4268-adcf-9cd34716e3db",
   "metadata": {},
   "outputs": [],
   "source": [
    "# Data details\n",
    "data_details = {\"data_path\": DATA_PATH,\n",
    "                \"training_indices\": X_train.index.tolist(),\n",
    "                \"test_indices\": X_test.index.tolist(),\n",
    "                \"feature_names\": X_train.columns.tolist(),\n",
    "                \"target_names\": y_train.columns.tolist()}\n",
    "\n",
    "with open(os.path.join(LOG_PATH, LOG_DATA_PKL), \"wb\") as output_file:\n",
    "    pickle.dump(data_details, output_file)"
   ]
  },
  {
   "cell_type": "code",
   "execution_count": 26,
   "id": "340851aa-9682-4fc5-a5f7-e812ea38537c",
   "metadata": {},
   "outputs": [],
   "source": [
    "# Model details\n",
    "model = {\"model_description\": \"Ridge-Regression\",\n",
    "         \"model_details\": str(ridge),\n",
    "         \"model_object\": ridge}\n",
    "\n",
    "with open(os.path.join(LOG_PATH, LOG_MODEL_PKL), \"wb\") as output_file:\n",
    "    pickle.dump(model, output_file)"
   ]
  },
  {
   "cell_type": "code",
   "execution_count": 27,
   "id": "53364bf8-d120-4931-8955-2177ede9a558",
   "metadata": {},
   "outputs": [],
   "source": [
    "# Performance details\n",
    "regression_metrics = {\"train_scores\": train_scores,\n",
    "                      \"test_scores\": test_scores}\n",
    "\n",
    "with open(os.path.join(LOG_PATH, LOG_METRICS_PKL), \"wb\") as output_file:\n",
    "    pickle.dump(regression_metrics, output_file)"
   ]
  },
  {
   "cell_type": "markdown",
   "id": "4a57ff83-603a-45a4-aeca-8cf4923909fa",
   "metadata": {},
   "source": [
    "**Logging**"
   ]
  },
  {
   "cell_type": "code",
   "execution_count": 28,
   "id": "2dfba799-e974-44d5-8d79-82705a3afefc",
   "metadata": {},
   "outputs": [],
   "source": [
    "# Start a new run and track\n",
    "with mlflow.start_run(experiment_id=exp.experiment_id, run_name=model[\"model_description\"]):\n",
    "    # log pickle\n",
    "    mlflow.log_artifacts(LOG_PATH)\n",
    "    \n",
    "    # Track metrics\n",
    "    for metric, score in mean_test_score.items():\n",
    "        mlflow.log_metric(metric, score)"
   ]
  },
  {
   "cell_type": "markdown",
   "id": "5f21d1b7-ef3a-46a6-adca-54ff47049c05",
   "metadata": {},
   "source": [
    "___\n",
    "### 2. Lasso Regression"
   ]
  },
  {
   "cell_type": "code",
   "execution_count": 39,
   "id": "3aa77a43-3fbf-47fd-a938-b63a6b8a6e18",
   "metadata": {},
   "outputs": [
    {
     "data": {
      "text/plain": [
       "Pipeline(steps=[('minmaxscaler', MinMaxScaler()), ('lasso', Lasso(alpha=0.1))])"
      ]
     },
     "execution_count": 39,
     "metadata": {},
     "output_type": "execute_result"
    }
   ],
   "source": [
    "lasso = make_pipeline(MinMaxScaler(), Lasso(alpha=0.1))\n",
    "\n",
    "lasso.fit(X_train.values, y_train.values)"
   ]
  },
  {
   "cell_type": "markdown",
   "id": "f98fc47b-c356-4862-8c98-2abaa8c72884",
   "metadata": {},
   "source": [
    "**Evaluate on training data**"
   ]
  },
  {
   "cell_type": "code",
   "execution_count": 40,
   "id": "5cecd815-fd90-4269-9d9c-b58eba337e4c",
   "metadata": {},
   "outputs": [
    {
     "data": {
      "text/html": [
       "<div>\n",
       "<style scoped>\n",
       "    .dataframe tbody tr th:only-of-type {\n",
       "        vertical-align: middle;\n",
       "    }\n",
       "\n",
       "    .dataframe tbody tr th {\n",
       "        vertical-align: top;\n",
       "    }\n",
       "\n",
       "    .dataframe thead th {\n",
       "        text-align: right;\n",
       "    }\n",
       "</style>\n",
       "<table border=\"1\" class=\"dataframe\">\n",
       "  <thead>\n",
       "    <tr style=\"text-align: right;\">\n",
       "      <th></th>\n",
       "      <th>r2_score</th>\n",
       "      <th>mean_squared_error</th>\n",
       "      <th>mean_absolute_error</th>\n",
       "    </tr>\n",
       "  </thead>\n",
       "  <tbody>\n",
       "    <tr>\n",
       "      <th>LassoRegression</th>\n",
       "      <td>0.0</td>\n",
       "      <td>0.134</td>\n",
       "      <td>0.298</td>\n",
       "    </tr>\n",
       "  </tbody>\n",
       "</table>\n",
       "</div>"
      ],
      "text/plain": [
       "                 r2_score  mean_squared_error  mean_absolute_error\n",
       "LassoRegression       0.0               0.134                0.298"
      ]
     },
     "execution_count": 40,
     "metadata": {},
     "output_type": "execute_result"
    }
   ],
   "source": [
    "# Evaluate on training set:\n",
    "predictions = pd.DataFrame(lasso.predict(X_train.values),\n",
    "                          columns=y_train.columns)\n",
    "\n",
    "train_scores = {score.__name__:calculate_quality(y_train, predictions, score, \"LassoRegression\")\n",
    "                for score in [r2_score, mean_squared_error, mean_absolute_error]}\n",
    "\n",
    "train_scores = pd.concat(train_scores, axis=1)\n",
    "train_scores"
   ]
  },
  {
   "cell_type": "code",
   "execution_count": 41,
   "id": "c78ba69c-0b6f-48da-a950-8c376eb39be7",
   "metadata": {},
   "outputs": [
    {
     "data": {
      "text/plain": [
       "r2_score               0.000\n",
       "mean_squared_error     0.134\n",
       "mean_absolute_error    0.298\n",
       "dtype: float64"
      ]
     },
     "execution_count": 41,
     "metadata": {},
     "output_type": "execute_result"
    }
   ],
   "source": [
    "mean_train_score = train_scores.mean()\n",
    "mean_train_score"
   ]
  },
  {
   "cell_type": "markdown",
   "id": "5c1271a7-30fc-48c2-b9c2-f50ac8fa2543",
   "metadata": {},
   "source": [
    "**Evaluate on testing data**"
   ]
  },
  {
   "cell_type": "code",
   "execution_count": 42,
   "id": "4df0c39f-6e0d-4b9e-9bb7-e4a39a78bf40",
   "metadata": {},
   "outputs": [
    {
     "data": {
      "text/html": [
       "<div>\n",
       "<style scoped>\n",
       "    .dataframe tbody tr th:only-of-type {\n",
       "        vertical-align: middle;\n",
       "    }\n",
       "\n",
       "    .dataframe tbody tr th {\n",
       "        vertical-align: top;\n",
       "    }\n",
       "\n",
       "    .dataframe thead th {\n",
       "        text-align: right;\n",
       "    }\n",
       "</style>\n",
       "<table border=\"1\" class=\"dataframe\">\n",
       "  <thead>\n",
       "    <tr style=\"text-align: right;\">\n",
       "      <th></th>\n",
       "      <th>r2_score</th>\n",
       "      <th>mean_squared_error</th>\n",
       "      <th>mean_absolute_error</th>\n",
       "    </tr>\n",
       "  </thead>\n",
       "  <tbody>\n",
       "    <tr>\n",
       "      <th>LassoRegression</th>\n",
       "      <td>-0.002</td>\n",
       "      <td>0.133</td>\n",
       "      <td>0.298</td>\n",
       "    </tr>\n",
       "  </tbody>\n",
       "</table>\n",
       "</div>"
      ],
      "text/plain": [
       "                 r2_score  mean_squared_error  mean_absolute_error\n",
       "LassoRegression    -0.002               0.133                0.298"
      ]
     },
     "execution_count": 42,
     "metadata": {},
     "output_type": "execute_result"
    }
   ],
   "source": [
    "# Evaluate on testing set:\n",
    "predictions = pd.DataFrame(lasso.predict(X_test.values),\n",
    "                           columns=y_train.columns)\n",
    "\n",
    "test_scores = {score.__name__:calculate_quality(y_test, predictions, score, \"LassoRegression\")\n",
    "                for score in [r2_score, mean_squared_error, mean_absolute_error]}\n",
    "\n",
    "test_scores = pd.concat(test_scores, axis=1)\n",
    "test_scores"
   ]
  },
  {
   "cell_type": "code",
   "execution_count": 43,
   "id": "f78a86fa-c4d3-4a8e-a15f-0da200d1903e",
   "metadata": {},
   "outputs": [
    {
     "data": {
      "text/plain": [
       "r2_score              -0.002\n",
       "mean_squared_error     0.133\n",
       "mean_absolute_error    0.298\n",
       "dtype: float64"
      ]
     },
     "execution_count": 43,
     "metadata": {},
     "output_type": "execute_result"
    }
   ],
   "source": [
    "mean_test_score = test_scores.mean()\n",
    "mean_test_score"
   ]
  },
  {
   "cell_type": "markdown",
   "id": "f06d5af0-67c5-4ab3-b56c-5dd80b9aa184",
   "metadata": {},
   "source": [
    "**Log Run**"
   ]
  },
  {
   "cell_type": "code",
   "execution_count": 44,
   "id": "5c1869fd-df8b-4334-8510-b8a94c2d13ff",
   "metadata": {},
   "outputs": [],
   "source": [
    "# Data details\n",
    "data_details = {\"data_path\": DATA_PATH,\n",
    "                \"training_indices\": X_train.index.tolist(),\n",
    "                \"test_indices\": X_test.index.tolist(),\n",
    "                \"feature_names\": X_train.columns.tolist(),\n",
    "                \"target_names\": y_train.columns.tolist()}\n",
    "\n",
    "with open(os.path.join(LOG_PATH, LOG_DATA_PKL), \"wb\") as output_file:\n",
    "    pickle.dump(data_details, output_file)"
   ]
  },
  {
   "cell_type": "code",
   "execution_count": 46,
   "id": "2467696a-5a9e-4cab-9c0d-c53e7dbaa31f",
   "metadata": {},
   "outputs": [],
   "source": [
    "# Model details\n",
    "model = {\"model_description\": \"Lasso-Regression\",\n",
    "         \"model_details\": str(lasso),\n",
    "         \"model_object\": lasso}\n",
    "\n",
    "with open(os.path.join(LOG_PATH, LOG_MODEL_PKL), \"wb\") as output_file:\n",
    "    pickle.dump(model, output_file)"
   ]
  },
  {
   "cell_type": "code",
   "execution_count": 47,
   "id": "d658019e-386e-4d2e-b4a2-ac7b6331c5bb",
   "metadata": {},
   "outputs": [],
   "source": [
    "# Performance details\n",
    "regression_metrics = {\"train_scores\": train_scores,\n",
    "                      \"test_scores\": test_scores}\n",
    "\n",
    "with open(os.path.join(LOG_PATH, LOG_METRICS_PKL), \"wb\") as output_file:\n",
    "    pickle.dump(regression_metrics, output_file)"
   ]
  },
  {
   "cell_type": "markdown",
   "id": "0c536dfc-424e-4533-852d-c203661446b5",
   "metadata": {},
   "source": [
    "**Logging**"
   ]
  },
  {
   "cell_type": "code",
   "execution_count": 48,
   "id": "ae538374-6101-4382-b22f-baa477517fa6",
   "metadata": {},
   "outputs": [],
   "source": [
    "# Start a new run and track\n",
    "with mlflow.start_run(experiment_id=exp.experiment_id, run_name=model[\"model_description\"]):\n",
    "    # log pickle\n",
    "    mlflow.log_artifacts(LOG_PATH)\n",
    "    \n",
    "    # Track metrics\n",
    "    for metric, score in mean_test_score.items():\n",
    "        mlflow.log_metric(metric, score)"
   ]
  },
  {
   "cell_type": "markdown",
   "id": "3509d858-c906-4045-8d90-48bf541a99e0",
   "metadata": {},
   "source": [
    "___\n",
    "### 3. SVR"
   ]
  },
  {
   "cell_type": "code",
   "execution_count": 58,
   "id": "1d575634-1c28-422c-b6f7-4b9ed01aa68f",
   "metadata": {
    "tags": []
   },
   "outputs": [
    {
     "data": {
      "text/plain": [
       "Pipeline(steps=[('minmaxscaler', MinMaxScaler()), ('svr', SVR())])"
      ]
     },
     "execution_count": 58,
     "metadata": {},
     "output_type": "execute_result"
    }
   ],
   "source": [
    "svr = make_pipeline(MinMaxScaler(), SVR())\n",
    "\n",
    "svr.fit(X_train.values, (y_train.values).reshape(-1,))"
   ]
  },
  {
   "cell_type": "markdown",
   "id": "978e182e-e6f4-4e44-8e91-fadc931118ad",
   "metadata": {},
   "source": [
    "**Evaluate on training data**"
   ]
  },
  {
   "cell_type": "code",
   "execution_count": 59,
   "id": "1dfbcba5-50b9-427b-a4b9-3f10c410e6a0",
   "metadata": {},
   "outputs": [
    {
     "data": {
      "text/html": [
       "<div>\n",
       "<style scoped>\n",
       "    .dataframe tbody tr th:only-of-type {\n",
       "        vertical-align: middle;\n",
       "    }\n",
       "\n",
       "    .dataframe tbody tr th {\n",
       "        vertical-align: top;\n",
       "    }\n",
       "\n",
       "    .dataframe thead th {\n",
       "        text-align: right;\n",
       "    }\n",
       "</style>\n",
       "<table border=\"1\" class=\"dataframe\">\n",
       "  <thead>\n",
       "    <tr style=\"text-align: right;\">\n",
       "      <th></th>\n",
       "      <th>r2_score</th>\n",
       "      <th>mean_squared_error</th>\n",
       "      <th>mean_absolute_error</th>\n",
       "    </tr>\n",
       "  </thead>\n",
       "  <tbody>\n",
       "    <tr>\n",
       "      <th>SVR</th>\n",
       "      <td>0.867</td>\n",
       "      <td>0.018</td>\n",
       "      <td>0.106</td>\n",
       "    </tr>\n",
       "  </tbody>\n",
       "</table>\n",
       "</div>"
      ],
      "text/plain": [
       "     r2_score  mean_squared_error  mean_absolute_error\n",
       "SVR     0.867               0.018                0.106"
      ]
     },
     "execution_count": 59,
     "metadata": {},
     "output_type": "execute_result"
    }
   ],
   "source": [
    "# Evaluate on training set:\n",
    "predictions = pd.DataFrame(svr.predict(X_train.values),\n",
    "                          columns=y_train.columns)\n",
    "\n",
    "train_scores = {score.__name__:calculate_quality(y_train, predictions, score, \"SVR\")\n",
    "                for score in [r2_score, mean_squared_error, mean_absolute_error]}\n",
    "\n",
    "train_scores = pd.concat(train_scores, axis=1)\n",
    "train_scores"
   ]
  },
  {
   "cell_type": "code",
   "execution_count": 60,
   "id": "6fd81e1b-b31a-41a0-830d-9c0acab507d5",
   "metadata": {},
   "outputs": [
    {
     "data": {
      "text/plain": [
       "r2_score               0.867\n",
       "mean_squared_error     0.018\n",
       "mean_absolute_error    0.106\n",
       "dtype: float64"
      ]
     },
     "execution_count": 60,
     "metadata": {},
     "output_type": "execute_result"
    }
   ],
   "source": [
    "mean_train_score = train_scores.mean()\n",
    "mean_train_score"
   ]
  },
  {
   "cell_type": "markdown",
   "id": "34014a54-b679-4ab0-ab60-067ed7a36fd7",
   "metadata": {},
   "source": [
    "**Evaluate on testing data**"
   ]
  },
  {
   "cell_type": "code",
   "execution_count": 61,
   "id": "52a8d57e-ba78-4a47-a218-250670ed052a",
   "metadata": {},
   "outputs": [
    {
     "data": {
      "text/html": [
       "<div>\n",
       "<style scoped>\n",
       "    .dataframe tbody tr th:only-of-type {\n",
       "        vertical-align: middle;\n",
       "    }\n",
       "\n",
       "    .dataframe tbody tr th {\n",
       "        vertical-align: top;\n",
       "    }\n",
       "\n",
       "    .dataframe thead th {\n",
       "        text-align: right;\n",
       "    }\n",
       "</style>\n",
       "<table border=\"1\" class=\"dataframe\">\n",
       "  <thead>\n",
       "    <tr style=\"text-align: right;\">\n",
       "      <th></th>\n",
       "      <th>r2_score</th>\n",
       "      <th>mean_squared_error</th>\n",
       "      <th>mean_absolute_error</th>\n",
       "    </tr>\n",
       "  </thead>\n",
       "  <tbody>\n",
       "    <tr>\n",
       "      <th>SVR</th>\n",
       "      <td>0.862</td>\n",
       "      <td>0.018</td>\n",
       "      <td>0.109</td>\n",
       "    </tr>\n",
       "  </tbody>\n",
       "</table>\n",
       "</div>"
      ],
      "text/plain": [
       "     r2_score  mean_squared_error  mean_absolute_error\n",
       "SVR     0.862               0.018                0.109"
      ]
     },
     "execution_count": 61,
     "metadata": {},
     "output_type": "execute_result"
    }
   ],
   "source": [
    "# Evaluate on testing set:\n",
    "predictions = pd.DataFrame(svr.predict(X_test.values),\n",
    "                           columns=y_train.columns)\n",
    "\n",
    "test_scores = {score.__name__:calculate_quality(y_test, predictions, score, \"SVR\")\n",
    "                for score in [r2_score, mean_squared_error, mean_absolute_error]}\n",
    "\n",
    "test_scores = pd.concat(test_scores, axis=1)\n",
    "test_scores"
   ]
  },
  {
   "cell_type": "code",
   "execution_count": 62,
   "id": "716c838e-b87e-45f0-8a6a-391b93e0956e",
   "metadata": {},
   "outputs": [
    {
     "data": {
      "text/plain": [
       "r2_score               0.862\n",
       "mean_squared_error     0.018\n",
       "mean_absolute_error    0.109\n",
       "dtype: float64"
      ]
     },
     "execution_count": 62,
     "metadata": {},
     "output_type": "execute_result"
    }
   ],
   "source": [
    "mean_test_score = test_scores.mean()\n",
    "mean_test_score"
   ]
  },
  {
   "cell_type": "markdown",
   "id": "8ce46991-4032-4f84-8470-a83e5b748dd1",
   "metadata": {},
   "source": [
    "**Log Run**"
   ]
  },
  {
   "cell_type": "code",
   "execution_count": 63,
   "id": "d1af9693-6def-48a4-a8a5-f5aa6e96912f",
   "metadata": {},
   "outputs": [],
   "source": [
    "# Data details\n",
    "data_details = {\"data_path\": DATA_PATH,\n",
    "                \"training_indices\": X_train.index.tolist(),\n",
    "                \"test_indices\": X_test.index.tolist(),\n",
    "                \"feature_names\": X_train.columns.tolist(),\n",
    "                \"target_names\": y_train.columns.tolist()}\n",
    "\n",
    "with open(os.path.join(LOG_PATH, LOG_DATA_PKL), \"wb\") as output_file:\n",
    "    pickle.dump(data_details, output_file)"
   ]
  },
  {
   "cell_type": "code",
   "execution_count": 64,
   "id": "212b2a93-d8d8-447d-8123-d0181479cdf4",
   "metadata": {},
   "outputs": [],
   "source": [
    "# Model details\n",
    "model = {\"model_description\": \"Support Vector Regressor (SVR)\",\n",
    "         \"model_details\": str(svr),\n",
    "         \"model_object\": svr}\n",
    "\n",
    "with open(os.path.join(LOG_PATH, LOG_MODEL_PKL), \"wb\") as output_file:\n",
    "    pickle.dump(model, output_file)"
   ]
  },
  {
   "cell_type": "code",
   "execution_count": 65,
   "id": "49d2be93-e2f4-41e8-abf8-f91c3600eff8",
   "metadata": {},
   "outputs": [],
   "source": [
    "# Performance details\n",
    "regression_metrics = {\"train_scores\": train_scores,\n",
    "                      \"test_scores\": test_scores}\n",
    "\n",
    "with open(os.path.join(LOG_PATH, LOG_METRICS_PKL), \"wb\") as output_file:\n",
    "    pickle.dump(regression_metrics, output_file)"
   ]
  },
  {
   "cell_type": "markdown",
   "id": "31027281-2d7e-4f3d-aa11-f4b0eb335dbe",
   "metadata": {},
   "source": [
    "**Logging**"
   ]
  },
  {
   "cell_type": "code",
   "execution_count": 66,
   "id": "30fbcc76-e752-4a11-a5dc-71c5d2e820dd",
   "metadata": {},
   "outputs": [],
   "source": [
    "# Start a new run and track\n",
    "with mlflow.start_run(experiment_id=exp.experiment_id, run_name=model[\"model_description\"]):\n",
    "    # log pickle\n",
    "    mlflow.log_artifacts(LOG_PATH)\n",
    "    \n",
    "    # Track metrics\n",
    "    for metric, score in mean_test_score.items():\n",
    "        mlflow.log_metric(metric, score)"
   ]
  },
  {
   "cell_type": "markdown",
   "id": "88150073-ca40-4cf2-b36d-aee69568125e",
   "metadata": {},
   "source": [
    "___\n",
    "### 4. Decission-Tree-Regressor"
   ]
  },
  {
   "cell_type": "code",
   "execution_count": 145,
   "id": "c57e4b3c-f989-4ea7-8de6-014ad65c1fcb",
   "metadata": {
    "tags": []
   },
   "outputs": [
    {
     "data": {
      "text/plain": [
       "Pipeline(steps=[('minmaxscaler', MinMaxScaler()),\n",
       "                ('decisiontreeregressor', DecisionTreeRegressor(max_depth=12))])"
      ]
     },
     "execution_count": 145,
     "metadata": {},
     "output_type": "execute_result"
    }
   ],
   "source": [
    "dt = make_pipeline(MinMaxScaler(),\n",
    "                   DecisionTreeRegressor(max_depth=12))\n",
    "\n",
    "dt.fit(X_train.values, y_train.values)\n",
    "# Note: we tried different values for max_depth and values above \n",
    "# 10 tends to overfit"
   ]
  },
  {
   "cell_type": "markdown",
   "id": "c9b8348f-6c5d-4597-bf1a-ac6c48c2e5d1",
   "metadata": {},
   "source": [
    "**Evaluate on training data**"
   ]
  },
  {
   "cell_type": "code",
   "execution_count": 146,
   "id": "9b130e8a-2b42-40e5-8be9-5cbaf9f99050",
   "metadata": {},
   "outputs": [
    {
     "data": {
      "text/html": [
       "<div>\n",
       "<style scoped>\n",
       "    .dataframe tbody tr th:only-of-type {\n",
       "        vertical-align: middle;\n",
       "    }\n",
       "\n",
       "    .dataframe tbody tr th {\n",
       "        vertical-align: top;\n",
       "    }\n",
       "\n",
       "    .dataframe thead th {\n",
       "        text-align: right;\n",
       "    }\n",
       "</style>\n",
       "<table border=\"1\" class=\"dataframe\">\n",
       "  <thead>\n",
       "    <tr style=\"text-align: right;\">\n",
       "      <th></th>\n",
       "      <th>r2_score</th>\n",
       "      <th>mean_squared_error</th>\n",
       "      <th>mean_absolute_error</th>\n",
       "    </tr>\n",
       "  </thead>\n",
       "  <tbody>\n",
       "    <tr>\n",
       "      <th>DecisionTreeRegressor</th>\n",
       "      <td>0.908</td>\n",
       "      <td>0.012</td>\n",
       "      <td>0.084</td>\n",
       "    </tr>\n",
       "  </tbody>\n",
       "</table>\n",
       "</div>"
      ],
      "text/plain": [
       "                       r2_score  mean_squared_error  mean_absolute_error\n",
       "DecisionTreeRegressor     0.908               0.012                0.084"
      ]
     },
     "execution_count": 146,
     "metadata": {},
     "output_type": "execute_result"
    }
   ],
   "source": [
    "# Evaluate on training set:\n",
    "predictions = pd.DataFrame(dt.predict(X_train.values),\n",
    "                          columns=y_train.columns)\n",
    "\n",
    "train_scores = {score.__name__:calculate_quality(y_train, predictions, score, \"DecisionTreeRegressor\")\n",
    "                for score in [r2_score, mean_squared_error, mean_absolute_error]}\n",
    "\n",
    "train_scores = pd.concat(train_scores, axis=1)\n",
    "train_scores"
   ]
  },
  {
   "cell_type": "code",
   "execution_count": 147,
   "id": "c55bffa0-45ca-460a-844a-660a8fe9a6b4",
   "metadata": {},
   "outputs": [
    {
     "data": {
      "text/plain": [
       "r2_score               0.908\n",
       "mean_squared_error     0.012\n",
       "mean_absolute_error    0.084\n",
       "dtype: float64"
      ]
     },
     "execution_count": 147,
     "metadata": {},
     "output_type": "execute_result"
    }
   ],
   "source": [
    "mean_train_score = train_scores.mean()\n",
    "mean_train_score"
   ]
  },
  {
   "cell_type": "markdown",
   "id": "17383ce0-0b43-41fc-a36a-9721dadc4489",
   "metadata": {},
   "source": [
    "**Evaluate on testing data**"
   ]
  },
  {
   "cell_type": "code",
   "execution_count": 148,
   "id": "a02219f1-fc56-4007-a488-f0d15c07fa54",
   "metadata": {},
   "outputs": [
    {
     "data": {
      "text/html": [
       "<div>\n",
       "<style scoped>\n",
       "    .dataframe tbody tr th:only-of-type {\n",
       "        vertical-align: middle;\n",
       "    }\n",
       "\n",
       "    .dataframe tbody tr th {\n",
       "        vertical-align: top;\n",
       "    }\n",
       "\n",
       "    .dataframe thead th {\n",
       "        text-align: right;\n",
       "    }\n",
       "</style>\n",
       "<table border=\"1\" class=\"dataframe\">\n",
       "  <thead>\n",
       "    <tr style=\"text-align: right;\">\n",
       "      <th></th>\n",
       "      <th>r2_score</th>\n",
       "      <th>mean_squared_error</th>\n",
       "      <th>mean_absolute_error</th>\n",
       "    </tr>\n",
       "  </thead>\n",
       "  <tbody>\n",
       "    <tr>\n",
       "      <th>DecisionTreeRegressor</th>\n",
       "      <td>0.865</td>\n",
       "      <td>0.018</td>\n",
       "      <td>0.103</td>\n",
       "    </tr>\n",
       "  </tbody>\n",
       "</table>\n",
       "</div>"
      ],
      "text/plain": [
       "                       r2_score  mean_squared_error  mean_absolute_error\n",
       "DecisionTreeRegressor     0.865               0.018                0.103"
      ]
     },
     "execution_count": 148,
     "metadata": {},
     "output_type": "execute_result"
    }
   ],
   "source": [
    "# Evaluate on testing set:\n",
    "predictions = pd.DataFrame(dt.predict(X_test.values),\n",
    "                           columns=y_train.columns)\n",
    "\n",
    "test_scores = {score.__name__:calculate_quality(y_test, predictions, score, \"DecisionTreeRegressor\")\n",
    "                for score in [r2_score, mean_squared_error, mean_absolute_error]}\n",
    "\n",
    "test_scores = pd.concat(test_scores, axis=1)\n",
    "test_scores"
   ]
  },
  {
   "cell_type": "code",
   "execution_count": 149,
   "id": "8df9d66c-222d-4d5f-8fbd-ed220d8b0f73",
   "metadata": {},
   "outputs": [
    {
     "data": {
      "text/plain": [
       "r2_score               0.865\n",
       "mean_squared_error     0.018\n",
       "mean_absolute_error    0.103\n",
       "dtype: float64"
      ]
     },
     "execution_count": 149,
     "metadata": {},
     "output_type": "execute_result"
    }
   ],
   "source": [
    "mean_test_score = test_scores.mean()\n",
    "mean_test_score"
   ]
  },
  {
   "cell_type": "markdown",
   "id": "79a64398-16ca-45f6-ade0-1996b1e3859f",
   "metadata": {},
   "source": [
    "**Log Run**"
   ]
  },
  {
   "cell_type": "code",
   "execution_count": 150,
   "id": "c4aac39a-c5e8-4e57-9df6-64265549ac63",
   "metadata": {},
   "outputs": [],
   "source": [
    "# Data details\n",
    "data_details = {\"data_path\": DATA_PATH,\n",
    "                \"training_indices\": X_train.index.tolist(),\n",
    "                \"test_indices\": X_test.index.tolist(),\n",
    "                \"feature_names\": X_train.columns.tolist(),\n",
    "                \"target_names\": y_train.columns.tolist()}\n",
    "\n",
    "with open(os.path.join(LOG_PATH, LOG_DATA_PKL), \"wb\") as output_file:\n",
    "    pickle.dump(data_details, output_file)"
   ]
  },
  {
   "cell_type": "code",
   "execution_count": 151,
   "id": "defe49c2-46b3-435f-a458-40fd7fb27783",
   "metadata": {},
   "outputs": [],
   "source": [
    "# Model details\n",
    "model = {\"model_description\": \"Decision Tree Regressor\",\n",
    "         \"model_details\": str(dt),\n",
    "         \"model_object\": dt}\n",
    "\n",
    "with open(os.path.join(LOG_PATH, LOG_MODEL_PKL), \"wb\") as output_file:\n",
    "    pickle.dump(model, output_file)"
   ]
  },
  {
   "cell_type": "code",
   "execution_count": 152,
   "id": "ceb31fed-93e5-4d5c-9e5f-4858e40787ee",
   "metadata": {},
   "outputs": [],
   "source": [
    "# Performance details\n",
    "regression_metrics = {\"train_scores\": train_scores,\n",
    "                      \"test_scores\": test_scores}\n",
    "\n",
    "with open(os.path.join(LOG_PATH, LOG_METRICS_PKL), \"wb\") as output_file:\n",
    "    pickle.dump(regression_metrics, output_file)"
   ]
  },
  {
   "cell_type": "markdown",
   "id": "3be2fec0-5a3b-438b-aef1-bd2bad128f14",
   "metadata": {},
   "source": [
    "**Logging**"
   ]
  },
  {
   "cell_type": "code",
   "execution_count": 153,
   "id": "4f4245b1-b4c1-4439-b671-c57a1b89d7de",
   "metadata": {},
   "outputs": [],
   "source": [
    "# Start a new run and track\n",
    "with mlflow.start_run(experiment_id=exp.experiment_id, run_name=model[\"model_description\"]):\n",
    "    # log pickle\n",
    "    mlflow.log_artifacts(LOG_PATH)\n",
    "    \n",
    "    # Track metrics\n",
    "    for metric, score in mean_test_score.items():\n",
    "        mlflow.log_metric(metric, score)"
   ]
  },
  {
   "cell_type": "markdown",
   "id": "5feaa658-2b7f-4d79-acff-d0af97ed46be",
   "metadata": {},
   "source": [
    "___\n",
    "### 5. Random-Forest-Regressor"
   ]
  },
  {
   "cell_type": "code",
   "execution_count": 155,
   "id": "a3244090-5120-4714-b997-d07601b486b1",
   "metadata": {
    "tags": []
   },
   "outputs": [
    {
     "data": {
      "text/plain": [
       "Pipeline(steps=[('minmaxscaler', MinMaxScaler()),\n",
       "                ('randomforestregressor', RandomForestRegressor(max_depth=12))])"
      ]
     },
     "execution_count": 155,
     "metadata": {},
     "output_type": "execute_result"
    }
   ],
   "source": [
    "rf = make_pipeline(MinMaxScaler(),\n",
    "                   RandomForestRegressor(max_depth=12))\n",
    "\n",
    "rf.fit(X_train.values, (y_train.values).reshape(-1,))\n",
    "# Note: we tried different values for max_depth and values above \n",
    "# 10 tends to overfit"
   ]
  },
  {
   "cell_type": "markdown",
   "id": "19b229fc-3a0c-4da7-86e9-587bf972d90c",
   "metadata": {},
   "source": [
    "**Evaluate on training data**"
   ]
  },
  {
   "cell_type": "code",
   "execution_count": 156,
   "id": "bed0c3ef-d648-4fa4-91a3-5c780bec02cd",
   "metadata": {},
   "outputs": [
    {
     "data": {
      "text/html": [
       "<div>\n",
       "<style scoped>\n",
       "    .dataframe tbody tr th:only-of-type {\n",
       "        vertical-align: middle;\n",
       "    }\n",
       "\n",
       "    .dataframe tbody tr th {\n",
       "        vertical-align: top;\n",
       "    }\n",
       "\n",
       "    .dataframe thead th {\n",
       "        text-align: right;\n",
       "    }\n",
       "</style>\n",
       "<table border=\"1\" class=\"dataframe\">\n",
       "  <thead>\n",
       "    <tr style=\"text-align: right;\">\n",
       "      <th></th>\n",
       "      <th>r2_score</th>\n",
       "      <th>mean_squared_error</th>\n",
       "      <th>mean_absolute_error</th>\n",
       "    </tr>\n",
       "  </thead>\n",
       "  <tbody>\n",
       "    <tr>\n",
       "      <th>RandomForestRegressor</th>\n",
       "      <td>0.924</td>\n",
       "      <td>0.01</td>\n",
       "      <td>0.079</td>\n",
       "    </tr>\n",
       "  </tbody>\n",
       "</table>\n",
       "</div>"
      ],
      "text/plain": [
       "                       r2_score  mean_squared_error  mean_absolute_error\n",
       "RandomForestRegressor     0.924                0.01                0.079"
      ]
     },
     "execution_count": 156,
     "metadata": {},
     "output_type": "execute_result"
    }
   ],
   "source": [
    "# Evaluate on training set:\n",
    "predictions = pd.DataFrame(rf.predict(X_train.values),\n",
    "                          columns=y_train.columns)\n",
    "\n",
    "train_scores = {score.__name__:calculate_quality(y_train, predictions, score, \"RandomForestRegressor\")\n",
    "                for score in [r2_score, mean_squared_error, mean_absolute_error]}\n",
    "\n",
    "train_scores = pd.concat(train_scores, axis=1)\n",
    "train_scores"
   ]
  },
  {
   "cell_type": "code",
   "execution_count": 157,
   "id": "b4913a22-8dee-42b8-9c0e-e0fc8017acb9",
   "metadata": {},
   "outputs": [
    {
     "data": {
      "text/plain": [
       "r2_score               0.924\n",
       "mean_squared_error     0.010\n",
       "mean_absolute_error    0.079\n",
       "dtype: float64"
      ]
     },
     "execution_count": 157,
     "metadata": {},
     "output_type": "execute_result"
    }
   ],
   "source": [
    "mean_train_score = train_scores.mean()\n",
    "mean_train_score"
   ]
  },
  {
   "cell_type": "markdown",
   "id": "666dd94a-66dd-4ba5-9936-5d2563cda7ce",
   "metadata": {},
   "source": [
    "**Evaluate on testing data**"
   ]
  },
  {
   "cell_type": "code",
   "execution_count": 177,
   "id": "2e6b2fc9-a5b8-47d7-8818-c65080e10ad7",
   "metadata": {},
   "outputs": [
    {
     "data": {
      "text/html": [
       "<div>\n",
       "<style scoped>\n",
       "    .dataframe tbody tr th:only-of-type {\n",
       "        vertical-align: middle;\n",
       "    }\n",
       "\n",
       "    .dataframe tbody tr th {\n",
       "        vertical-align: top;\n",
       "    }\n",
       "\n",
       "    .dataframe thead th {\n",
       "        text-align: right;\n",
       "    }\n",
       "</style>\n",
       "<table border=\"1\" class=\"dataframe\">\n",
       "  <thead>\n",
       "    <tr style=\"text-align: right;\">\n",
       "      <th></th>\n",
       "      <th>r2_score</th>\n",
       "      <th>mean_squared_error</th>\n",
       "      <th>mean_absolute_error</th>\n",
       "    </tr>\n",
       "  </thead>\n",
       "  <tbody>\n",
       "    <tr>\n",
       "      <th>RandomForestRegressor</th>\n",
       "      <td>0.895</td>\n",
       "      <td>0.014</td>\n",
       "      <td>0.094</td>\n",
       "    </tr>\n",
       "  </tbody>\n",
       "</table>\n",
       "</div>"
      ],
      "text/plain": [
       "                       r2_score  mean_squared_error  mean_absolute_error\n",
       "RandomForestRegressor     0.895               0.014                0.094"
      ]
     },
     "execution_count": 177,
     "metadata": {},
     "output_type": "execute_result"
    }
   ],
   "source": [
    "# Evaluate on testing set:\n",
    "predictions = pd.DataFrame(rf.predict(X_test.values),\n",
    "                           columns=y_train.columns)\n",
    "\n",
    "test_scores = {score.__name__:calculate_quality(y_test, predictions, score, \"RandomForestRegressor\")\n",
    "                for score in [r2_score, mean_squared_error, mean_absolute_error]}\n",
    "\n",
    "test_scores = pd.concat(test_scores, axis=1)\n",
    "test_scores"
   ]
  },
  {
   "cell_type": "code",
   "execution_count": 159,
   "id": "eb51a761-94b7-428a-aca7-d7fb41e2bbfc",
   "metadata": {},
   "outputs": [
    {
     "data": {
      "text/plain": [
       "r2_score               0.895\n",
       "mean_squared_error     0.014\n",
       "mean_absolute_error    0.094\n",
       "dtype: float64"
      ]
     },
     "execution_count": 159,
     "metadata": {},
     "output_type": "execute_result"
    }
   ],
   "source": [
    "mean_test_score = test_scores.mean()\n",
    "mean_test_score"
   ]
  },
  {
   "cell_type": "markdown",
   "id": "0ee2c134-3390-4ff8-bd3c-102d6708d74f",
   "metadata": {},
   "source": [
    "**Log Run**"
   ]
  },
  {
   "cell_type": "code",
   "execution_count": 160,
   "id": "5c242e57-5aa8-450d-acec-fc007dada146",
   "metadata": {},
   "outputs": [],
   "source": [
    "# Data details\n",
    "data_details = {\"data_path\": DATA_PATH,\n",
    "                \"training_indices\": X_train.index.tolist(),\n",
    "                \"test_indices\": X_test.index.tolist(),\n",
    "                \"feature_names\": X_train.columns.tolist(),\n",
    "                \"target_names\": y_train.columns.tolist()}\n",
    "\n",
    "with open(os.path.join(LOG_PATH, LOG_DATA_PKL), \"wb\") as output_file:\n",
    "    pickle.dump(data_details, output_file)"
   ]
  },
  {
   "cell_type": "code",
   "execution_count": 161,
   "id": "dfd92b09-f416-477a-b8f8-3fba099a7f72",
   "metadata": {},
   "outputs": [],
   "source": [
    "# Model details\n",
    "model = {\"model_description\": \"Random Forest Regressor\",\n",
    "         \"model_details\": str(rf),\n",
    "         \"model_object\": rf}\n",
    "\n",
    "with open(os.path.join(LOG_PATH, LOG_MODEL_PKL), \"wb\") as output_file:\n",
    "    pickle.dump(model, output_file)"
   ]
  },
  {
   "cell_type": "code",
   "execution_count": 162,
   "id": "0ee48505-ea82-4793-8375-eddd5d53dfce",
   "metadata": {},
   "outputs": [],
   "source": [
    "# Performance details\n",
    "regression_metrics = {\"train_scores\": train_scores,\n",
    "                      \"test_scores\": test_scores}\n",
    "\n",
    "with open(os.path.join(LOG_PATH, LOG_METRICS_PKL), \"wb\") as output_file:\n",
    "    pickle.dump(regression_metrics, output_file)"
   ]
  },
  {
   "cell_type": "markdown",
   "id": "6784281b-62e5-4d92-b0c6-5b8069779e5e",
   "metadata": {},
   "source": [
    "**Logging**"
   ]
  },
  {
   "cell_type": "code",
   "execution_count": 163,
   "id": "ade17802-8b42-40c7-9dc4-769e9eb80e93",
   "metadata": {},
   "outputs": [],
   "source": [
    "# Start a new run and track\n",
    "with mlflow.start_run(experiment_id=exp.experiment_id, run_name=model[\"model_description\"]):\n",
    "    # log pickle\n",
    "    mlflow.log_artifacts(LOG_PATH)\n",
    "    \n",
    "    # Track metrics\n",
    "    for metric, score in mean_test_score.items():\n",
    "        mlflow.log_metric(metric, score)"
   ]
  },
  {
   "cell_type": "markdown",
   "id": "372670f2-186b-43ca-94b8-f48f6621accd",
   "metadata": {},
   "source": [
    "___\n",
    "### 6. K-Nearest-Neighbor"
   ]
  },
  {
   "cell_type": "code",
   "execution_count": 233,
   "id": "c3f85373-f519-4c8c-9075-a3b1d803f833",
   "metadata": {},
   "outputs": [
    {
     "data": {
      "text/html": [
       "<div>\n",
       "<style scoped>\n",
       "    .dataframe tbody tr th:only-of-type {\n",
       "        vertical-align: middle;\n",
       "    }\n",
       "\n",
       "    .dataframe tbody tr th {\n",
       "        vertical-align: top;\n",
       "    }\n",
       "\n",
       "    .dataframe thead th {\n",
       "        text-align: right;\n",
       "    }\n",
       "</style>\n",
       "<table border=\"1\" class=\"dataframe\">\n",
       "  <thead>\n",
       "    <tr style=\"text-align: right;\">\n",
       "      <th></th>\n",
       "      <th>r2_score_train</th>\n",
       "      <th>mean_squared_error_train</th>\n",
       "      <th>mean_absolute_error_train</th>\n",
       "      <th>r2_score_test</th>\n",
       "      <th>mean_squared_error_test</th>\n",
       "      <th>mean_absolute_error_test</th>\n",
       "    </tr>\n",
       "  </thead>\n",
       "  <tbody>\n",
       "    <tr>\n",
       "      <th>KNeighborsRegressor(k=1)</th>\n",
       "      <td>0.920</td>\n",
       "      <td>0.011</td>\n",
       "      <td>0.062</td>\n",
       "      <td>0.853</td>\n",
       "      <td>0.020</td>\n",
       "      <td>0.112</td>\n",
       "    </tr>\n",
       "    <tr>\n",
       "      <th>KNeighborsRegressor(k=2)</th>\n",
       "      <td>0.938</td>\n",
       "      <td>0.008</td>\n",
       "      <td>0.068</td>\n",
       "      <td>0.882</td>\n",
       "      <td>0.016</td>\n",
       "      <td>0.099</td>\n",
       "    </tr>\n",
       "    <tr>\n",
       "      <th>KNeighborsRegressor(k=3)</th>\n",
       "      <td>0.935</td>\n",
       "      <td>0.009</td>\n",
       "      <td>0.071</td>\n",
       "      <td>0.887</td>\n",
       "      <td>0.015</td>\n",
       "      <td>0.097</td>\n",
       "    </tr>\n",
       "    <tr>\n",
       "      <th>KNeighborsRegressor(k=4)</th>\n",
       "      <td>0.930</td>\n",
       "      <td>0.009</td>\n",
       "      <td>0.075</td>\n",
       "      <td>0.886</td>\n",
       "      <td>0.015</td>\n",
       "      <td>0.098</td>\n",
       "    </tr>\n",
       "    <tr>\n",
       "      <th>KNeighborsRegressor(k=5)</th>\n",
       "      <td>0.924</td>\n",
       "      <td>0.010</td>\n",
       "      <td>0.078</td>\n",
       "      <td>0.883</td>\n",
       "      <td>0.016</td>\n",
       "      <td>0.098</td>\n",
       "    </tr>\n",
       "    <tr>\n",
       "      <th>KNeighborsRegressor(k=6)</th>\n",
       "      <td>0.918</td>\n",
       "      <td>0.011</td>\n",
       "      <td>0.082</td>\n",
       "      <td>0.879</td>\n",
       "      <td>0.016</td>\n",
       "      <td>0.100</td>\n",
       "    </tr>\n",
       "    <tr>\n",
       "      <th>KNeighborsRegressor(k=7)</th>\n",
       "      <td>0.912</td>\n",
       "      <td>0.012</td>\n",
       "      <td>0.085</td>\n",
       "      <td>0.876</td>\n",
       "      <td>0.016</td>\n",
       "      <td>0.101</td>\n",
       "    </tr>\n",
       "    <tr>\n",
       "      <th>KNeighborsRegressor(k=8)</th>\n",
       "      <td>0.907</td>\n",
       "      <td>0.013</td>\n",
       "      <td>0.088</td>\n",
       "      <td>0.873</td>\n",
       "      <td>0.017</td>\n",
       "      <td>0.102</td>\n",
       "    </tr>\n",
       "    <tr>\n",
       "      <th>KNeighborsRegressor(k=9)</th>\n",
       "      <td>0.902</td>\n",
       "      <td>0.013</td>\n",
       "      <td>0.090</td>\n",
       "      <td>0.869</td>\n",
       "      <td>0.017</td>\n",
       "      <td>0.104</td>\n",
       "    </tr>\n",
       "    <tr>\n",
       "      <th>KNeighborsRegressor(k=10)</th>\n",
       "      <td>0.897</td>\n",
       "      <td>0.014</td>\n",
       "      <td>0.092</td>\n",
       "      <td>0.865</td>\n",
       "      <td>0.018</td>\n",
       "      <td>0.105</td>\n",
       "    </tr>\n",
       "    <tr>\n",
       "      <th>KNeighborsRegressor(k=11)</th>\n",
       "      <td>0.892</td>\n",
       "      <td>0.015</td>\n",
       "      <td>0.095</td>\n",
       "      <td>0.861</td>\n",
       "      <td>0.018</td>\n",
       "      <td>0.107</td>\n",
       "    </tr>\n",
       "    <tr>\n",
       "      <th>KNeighborsRegressor(k=12)</th>\n",
       "      <td>0.887</td>\n",
       "      <td>0.015</td>\n",
       "      <td>0.097</td>\n",
       "      <td>0.857</td>\n",
       "      <td>0.019</td>\n",
       "      <td>0.108</td>\n",
       "    </tr>\n",
       "    <tr>\n",
       "      <th>KNeighborsRegressor(k=13)</th>\n",
       "      <td>0.883</td>\n",
       "      <td>0.016</td>\n",
       "      <td>0.098</td>\n",
       "      <td>0.853</td>\n",
       "      <td>0.020</td>\n",
       "      <td>0.110</td>\n",
       "    </tr>\n",
       "    <tr>\n",
       "      <th>KNeighborsRegressor(k=14)</th>\n",
       "      <td>0.879</td>\n",
       "      <td>0.016</td>\n",
       "      <td>0.100</td>\n",
       "      <td>0.852</td>\n",
       "      <td>0.020</td>\n",
       "      <td>0.111</td>\n",
       "    </tr>\n",
       "    <tr>\n",
       "      <th>KNeighborsRegressor(k=15)</th>\n",
       "      <td>0.876</td>\n",
       "      <td>0.017</td>\n",
       "      <td>0.101</td>\n",
       "      <td>0.850</td>\n",
       "      <td>0.020</td>\n",
       "      <td>0.111</td>\n",
       "    </tr>\n",
       "    <tr>\n",
       "      <th>KNeighborsRegressor(k=16)</th>\n",
       "      <td>0.873</td>\n",
       "      <td>0.017</td>\n",
       "      <td>0.102</td>\n",
       "      <td>0.847</td>\n",
       "      <td>0.020</td>\n",
       "      <td>0.112</td>\n",
       "    </tr>\n",
       "    <tr>\n",
       "      <th>KNeighborsRegressor(k=17)</th>\n",
       "      <td>0.870</td>\n",
       "      <td>0.017</td>\n",
       "      <td>0.103</td>\n",
       "      <td>0.846</td>\n",
       "      <td>0.021</td>\n",
       "      <td>0.113</td>\n",
       "    </tr>\n",
       "    <tr>\n",
       "      <th>KNeighborsRegressor(k=18)</th>\n",
       "      <td>0.867</td>\n",
       "      <td>0.018</td>\n",
       "      <td>0.104</td>\n",
       "      <td>0.844</td>\n",
       "      <td>0.021</td>\n",
       "      <td>0.114</td>\n",
       "    </tr>\n",
       "    <tr>\n",
       "      <th>KNeighborsRegressor(k=19)</th>\n",
       "      <td>0.864</td>\n",
       "      <td>0.018</td>\n",
       "      <td>0.106</td>\n",
       "      <td>0.842</td>\n",
       "      <td>0.021</td>\n",
       "      <td>0.114</td>\n",
       "    </tr>\n",
       "    <tr>\n",
       "      <th>KNeighborsRegressor(k=20)</th>\n",
       "      <td>0.861</td>\n",
       "      <td>0.019</td>\n",
       "      <td>0.107</td>\n",
       "      <td>0.839</td>\n",
       "      <td>0.021</td>\n",
       "      <td>0.115</td>\n",
       "    </tr>\n",
       "    <tr>\n",
       "      <th>KNeighborsRegressor(k=21)</th>\n",
       "      <td>0.858</td>\n",
       "      <td>0.019</td>\n",
       "      <td>0.108</td>\n",
       "      <td>0.836</td>\n",
       "      <td>0.022</td>\n",
       "      <td>0.116</td>\n",
       "    </tr>\n",
       "    <tr>\n",
       "      <th>KNeighborsRegressor(k=22)</th>\n",
       "      <td>0.855</td>\n",
       "      <td>0.019</td>\n",
       "      <td>0.109</td>\n",
       "      <td>0.834</td>\n",
       "      <td>0.022</td>\n",
       "      <td>0.117</td>\n",
       "    </tr>\n",
       "    <tr>\n",
       "      <th>KNeighborsRegressor(k=23)</th>\n",
       "      <td>0.852</td>\n",
       "      <td>0.020</td>\n",
       "      <td>0.110</td>\n",
       "      <td>0.831</td>\n",
       "      <td>0.023</td>\n",
       "      <td>0.118</td>\n",
       "    </tr>\n",
       "    <tr>\n",
       "      <th>KNeighborsRegressor(k=24)</th>\n",
       "      <td>0.849</td>\n",
       "      <td>0.020</td>\n",
       "      <td>0.111</td>\n",
       "      <td>0.829</td>\n",
       "      <td>0.023</td>\n",
       "      <td>0.119</td>\n",
       "    </tr>\n",
       "  </tbody>\n",
       "</table>\n",
       "</div>"
      ],
      "text/plain": [
       "                           r2_score_train  mean_squared_error_train  \\\n",
       "KNeighborsRegressor(k=1)            0.920                     0.011   \n",
       "KNeighborsRegressor(k=2)            0.938                     0.008   \n",
       "KNeighborsRegressor(k=3)            0.935                     0.009   \n",
       "KNeighborsRegressor(k=4)            0.930                     0.009   \n",
       "KNeighborsRegressor(k=5)            0.924                     0.010   \n",
       "KNeighborsRegressor(k=6)            0.918                     0.011   \n",
       "KNeighborsRegressor(k=7)            0.912                     0.012   \n",
       "KNeighborsRegressor(k=8)            0.907                     0.013   \n",
       "KNeighborsRegressor(k=9)            0.902                     0.013   \n",
       "KNeighborsRegressor(k=10)           0.897                     0.014   \n",
       "KNeighborsRegressor(k=11)           0.892                     0.015   \n",
       "KNeighborsRegressor(k=12)           0.887                     0.015   \n",
       "KNeighborsRegressor(k=13)           0.883                     0.016   \n",
       "KNeighborsRegressor(k=14)           0.879                     0.016   \n",
       "KNeighborsRegressor(k=15)           0.876                     0.017   \n",
       "KNeighborsRegressor(k=16)           0.873                     0.017   \n",
       "KNeighborsRegressor(k=17)           0.870                     0.017   \n",
       "KNeighborsRegressor(k=18)           0.867                     0.018   \n",
       "KNeighborsRegressor(k=19)           0.864                     0.018   \n",
       "KNeighborsRegressor(k=20)           0.861                     0.019   \n",
       "KNeighborsRegressor(k=21)           0.858                     0.019   \n",
       "KNeighborsRegressor(k=22)           0.855                     0.019   \n",
       "KNeighborsRegressor(k=23)           0.852                     0.020   \n",
       "KNeighborsRegressor(k=24)           0.849                     0.020   \n",
       "\n",
       "                           mean_absolute_error_train  r2_score_test  \\\n",
       "KNeighborsRegressor(k=1)                       0.062          0.853   \n",
       "KNeighborsRegressor(k=2)                       0.068          0.882   \n",
       "KNeighborsRegressor(k=3)                       0.071          0.887   \n",
       "KNeighborsRegressor(k=4)                       0.075          0.886   \n",
       "KNeighborsRegressor(k=5)                       0.078          0.883   \n",
       "KNeighborsRegressor(k=6)                       0.082          0.879   \n",
       "KNeighborsRegressor(k=7)                       0.085          0.876   \n",
       "KNeighborsRegressor(k=8)                       0.088          0.873   \n",
       "KNeighborsRegressor(k=9)                       0.090          0.869   \n",
       "KNeighborsRegressor(k=10)                      0.092          0.865   \n",
       "KNeighborsRegressor(k=11)                      0.095          0.861   \n",
       "KNeighborsRegressor(k=12)                      0.097          0.857   \n",
       "KNeighborsRegressor(k=13)                      0.098          0.853   \n",
       "KNeighborsRegressor(k=14)                      0.100          0.852   \n",
       "KNeighborsRegressor(k=15)                      0.101          0.850   \n",
       "KNeighborsRegressor(k=16)                      0.102          0.847   \n",
       "KNeighborsRegressor(k=17)                      0.103          0.846   \n",
       "KNeighborsRegressor(k=18)                      0.104          0.844   \n",
       "KNeighborsRegressor(k=19)                      0.106          0.842   \n",
       "KNeighborsRegressor(k=20)                      0.107          0.839   \n",
       "KNeighborsRegressor(k=21)                      0.108          0.836   \n",
       "KNeighborsRegressor(k=22)                      0.109          0.834   \n",
       "KNeighborsRegressor(k=23)                      0.110          0.831   \n",
       "KNeighborsRegressor(k=24)                      0.111          0.829   \n",
       "\n",
       "                           mean_squared_error_test  mean_absolute_error_test  \n",
       "KNeighborsRegressor(k=1)                     0.020                     0.112  \n",
       "KNeighborsRegressor(k=2)                     0.016                     0.099  \n",
       "KNeighborsRegressor(k=3)                     0.015                     0.097  \n",
       "KNeighborsRegressor(k=4)                     0.015                     0.098  \n",
       "KNeighborsRegressor(k=5)                     0.016                     0.098  \n",
       "KNeighborsRegressor(k=6)                     0.016                     0.100  \n",
       "KNeighborsRegressor(k=7)                     0.016                     0.101  \n",
       "KNeighborsRegressor(k=8)                     0.017                     0.102  \n",
       "KNeighborsRegressor(k=9)                     0.017                     0.104  \n",
       "KNeighborsRegressor(k=10)                    0.018                     0.105  \n",
       "KNeighborsRegressor(k=11)                    0.018                     0.107  \n",
       "KNeighborsRegressor(k=12)                    0.019                     0.108  \n",
       "KNeighborsRegressor(k=13)                    0.020                     0.110  \n",
       "KNeighborsRegressor(k=14)                    0.020                     0.111  \n",
       "KNeighborsRegressor(k=15)                    0.020                     0.111  \n",
       "KNeighborsRegressor(k=16)                    0.020                     0.112  \n",
       "KNeighborsRegressor(k=17)                    0.021                     0.113  \n",
       "KNeighborsRegressor(k=18)                    0.021                     0.114  \n",
       "KNeighborsRegressor(k=19)                    0.021                     0.114  \n",
       "KNeighborsRegressor(k=20)                    0.021                     0.115  \n",
       "KNeighborsRegressor(k=21)                    0.022                     0.116  \n",
       "KNeighborsRegressor(k=22)                    0.022                     0.117  \n",
       "KNeighborsRegressor(k=23)                    0.023                     0.118  \n",
       "KNeighborsRegressor(k=24)                    0.023                     0.119  "
      ]
     },
     "execution_count": 233,
     "metadata": {},
     "output_type": "execute_result"
    }
   ],
   "source": [
    "metrics_val = []\n",
    "for K in range(1,25):\n",
    "    knn = make_pipeline(MinMaxScaler(),\n",
    "                       KNeighborsRegressor(n_neighbors=K))\n",
    "\n",
    "    knn.fit(X_train.values, y_train.values)\n",
    "    \n",
    "    # Evaluate on training set:\n",
    "    predictions = pd.DataFrame(knn.predict(X_train.values),\n",
    "                              columns=y_train.columns)\n",
    "    train_scores = {score.__name__+\"_train\":calculate_quality(y_train, predictions, score, f\"KNeighborsRegressor(k={K})\")\n",
    "                    for score in [r2_score, mean_squared_error, mean_absolute_error]}\n",
    "    train_scores = pd.concat(train_scores, axis=1)\n",
    "    \n",
    "    \n",
    "    # Evaluate on testing set:\n",
    "    predictions = pd.DataFrame(knn.predict(X_test.values),\n",
    "                              columns=y_train.columns)\n",
    "    test_scores = {score.__name__+\"_test\":calculate_quality(y_test, predictions, score, f\"KNeighborsRegressor(k={K})\")\n",
    "                    for score in [r2_score, mean_squared_error, mean_absolute_error]}\n",
    "    test_scores = pd.concat(test_scores, axis=1)\n",
    "    \n",
    "    series = pd.merge(train_scores, test_scores, left_index=True, right_index=True)\n",
    "\n",
    "    metrics_val.append(series)\n",
    "\n",
    "metrics_val = pd.concat(metrics_val, axis=0)\n",
    "metrics_val"
   ]
  },
  {
   "cell_type": "code",
   "execution_count": 245,
   "id": "c3373cc6-92b6-48cc-bbd4-3e4267fddc86",
   "metadata": {
    "tags": []
   },
   "outputs": [],
   "source": [
    "#Reset index so we can use index as the base for x-labels in plots\n",
    "metrics_val.reset_index(inplace=True)"
   ]
  },
  {
   "cell_type": "code",
   "execution_count": 246,
   "id": "fa98ae2f-6db3-4457-af4d-0d3ffa091901",
   "metadata": {},
   "outputs": [
    {
     "data": {
      "text/plain": [
       "<function matplotlib.pyplot.show(close=None, block=None)>"
      ]
     },
     "execution_count": 246,
     "metadata": {},
     "output_type": "execute_result"
    },
    {
     "data": {
      "image/png": "[encoded data removed]",
      "text/plain": [
       "<Figure size 720x1080 with 3 Axes>"
      ]
     },
     "metadata": {
      "needs_background": "light"
     },
     "output_type": "display_data"
    }
   ],
   "source": [
    "x_values = (metrics_val.index + 1).tolist()\n",
    "\n",
    "plt.figure(figsize=(10, 15))\n",
    "plt.subplot(3,1,1)\n",
    "plt.plot(x_values, metrics_val.r2_score_train)\n",
    "plt.plot(x_values, metrics_val.r2_score_test)\n",
    "plt.title(\"R2_score values for different number of K\")\n",
    "plt.ylabel(\"R2 scores\")\n",
    "plt.grid()\n",
    "plt.show\n",
    "\n",
    "plt.subplot(3,1,2)\n",
    "plt.plot(x_values, metrics_val.mean_squared_error_train)\n",
    "plt.plot(x_values, metrics_val.mean_squared_error_test)\n",
    "plt.title(\"MSE values for different number of K\")\n",
    "plt.ylabel(\"MSE scores\")\n",
    "plt.grid()\n",
    "plt.show\n",
    "\n",
    "plt.subplot(3,1,3)\n",
    "plt.plot(x_values, metrics_val.mean_absolute_error_train)\n",
    "plt.plot(x_values, metrics_val.mean_absolute_error_test)\n",
    "plt.title(\"MAE values for different number of K\")\n",
    "plt.xlabel(\"Different values of K\")\n",
    "plt.ylabel(\"MAE scores\")\n",
    "plt.grid()\n",
    "plt.show"
   ]
  },
  {
   "cell_type": "markdown",
   "id": "611ea244-590f-4d8a-9773-815938ed63bc",
   "metadata": {},
   "source": [
    "**From the above calculations we can conclude that the best value for K is K=20**"
   ]
  },
  {
   "cell_type": "code",
   "execution_count": 237,
   "id": "77502a96-b3a7-419f-88a5-1a0c0506a512",
   "metadata": {
    "tags": []
   },
   "outputs": [
    {
     "data": {
      "text/plain": [
       "Pipeline(steps=[('minmaxscaler', MinMaxScaler()),\n",
       "                ('kneighborsregressor', KNeighborsRegressor(n_neighbors=20))])"
      ]
     },
     "execution_count": 237,
     "metadata": {},
     "output_type": "execute_result"
    }
   ],
   "source": [
    "knn = make_pipeline(MinMaxScaler(),\n",
    "                   KNeighborsRegressor(n_neighbors=20))\n",
    "\n",
    "knn.fit(X_train.values, y_train.values)"
   ]
  },
  {
   "cell_type": "markdown",
   "id": "78e54227-aadd-4d81-a500-012dc766f7af",
   "metadata": {},
   "source": [
    "**Evaluate on training data**"
   ]
  },
  {
   "cell_type": "code",
   "execution_count": 238,
   "id": "8cb5ac3c-c9bd-4422-b6eb-eb15d82906ad",
   "metadata": {},
   "outputs": [
    {
     "data": {
      "text/html": [
       "<div>\n",
       "<style scoped>\n",
       "    .dataframe tbody tr th:only-of-type {\n",
       "        vertical-align: middle;\n",
       "    }\n",
       "\n",
       "    .dataframe tbody tr th {\n",
       "        vertical-align: top;\n",
       "    }\n",
       "\n",
       "    .dataframe thead th {\n",
       "        text-align: right;\n",
       "    }\n",
       "</style>\n",
       "<table border=\"1\" class=\"dataframe\">\n",
       "  <thead>\n",
       "    <tr style=\"text-align: right;\">\n",
       "      <th></th>\n",
       "      <th>r2_score</th>\n",
       "      <th>mean_squared_error</th>\n",
       "      <th>mean_absolute_error</th>\n",
       "    </tr>\n",
       "  </thead>\n",
       "  <tbody>\n",
       "    <tr>\n",
       "      <th>KNeighborsRegressor</th>\n",
       "      <td>0.861</td>\n",
       "      <td>0.019</td>\n",
       "      <td>0.107</td>\n",
       "    </tr>\n",
       "  </tbody>\n",
       "</table>\n",
       "</div>"
      ],
      "text/plain": [
       "                     r2_score  mean_squared_error  mean_absolute_error\n",
       "KNeighborsRegressor     0.861               0.019                0.107"
      ]
     },
     "execution_count": 238,
     "metadata": {},
     "output_type": "execute_result"
    }
   ],
   "source": [
    "# Evaluate on training set:\n",
    "predictions = pd.DataFrame(knn.predict(X_train.values),\n",
    "                          columns=y_train.columns)\n",
    "\n",
    "train_scores = {score.__name__:calculate_quality(y_train, predictions, score, \"KNeighborsRegressor\")\n",
    "                for score in [r2_score, mean_squared_error, mean_absolute_error]}\n",
    "\n",
    "train_scores = pd.concat(train_scores, axis=1)\n",
    "train_scores"
   ]
  },
  {
   "cell_type": "code",
   "execution_count": 239,
   "id": "a4bbba2d-72e5-462a-9490-7af336d02fd2",
   "metadata": {},
   "outputs": [
    {
     "data": {
      "text/plain": [
       "r2_score               0.861\n",
       "mean_squared_error     0.019\n",
       "mean_absolute_error    0.107\n",
       "dtype: float64"
      ]
     },
     "execution_count": 239,
     "metadata": {},
     "output_type": "execute_result"
    }
   ],
   "source": [
    "mean_train_score = train_scores.mean()\n",
    "mean_train_score"
   ]
  },
  {
   "cell_type": "markdown",
   "id": "b0a22740-db3a-4a53-977b-a3225be30f54",
   "metadata": {},
   "source": [
    "**Evaluate on testing data**"
   ]
  },
  {
   "cell_type": "code",
   "execution_count": 240,
   "id": "cbb6cb01-16be-4f99-acc7-fccc7efe4e40",
   "metadata": {},
   "outputs": [
    {
     "data": {
      "text/html": [
       "<div>\n",
       "<style scoped>\n",
       "    .dataframe tbody tr th:only-of-type {\n",
       "        vertical-align: middle;\n",
       "    }\n",
       "\n",
       "    .dataframe tbody tr th {\n",
       "        vertical-align: top;\n",
       "    }\n",
       "\n",
       "    .dataframe thead th {\n",
       "        text-align: right;\n",
       "    }\n",
       "</style>\n",
       "<table border=\"1\" class=\"dataframe\">\n",
       "  <thead>\n",
       "    <tr style=\"text-align: right;\">\n",
       "      <th></th>\n",
       "      <th>r2_score</th>\n",
       "      <th>mean_squared_error</th>\n",
       "      <th>mean_absolute_error</th>\n",
       "    </tr>\n",
       "  </thead>\n",
       "  <tbody>\n",
       "    <tr>\n",
       "      <th>KNeighborsRegressor</th>\n",
       "      <td>0.839</td>\n",
       "      <td>0.021</td>\n",
       "      <td>0.115</td>\n",
       "    </tr>\n",
       "  </tbody>\n",
       "</table>\n",
       "</div>"
      ],
      "text/plain": [
       "                     r2_score  mean_squared_error  mean_absolute_error\n",
       "KNeighborsRegressor     0.839               0.021                0.115"
      ]
     },
     "execution_count": 240,
     "metadata": {},
     "output_type": "execute_result"
    }
   ],
   "source": [
    "# Evaluate on testing set:\n",
    "predictions = pd.DataFrame(knn.predict(X_test.values),\n",
    "                           columns=y_train.columns)\n",
    "\n",
    "test_scores = {score.__name__:calculate_quality(y_test, predictions, score, \"KNeighborsRegressor\")\n",
    "                for score in [r2_score, mean_squared_error, mean_absolute_error]}\n",
    "\n",
    "test_scores = pd.concat(test_scores, axis=1)\n",
    "test_scores"
   ]
  },
  {
   "cell_type": "code",
   "execution_count": 241,
   "id": "15d663c8-c8ea-483f-95ed-227a5ef0bac2",
   "metadata": {},
   "outputs": [
    {
     "data": {
      "text/plain": [
       "r2_score               0.839\n",
       "mean_squared_error     0.021\n",
       "mean_absolute_error    0.115\n",
       "dtype: float64"
      ]
     },
     "execution_count": 241,
     "metadata": {},
     "output_type": "execute_result"
    }
   ],
   "source": [
    "mean_test_score = test_scores.mean()\n",
    "mean_test_score"
   ]
  },
  {
   "cell_type": "markdown",
   "id": "59939a6e-ba09-408a-9c59-2a168038e15b",
   "metadata": {},
   "source": [
    "**Log Run**"
   ]
  },
  {
   "cell_type": "code",
   "execution_count": 220,
   "id": "380789e8-9542-4611-977a-f57bb0a76561",
   "metadata": {},
   "outputs": [],
   "source": [
    "# Data details\n",
    "data_details = {\"data_path\": DATA_PATH,\n",
    "                \"training_indices\": X_train.index.tolist(),\n",
    "                \"test_indices\": X_test.index.tolist(),\n",
    "                \"feature_names\": X_train.columns.tolist(),\n",
    "                \"target_names\": y_train.columns.tolist()}\n",
    "\n",
    "with open(os.path.join(LOG_PATH, LOG_DATA_PKL), \"wb\") as output_file:\n",
    "    pickle.dump(data_details, output_file)"
   ]
  },
  {
   "cell_type": "code",
   "execution_count": 242,
   "id": "d860118f-c8e1-44bd-a090-3c1b806df6fe",
   "metadata": {},
   "outputs": [],
   "source": [
    "# Model details\n",
    "model = {\"model_description\": \"K-Nearest-Neighbor Regressor\",\n",
    "         \"model_details\": str(knn),\n",
    "         \"model_object\": knn}\n",
    "\n",
    "with open(os.path.join(LOG_PATH, LOG_MODEL_PKL), \"wb\") as output_file:\n",
    "    pickle.dump(model, output_file)"
   ]
  },
  {
   "cell_type": "code",
   "execution_count": 243,
   "id": "1e5df524-7dbd-428a-b88b-3b82f1bff282",
   "metadata": {},
   "outputs": [],
   "source": [
    "# Performance details\n",
    "regression_metrics = {\"train_scores\": train_scores,\n",
    "                      \"test_scores\": test_scores}\n",
    "\n",
    "with open(os.path.join(LOG_PATH, LOG_METRICS_PKL), \"wb\") as output_file:\n",
    "    pickle.dump(regression_metrics, output_file)"
   ]
  },
  {
   "cell_type": "markdown",
   "id": "dbb8bac8-a3a2-488b-a179-d5f1861a69a8",
   "metadata": {},
   "source": [
    "**Logging**"
   ]
  },
  {
   "cell_type": "code",
   "execution_count": 244,
   "id": "271e1c80-ebbc-43e6-a166-b3f11b950b56",
   "metadata": {},
   "outputs": [],
   "source": [
    "# Start a new run and track\n",
    "with mlflow.start_run(experiment_id=exp.experiment_id, run_name=model[\"model_description\"]):\n",
    "    # log pickle\n",
    "    mlflow.log_artifacts(LOG_PATH)\n",
    "    \n",
    "    # Track metrics\n",
    "    for metric, score in mean_test_score.items():\n",
    "        mlflow.log_metric(metric, score)"
   ]
  },
  {
   "cell_type": "code",
   "execution_count": null,
   "id": "9486866d-3349-4686-9c94-9e18af3efdca",
   "metadata": {},
   "outputs": [],
   "source": []
  }
 ],
 "metadata": {
  "kernelspec": {
   "display_name": "Python 3 (ipykernel)",
   "language": "python",
   "name": "python3"
  },
  "language_info": {
   "codemirror_mode": {
    "name": "ipython",
    "version": 3
   },
   "file_extension": ".py",
   "mimetype": "text/x-python",
   "name": "python",
   "nbconvert_exporter": "python",
   "pygments_lexer": "ipython3",
   "version": "3.8.8"
  }
 },
 "nbformat": 4,
 "nbformat_minor": 5
}
