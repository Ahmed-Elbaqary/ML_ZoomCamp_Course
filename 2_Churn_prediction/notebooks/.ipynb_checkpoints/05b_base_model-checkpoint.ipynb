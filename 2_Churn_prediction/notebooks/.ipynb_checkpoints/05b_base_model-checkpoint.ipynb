{
 "cells": [
  {
   "cell_type": "code",
   "execution_count": 15,
   "id": "eb48d3eb-101d-4078-9668-e4736785cba8",
   "metadata": {},
   "outputs": [],
   "source": [
    "DATA_PATH = \"../data/processed/02_cleaned.pkl\"\n",
    "\n",
    "MLFLOW_TRACKING_URI = \"../models/mlruns\"\n",
    "MLFLOW_EXPERIMENT_NAME = \"churn_rate_prediction\"\n",
    "\n",
    "LOG_PATH = \"../models/temp/\"\n",
    "LOG_DATA_PKL = \"data.pkl\"\n",
    "LOG_MODEL_PKL = \"model.pkl\"\n",
    "LOG_METRICS_PKL = \"metrics.pkl\"\n",
    "\n",
    "EXPORT_PATH = \"../data/processed/03_balanced_data.pkl\""
   ]
  },
  {
   "cell_type": "code",
   "execution_count": 17,
   "id": "c9d670f3-e29d-42ef-a35b-f0d49662d576",
   "metadata": {},
   "outputs": [],
   "source": [
    "# Load packages\n",
    "import pandas as pd\n",
    "\n",
    "from pathlib import Path\n",
    "import os\n",
    "import pickle\n",
    "\n",
    "from imblearn.over_sampling import SMOTE\n",
    "\n",
    "from sklearn.preprocessing import MinMaxScaler\n",
    "from sklearn.model_selection import train_test_split\n",
    "from sklearn.pipeline import make_pipeline\n",
    "from sklearn.linear_model import LogisticRegression\n",
    "from sklearn.metrics import accuracy_score, precision_score, recall_score, f1_score\n",
    "\n",
    "import mlflow\n",
    "from mlflow.tracking import MlflowClient"
   ]
  },
  {
   "cell_type": "markdown",
   "id": "22a957d7-3d03-4532-83ba-7d55c62c28b3",
   "metadata": {},
   "source": [
    "___\n",
    "## Functions"
   ]
  },
  {
   "cell_type": "code",
   "execution_count": 31,
   "id": "68493bbb-acc4-4fd0-a099-62b5147e136d",
   "metadata": {},
   "outputs": [],
   "source": [
    "def calculate_quality(ground_truth, predictions, metric_function, model_name):\n",
    "    \"\"\"\n",
    "    Calculate the quality of the model according to different metric scores\n",
    "    Input:\n",
    "        ground_truth: from real observed data\n",
    "        predictions: the predicted values from the model\n",
    "        metric_function: the metric score funcrion used to measure performance\n",
    "    Output:\n",
    "        A dict of all scores for the given inputs\n",
    "    \"\"\"\n",
    "    quality_score = {}\n",
    "    quality_score[model_name] = round(metric_function(ground_truth, predictions), 3)\n",
    "    quality_score = pd.Series(quality_score.values(), index=quality_score.keys())\n",
    "    \n",
    "    return quality_score"
   ]
  },
  {
   "cell_type": "markdown",
   "id": "a98934cd-1254-4b40-98e6-799936d5e4f4",
   "metadata": {},
   "source": [
    "___\n",
    "## Intialize"
   ]
  },
  {
   "cell_type": "code",
   "execution_count": 18,
   "id": "f4918ace-1749-42fb-b8d6-43149eb14e89",
   "metadata": {},
   "outputs": [],
   "source": [
    "Path(MLFLOW_TRACKING_URI).mkdir(parents=True, exist_ok=True)\n",
    "Path(LOG_PATH).mkdir(parents=True, exist_ok=True)"
   ]
  },
  {
   "cell_type": "markdown",
   "id": "00299131-f1a1-4515-8d5e-0352c8af7f94",
   "metadata": {},
   "source": [
    "___\n",
    "## Read data"
   ]
  },
  {
   "cell_type": "code",
   "execution_count": 19,
   "id": "86a22bde-80c7-4324-8115-1dfb104f85b6",
   "metadata": {},
   "outputs": [
    {
     "data": {
      "text/html": [
       "<div>\n",
       "<style scoped>\n",
       "    .dataframe tbody tr th:only-of-type {\n",
       "        vertical-align: middle;\n",
       "    }\n",
       "\n",
       "    .dataframe tbody tr th {\n",
       "        vertical-align: top;\n",
       "    }\n",
       "\n",
       "    .dataframe thead th {\n",
       "        text-align: right;\n",
       "    }\n",
       "</style>\n",
       "<table border=\"1\" class=\"dataframe\">\n",
       "  <thead>\n",
       "    <tr style=\"text-align: right;\">\n",
       "      <th></th>\n",
       "      <th>seniorcitizen</th>\n",
       "      <th>dependents</th>\n",
       "      <th>tenure</th>\n",
       "      <th>phoneservice</th>\n",
       "      <th>multiplelines</th>\n",
       "      <th>internetservice</th>\n",
       "      <th>onlinesecurity</th>\n",
       "      <th>onlinebackup</th>\n",
       "      <th>deviceprotection</th>\n",
       "      <th>techsupport</th>\n",
       "      <th>streamingtv</th>\n",
       "      <th>streamingmovies</th>\n",
       "      <th>contract</th>\n",
       "      <th>paperlessbilling</th>\n",
       "      <th>paymentmethod</th>\n",
       "      <th>monthlycharges</th>\n",
       "      <th>totalcharges</th>\n",
       "      <th>churn</th>\n",
       "    </tr>\n",
       "  </thead>\n",
       "  <tbody>\n",
       "    <tr>\n",
       "      <th>4787</th>\n",
       "      <td>0</td>\n",
       "      <td>0.0</td>\n",
       "      <td>4</td>\n",
       "      <td>1.0</td>\n",
       "      <td>1.0</td>\n",
       "      <td>1.0</td>\n",
       "      <td>2.0</td>\n",
       "      <td>2.0</td>\n",
       "      <td>1.0</td>\n",
       "      <td>1.0</td>\n",
       "      <td>1.0</td>\n",
       "      <td>1.0</td>\n",
       "      <td>0.0</td>\n",
       "      <td>0.0</td>\n",
       "      <td>1.0</td>\n",
       "      <td>54.70</td>\n",
       "      <td>235.05</td>\n",
       "      <td>0.0</td>\n",
       "    </tr>\n",
       "    <tr>\n",
       "      <th>6451</th>\n",
       "      <td>1</td>\n",
       "      <td>1.0</td>\n",
       "      <td>66</td>\n",
       "      <td>1.0</td>\n",
       "      <td>2.0</td>\n",
       "      <td>2.0</td>\n",
       "      <td>2.0</td>\n",
       "      <td>2.0</td>\n",
       "      <td>2.0</td>\n",
       "      <td>2.0</td>\n",
       "      <td>2.0</td>\n",
       "      <td>2.0</td>\n",
       "      <td>1.0</td>\n",
       "      <td>1.0</td>\n",
       "      <td>0.0</td>\n",
       "      <td>116.25</td>\n",
       "      <td>7862.25</td>\n",
       "      <td>0.0</td>\n",
       "    </tr>\n",
       "    <tr>\n",
       "      <th>1623</th>\n",
       "      <td>0</td>\n",
       "      <td>0.0</td>\n",
       "      <td>54</td>\n",
       "      <td>1.0</td>\n",
       "      <td>2.0</td>\n",
       "      <td>2.0</td>\n",
       "      <td>1.0</td>\n",
       "      <td>2.0</td>\n",
       "      <td>1.0</td>\n",
       "      <td>1.0</td>\n",
       "      <td>2.0</td>\n",
       "      <td>2.0</td>\n",
       "      <td>2.0</td>\n",
       "      <td>1.0</td>\n",
       "      <td>2.0</td>\n",
       "      <td>97.20</td>\n",
       "      <td>5129.45</td>\n",
       "      <td>0.0</td>\n",
       "    </tr>\n",
       "    <tr>\n",
       "      <th>6397</th>\n",
       "      <td>1</td>\n",
       "      <td>0.0</td>\n",
       "      <td>54</td>\n",
       "      <td>1.0</td>\n",
       "      <td>1.0</td>\n",
       "      <td>1.0</td>\n",
       "      <td>1.0</td>\n",
       "      <td>1.0</td>\n",
       "      <td>2.0</td>\n",
       "      <td>2.0</td>\n",
       "      <td>1.0</td>\n",
       "      <td>2.0</td>\n",
       "      <td>1.0</td>\n",
       "      <td>0.0</td>\n",
       "      <td>2.0</td>\n",
       "      <td>65.25</td>\n",
       "      <td>3529.95</td>\n",
       "      <td>0.0</td>\n",
       "    </tr>\n",
       "    <tr>\n",
       "      <th>3850</th>\n",
       "      <td>0</td>\n",
       "      <td>0.0</td>\n",
       "      <td>51</td>\n",
       "      <td>1.0</td>\n",
       "      <td>1.0</td>\n",
       "      <td>1.0</td>\n",
       "      <td>2.0</td>\n",
       "      <td>2.0</td>\n",
       "      <td>2.0</td>\n",
       "      <td>2.0</td>\n",
       "      <td>2.0</td>\n",
       "      <td>2.0</td>\n",
       "      <td>2.0</td>\n",
       "      <td>1.0</td>\n",
       "      <td>3.0</td>\n",
       "      <td>83.25</td>\n",
       "      <td>4089.45</td>\n",
       "      <td>0.0</td>\n",
       "    </tr>\n",
       "  </tbody>\n",
       "</table>\n",
       "</div>"
      ],
      "text/plain": [
       "      seniorcitizen  dependents  tenure  phoneservice  multiplelines  \\\n",
       "4787              0         0.0       4           1.0            1.0   \n",
       "6451              1         1.0      66           1.0            2.0   \n",
       "1623              0         0.0      54           1.0            2.0   \n",
       "6397              1         0.0      54           1.0            1.0   \n",
       "3850              0         0.0      51           1.0            1.0   \n",
       "\n",
       "      internetservice  onlinesecurity  onlinebackup  deviceprotection  \\\n",
       "4787              1.0             2.0           2.0               1.0   \n",
       "6451              2.0             2.0           2.0               2.0   \n",
       "1623              2.0             1.0           2.0               1.0   \n",
       "6397              1.0             1.0           1.0               2.0   \n",
       "3850              1.0             2.0           2.0               2.0   \n",
       "\n",
       "      techsupport  streamingtv  streamingmovies  contract  paperlessbilling  \\\n",
       "4787          1.0          1.0              1.0       0.0               0.0   \n",
       "6451          2.0          2.0              2.0       1.0               1.0   \n",
       "1623          1.0          2.0              2.0       2.0               1.0   \n",
       "6397          2.0          1.0              2.0       1.0               0.0   \n",
       "3850          2.0          2.0              2.0       2.0               1.0   \n",
       "\n",
       "      paymentmethod  monthlycharges  totalcharges  churn  \n",
       "4787            1.0           54.70        235.05    0.0  \n",
       "6451            0.0          116.25       7862.25    0.0  \n",
       "1623            2.0           97.20       5129.45    0.0  \n",
       "6397            2.0           65.25       3529.95    0.0  \n",
       "3850            3.0           83.25       4089.45    0.0  "
      ]
     },
     "execution_count": 19,
     "metadata": {},
     "output_type": "execute_result"
    }
   ],
   "source": [
    "df = pd.read_pickle(DATA_PATH)\n",
    "df.sample(5)"
   ]
  },
  {
   "cell_type": "markdown",
   "id": "51a75a91-2c67-47c0-b970-b7a2d3f2d097",
   "metadata": {},
   "source": [
    "___\n",
    "## Split data for modeling"
   ]
  },
  {
   "cell_type": "code",
   "execution_count": 40,
   "id": "14aeb1cb-ac0e-4d9e-9c40-63acd0fa9335",
   "metadata": {},
   "outputs": [],
   "source": [
    "X_train, X_test, y_train, y_test = train_test_split(df.drop('churn', axis=1),\n",
    "                                                    df[['churn']],\n",
    "                                                    test_size=0.2,\n",
    "                                                    random_state=42)"
   ]
  },
  {
   "cell_type": "code",
   "execution_count": 23,
   "id": "e1de05a0-65bf-4fef-b451-cfc02850645c",
   "metadata": {},
   "outputs": [
    {
     "name": "stdout",
     "output_type": "stream",
     "text": [
      "(5600, 17)\n"
     ]
    },
    {
     "data": {
      "text/html": [
       "<div>\n",
       "<style scoped>\n",
       "    .dataframe tbody tr th:only-of-type {\n",
       "        vertical-align: middle;\n",
       "    }\n",
       "\n",
       "    .dataframe tbody tr th {\n",
       "        vertical-align: top;\n",
       "    }\n",
       "\n",
       "    .dataframe thead th {\n",
       "        text-align: right;\n",
       "    }\n",
       "</style>\n",
       "<table border=\"1\" class=\"dataframe\">\n",
       "  <thead>\n",
       "    <tr style=\"text-align: right;\">\n",
       "      <th></th>\n",
       "      <th>seniorcitizen</th>\n",
       "      <th>dependents</th>\n",
       "      <th>tenure</th>\n",
       "      <th>phoneservice</th>\n",
       "      <th>multiplelines</th>\n",
       "      <th>internetservice</th>\n",
       "      <th>onlinesecurity</th>\n",
       "      <th>onlinebackup</th>\n",
       "      <th>deviceprotection</th>\n",
       "      <th>techsupport</th>\n",
       "      <th>streamingtv</th>\n",
       "      <th>streamingmovies</th>\n",
       "      <th>contract</th>\n",
       "      <th>paperlessbilling</th>\n",
       "      <th>paymentmethod</th>\n",
       "      <th>monthlycharges</th>\n",
       "      <th>totalcharges</th>\n",
       "    </tr>\n",
       "  </thead>\n",
       "  <tbody>\n",
       "    <tr>\n",
       "      <th>5359</th>\n",
       "      <td>1</td>\n",
       "      <td>0.0</td>\n",
       "      <td>10</td>\n",
       "      <td>0.0</td>\n",
       "      <td>0.0</td>\n",
       "      <td>1.0</td>\n",
       "      <td>1.0</td>\n",
       "      <td>1.0</td>\n",
       "      <td>1.0</td>\n",
       "      <td>2.0</td>\n",
       "      <td>1.0</td>\n",
       "      <td>1.0</td>\n",
       "      <td>0.0</td>\n",
       "      <td>1.0</td>\n",
       "      <td>0.0</td>\n",
       "      <td>29.65</td>\n",
       "      <td>291.40</td>\n",
       "    </tr>\n",
       "    <tr>\n",
       "      <th>1286</th>\n",
       "      <td>0</td>\n",
       "      <td>0.0</td>\n",
       "      <td>1</td>\n",
       "      <td>1.0</td>\n",
       "      <td>1.0</td>\n",
       "      <td>1.0</td>\n",
       "      <td>1.0</td>\n",
       "      <td>1.0</td>\n",
       "      <td>2.0</td>\n",
       "      <td>2.0</td>\n",
       "      <td>2.0</td>\n",
       "      <td>2.0</td>\n",
       "      <td>1.0</td>\n",
       "      <td>0.0</td>\n",
       "      <td>3.0</td>\n",
       "      <td>74.10</td>\n",
       "      <td>74.10</td>\n",
       "    </tr>\n",
       "    <tr>\n",
       "      <th>5912</th>\n",
       "      <td>1</td>\n",
       "      <td>0.0</td>\n",
       "      <td>47</td>\n",
       "      <td>1.0</td>\n",
       "      <td>2.0</td>\n",
       "      <td>2.0</td>\n",
       "      <td>1.0</td>\n",
       "      <td>2.0</td>\n",
       "      <td>2.0</td>\n",
       "      <td>1.0</td>\n",
       "      <td>1.0</td>\n",
       "      <td>1.0</td>\n",
       "      <td>0.0</td>\n",
       "      <td>1.0</td>\n",
       "      <td>2.0</td>\n",
       "      <td>85.20</td>\n",
       "      <td>3969.35</td>\n",
       "    </tr>\n",
       "    <tr>\n",
       "      <th>3964</th>\n",
       "      <td>0</td>\n",
       "      <td>1.0</td>\n",
       "      <td>68</td>\n",
       "      <td>1.0</td>\n",
       "      <td>2.0</td>\n",
       "      <td>2.0</td>\n",
       "      <td>2.0</td>\n",
       "      <td>1.0</td>\n",
       "      <td>2.0</td>\n",
       "      <td>2.0</td>\n",
       "      <td>2.0</td>\n",
       "      <td>2.0</td>\n",
       "      <td>2.0</td>\n",
       "      <td>0.0</td>\n",
       "      <td>3.0</td>\n",
       "      <td>111.75</td>\n",
       "      <td>7511.30</td>\n",
       "    </tr>\n",
       "    <tr>\n",
       "      <th>4121</th>\n",
       "      <td>1</td>\n",
       "      <td>0.0</td>\n",
       "      <td>27</td>\n",
       "      <td>1.0</td>\n",
       "      <td>2.0</td>\n",
       "      <td>2.0</td>\n",
       "      <td>1.0</td>\n",
       "      <td>2.0</td>\n",
       "      <td>2.0</td>\n",
       "      <td>1.0</td>\n",
       "      <td>1.0</td>\n",
       "      <td>2.0</td>\n",
       "      <td>0.0</td>\n",
       "      <td>1.0</td>\n",
       "      <td>0.0</td>\n",
       "      <td>95.55</td>\n",
       "      <td>2510.20</td>\n",
       "    </tr>\n",
       "  </tbody>\n",
       "</table>\n",
       "</div>"
      ],
      "text/plain": [
       "      seniorcitizen  dependents  tenure  phoneservice  multiplelines  \\\n",
       "5359              1         0.0      10           0.0            0.0   \n",
       "1286              0         0.0       1           1.0            1.0   \n",
       "5912              1         0.0      47           1.0            2.0   \n",
       "3964              0         1.0      68           1.0            2.0   \n",
       "4121              1         0.0      27           1.0            2.0   \n",
       "\n",
       "      internetservice  onlinesecurity  onlinebackup  deviceprotection  \\\n",
       "5359              1.0             1.0           1.0               1.0   \n",
       "1286              1.0             1.0           1.0               2.0   \n",
       "5912              2.0             1.0           2.0               2.0   \n",
       "3964              2.0             2.0           1.0               2.0   \n",
       "4121              2.0             1.0           2.0               2.0   \n",
       "\n",
       "      techsupport  streamingtv  streamingmovies  contract  paperlessbilling  \\\n",
       "5359          2.0          1.0              1.0       0.0               1.0   \n",
       "1286          2.0          2.0              2.0       1.0               0.0   \n",
       "5912          1.0          1.0              1.0       0.0               1.0   \n",
       "3964          2.0          2.0              2.0       2.0               0.0   \n",
       "4121          1.0          1.0              2.0       0.0               1.0   \n",
       "\n",
       "      paymentmethod  monthlycharges  totalcharges  \n",
       "5359            0.0           29.65        291.40  \n",
       "1286            3.0           74.10         74.10  \n",
       "5912            2.0           85.20       3969.35  \n",
       "3964            3.0          111.75       7511.30  \n",
       "4121            0.0           95.55       2510.20  "
      ]
     },
     "execution_count": 23,
     "metadata": {},
     "output_type": "execute_result"
    }
   ],
   "source": [
    "print(X_train.shape)\n",
    "X_train.sample(5)"
   ]
  },
  {
   "cell_type": "markdown",
   "id": "022320b7-bbbe-429e-aaa9-b01666831952",
   "metadata": {},
   "source": [
    "___\n",
    "## Intializing MLFLOW"
   ]
  },
  {
   "cell_type": "code",
   "execution_count": 24,
   "id": "2e45bef9-7427-4803-8226-c9910a7fe461",
   "metadata": {},
   "outputs": [],
   "source": [
    "mlflow.set_tracking_uri(MLFLOW_TRACKING_URI)\n",
    "client = MlflowClient()"
   ]
  },
  {
   "cell_type": "code",
   "execution_count": 25,
   "id": "b13b52bb-e09b-46be-bfdf-777c644184d8",
   "metadata": {},
   "outputs": [],
   "source": [
    "try:\n",
    "    mlflow.create_experiment(MLFLOW_EXPERIMENT_NAME)\n",
    "except:\n",
    "    print(f'Experiment \"{MLFLOW_EXPERIMENT_NAME}\" exists at \"{mlflow.get_tracking_uri()}\"')"
   ]
  },
  {
   "cell_type": "code",
   "execution_count": 26,
   "id": "c7d05abd-a965-4a76-a82e-4c5a54affd67",
   "metadata": {},
   "outputs": [
    {
     "name": "stdout",
     "output_type": "stream",
     "text": [
      "<Experiment: artifact_location='../models/mlruns/0', experiment_id='0', lifecycle_stage='active', name='churn_rate_prediction', tags={}>\n"
     ]
    }
   ],
   "source": [
    "exp = client.get_experiment_by_name(MLFLOW_EXPERIMENT_NAME)\n",
    "print(exp)"
   ]
  },
  {
   "cell_type": "markdown",
   "id": "0ad36d04-b696-4bf7-930b-321dda31c0e5",
   "metadata": {},
   "source": [
    "___\n",
    "## Base model; Logistic Regression\n",
    "**1. without balancing**"
   ]
  },
  {
   "cell_type": "code",
   "execution_count": 30,
   "id": "ac976ae2-794f-4c46-b392-770db504cfbe",
   "metadata": {},
   "outputs": [
    {
     "name": "stderr",
     "output_type": "stream",
     "text": [
      "C:\\Users\\ahmed\\anaconda3\\lib\\site-packages\\sklearn\\utils\\validation.py:985: DataConversionWarning: A column-vector y was passed when a 1d array was expected. Please change the shape of y to (n_samples, ), for example using ravel().\n",
      "  y = column_or_1d(y, warn=True)\n"
     ]
    },
    {
     "data": {
      "text/plain": [
       "Pipeline(steps=[('minmaxscaler', MinMaxScaler()),\n",
       "                ('logisticregression', LogisticRegression())])"
      ]
     },
     "execution_count": 30,
     "metadata": {},
     "output_type": "execute_result"
    }
   ],
   "source": [
    "clf = make_pipeline(MinMaxScaler(),\n",
    "                    LogisticRegression())\n",
    "\n",
    "clf.fit(X_train.values, y_train.values)"
   ]
  },
  {
   "cell_type": "markdown",
   "id": "8d6f6c33-5a3f-414a-8205-25ff4779b06f",
   "metadata": {
    "tags": []
   },
   "source": [
    "### Evaluate on training data:"
   ]
  },
  {
   "cell_type": "code",
   "execution_count": 32,
   "id": "aa3d229a-c7a4-4bdd-9617-59f0fd4142ab",
   "metadata": {},
   "outputs": [
    {
     "data": {
      "text/html": [
       "<div>\n",
       "<style scoped>\n",
       "    .dataframe tbody tr th:only-of-type {\n",
       "        vertical-align: middle;\n",
       "    }\n",
       "\n",
       "    .dataframe tbody tr th {\n",
       "        vertical-align: top;\n",
       "    }\n",
       "\n",
       "    .dataframe thead th {\n",
       "        text-align: right;\n",
       "    }\n",
       "</style>\n",
       "<table border=\"1\" class=\"dataframe\">\n",
       "  <thead>\n",
       "    <tr style=\"text-align: right;\">\n",
       "      <th></th>\n",
       "      <th>accuracy_score</th>\n",
       "      <th>precision_score</th>\n",
       "      <th>recall_score</th>\n",
       "      <th>f1_score</th>\n",
       "    </tr>\n",
       "  </thead>\n",
       "  <tbody>\n",
       "    <tr>\n",
       "      <th>LogisticRegression</th>\n",
       "      <td>0.807</td>\n",
       "      <td>0.657</td>\n",
       "      <td>0.547</td>\n",
       "      <td>0.597</td>\n",
       "    </tr>\n",
       "  </tbody>\n",
       "</table>\n",
       "</div>"
      ],
      "text/plain": [
       "                    accuracy_score  precision_score  recall_score  f1_score\n",
       "LogisticRegression           0.807            0.657         0.547     0.597"
      ]
     },
     "execution_count": 32,
     "metadata": {},
     "output_type": "execute_result"
    }
   ],
   "source": [
    "# Evaluate on training set:\n",
    "predictions = pd.DataFrame(clf.predict(X_train.values),\n",
    "                          columns=y_train.columns)\n",
    "\n",
    "train_scores = {score.__name__:calculate_quality(y_train, predictions, score, \"LogisticRegression\")\n",
    "                for score in [accuracy_score, precision_score, recall_score, f1_score]}\n",
    "\n",
    "train_scores = pd.concat(train_scores, axis=1)\n",
    "train_scores"
   ]
  },
  {
   "cell_type": "code",
   "execution_count": 33,
   "id": "ed983f13-3326-4ea6-bf53-29a84d7ccb1e",
   "metadata": {},
   "outputs": [
    {
     "data": {
      "text/plain": [
       "accuracy_score     0.807\n",
       "precision_score    0.657\n",
       "recall_score       0.547\n",
       "f1_score           0.597\n",
       "dtype: float64"
      ]
     },
     "execution_count": 33,
     "metadata": {},
     "output_type": "execute_result"
    }
   ],
   "source": [
    "mean_train_score = train_scores.mean()\n",
    "mean_train_score"
   ]
  },
  {
   "cell_type": "markdown",
   "id": "414a0d8d-2f8c-41ef-a4f1-c6519bb2d6d8",
   "metadata": {
    "tags": []
   },
   "source": [
    "### Evaluate on testing data:"
   ]
  },
  {
   "cell_type": "code",
   "execution_count": 34,
   "id": "921331ac-eb20-45fd-8b0b-f57f3aabb56b",
   "metadata": {},
   "outputs": [
    {
     "data": {
      "text/html": [
       "<div>\n",
       "<style scoped>\n",
       "    .dataframe tbody tr th:only-of-type {\n",
       "        vertical-align: middle;\n",
       "    }\n",
       "\n",
       "    .dataframe tbody tr th {\n",
       "        vertical-align: top;\n",
       "    }\n",
       "\n",
       "    .dataframe thead th {\n",
       "        text-align: right;\n",
       "    }\n",
       "</style>\n",
       "<table border=\"1\" class=\"dataframe\">\n",
       "  <thead>\n",
       "    <tr style=\"text-align: right;\">\n",
       "      <th></th>\n",
       "      <th>accuracy_score</th>\n",
       "      <th>precision_score</th>\n",
       "      <th>recall_score</th>\n",
       "      <th>f1_score</th>\n",
       "    </tr>\n",
       "  </thead>\n",
       "  <tbody>\n",
       "    <tr>\n",
       "      <th>LogisticRegression</th>\n",
       "      <td>0.797</td>\n",
       "      <td>0.671</td>\n",
       "      <td>0.495</td>\n",
       "      <td>0.57</td>\n",
       "    </tr>\n",
       "  </tbody>\n",
       "</table>\n",
       "</div>"
      ],
      "text/plain": [
       "                    accuracy_score  precision_score  recall_score  f1_score\n",
       "LogisticRegression           0.797            0.671         0.495      0.57"
      ]
     },
     "execution_count": 34,
     "metadata": {},
     "output_type": "execute_result"
    }
   ],
   "source": [
    "# Evaluate on training set:\n",
    "predictions = pd.DataFrame(clf.predict(X_test.values),\n",
    "                          columns=y_test.columns)\n",
    "\n",
    "test_scores = {score.__name__:calculate_quality(y_test, predictions, score, \"LogisticRegression\")\n",
    "                for score in [accuracy_score, precision_score, recall_score, f1_score]}\n",
    "\n",
    "test_scores = pd.concat(test_scores, axis=1)\n",
    "test_scores"
   ]
  },
  {
   "cell_type": "code",
   "execution_count": 35,
   "id": "cf83c08a-cfe9-417d-a817-dc253c45bcda",
   "metadata": {},
   "outputs": [
    {
     "data": {
      "text/plain": [
       "accuracy_score     0.797\n",
       "precision_score    0.671\n",
       "recall_score       0.495\n",
       "f1_score           0.570\n",
       "dtype: float64"
      ]
     },
     "execution_count": 35,
     "metadata": {},
     "output_type": "execute_result"
    }
   ],
   "source": [
    "mean_test_score = test_scores.mean()\n",
    "mean_test_score"
   ]
  },
  {
   "cell_type": "markdown",
   "id": "5613340f-e951-4558-aa50-d9d5cd4d107d",
   "metadata": {},
   "source": [
    "___\n",
    "## Now Trying to use resampling:"
   ]
  },
  {
   "cell_type": "code",
   "execution_count": 41,
   "id": "b882b0f0-0167-465a-8bf4-e940687f78d5",
   "metadata": {},
   "outputs": [
    {
     "data": {
      "text/plain": [
       "churn\n",
       "0.0      4134\n",
       "1.0      1466\n",
       "dtype: int64"
      ]
     },
     "execution_count": 41,
     "metadata": {},
     "output_type": "execute_result"
    }
   ],
   "source": [
    "y_train.value_counts()"
   ]
  },
  {
   "cell_type": "code",
   "execution_count": 42,
   "id": "8c42734d-2bf5-4c34-9ff5-85bb42a145b6",
   "metadata": {},
   "outputs": [],
   "source": [
    "sm = SMOTE(random_state=42)\n",
    "X_train, y_train = sm.fit_resample(X_train, y_train)"
   ]
  },
  {
   "cell_type": "code",
   "execution_count": 43,
   "id": "6e85f77f-668f-4d96-b953-9c60621d1fc4",
   "metadata": {},
   "outputs": [
    {
     "data": {
      "text/plain": [
       "churn\n",
       "0.0      4134\n",
       "1.0      4134\n",
       "dtype: int64"
      ]
     },
     "execution_count": 43,
     "metadata": {},
     "output_type": "execute_result"
    }
   ],
   "source": [
    "y_train.value_counts()"
   ]
  },
  {
   "cell_type": "markdown",
   "id": "5819811a-fa92-474c-a9f8-09903797896a",
   "metadata": {},
   "source": [
    "**1. without balancing**"
   ]
  },
  {
   "cell_type": "code",
   "execution_count": 44,
   "id": "5c4fc23a-da88-4896-b23f-f3fd61370b30",
   "metadata": {},
   "outputs": [
    {
     "name": "stderr",
     "output_type": "stream",
     "text": [
      "C:\\Users\\ahmed\\anaconda3\\lib\\site-packages\\sklearn\\utils\\validation.py:985: DataConversionWarning: A column-vector y was passed when a 1d array was expected. Please change the shape of y to (n_samples, ), for example using ravel().\n",
      "  y = column_or_1d(y, warn=True)\n"
     ]
    },
    {
     "data": {
      "text/plain": [
       "Pipeline(steps=[('minmaxscaler', MinMaxScaler()),\n",
       "                ('logisticregression', LogisticRegression())])"
      ]
     },
     "execution_count": 44,
     "metadata": {},
     "output_type": "execute_result"
    }
   ],
   "source": [
    "clf = make_pipeline(MinMaxScaler(),\n",
    "                    LogisticRegression())\n",
    "\n",
    "clf.fit(X_train.values, y_train.values)"
   ]
  },
  {
   "cell_type": "markdown",
   "id": "ebd92c2e-ed6b-4d38-a9a0-577f612c526e",
   "metadata": {
    "tags": []
   },
   "source": [
    "### Evaluate on training data:"
   ]
  },
  {
   "cell_type": "code",
   "execution_count": 45,
   "id": "a4266cf4-2be3-4e56-b186-cc321305566a",
   "metadata": {},
   "outputs": [
    {
     "data": {
      "text/html": [
       "<div>\n",
       "<style scoped>\n",
       "    .dataframe tbody tr th:only-of-type {\n",
       "        vertical-align: middle;\n",
       "    }\n",
       "\n",
       "    .dataframe tbody tr th {\n",
       "        vertical-align: top;\n",
       "    }\n",
       "\n",
       "    .dataframe thead th {\n",
       "        text-align: right;\n",
       "    }\n",
       "</style>\n",
       "<table border=\"1\" class=\"dataframe\">\n",
       "  <thead>\n",
       "    <tr style=\"text-align: right;\">\n",
       "      <th></th>\n",
       "      <th>accuracy_score</th>\n",
       "      <th>precision_score</th>\n",
       "      <th>recall_score</th>\n",
       "      <th>f1_score</th>\n",
       "    </tr>\n",
       "  </thead>\n",
       "  <tbody>\n",
       "    <tr>\n",
       "      <th>LogisticRegression</th>\n",
       "      <td>0.777</td>\n",
       "      <td>0.756</td>\n",
       "      <td>0.818</td>\n",
       "      <td>0.786</td>\n",
       "    </tr>\n",
       "  </tbody>\n",
       "</table>\n",
       "</div>"
      ],
      "text/plain": [
       "                    accuracy_score  precision_score  recall_score  f1_score\n",
       "LogisticRegression           0.777            0.756         0.818     0.786"
      ]
     },
     "execution_count": 45,
     "metadata": {},
     "output_type": "execute_result"
    }
   ],
   "source": [
    "# Evaluate on training set:\n",
    "predictions = pd.DataFrame(clf.predict(X_train.values),\n",
    "                          columns=y_train.columns)\n",
    "\n",
    "train_scores = {score.__name__:calculate_quality(y_train, predictions, score, \"LogisticRegression\")\n",
    "                for score in [accuracy_score, precision_score, recall_score, f1_score]}\n",
    "\n",
    "train_scores = pd.concat(train_scores, axis=1)\n",
    "train_scores"
   ]
  },
  {
   "cell_type": "code",
   "execution_count": 46,
   "id": "74ff198c-5be4-482d-a0e5-cd662502e926",
   "metadata": {},
   "outputs": [
    {
     "data": {
      "text/plain": [
       "accuracy_score     0.777\n",
       "precision_score    0.756\n",
       "recall_score       0.818\n",
       "f1_score           0.786\n",
       "dtype: float64"
      ]
     },
     "execution_count": 46,
     "metadata": {},
     "output_type": "execute_result"
    }
   ],
   "source": [
    "mean_train_score = train_scores.mean()\n",
    "mean_train_score"
   ]
  },
  {
   "cell_type": "markdown",
   "id": "bb0f473c-d8a5-451e-9245-f3a60f0acc74",
   "metadata": {
    "tags": []
   },
   "source": [
    "### Evaluate on testing data:"
   ]
  },
  {
   "cell_type": "code",
   "execution_count": 47,
   "id": "17c6c846-8a9b-43a9-8549-1c7b37c6edae",
   "metadata": {},
   "outputs": [
    {
     "data": {
      "text/html": [
       "<div>\n",
       "<style scoped>\n",
       "    .dataframe tbody tr th:only-of-type {\n",
       "        vertical-align: middle;\n",
       "    }\n",
       "\n",
       "    .dataframe tbody tr th {\n",
       "        vertical-align: top;\n",
       "    }\n",
       "\n",
       "    .dataframe thead th {\n",
       "        text-align: right;\n",
       "    }\n",
       "</style>\n",
       "<table border=\"1\" class=\"dataframe\">\n",
       "  <thead>\n",
       "    <tr style=\"text-align: right;\">\n",
       "      <th></th>\n",
       "      <th>accuracy_score</th>\n",
       "      <th>precision_score</th>\n",
       "      <th>recall_score</th>\n",
       "      <th>f1_score</th>\n",
       "    </tr>\n",
       "  </thead>\n",
       "  <tbody>\n",
       "    <tr>\n",
       "      <th>LogisticRegression</th>\n",
       "      <td>0.755</td>\n",
       "      <td>0.534</td>\n",
       "      <td>0.766</td>\n",
       "      <td>0.629</td>\n",
       "    </tr>\n",
       "  </tbody>\n",
       "</table>\n",
       "</div>"
      ],
      "text/plain": [
       "                    accuracy_score  precision_score  recall_score  f1_score\n",
       "LogisticRegression           0.755            0.534         0.766     0.629"
      ]
     },
     "execution_count": 47,
     "metadata": {},
     "output_type": "execute_result"
    }
   ],
   "source": [
    "# Evaluate on training set:\n",
    "predictions = pd.DataFrame(clf.predict(X_test.values),\n",
    "                          columns=y_test.columns)\n",
    "\n",
    "test_scores = {score.__name__:calculate_quality(y_test, predictions, score, \"LogisticRegression\")\n",
    "                for score in [accuracy_score, precision_score, recall_score, f1_score]}\n",
    "\n",
    "test_scores = pd.concat(test_scores, axis=1)\n",
    "test_scores"
   ]
  },
  {
   "cell_type": "code",
   "execution_count": 48,
   "id": "66592e95-3269-464a-9731-ca162607da99",
   "metadata": {},
   "outputs": [
    {
     "data": {
      "text/plain": [
       "accuracy_score     0.755\n",
       "precision_score    0.534\n",
       "recall_score       0.766\n",
       "f1_score           0.629\n",
       "dtype: float64"
      ]
     },
     "execution_count": 48,
     "metadata": {},
     "output_type": "execute_result"
    }
   ],
   "source": [
    "mean_test_score = test_scores.mean()\n",
    "mean_test_score"
   ]
  },
  {
   "cell_type": "code",
   "execution_count": null,
   "id": "f17a8ff0-8b3a-4a58-aded-72ed960ff07c",
   "metadata": {},
   "outputs": [],
   "source": []
  },
  {
   "cell_type": "code",
   "execution_count": null,
   "id": "bc351f1d-1d39-47e4-8f6c-c7326b4170d0",
   "metadata": {},
   "outputs": [],
   "source": []
  }
 ],
 "metadata": {
  "kernelspec": {
   "display_name": "Python 3 (ipykernel)",
   "language": "python",
   "name": "python3"
  },
  "language_info": {
   "codemirror_mode": {
    "name": "ipython",
    "version": 3
   },
   "file_extension": ".py",
   "mimetype": "text/x-python",
   "name": "python",
   "nbconvert_exporter": "python",
   "pygments_lexer": "ipython3",
   "version": "3.8.8"
  }
 },
 "nbformat": 4,
 "nbformat_minor": 5
}
