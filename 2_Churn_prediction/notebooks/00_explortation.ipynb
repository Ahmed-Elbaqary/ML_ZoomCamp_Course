{
 "cells": [
  {
   "cell_type": "markdown",
   "id": "4d7a7d89-ac81-438b-befb-5daead780f8a",
   "metadata": {},
   "source": [
    "# Telecom churn data:\n",
    "Here is some description of raws and columns:\n",
    "* **`Gender:`Whether the customer is a male or a female.**\n",
    "* **`SeniorCitizen:` Whether the customer is a senior citizen or not (1, 0).**\n",
    "* **`Partner:` Whether the customer has a partner or not (Yes, No).**\n",
    "* **`Dependents:` Whether the customer has dependents or not (Yes, No).**\n",
    "* **`tenure:` Number of months the customer has stayed with the company.**\n",
    "* **`PhoneService:` Whether the customer has a phone service or not (Yes, No).**\n",
    "* **`MultipleLines:` Whether the customer has multiple lines or not (Yes, No, No phone service).**\n",
    "* **`InternetService:` Customer’s internet service provider (DSL, Fiber optic, No).**\n",
    "* **`OnlineSecurity`: Whether the customer has online security or not (Yes, No, No internet service).**\n",
    "* **`OnlineBackup:` Whether the customer has online backup or not (Yes, No, No internet service).**\n",
    "* **`DeviceProtection:` Whether the customer has device protection or not (Yes, No, No internet service).**\n",
    "* **`TechSupport:` Whether the customer has tech support or not (Yes, No, No internet service).**\n",
    "* **`StreamingTV:` Whether the customer has streaming TV or not (Yes, No, No internet service).**\n",
    "* **`StreamingMovies:` Whether the customer has streaming movies or not (Yes, No, No internet service).**\n",
    "* **`Contract:` The contract term of the customer (Month-to-month, One year, Two year).**\n",
    "* **`PaperlessBilling:` Whether the customer has paperless billing or not (Yes, No).**\n",
    "* **`PaymentMethod:` The customer’s payment method (Electronic check, Mailed check, Bank transfer (automatic), Credit card (automatic)).**\n",
    "* **`MonthlyCharges:` The amount charged to the customer monthly.**\n",
    "* **`TotalCharges:` The total amount charged to the customer.**\n",
    "* **`Churn:` Whether the customer churned or not (Yes or No).**"
   ]
  },
  {
   "cell_type": "code",
   "execution_count": 1,
   "id": "2926e263-d8ea-4887-83fc-bd88f613b64c",
   "metadata": {},
   "outputs": [],
   "source": [
    "DATA_PATH = \"../data/raw/Telco-Customer-Churn.csv\""
   ]
  },
  {
   "cell_type": "code",
   "execution_count": 3,
   "id": "0447c7c1-be1f-477c-b923-abc67896bd82",
   "metadata": {},
   "outputs": [],
   "source": [
    "# Load packages\n",
    "import pandas as pd\n",
    "\n",
    "pd.options.display.max_columns=100"
   ]
  },
  {
   "cell_type": "markdown",
   "id": "1aabcb90-27af-4dd0-8060-fefe8fe15785",
   "metadata": {},
   "source": [
    "___\n",
    "## Read data"
   ]
  },
  {
   "cell_type": "code",
   "execution_count": 5,
   "id": "cdd0ce99-c2b8-416e-a238-9eafb5f83586",
   "metadata": {},
   "outputs": [
    {
     "data": {
      "text/plain": [
       "(7043, 21)"
      ]
     },
     "execution_count": 5,
     "metadata": {},
     "output_type": "execute_result"
    }
   ],
   "source": [
    "raw_df = pd.read_csv(DATA_PATH)\n",
    "raw_df.shape"
   ]
  },
  {
   "cell_type": "code",
   "execution_count": 30,
   "id": "9c8da06b-5ed6-413a-bfe1-e7df0ba130c4",
   "metadata": {},
   "outputs": [
    {
     "data": {
      "text/plain": [
       "customerID                       7359-WWYJV\n",
       "gender                                 Male\n",
       "SeniorCitizen                             0\n",
       "Partner                                 Yes\n",
       "Dependents                               No\n",
       "tenure                                   72\n",
       "PhoneService                            Yes\n",
       "MultipleLines                           Yes\n",
       "InternetService                 Fiber optic\n",
       "OnlineSecurity                          Yes\n",
       "OnlineBackup                            Yes\n",
       "DeviceProtection                        Yes\n",
       "TechSupport                             Yes\n",
       "StreamingTV                             Yes\n",
       "StreamingMovies                         Yes\n",
       "Contract                           Two year\n",
       "PaperlessBilling                         No\n",
       "PaymentMethod       Credit card (automatic)\n",
       "MonthlyCharges                       114.45\n",
       "TotalCharges                        8375.05\n",
       "Churn                                    No\n",
       "Name: 1693, dtype: object"
      ]
     },
     "execution_count": 30,
     "metadata": {},
     "output_type": "execute_result"
    }
   ],
   "source": [
    "# Display random data smaple to build some intution\n",
    "raw_df.sample(1).iloc[0]"
   ]
  },
  {
   "cell_type": "code",
   "execution_count": 13,
   "id": "9b9023a5-336f-4924-aa0f-0f1e40a7e150",
   "metadata": {},
   "outputs": [
    {
     "name": "stdout",
     "output_type": "stream",
     "text": [
      "<class 'pandas.core.frame.DataFrame'>\n",
      "RangeIndex: 7043 entries, 0 to 7042\n",
      "Data columns (total 21 columns):\n",
      " #   Column            Non-Null Count  Dtype  \n",
      "---  ------            --------------  -----  \n",
      " 0   customerID        7043 non-null   object \n",
      " 1   gender            7043 non-null   object \n",
      " 2   SeniorCitizen     7043 non-null   int64  \n",
      " 3   Partner           7043 non-null   object \n",
      " 4   Dependents        7043 non-null   object \n",
      " 5   tenure            7043 non-null   int64  \n",
      " 6   PhoneService      7043 non-null   object \n",
      " 7   MultipleLines     7043 non-null   object \n",
      " 8   InternetService   7043 non-null   object \n",
      " 9   OnlineSecurity    7043 non-null   object \n",
      " 10  OnlineBackup      7043 non-null   object \n",
      " 11  DeviceProtection  7043 non-null   object \n",
      " 12  TechSupport       7043 non-null   object \n",
      " 13  StreamingTV       7043 non-null   object \n",
      " 14  StreamingMovies   7043 non-null   object \n",
      " 15  Contract          7043 non-null   object \n",
      " 16  PaperlessBilling  7043 non-null   object \n",
      " 17  PaymentMethod     7043 non-null   object \n",
      " 18  MonthlyCharges    7043 non-null   float64\n",
      " 19  TotalCharges      7043 non-null   object \n",
      " 20  Churn             7043 non-null   object \n",
      "dtypes: float64(1), int64(2), object(18)\n",
      "memory usage: 1.1+ MB\n"
     ]
    }
   ],
   "source": [
    "# General info. of dataframe\n",
    "raw_df.info()"
   ]
  },
  {
   "cell_type": "code",
   "execution_count": 24,
   "id": "228ac3bc-5b50-4198-a7a8-86ad7e16f0bf",
   "metadata": {},
   "outputs": [
    {
     "data": {
      "text/plain": [
       "customerID          7043\n",
       "gender                 2\n",
       "SeniorCitizen          2\n",
       "Partner                2\n",
       "Dependents             2\n",
       "tenure                73\n",
       "PhoneService           2\n",
       "MultipleLines          3\n",
       "InternetService        3\n",
       "OnlineSecurity         3\n",
       "OnlineBackup           3\n",
       "DeviceProtection       3\n",
       "TechSupport            3\n",
       "StreamingTV            3\n",
       "StreamingMovies        3\n",
       "Contract               3\n",
       "PaperlessBilling       2\n",
       "PaymentMethod          4\n",
       "MonthlyCharges      1585\n",
       "TotalCharges        6531\n",
       "Churn                  2\n",
       "dtype: int64"
      ]
     },
     "execution_count": 24,
     "metadata": {},
     "output_type": "execute_result"
    }
   ],
   "source": [
    "# Print number of uniques in every column\n",
    "raw_df.nunique()"
   ]
  },
  {
   "cell_type": "markdown",
   "id": "40d9f373-db5e-47d5-bb4a-7992a9e4f200",
   "metadata": {},
   "source": [
    "**We can notice that the 'TotalCharges' is of type object and it should be of type float64; we need to change it**"
   ]
  },
  {
   "cell_type": "code",
   "execution_count": null,
   "id": "12b3c976-d691-4b98-b04a-b5bfd4cc8bd7",
   "metadata": {},
   "outputs": [],
   "source": []
  }
 ],
 "metadata": {
  "kernelspec": {
   "display_name": "Python 3 (ipykernel)",
   "language": "python",
   "name": "python3"
  },
  "language_info": {
   "codemirror_mode": {
    "name": "ipython",
    "version": 3
   },
   "file_extension": ".py",
   "mimetype": "text/x-python",
   "name": "python",
   "nbconvert_exporter": "python",
   "pygments_lexer": "ipython3",
   "version": "3.8.8"
  }
 },
 "nbformat": 4,
 "nbformat_minor": 5
}
