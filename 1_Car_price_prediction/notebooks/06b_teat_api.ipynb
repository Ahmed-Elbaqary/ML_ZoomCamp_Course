{
 "cells": [
  {
   "cell_type": "code",
   "execution_count": 1,
   "id": "162de245-bb12-4860-ab0e-79c2a8948e32",
   "metadata": {},
   "outputs": [],
   "source": [
    "API_URL = \"http://127.0.0.1:5000/\"\n",
    "PREDICTION_ENDPOINT = \"/Predict_Car_Price\""
   ]
  },
  {
   "cell_type": "code",
   "execution_count": 3,
   "id": "26bccd64-5a9d-4dc2-9ba0-69f26acfde8f",
   "metadata": {},
   "outputs": [],
   "source": [
    "# Load packages\n",
    "import pandas as pd\n",
    "import json\n",
    "import requests"
   ]
  },
  {
   "cell_type": "markdown",
   "id": "1a0bffb9-4daa-4b1c-bed2-822e5d3a1ac7",
   "metadata": {},
   "source": [
    "___\n",
    "## Predict"
   ]
  },
  {
   "cell_type": "code",
   "execution_count": 17,
   "id": "3d93b93f-83f5-411d-b0c2-774d96d111aa",
   "metadata": {},
   "outputs": [],
   "source": [
    "sample = [\"mercedes-benz\", 2014, 201, 4, 'manual', 34, 20]"
   ]
  },
  {
   "cell_type": "code",
   "execution_count": 18,
   "id": "906d7ef7-3e69-4ae4-aea3-8474220e197c",
   "metadata": {},
   "outputs": [],
   "source": [
    "predictions = requests.post(API_URL + PREDICTION_ENDPOINT,\n",
    "                            data=json.dumps(sample),\n",
    "                            headers={\"content-type\": \"application/json\"})"
   ]
  },
  {
   "cell_type": "code",
   "execution_count": 19,
   "id": "f5636048-5269-4044-a477-19533c512651",
   "metadata": {},
   "outputs": [
    {
     "data": {
      "text/plain": [
       "<Response [200]>"
      ]
     },
     "execution_count": 19,
     "metadata": {},
     "output_type": "execute_result"
    }
   ],
   "source": [
    "predictions"
   ]
  },
  {
   "cell_type": "code",
   "execution_count": 20,
   "id": "cfeca814-b196-4db4-9b8b-b5af8501e72a",
   "metadata": {},
   "outputs": [
    {
     "data": {
      "text/plain": [
       "41100.345"
      ]
     },
     "execution_count": 20,
     "metadata": {},
     "output_type": "execute_result"
    }
   ],
   "source": [
    "predictions.json()"
   ]
  },
  {
   "cell_type": "code",
   "execution_count": 21,
   "id": "a8c94dc7-3c0b-450a-8c3f-fc107b1ece59",
   "metadata": {},
   "outputs": [
    {
     "name": "stdout",
     "output_type": "stream",
     "text": [
      "The estimated price of your car= (41100.345) USD\n"
     ]
    }
   ],
   "source": [
    "print(f\"The estimated price of your car= ({predictions.json()}) USD\")"
   ]
  },
  {
   "cell_type": "markdown",
   "id": "25f8b588-2dcc-4af7-9535-dc3b7d21de08",
   "metadata": {},
   "source": [
    "___\n",
    "## Another test sample"
   ]
  },
  {
   "cell_type": "code",
   "execution_count": 22,
   "id": "78311603-2146-4ee8-8b74-c0d82ccd7b3f",
   "metadata": {},
   "outputs": [
    {
     "name": "stdout",
     "output_type": "stream",
     "text": [
      "The estimated price of your car= (60163.615) USD\n"
     ]
    }
   ],
   "source": [
    "sample = [\"bugatti\", 2008, 1001, 16, 'automated_manual', 14, 8]\n",
    "predictions = requests.post(API_URL + PREDICTION_ENDPOINT,\n",
    "                            data=json.dumps(sample),\n",
    "                            headers={\"content-type\": \"application/json\"})\n",
    "print(f\"The estimated price of your car= ({predictions.json()}) USD\")"
   ]
  },
  {
   "cell_type": "code",
   "execution_count": 23,
   "id": "8c0ebe73-ca5c-4c96-9981-5e72306c790f",
   "metadata": {},
   "outputs": [
    {
     "name": "stdout",
     "output_type": "stream",
     "text": [
      "The estimated price of your car= (51658.786) USD\n"
     ]
    }
   ],
   "source": [
    "sample = [\"bmw\", 2011, 335, 6, 'manual', 26, 19]\n",
    "predictions = requests.post(API_URL + PREDICTION_ENDPOINT,\n",
    "                            data=json.dumps(sample),\n",
    "                            headers={\"content-type\": \"application/json\"})\n",
    "print(f\"The estimated price of your car= ({predictions.json()}) USD\")"
   ]
  }
 ],
 "metadata": {
  "kernelspec": {
   "display_name": "Python 3 (ipykernel)",
   "language": "python",
   "name": "python3"
  },
  "language_info": {
   "codemirror_mode": {
    "name": "ipython",
    "version": 3
   },
   "file_extension": ".py",
   "mimetype": "text/x-python",
   "name": "python",
   "nbconvert_exporter": "python",
   "pygments_lexer": "ipython3",
   "version": "3.8.8"
  }
 },
 "nbformat": 4,
 "nbformat_minor": 5
}
