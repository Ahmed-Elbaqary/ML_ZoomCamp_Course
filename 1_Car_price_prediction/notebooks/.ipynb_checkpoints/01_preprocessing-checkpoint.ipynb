{
 "cells": [
  {
   "cell_type": "code",
   "execution_count": 1,
   "id": "041007f8-a627-44e8-9479-e3877275e798",
   "metadata": {},
   "outputs": [],
   "source": [
    "DATA_PATH = \"../data/raw/car_price.csv\""
   ]
  },
  {
   "cell_type": "code",
   "execution_count": 2,
   "id": "07b19e76-338e-41d3-9b43-f8dfd57b0d5b",
   "metadata": {},
   "outputs": [],
   "source": [
    "# load packages\n",
    "import pandas as pd\n",
    "import numpy as np\n",
    "\n",
    "pd.options.display.max_columns=100"
   ]
  },
  {
   "cell_type": "markdown",
   "id": "db552694-af53-49d9-8993-ba40b6b25953",
   "metadata": {
    "tags": []
   },
   "source": [
    "## Reading data"
   ]
  },
  {
   "cell_type": "code",
   "execution_count": 3,
   "id": "d3c7ad88-8f33-4651-983c-4d35db9e6834",
   "metadata": {},
   "outputs": [],
   "source": [
    "raw_df = pd.read_csv(DATA_PATH)\n",
    "df = raw_df.copy()"
   ]
  },
  {
   "cell_type": "markdown",
   "id": "ee1a4c0d-951a-4170-ac9b-dd8fc45abe17",
   "metadata": {
    "tags": []
   },
   "source": [
    "## Modify columns names"
   ]
  },
  {
   "cell_type": "code",
   "execution_count": 4,
   "id": "1998d251-4737-4e3f-a6e7-a0947e0b2790",
   "metadata": {},
   "outputs": [
    {
     "data": {
      "text/plain": [
       "['make',\n",
       " 'model',\n",
       " 'year',\n",
       " 'engine_fuel_type',\n",
       " 'engine_hp',\n",
       " 'engine_cylinders',\n",
       " 'transmission_type',\n",
       " 'driven_wheels',\n",
       " 'number_of_doors',\n",
       " 'market_category',\n",
       " 'vehicle_size',\n",
       " 'vehicle_style',\n",
       " 'highway_mpg',\n",
       " 'city_mpg',\n",
       " 'popularity',\n",
       " 'msrp']"
      ]
     },
     "execution_count": 4,
     "metadata": {},
     "output_type": "execute_result"
    }
   ],
   "source": [
    "# First we change the column names\n",
    "df.columns = df.columns.str.lower().str.replace(\" \", \"_\")\n",
    "df.columns.tolist()"
   ]
  },
  {
   "cell_type": "markdown",
   "id": "d7cf1e4f-6a75-48c3-9a07-5cf7adf9e302",
   "metadata": {},
   "source": [
    "## replace the space in values with '_'"
   ]
  },
  {
   "cell_type": "code",
   "execution_count": 6,
   "id": "a846c8d6-797a-489a-be4d-9487b8de3a78",
   "metadata": {},
   "outputs": [
    {
     "name": "stdout",
     "output_type": "stream",
     "text": [
      "['make', 'model', 'engine_fuel_type', 'transmission_type', 'driven_wheels', 'market_category', 'vehicle_size', 'vehicle_style']\n",
      "=============================\n",
      "make ['bmw' 'audi' 'fiat' 'mercedes-benz' 'chrysler']\n",
      "-------------------------\n",
      "model ['1_series_m' '1_series' '100' '124_spider' '190-class']\n",
      "-------------------------\n",
      "engine_fuel_type ['premium_unleaded_(required)' 'regular_unleaded'\n",
      " 'premium_unleaded_(recommended)' 'flex-fuel_(unleaded/e85)' 'diesel']\n",
      "-------------------------\n",
      "transmission_type ['manual' 'automatic' 'automated_manual' 'direct_drive' 'unknown']\n",
      "-------------------------\n",
      "driven_wheels ['rear_wheel_drive' 'front_wheel_drive' 'all_wheel_drive'\n",
      " 'four_wheel_drive']\n",
      "-------------------------\n",
      "market_category ['factory_tuner,luxury,high-performance' 'luxury,performance'\n",
      " 'luxury,high-performance' 'luxury' 'performance']\n",
      "-------------------------\n",
      "vehicle_size ['compact' 'midsize' 'large']\n",
      "-------------------------\n",
      "vehicle_style ['coupe' 'convertible' 'sedan' 'wagon' '4dr_hatchback']\n",
      "-------------------------\n"
     ]
    }
   ],
   "source": [
    "string_cols = list(df.dtypes[df.dtypes == \"object\"].index)\n",
    "print(string_cols)\n",
    "print(\"=============================\")\n",
    "for col in string_cols:\n",
    "    df[col] = df[col].str.lower().str.replace(\" \", \"_\")\n",
    "    print(col, df[col].unique()[:5])\n",
    "    print(\"-------------------------\")"
   ]
  },
  {
   "cell_type": "markdown",
   "id": "5f60477e-6f34-4559-89e1-cccfc84dac2b",
   "metadata": {},
   "source": [
    "## Quick sanity check:"
   ]
  },
  {
   "cell_type": "code",
   "execution_count": 7,
   "id": "f9000d10-e047-4fac-aa5d-1d350fdb9ae4",
   "metadata": {},
   "outputs": [
    {
     "name": "stdout",
     "output_type": "stream",
     "text": [
      "Index(['Make', 'Model', 'Year', 'Engine Fuel Type', 'Engine HP',\n",
      "       'Engine Cylinders', 'Transmission Type', 'Driven_Wheels',\n",
      "       'Number of Doors', 'Market Category', 'Vehicle Size', 'Vehicle Style',\n",
      "       'highway MPG', 'city mpg', 'Popularity', 'MSRP'],\n",
      "      dtype='object')\n",
      "Index(['make', 'model', 'year', 'engine_fuel_type', 'engine_hp',\n",
      "       'engine_cylinders', 'transmission_type', 'driven_wheels',\n",
      "       'number_of_doors', 'market_category', 'vehicle_size', 'vehicle_style',\n",
      "       'highway_mpg', 'city_mpg', 'popularity', 'msrp'],\n",
      "      dtype='object')\n"
     ]
    }
   ],
   "source": [
    "print(raw_df.columns)\n",
    "print(df.columns)"
   ]
  },
  {
   "cell_type": "code",
   "execution_count": 21,
   "id": "2e7c7b63-5ffc-45ad-826b-2efdd6193ce6",
   "metadata": {},
   "outputs": [
    {
     "name": "stdout",
     "output_type": "stream",
     "text": [
      "raw number 7872 \n",
      "------------------------------------------\n",
      "Make                                    Infiniti\n",
      "Model                                        Q70\n",
      "Year                                        2016\n",
      "Engine Fuel Type     premium unleaded (required)\n",
      "Engine HP                                  330.0\n",
      "Engine Cylinders                             6.0\n",
      "Transmission Type                      AUTOMATIC\n",
      "Driven_Wheels                   rear wheel drive\n",
      "Number of Doors                              4.0\n",
      "Market Category               Luxury,Performance\n",
      "Vehicle Size                               Large\n",
      "Vehicle Style                              Sedan\n",
      "highway MPG                                   26\n",
      "city mpg                                      18\n",
      "Popularity                                   190\n",
      "MSRP                                       49850\n",
      "Name: 7872, dtype: object\n",
      "------------------------------------------\n",
      "make                                    infiniti\n",
      "model                                        q70\n",
      "year                                        2016\n",
      "engine_fuel_type     premium_unleaded_(required)\n",
      "engine_hp                                  330.0\n",
      "engine_cylinders                             6.0\n",
      "transmission_type                      automatic\n",
      "driven_wheels                   rear_wheel_drive\n",
      "number_of_doors                              4.0\n",
      "market_category               luxury,performance\n",
      "vehicle_size                               large\n",
      "vehicle_style                              sedan\n",
      "highway_mpg                                   26\n",
      "city_mpg                                      18\n",
      "popularity                                   190\n",
      "msrp                                       49850\n",
      "Name: 7872, dtype: object\n"
     ]
    }
   ],
   "source": [
    "i = np.random.randint(0, raw_df.shape[0])\n",
    "print(\"raw number\", i, \"\\n------------------------------------------\")\n",
    "print(raw_df.iloc[i])\n",
    "print(\"------------------------------------------\")\n",
    "print(df.iloc[i])"
   ]
  },
  {
   "cell_type": "code",
   "execution_count": null,
   "id": "0290ea7a-0bd5-4e89-8268-a170e59eb7e9",
   "metadata": {},
   "outputs": [],
   "source": []
  }
 ],
 "metadata": {
  "kernelspec": {
   "display_name": "Python 3 (ipykernel)",
   "language": "python",
   "name": "python3"
  },
  "language_info": {
   "codemirror_mode": {
    "name": "ipython",
    "version": 3
   },
   "file_extension": ".py",
   "mimetype": "text/x-python",
   "name": "python",
   "nbconvert_exporter": "python",
   "pygments_lexer": "ipython3",
   "version": "3.8.8"
  }
 },
 "nbformat": 4,
 "nbformat_minor": 5
}
