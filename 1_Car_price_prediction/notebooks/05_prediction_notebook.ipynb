{
 "cells": [
  {
   "cell_type": "code",
   "execution_count": 78,
   "id": "337a11d0-4828-4ff8-a311-c645861fac70",
   "metadata": {},
   "outputs": [],
   "source": [
    "MLFLOW_TRACKING_URI = \"../models/mlruns\"\n",
    "MLFLOW_RUN_ID = \"871e33a94e9a42819d93d28209cfca7e\"\n",
    "\n",
    "LOG_DATA_PKL = \"data.pkl\"\n",
    "LOG_MODEL_PKL = \"model.pkl\"\n",
    "LOG_METRIC_PKL = \"metrics.pkl\"\n",
    "\n",
    "\n",
    "YEAR_DIC = {1990: 1, 1991: 2, 1992: 3, 1993: 4, 1994: 5, \n",
    "            1995: 6, 1996: 7, 1997: 8, 1998: 9, 1999: 10, \n",
    "            2000: 11, 2001: 12, 2002: 13, 2003: 14, 2004: 15,\n",
    "            2005: 16, 2006: 17, 2007: 18, 2008: 19, 2009: 20,\n",
    "            2010: 21, 2011: 22, 2012: 23, 2013: 24, 2014: 25, \n",
    "            2015: 26, 2016: 27, 2017: 28}\n",
    "\n",
    "TRANSMISSION_DICT = {'manual': 1, 'automatic': 2,\n",
    "                     'automated_manual': 3, 'direct_drive':4}"
   ]
  },
  {
   "cell_type": "code",
   "execution_count": 95,
   "id": "c3bf0b7f-de8b-493e-ae80-74775ca5bb31",
   "metadata": {},
   "outputs": [],
   "source": [
    "# Load packages\n",
    "import pandas as pd\n",
    "import numpy as np\n",
    "\n",
    "import pickle\n",
    "import os\n",
    "\n",
    "import mlflow\n",
    "from mlflow.tracking import MlflowClient"
   ]
  },
  {
   "cell_type": "markdown",
   "id": "9a150f98-bf15-4663-9690-62061f82ef94",
   "metadata": {},
   "source": [
    "___\n",
    "## Intilalize\n"
   ]
  },
  {
   "cell_type": "code",
   "execution_count": 4,
   "id": "f7c1f0d9-42f0-42d8-8615-a0ec5dd319c3",
   "metadata": {},
   "outputs": [],
   "source": [
    "# Intialize client\n",
    "mlflow.set_tracking_uri(MLFLOW_TRACKING_URI)\n",
    "client = MlflowClient()"
   ]
  },
  {
   "cell_type": "code",
   "execution_count": 5,
   "id": "be0cada0-d280-43ac-84a5-21ebcda783a4",
   "metadata": {},
   "outputs": [
    {
     "data": {
      "text/plain": [
       "'../models/mlruns/0/871e33a94e9a42819d93d28209cfca7e/artifacts'"
      ]
     },
     "execution_count": 5,
     "metadata": {},
     "output_type": "execute_result"
    }
   ],
   "source": [
    "run = client.get_run(MLFLOW_RUN_ID)\n",
    "artifacts_path = run.info.artifact_uri\n",
    "artifacts_path"
   ]
  },
  {
   "cell_type": "markdown",
   "id": "1974e36c-b270-46e3-9a28-50102d7980b9",
   "metadata": {},
   "source": [
    "### Load artifacts"
   ]
  },
  {
   "cell_type": "code",
   "execution_count": 9,
   "id": "01250366-c802-45db-9e60-b580fc616c1a",
   "metadata": {},
   "outputs": [],
   "source": [
    "# Load model\n",
    "model_path = os.path.join(artifacts_path, LOG_MODEL_PKL)\n",
    "with open (model_path, \"rb\") as file:\n",
    "    model = pickle.load(file)"
   ]
  },
  {
   "cell_type": "code",
   "execution_count": 10,
   "id": "e62748a2-7944-405c-bc70-63c7841d670c",
   "metadata": {},
   "outputs": [
    {
     "data": {
      "text/plain": [
       "dict_keys(['model_description', 'model_details', 'model_object'])"
      ]
     },
     "execution_count": 10,
     "metadata": {},
     "output_type": "execute_result"
    }
   ],
   "source": [
    "model.keys()"
   ]
  },
  {
   "cell_type": "code",
   "execution_count": 11,
   "id": "55e67b7f-7fa1-44f1-acd0-0bbbc90ef693",
   "metadata": {},
   "outputs": [],
   "source": [
    "# Load Data pickle\n",
    "data_path = os.path.join(artifacts_path, LOG_DATA_PKL)\n",
    "with open(data_path, \"rb\") as file:\n",
    "    data = pickle.load(file)"
   ]
  },
  {
   "cell_type": "code",
   "execution_count": 12,
   "id": "12bf786f-5dc6-451c-982b-9b9abfb3d3e1",
   "metadata": {},
   "outputs": [
    {
     "data": {
      "text/plain": [
       "dict_keys(['data_path', 'training_indices', 'test_indices', 'feature_names', 'target_names'])"
      ]
     },
     "execution_count": 12,
     "metadata": {},
     "output_type": "execute_result"
    }
   ],
   "source": [
    "data.keys()"
   ]
  },
  {
   "cell_type": "code",
   "execution_count": 14,
   "id": "cb962bf2-3327-4517-9652-88c25c68930c",
   "metadata": {},
   "outputs": [],
   "source": [
    "# Unpack variables\n",
    "features_names = pd.Series(data[\"feature_names\"])\n",
    "regressor = model[\"model_object\"]"
   ]
  },
  {
   "cell_type": "markdown",
   "id": "1f488d37-e1ee-448c-a179-600cce5290fe",
   "metadata": {},
   "source": [
    "___\n",
    "## Sample Entry"
   ]
  },
  {
   "cell_type": "code",
   "execution_count": 108,
   "id": "f38e9a3d-fa6d-45c5-9e19-bd53ff133508",
   "metadata": {},
   "outputs": [],
   "source": [
    "# [make, year, engine_hp, engine_cylinders, transmission_type, highway_mpg, city_mpg]\n",
    "sample = [\"mercedes-benz\", 2014, 201, 4, 'manual', 34, 20]"
   ]
  },
  {
   "cell_type": "code",
   "execution_count": 109,
   "id": "eed453c8-8c67-4141-968c-ce30307a1ae2",
   "metadata": {},
   "outputs": [
    {
     "data": {
      "text/html": [
       "<div>\n",
       "<style scoped>\n",
       "    .dataframe tbody tr th:only-of-type {\n",
       "        vertical-align: middle;\n",
       "    }\n",
       "\n",
       "    .dataframe tbody tr th {\n",
       "        vertical-align: top;\n",
       "    }\n",
       "\n",
       "    .dataframe thead th {\n",
       "        text-align: right;\n",
       "    }\n",
       "</style>\n",
       "<table border=\"1\" class=\"dataframe\">\n",
       "  <thead>\n",
       "    <tr style=\"text-align: right;\">\n",
       "      <th></th>\n",
       "      <th>features</th>\n",
       "      <th>value</th>\n",
       "    </tr>\n",
       "  </thead>\n",
       "  <tbody>\n",
       "    <tr>\n",
       "      <th>0</th>\n",
       "      <td>year</td>\n",
       "      <td>False</td>\n",
       "    </tr>\n",
       "    <tr>\n",
       "      <th>1</th>\n",
       "      <td>engine_hp</td>\n",
       "      <td>False</td>\n",
       "    </tr>\n",
       "    <tr>\n",
       "      <th>2</th>\n",
       "      <td>engine_cylinders</td>\n",
       "      <td>False</td>\n",
       "    </tr>\n",
       "    <tr>\n",
       "      <th>3</th>\n",
       "      <td>transmission_type</td>\n",
       "      <td>False</td>\n",
       "    </tr>\n",
       "    <tr>\n",
       "      <th>4</th>\n",
       "      <td>speed</td>\n",
       "      <td>False</td>\n",
       "    </tr>\n",
       "    <tr>\n",
       "      <th>5</th>\n",
       "      <td>acura</td>\n",
       "      <td>False</td>\n",
       "    </tr>\n",
       "    <tr>\n",
       "      <th>6</th>\n",
       "      <td>alfa_romeo</td>\n",
       "      <td>False</td>\n",
       "    </tr>\n",
       "    <tr>\n",
       "      <th>7</th>\n",
       "      <td>aston_martin</td>\n",
       "      <td>False</td>\n",
       "    </tr>\n",
       "    <tr>\n",
       "      <th>8</th>\n",
       "      <td>audi</td>\n",
       "      <td>False</td>\n",
       "    </tr>\n",
       "    <tr>\n",
       "      <th>9</th>\n",
       "      <td>bentley</td>\n",
       "      <td>False</td>\n",
       "    </tr>\n",
       "    <tr>\n",
       "      <th>10</th>\n",
       "      <td>bmw</td>\n",
       "      <td>False</td>\n",
       "    </tr>\n",
       "    <tr>\n",
       "      <th>11</th>\n",
       "      <td>bugatti</td>\n",
       "      <td>False</td>\n",
       "    </tr>\n",
       "    <tr>\n",
       "      <th>12</th>\n",
       "      <td>buick</td>\n",
       "      <td>False</td>\n",
       "    </tr>\n",
       "    <tr>\n",
       "      <th>13</th>\n",
       "      <td>cadillac</td>\n",
       "      <td>False</td>\n",
       "    </tr>\n",
       "    <tr>\n",
       "      <th>14</th>\n",
       "      <td>chevrolet</td>\n",
       "      <td>False</td>\n",
       "    </tr>\n",
       "    <tr>\n",
       "      <th>15</th>\n",
       "      <td>chrysler</td>\n",
       "      <td>False</td>\n",
       "    </tr>\n",
       "    <tr>\n",
       "      <th>16</th>\n",
       "      <td>dodge</td>\n",
       "      <td>False</td>\n",
       "    </tr>\n",
       "    <tr>\n",
       "      <th>17</th>\n",
       "      <td>ferrari</td>\n",
       "      <td>False</td>\n",
       "    </tr>\n",
       "    <tr>\n",
       "      <th>18</th>\n",
       "      <td>fiat</td>\n",
       "      <td>False</td>\n",
       "    </tr>\n",
       "    <tr>\n",
       "      <th>19</th>\n",
       "      <td>ford</td>\n",
       "      <td>False</td>\n",
       "    </tr>\n",
       "    <tr>\n",
       "      <th>20</th>\n",
       "      <td>genesis</td>\n",
       "      <td>False</td>\n",
       "    </tr>\n",
       "    <tr>\n",
       "      <th>21</th>\n",
       "      <td>gmc</td>\n",
       "      <td>False</td>\n",
       "    </tr>\n",
       "    <tr>\n",
       "      <th>22</th>\n",
       "      <td>honda</td>\n",
       "      <td>False</td>\n",
       "    </tr>\n",
       "    <tr>\n",
       "      <th>23</th>\n",
       "      <td>hummer</td>\n",
       "      <td>False</td>\n",
       "    </tr>\n",
       "    <tr>\n",
       "      <th>24</th>\n",
       "      <td>hyundai</td>\n",
       "      <td>False</td>\n",
       "    </tr>\n",
       "    <tr>\n",
       "      <th>25</th>\n",
       "      <td>infiniti</td>\n",
       "      <td>False</td>\n",
       "    </tr>\n",
       "    <tr>\n",
       "      <th>26</th>\n",
       "      <td>kia</td>\n",
       "      <td>False</td>\n",
       "    </tr>\n",
       "    <tr>\n",
       "      <th>27</th>\n",
       "      <td>lamborghini</td>\n",
       "      <td>False</td>\n",
       "    </tr>\n",
       "    <tr>\n",
       "      <th>28</th>\n",
       "      <td>land_rover</td>\n",
       "      <td>False</td>\n",
       "    </tr>\n",
       "    <tr>\n",
       "      <th>29</th>\n",
       "      <td>lexus</td>\n",
       "      <td>False</td>\n",
       "    </tr>\n",
       "    <tr>\n",
       "      <th>30</th>\n",
       "      <td>lincoln</td>\n",
       "      <td>False</td>\n",
       "    </tr>\n",
       "    <tr>\n",
       "      <th>31</th>\n",
       "      <td>lotus</td>\n",
       "      <td>False</td>\n",
       "    </tr>\n",
       "    <tr>\n",
       "      <th>32</th>\n",
       "      <td>maserati</td>\n",
       "      <td>False</td>\n",
       "    </tr>\n",
       "    <tr>\n",
       "      <th>33</th>\n",
       "      <td>maybach</td>\n",
       "      <td>False</td>\n",
       "    </tr>\n",
       "    <tr>\n",
       "      <th>34</th>\n",
       "      <td>mazda</td>\n",
       "      <td>False</td>\n",
       "    </tr>\n",
       "    <tr>\n",
       "      <th>35</th>\n",
       "      <td>mclaren</td>\n",
       "      <td>False</td>\n",
       "    </tr>\n",
       "    <tr>\n",
       "      <th>36</th>\n",
       "      <td>mercedes-benz</td>\n",
       "      <td>True</td>\n",
       "    </tr>\n",
       "    <tr>\n",
       "      <th>37</th>\n",
       "      <td>mitsubishi</td>\n",
       "      <td>False</td>\n",
       "    </tr>\n",
       "    <tr>\n",
       "      <th>38</th>\n",
       "      <td>nissan</td>\n",
       "      <td>False</td>\n",
       "    </tr>\n",
       "    <tr>\n",
       "      <th>39</th>\n",
       "      <td>oldsmobile</td>\n",
       "      <td>False</td>\n",
       "    </tr>\n",
       "    <tr>\n",
       "      <th>40</th>\n",
       "      <td>plymouth</td>\n",
       "      <td>False</td>\n",
       "    </tr>\n",
       "    <tr>\n",
       "      <th>41</th>\n",
       "      <td>pontiac</td>\n",
       "      <td>False</td>\n",
       "    </tr>\n",
       "    <tr>\n",
       "      <th>42</th>\n",
       "      <td>porsche</td>\n",
       "      <td>False</td>\n",
       "    </tr>\n",
       "    <tr>\n",
       "      <th>43</th>\n",
       "      <td>rolls-royce</td>\n",
       "      <td>False</td>\n",
       "    </tr>\n",
       "    <tr>\n",
       "      <th>44</th>\n",
       "      <td>saab</td>\n",
       "      <td>False</td>\n",
       "    </tr>\n",
       "    <tr>\n",
       "      <th>45</th>\n",
       "      <td>scion</td>\n",
       "      <td>False</td>\n",
       "    </tr>\n",
       "    <tr>\n",
       "      <th>46</th>\n",
       "      <td>spyker</td>\n",
       "      <td>False</td>\n",
       "    </tr>\n",
       "    <tr>\n",
       "      <th>47</th>\n",
       "      <td>subaru</td>\n",
       "      <td>False</td>\n",
       "    </tr>\n",
       "    <tr>\n",
       "      <th>48</th>\n",
       "      <td>suzuki</td>\n",
       "      <td>False</td>\n",
       "    </tr>\n",
       "    <tr>\n",
       "      <th>49</th>\n",
       "      <td>tesla</td>\n",
       "      <td>False</td>\n",
       "    </tr>\n",
       "    <tr>\n",
       "      <th>50</th>\n",
       "      <td>toyota</td>\n",
       "      <td>False</td>\n",
       "    </tr>\n",
       "    <tr>\n",
       "      <th>51</th>\n",
       "      <td>volkswagen</td>\n",
       "      <td>False</td>\n",
       "    </tr>\n",
       "    <tr>\n",
       "      <th>52</th>\n",
       "      <td>volvo</td>\n",
       "      <td>False</td>\n",
       "    </tr>\n",
       "  </tbody>\n",
       "</table>\n",
       "</div>"
      ],
      "text/plain": [
       "             features  value\n",
       "0                year  False\n",
       "1           engine_hp  False\n",
       "2    engine_cylinders  False\n",
       "3   transmission_type  False\n",
       "4               speed  False\n",
       "5               acura  False\n",
       "6          alfa_romeo  False\n",
       "7        aston_martin  False\n",
       "8                audi  False\n",
       "9             bentley  False\n",
       "10                bmw  False\n",
       "11            bugatti  False\n",
       "12              buick  False\n",
       "13           cadillac  False\n",
       "14          chevrolet  False\n",
       "15           chrysler  False\n",
       "16              dodge  False\n",
       "17            ferrari  False\n",
       "18               fiat  False\n",
       "19               ford  False\n",
       "20            genesis  False\n",
       "21                gmc  False\n",
       "22              honda  False\n",
       "23             hummer  False\n",
       "24            hyundai  False\n",
       "25           infiniti  False\n",
       "26                kia  False\n",
       "27        lamborghini  False\n",
       "28         land_rover  False\n",
       "29              lexus  False\n",
       "30            lincoln  False\n",
       "31              lotus  False\n",
       "32           maserati  False\n",
       "33            maybach  False\n",
       "34              mazda  False\n",
       "35            mclaren  False\n",
       "36      mercedes-benz   True\n",
       "37         mitsubishi  False\n",
       "38             nissan  False\n",
       "39         oldsmobile  False\n",
       "40           plymouth  False\n",
       "41            pontiac  False\n",
       "42            porsche  False\n",
       "43        rolls-royce  False\n",
       "44               saab  False\n",
       "45              scion  False\n",
       "46             spyker  False\n",
       "47             subaru  False\n",
       "48             suzuki  False\n",
       "49              tesla  False\n",
       "50             toyota  False\n",
       "51         volkswagen  False\n",
       "52              volvo  False"
      ]
     },
     "execution_count": 109,
     "metadata": {},
     "output_type": "execute_result"
    }
   ],
   "source": [
    "sample_df = pd.DataFrame(features_names, columns=['features'])\n",
    "sample_df['value'] = sample_df['features'].isin(sample)\n",
    "sample_df"
   ]
  },
  {
   "cell_type": "code",
   "execution_count": 110,
   "id": "cb429632-fae8-49f5-b0e4-1e8ee3748530",
   "metadata": {},
   "outputs": [],
   "source": [
    "# Changing the values in sample dataframe\n",
    "sample_df.iloc[[0],[1]] = YEAR_DIC[sample[1]]\n",
    "sample_df.iloc[[1],[1]] = sample[2]\n",
    "sample_df.iloc[[2],[1]] = sample[3]\n",
    "sample_df.iloc[[3],[1]] = TRANSMISSION_DICT[sample[4]]\n",
    "sample_df.iloc[[4],[1]] = (sample[5] + sample[6])/2"
   ]
  },
  {
   "cell_type": "code",
   "execution_count": 111,
   "id": "b55a2c1e-e1a3-4177-929f-ac7bcb32d4df",
   "metadata": {},
   "outputs": [],
   "source": [
    "sample_df.replace({False:0, True:1}, inplace=True)"
   ]
  },
  {
   "cell_type": "code",
   "execution_count": 112,
   "id": "8e638eb3-19a1-4019-969d-c02102315a95",
   "metadata": {},
   "outputs": [],
   "source": [
    "sample_df.set_index(\"features\", inplace=True)"
   ]
  },
  {
   "cell_type": "code",
   "execution_count": 113,
   "id": "8853b255-e060-4a1e-af59-7990eabb1a95",
   "metadata": {},
   "outputs": [
    {
     "data": {
      "text/html": [
       "<div>\n",
       "<style scoped>\n",
       "    .dataframe tbody tr th:only-of-type {\n",
       "        vertical-align: middle;\n",
       "    }\n",
       "\n",
       "    .dataframe tbody tr th {\n",
       "        vertical-align: top;\n",
       "    }\n",
       "\n",
       "    .dataframe thead th {\n",
       "        text-align: right;\n",
       "    }\n",
       "</style>\n",
       "<table border=\"1\" class=\"dataframe\">\n",
       "  <thead>\n",
       "    <tr style=\"text-align: right;\">\n",
       "      <th>features</th>\n",
       "      <th>year</th>\n",
       "      <th>engine_hp</th>\n",
       "      <th>engine_cylinders</th>\n",
       "      <th>transmission_type</th>\n",
       "      <th>speed</th>\n",
       "      <th>acura</th>\n",
       "      <th>alfa_romeo</th>\n",
       "      <th>aston_martin</th>\n",
       "      <th>audi</th>\n",
       "      <th>bentley</th>\n",
       "      <th>...</th>\n",
       "      <th>rolls-royce</th>\n",
       "      <th>saab</th>\n",
       "      <th>scion</th>\n",
       "      <th>spyker</th>\n",
       "      <th>subaru</th>\n",
       "      <th>suzuki</th>\n",
       "      <th>tesla</th>\n",
       "      <th>toyota</th>\n",
       "      <th>volkswagen</th>\n",
       "      <th>volvo</th>\n",
       "    </tr>\n",
       "  </thead>\n",
       "  <tbody>\n",
       "    <tr>\n",
       "      <th>value</th>\n",
       "      <td>25.0</td>\n",
       "      <td>201.0</td>\n",
       "      <td>4.0</td>\n",
       "      <td>1.0</td>\n",
       "      <td>27.0</td>\n",
       "      <td>0.0</td>\n",
       "      <td>0.0</td>\n",
       "      <td>0.0</td>\n",
       "      <td>0.0</td>\n",
       "      <td>0.0</td>\n",
       "      <td>...</td>\n",
       "      <td>0.0</td>\n",
       "      <td>0.0</td>\n",
       "      <td>0.0</td>\n",
       "      <td>0.0</td>\n",
       "      <td>0.0</td>\n",
       "      <td>0.0</td>\n",
       "      <td>0.0</td>\n",
       "      <td>0.0</td>\n",
       "      <td>0.0</td>\n",
       "      <td>0.0</td>\n",
       "    </tr>\n",
       "  </tbody>\n",
       "</table>\n",
       "<p>1 rows × 53 columns</p>\n",
       "</div>"
      ],
      "text/plain": [
       "features  year  engine_hp  engine_cylinders  transmission_type  speed  acura  \\\n",
       "value     25.0      201.0               4.0                1.0   27.0    0.0   \n",
       "\n",
       "features  alfa_romeo  aston_martin  audi  bentley  ...  rolls-royce  saab  \\\n",
       "value            0.0           0.0   0.0      0.0  ...          0.0   0.0   \n",
       "\n",
       "features  scion  spyker  subaru  suzuki  tesla  toyota  volkswagen  volvo  \n",
       "value       0.0     0.0     0.0     0.0    0.0     0.0         0.0    0.0  \n",
       "\n",
       "[1 rows x 53 columns]"
      ]
     },
     "execution_count": 113,
     "metadata": {},
     "output_type": "execute_result"
    }
   ],
   "source": [
    "sample_df = sample_df.transpose()#.values\n",
    "sample_df"
   ]
  },
  {
   "cell_type": "markdown",
   "id": "d02bf7ea-a99a-4ecd-bcdb-b1493bc6fb8a",
   "metadata": {},
   "source": [
    "___\n",
    "## Predict"
   ]
  },
  {
   "cell_type": "code",
   "execution_count": 114,
   "id": "eb6ec97e-2061-4962-9536-af59ad7ac5ab",
   "metadata": {},
   "outputs": [
    {
     "data": {
      "text/plain": [
       "array([10.62379613])"
      ]
     },
     "execution_count": 114,
     "metadata": {},
     "output_type": "execute_result"
    }
   ],
   "source": [
    "predictions = regressor.predict(sample_df.values)\n",
    "predictions"
   ]
  },
  {
   "cell_type": "code",
   "execution_count": 117,
   "id": "8559a9ac-2759-4ced-b366-d7d7fffad4a5",
   "metadata": {},
   "outputs": [
    {
     "name": "stdout",
     "output_type": "stream",
     "text": [
      "The estimated price of your car= (41100.345) USD\n"
     ]
    }
   ],
   "source": [
    "car_price = round(np.expm1(predictions)[0], 3)\n",
    "print(f\"The estimated price of your car= ({car_price}) USD\")"
   ]
  }
 ],
 "metadata": {
  "kernelspec": {
   "display_name": "Python 3 (ipykernel)",
   "language": "python",
   "name": "python3"
  },
  "language_info": {
   "codemirror_mode": {
    "name": "ipython",
    "version": 3
   },
   "file_extension": ".py",
   "mimetype": "text/x-python",
   "name": "python",
   "nbconvert_exporter": "python",
   "pygments_lexer": "ipython3",
   "version": "3.8.8"
  }
 },
 "nbformat": 4,
 "nbformat_minor": 5
}
